{
 "cells": [
  {
   "cell_type": "code",
   "execution_count": 1,
   "id": "458e484c",
   "metadata": {},
   "outputs": [],
   "source": [
    "#para apagar diretório de modelos quando for gerar novos modelos\n",
    "#import shutil\n",
    "#diretorio_a_apagar = './AutogluonModels'\n",
    "#shutil.rmtree(diretorio_a_apagar)"
   ]
  },
  {
   "cell_type": "code",
   "execution_count": 2,
   "id": "309f8593",
   "metadata": {},
   "outputs": [],
   "source": [
    "#para executar esse projeto é necessário ter a seguintes libs instaladas\n",
    "#pip install pandas\n",
    "#pip install scipy\n",
    "#pip install autogluon\n",
    "#pip install opendatasets --upgrade\n",
    "#pip install -U imbalanced-learn\n",
    "#pip install neurokit2"
   ]
  },
  {
   "cell_type": "code",
   "execution_count": 3,
   "id": "d8f607ad",
   "metadata": {},
   "outputs": [],
   "source": [
    "#libs \"básicas\"\n",
    "import os\n",
    "import csv\n",
    "import numpy as np\n",
    "import pandas as pd\n",
    "import neurokit2 as nk\n",
    "from scipy import stats\n",
    "import matplotlib.pyplot as plt\n",
    "\n",
    "#libs que auxiliam os modelos\n",
    "from collections import Counter\n",
    "from imblearn.over_sampling import SMOTE\n",
    "from imblearn.over_sampling import ADASYN\n",
    "from autogluon.tabular import TabularPredictor\n",
    "from sklearn.model_selection import train_test_split\n",
    "from sklearn.metrics import classification_report\n",
    "\n",
    "#lib para importar base de dados\n",
    "import opendatasets as od"
   ]
  },
  {
   "cell_type": "markdown",
   "id": "5089cef7",
   "metadata": {},
   "source": [
    "A base de dados é oficialmente compartilhada pela [PhysioNet](https://www.physionet.org/content/mitdb/1.0.0/), porém, executando a linha a seguir, a mesma base de dados é obtida através da plataforma kaggle com auxílio da biblioteca opendatasets."
   ]
  },
  {
   "cell_type": "code",
   "execution_count": 4,
   "id": "30ebebc2",
   "metadata": {},
   "outputs": [
    {
     "name": "stdout",
     "output_type": "stream",
     "text": [
      "Skipping, found downloaded files in \"./mitbit-arrhythmia-database\" (use force=True to force download)\n"
     ]
    }
   ],
   "source": [
    "od.download(\"https://www.kaggle.com/datasets/taejoongyoon/mitbit-arrhythmia-database?datasetId=52320&sortBy=voteCount\")"
   ]
  },
  {
   "cell_type": "markdown",
   "id": "ee413176",
   "metadata": {},
   "source": [
    "## Pré processamento\n",
    "Iremos analisar os modelos com dados sem remoção de ruído e com remoção de ruído"
   ]
  },
  {
   "cell_type": "markdown",
   "id": "8b2c3599",
   "metadata": {},
   "source": [
    "#### Variáveis auxiliares"
   ]
  },
  {
   "cell_type": "code",
   "execution_count": 5,
   "id": "8c0436aa",
   "metadata": {},
   "outputs": [],
   "source": [
    "path = './mitbit-arrhythmia-database/mitbih_database/'\n",
    "window_size = 180\n",
    "maximum_counting = 10000\n",
    "\n",
    "classes = ['N', 'L', 'R', 'A', 'a', 'J', 'V', 'F', '!', 'e', 'j', 'E', '/', 'f', 'x', '|']\n",
    "n_classes = len(classes)\n",
    "count_classes = {elemento: 0 for elemento in classes}\n",
    "\n",
    "X = list()\n",
    "y = list()"
   ]
  },
  {
   "cell_type": "code",
   "execution_count": 6,
   "id": "cf42e58f",
   "metadata": {},
   "outputs": [],
   "source": [
    "description_beats = {'N':'Batida normal', 'L':'Batida de bloqueio de ramo esquerdo',\n",
    "                     'R':'Batida de bloqueio de ramo direito','A':'Batimento atrial prematuro',\n",
    "                     'a':'Batimento atrial prematuro aberrado','J':'Batimento prematuro nodal (juncional)',\n",
    "                     'S':'Batimento supraventricular prematuro ou ectópico (atrial ou nodal)',\n",
    "                     'V':'Contração ventricular prematura','F':'Fusão de batimento ventricular e normal',\n",
    "                     'e':'Batida de escape atrial','j':'Batida de escape nodal (juncional)',\n",
    "                     'E':'Batida de escape ventricular','/':'Batida ritmada',\n",
    "                     'f':'Fusão de batida ritmada e normal','Q': 'Batida inclassificável'}"
   ]
  },
  {
   "cell_type": "markdown",
   "id": "7226cf99",
   "metadata": {},
   "source": [
    "#### Preparo dos arquivos"
   ]
  },
  {
   "cell_type": "code",
   "execution_count": 7,
   "id": "7579d0d0",
   "metadata": {},
   "outputs": [],
   "source": [
    "# Leitura dos arquivos\n",
    "filenames = next(os.walk(path))[2]\n",
    "\n",
    "# Para separar e salvar os arquivos em csv e txt\n",
    "records = list()\n",
    "annotations = list()\n",
    "filenames.sort()"
   ]
  },
  {
   "cell_type": "code",
   "execution_count": 8,
   "id": "dfabb96a",
   "metadata": {},
   "outputs": [],
   "source": [
    "# Definindo nomes de arquivos e anotações\n",
    "for f in filenames:\n",
    "    filename, file_extension = os.path.splitext(f)\n",
    "    \n",
    "    # *.csv\n",
    "    if(file_extension == '.csv'):\n",
    "        records.append(path + filename + file_extension)\n",
    "\n",
    "    # *.txt\n",
    "    else:\n",
    "        annotations.append(path + filename + file_extension)"
   ]
  },
  {
   "cell_type": "code",
   "execution_count": 9,
   "id": "f7e38b7c",
   "metadata": {},
   "outputs": [
    {
     "data": {
      "text/plain": [
       "(48, 48)"
      ]
     },
     "execution_count": 9,
     "metadata": {},
     "output_type": "execute_result"
    }
   ],
   "source": [
    "len(records), len(annotations)"
   ]
  },
  {
   "cell_type": "markdown",
   "id": "1b2241f4",
   "metadata": {},
   "source": [
    "#### Extração dos dados e pré processamento sem remoção de rúido"
   ]
  },
  {
   "cell_type": "code",
   "execution_count": 10,
   "id": "c33f0090",
   "metadata": {},
   "outputs": [
    {
     "name": "stdout",
     "output_type": "stream",
     "text": [
      "(110200, 360) (110200,)\n",
      "CPU times: user 19.5 s, sys: 635 ms, total: 20.1 s\n",
      "Wall time: 20.1 s\n"
     ]
    }
   ],
   "source": [
    "%%time\n",
    "# Registros\n",
    "X_with_noise = list() #x contém os valores do sinais\n",
    "y_with_noise = list() #y para os rótulos\n",
    "z_with_noise = list() #z indica o índice do registro\n",
    "\n",
    "for r in range(0,len(records)):\n",
    "    signals = []\n",
    "\n",
    "    with open(records[r], 'rt') as csvfile:\n",
    "        spamreader = csv.reader(csvfile, delimiter=',', quotechar='|') # ler arquivo csv\n",
    "        next(spamreader) # ignora header\n",
    "        for row in spamreader:\n",
    "            signals.append(int(row[1]))\n",
    "                \n",
    "    # Normalizando os dados: https://www.investopedia.com/terms/z/zscore.asp\n",
    "    signals = stats.zscore(signals)\n",
    "    \n",
    "    \n",
    "    with open(annotations[r], 'r') as fileID:\n",
    "        lines = fileID.readlines()[1:] # 0 índice é o cabeçalho do gráfico, ignora o header\n",
    "\n",
    "        for line in lines:\n",
    "            row = list(filter(lambda item: item != '', line.split(' ')))\n",
    "            time, sample, arrhythmia_type = row[0:3]\n",
    "            pos = int(sample)\n",
    "\n",
    "            if(arrhythmia_type in classes): # Verificar se é uma classe válida\n",
    "                # Contar a quantidade de dados de cada classe\n",
    "                arrhythmia_index = classes.index(arrhythmia_type)\n",
    "                count_classes[arrhythmia_type] += 1\n",
    "                \n",
    "                # pos é o momento que foi feita a analise.\n",
    "                if(window_size <= pos and (pos + window_size) < len(signals)):\n",
    "                    # pega uma janela de tempo onde o pos fica no meio\n",
    "                    beat = signals[pos-window_size:pos+window_size]\n",
    "        \n",
    "                    X_with_noise.append(beat)\n",
    "                    y_with_noise.append(arrhythmia_index)\n",
    "                    z_with_noise.append(os.path.splitext(os.path.basename(records[r]))[0])\n",
    "\n",
    "print(np.shape(X_with_noise), np.shape(y_with_noise))"
   ]
  },
  {
   "cell_type": "markdown",
   "id": "42461ab9",
   "metadata": {},
   "source": [
    "Utilizamos a coluna ``record_id`` afim de facilitar consultas relacionadas a qual registro pertence cada linha em casos de dúvidas, mas a coluna não é utilizada nos modelos."
   ]
  },
  {
   "cell_type": "code",
   "execution_count": 11,
   "id": "14bdf7e0",
   "metadata": {},
   "outputs": [
    {
     "data": {
      "text/html": [
       "<div>\n",
       "<style scoped>\n",
       "    .dataframe tbody tr th:only-of-type {\n",
       "        vertical-align: middle;\n",
       "    }\n",
       "\n",
       "    .dataframe tbody tr th {\n",
       "        vertical-align: top;\n",
       "    }\n",
       "\n",
       "    .dataframe thead th {\n",
       "        text-align: right;\n",
       "    }\n",
       "</style>\n",
       "<table border=\"1\" class=\"dataframe\">\n",
       "  <thead>\n",
       "    <tr style=\"text-align: right;\">\n",
       "      <th></th>\n",
       "      <th>0</th>\n",
       "      <th>1</th>\n",
       "      <th>2</th>\n",
       "      <th>3</th>\n",
       "      <th>4</th>\n",
       "      <th>5</th>\n",
       "      <th>6</th>\n",
       "      <th>7</th>\n",
       "      <th>8</th>\n",
       "      <th>9</th>\n",
       "      <th>...</th>\n",
       "      <th>352</th>\n",
       "      <th>353</th>\n",
       "      <th>354</th>\n",
       "      <th>355</th>\n",
       "      <th>356</th>\n",
       "      <th>357</th>\n",
       "      <th>358</th>\n",
       "      <th>359</th>\n",
       "      <th>label</th>\n",
       "      <th>record_id</th>\n",
       "    </tr>\n",
       "  </thead>\n",
       "  <tbody>\n",
       "    <tr>\n",
       "      <th>0</th>\n",
       "      <td>-0.148556</td>\n",
       "      <td>-0.174436</td>\n",
       "      <td>-0.045036</td>\n",
       "      <td>0.032603</td>\n",
       "      <td>0.032603</td>\n",
       "      <td>0.084363</td>\n",
       "      <td>0.058483</td>\n",
       "      <td>0.084363</td>\n",
       "      <td>0.110243</td>\n",
       "      <td>0.162003</td>\n",
       "      <td>...</td>\n",
       "      <td>-0.122676</td>\n",
       "      <td>-0.122676</td>\n",
       "      <td>-0.200316</td>\n",
       "      <td>-0.200316</td>\n",
       "      <td>-0.200316</td>\n",
       "      <td>-0.070916</td>\n",
       "      <td>-0.122676</td>\n",
       "      <td>-0.148556</td>\n",
       "      <td>0</td>\n",
       "      <td>100</td>\n",
       "    </tr>\n",
       "    <tr>\n",
       "      <th>1</th>\n",
       "      <td>-0.329716</td>\n",
       "      <td>-0.303836</td>\n",
       "      <td>-0.277956</td>\n",
       "      <td>-0.303836</td>\n",
       "      <td>-0.174436</td>\n",
       "      <td>-0.096796</td>\n",
       "      <td>-0.045036</td>\n",
       "      <td>-0.070916</td>\n",
       "      <td>-0.122676</td>\n",
       "      <td>-0.122676</td>\n",
       "      <td>...</td>\n",
       "      <td>-0.329716</td>\n",
       "      <td>-0.277956</td>\n",
       "      <td>-0.303836</td>\n",
       "      <td>-0.277956</td>\n",
       "      <td>-0.303836</td>\n",
       "      <td>-0.381476</td>\n",
       "      <td>-0.329716</td>\n",
       "      <td>-0.303836</td>\n",
       "      <td>0</td>\n",
       "      <td>100</td>\n",
       "    </tr>\n",
       "    <tr>\n",
       "      <th>2</th>\n",
       "      <td>-0.433236</td>\n",
       "      <td>-0.355596</td>\n",
       "      <td>-0.277956</td>\n",
       "      <td>-0.174436</td>\n",
       "      <td>-0.148556</td>\n",
       "      <td>-0.122676</td>\n",
       "      <td>-0.148556</td>\n",
       "      <td>-0.148556</td>\n",
       "      <td>-0.096796</td>\n",
       "      <td>-0.070916</td>\n",
       "      <td>...</td>\n",
       "      <td>-0.148556</td>\n",
       "      <td>-0.122676</td>\n",
       "      <td>-0.148556</td>\n",
       "      <td>-0.174436</td>\n",
       "      <td>-0.148556</td>\n",
       "      <td>-0.070916</td>\n",
       "      <td>-0.174436</td>\n",
       "      <td>-0.174436</td>\n",
       "      <td>0</td>\n",
       "      <td>100</td>\n",
       "    </tr>\n",
       "    <tr>\n",
       "      <th>3</th>\n",
       "      <td>-0.070916</td>\n",
       "      <td>-0.045036</td>\n",
       "      <td>-0.070916</td>\n",
       "      <td>-0.096796</td>\n",
       "      <td>-0.045036</td>\n",
       "      <td>0.058483</td>\n",
       "      <td>0.110243</td>\n",
       "      <td>0.032603</td>\n",
       "      <td>0.058483</td>\n",
       "      <td>0.110243</td>\n",
       "      <td>...</td>\n",
       "      <td>-0.122676</td>\n",
       "      <td>-0.070916</td>\n",
       "      <td>-0.045036</td>\n",
       "      <td>-0.096796</td>\n",
       "      <td>-0.148556</td>\n",
       "      <td>-0.252076</td>\n",
       "      <td>-0.200316</td>\n",
       "      <td>-0.174436</td>\n",
       "      <td>0</td>\n",
       "      <td>100</td>\n",
       "    </tr>\n",
       "    <tr>\n",
       "      <th>4</th>\n",
       "      <td>-0.614396</td>\n",
       "      <td>-0.588516</td>\n",
       "      <td>-0.510876</td>\n",
       "      <td>-0.381476</td>\n",
       "      <td>-0.329716</td>\n",
       "      <td>-0.303836</td>\n",
       "      <td>-0.303836</td>\n",
       "      <td>-0.303836</td>\n",
       "      <td>-0.200316</td>\n",
       "      <td>-0.122676</td>\n",
       "      <td>...</td>\n",
       "      <td>-0.019156</td>\n",
       "      <td>-0.019156</td>\n",
       "      <td>-0.122676</td>\n",
       "      <td>-0.148556</td>\n",
       "      <td>-0.122676</td>\n",
       "      <td>-0.070916</td>\n",
       "      <td>-0.096796</td>\n",
       "      <td>-0.096796</td>\n",
       "      <td>0</td>\n",
       "      <td>100</td>\n",
       "    </tr>\n",
       "  </tbody>\n",
       "</table>\n",
       "<p>5 rows × 362 columns</p>\n",
       "</div>"
      ],
      "text/plain": [
       "          0         1         2         3         4         5         6  \\\n",
       "0 -0.148556 -0.174436 -0.045036  0.032603  0.032603  0.084363  0.058483   \n",
       "1 -0.329716 -0.303836 -0.277956 -0.303836 -0.174436 -0.096796 -0.045036   \n",
       "2 -0.433236 -0.355596 -0.277956 -0.174436 -0.148556 -0.122676 -0.148556   \n",
       "3 -0.070916 -0.045036 -0.070916 -0.096796 -0.045036  0.058483  0.110243   \n",
       "4 -0.614396 -0.588516 -0.510876 -0.381476 -0.329716 -0.303836 -0.303836   \n",
       "\n",
       "          7         8         9  ...       352       353       354       355  \\\n",
       "0  0.084363  0.110243  0.162003  ... -0.122676 -0.122676 -0.200316 -0.200316   \n",
       "1 -0.070916 -0.122676 -0.122676  ... -0.329716 -0.277956 -0.303836 -0.277956   \n",
       "2 -0.148556 -0.096796 -0.070916  ... -0.148556 -0.122676 -0.148556 -0.174436   \n",
       "3  0.032603  0.058483  0.110243  ... -0.122676 -0.070916 -0.045036 -0.096796   \n",
       "4 -0.303836 -0.200316 -0.122676  ... -0.019156 -0.019156 -0.122676 -0.148556   \n",
       "\n",
       "        356       357       358       359  label  record_id  \n",
       "0 -0.200316 -0.070916 -0.122676 -0.148556      0        100  \n",
       "1 -0.303836 -0.381476 -0.329716 -0.303836      0        100  \n",
       "2 -0.148556 -0.070916 -0.174436 -0.174436      0        100  \n",
       "3 -0.148556 -0.252076 -0.200316 -0.174436      0        100  \n",
       "4 -0.122676 -0.070916 -0.096796 -0.096796      0        100  \n",
       "\n",
       "[5 rows x 362 columns]"
      ]
     },
     "execution_count": 11,
     "metadata": {},
     "output_type": "execute_result"
    }
   ],
   "source": [
    "noisy_database = pd.DataFrame(data=X_with_noise)\n",
    "noisy_database['label'] = y_with_noise\n",
    "noisy_database['record_id'] = z_with_noise\n",
    "noisy_database.head()"
   ]
  },
  {
   "cell_type": "code",
   "execution_count": 12,
   "id": "922927a6",
   "metadata": {},
   "outputs": [
    {
     "data": {
      "text/plain": [
       "(110200, 362)"
      ]
     },
     "execution_count": 12,
     "metadata": {},
     "output_type": "execute_result"
    }
   ],
   "source": [
    "noisy_database.shape"
   ]
  },
  {
   "cell_type": "code",
   "execution_count": 13,
   "id": "c608235b",
   "metadata": {},
   "outputs": [
    {
     "data": {
      "text/plain": [
       "0     75011\n",
       "1      8071\n",
       "2      7255\n",
       "6      7129\n",
       "12     7023\n",
       "3      2546\n",
       "13      982\n",
       "7       802\n",
       "8       472\n",
       "10      229\n",
       "14      193\n",
       "4       150\n",
       "15      132\n",
       "11      106\n",
       "5        83\n",
       "9        16\n",
       "Name: label, dtype: int64"
      ]
     },
     "execution_count": 13,
     "metadata": {},
     "output_type": "execute_result"
    }
   ],
   "source": [
    "noisy_database['label'].value_counts()"
   ]
  },
  {
   "cell_type": "markdown",
   "id": "840644cc",
   "metadata": {},
   "source": [
    "#### Extração dos dados e pré processamento com remoção de rúido"
   ]
  },
  {
   "cell_type": "markdown",
   "id": "58dd9dc6",
   "metadata": {},
   "source": [
    "O parâmetro de taxa de amostragem (sampling rate) ideal pode depender da frequência de amostragem original dos seus dados. O ideal é que a taxa de amostragem seja preservada durante todo o processamento para evitar perda de informações importantes."
   ]
  },
  {
   "cell_type": "code",
   "execution_count": 14,
   "id": "1930282f",
   "metadata": {},
   "outputs": [],
   "source": [
    "def denoise(ecg): \n",
    "    #sampling_rate ( int ) – A frequência de amostragem do sinal (em Hz, ou seja, amostras/segundo).\n",
    "    data = nk.ecg_clean(ecg, sampling_rate=360, method=\"neurokit\")     \n",
    "    return data"
   ]
  },
  {
   "cell_type": "code",
   "execution_count": 15,
   "id": "68652666",
   "metadata": {},
   "outputs": [
    {
     "name": "stdout",
     "output_type": "stream",
     "text": [
      "(110200, 360) (110200,)\n",
      "CPU times: user 19.4 s, sys: 680 ms, total: 20 s\n",
      "Wall time: 20 s\n"
     ]
    }
   ],
   "source": [
    "%%time\n",
    "# Registros\n",
    "X = list() #x contém os valores do sinais\n",
    "y = list() #y para os rótulos\n",
    "Z = list() #z indica o índice do registro\n",
    "\n",
    "for r in range(0,len(records)):\n",
    "    signals = []\n",
    "\n",
    "    with open(records[r], 'rt') as csvfile:\n",
    "        spamreader = csv.reader(csvfile, delimiter=',', quotechar='|') # ler arquivo csv\n",
    "        next(spamreader) # ignora header\n",
    "        for row in spamreader:\n",
    "            signals.append(int(row[1]))\n",
    "            \n",
    "    signals = denoise(signals)\n",
    "    \n",
    "    # Normalizando os dados: https://www.investopedia.com/terms/z/zscore.asp\n",
    "    signals = stats.zscore(signals)\n",
    "    \n",
    "    \n",
    "    with open(annotations[r], 'r') as fileID:\n",
    "        lines = fileID.readlines()[1:] # 0 índice é o cabeçalho do gráfico, ignora o header\n",
    "\n",
    "        for line in lines:\n",
    "            row = list(filter(lambda item: item != '', line.split(' ')))\n",
    "            time, sample, arrhythmia_type = row[0:3]\n",
    "            pos = int(sample)\n",
    "\n",
    "            if(arrhythmia_type in classes): # Verificar se é uma classe válida\n",
    "                # Contar a quantidade de dados de cada classe\n",
    "                arrhythmia_index = classes.index(arrhythmia_type)\n",
    "                count_classes[arrhythmia_type] += 1\n",
    "                \n",
    "                # pos é o momento que foi feita a analise.\n",
    "                if(window_size <= pos and (pos + window_size) < len(signals)):\n",
    "                    # pega uma janela de tempo onde o pos fica no meio\n",
    "                    beat = signals[pos-window_size:pos+window_size]\n",
    "        \n",
    "                    X.append(beat)\n",
    "                    y.append(arrhythmia_index)\n",
    "                    Z.append(os.path.splitext(os.path.basename(records[r]))[0])\n",
    "\n",
    "print(np.shape(X), np.shape(y))"
   ]
  },
  {
   "cell_type": "code",
   "execution_count": 16,
   "id": "24465b96",
   "metadata": {},
   "outputs": [
    {
     "data": {
      "text/html": [
       "<div>\n",
       "<style scoped>\n",
       "    .dataframe tbody tr th:only-of-type {\n",
       "        vertical-align: middle;\n",
       "    }\n",
       "\n",
       "    .dataframe tbody tr th {\n",
       "        vertical-align: top;\n",
       "    }\n",
       "\n",
       "    .dataframe thead th {\n",
       "        text-align: right;\n",
       "    }\n",
       "</style>\n",
       "<table border=\"1\" class=\"dataframe\">\n",
       "  <thead>\n",
       "    <tr style=\"text-align: right;\">\n",
       "      <th></th>\n",
       "      <th>0</th>\n",
       "      <th>1</th>\n",
       "      <th>2</th>\n",
       "      <th>3</th>\n",
       "      <th>4</th>\n",
       "      <th>5</th>\n",
       "      <th>6</th>\n",
       "      <th>7</th>\n",
       "      <th>8</th>\n",
       "      <th>9</th>\n",
       "      <th>...</th>\n",
       "      <th>352</th>\n",
       "      <th>353</th>\n",
       "      <th>354</th>\n",
       "      <th>355</th>\n",
       "      <th>356</th>\n",
       "      <th>357</th>\n",
       "      <th>358</th>\n",
       "      <th>359</th>\n",
       "      <th>label</th>\n",
       "      <th>record_id</th>\n",
       "    </tr>\n",
       "  </thead>\n",
       "  <tbody>\n",
       "    <tr>\n",
       "      <th>0</th>\n",
       "      <td>-0.360519</td>\n",
       "      <td>-0.319990</td>\n",
       "      <td>-0.275334</td>\n",
       "      <td>-0.232754</td>\n",
       "      <td>-0.191561</td>\n",
       "      <td>-0.147619</td>\n",
       "      <td>-0.102996</td>\n",
       "      <td>-0.058381</td>\n",
       "      <td>-0.015153</td>\n",
       "      <td>0.025999</td>\n",
       "      <td>...</td>\n",
       "      <td>-0.016707</td>\n",
       "      <td>-0.015152</td>\n",
       "      <td>-0.014977</td>\n",
       "      <td>-0.013427</td>\n",
       "      <td>-0.010500</td>\n",
       "      <td>-0.006197</td>\n",
       "      <td>-0.006722</td>\n",
       "      <td>-0.008627</td>\n",
       "      <td>0</td>\n",
       "      <td>100</td>\n",
       "    </tr>\n",
       "    <tr>\n",
       "      <th>1</th>\n",
       "      <td>-0.347760</td>\n",
       "      <td>-0.272265</td>\n",
       "      <td>-0.202976</td>\n",
       "      <td>-0.140584</td>\n",
       "      <td>-0.081642</td>\n",
       "      <td>-0.032352</td>\n",
       "      <td>0.008663</td>\n",
       "      <td>0.040714</td>\n",
       "      <td>0.065870</td>\n",
       "      <td>0.087576</td>\n",
       "      <td>...</td>\n",
       "      <td>-0.200547</td>\n",
       "      <td>-0.204075</td>\n",
       "      <td>-0.206914</td>\n",
       "      <td>-0.205619</td>\n",
       "      <td>-0.202256</td>\n",
       "      <td>-0.197516</td>\n",
       "      <td>-0.189329</td>\n",
       "      <td>-0.179076</td>\n",
       "      <td>0</td>\n",
       "      <td>100</td>\n",
       "    </tr>\n",
       "    <tr>\n",
       "      <th>2</th>\n",
       "      <td>-0.304913</td>\n",
       "      <td>-0.242247</td>\n",
       "      <td>-0.178891</td>\n",
       "      <td>-0.118982</td>\n",
       "      <td>-0.065966</td>\n",
       "      <td>-0.019842</td>\n",
       "      <td>0.019389</td>\n",
       "      <td>0.053796</td>\n",
       "      <td>0.084756</td>\n",
       "      <td>0.112269</td>\n",
       "      <td>...</td>\n",
       "      <td>-0.028826</td>\n",
       "      <td>-0.022611</td>\n",
       "      <td>-0.019841</td>\n",
       "      <td>-0.022584</td>\n",
       "      <td>-0.029461</td>\n",
       "      <td>-0.039095</td>\n",
       "      <td>-0.054930</td>\n",
       "      <td>-0.071454</td>\n",
       "      <td>0</td>\n",
       "      <td>100</td>\n",
       "    </tr>\n",
       "    <tr>\n",
       "      <th>3</th>\n",
       "      <td>-0.001562</td>\n",
       "      <td>0.043882</td>\n",
       "      <td>0.084502</td>\n",
       "      <td>0.123744</td>\n",
       "      <td>0.162298</td>\n",
       "      <td>0.197407</td>\n",
       "      <td>0.228382</td>\n",
       "      <td>0.253154</td>\n",
       "      <td>0.276549</td>\n",
       "      <td>0.297188</td>\n",
       "      <td>...</td>\n",
       "      <td>0.016617</td>\n",
       "      <td>0.015064</td>\n",
       "      <td>0.010063</td>\n",
       "      <td>0.002304</td>\n",
       "      <td>-0.006148</td>\n",
       "      <td>-0.015980</td>\n",
       "      <td>-0.019611</td>\n",
       "      <td>-0.018420</td>\n",
       "      <td>0</td>\n",
       "      <td>100</td>\n",
       "    </tr>\n",
       "    <tr>\n",
       "      <th>4</th>\n",
       "      <td>-0.531150</td>\n",
       "      <td>-0.482258</td>\n",
       "      <td>-0.426476</td>\n",
       "      <td>-0.366560</td>\n",
       "      <td>-0.306646</td>\n",
       "      <td>-0.246045</td>\n",
       "      <td>-0.184756</td>\n",
       "      <td>-0.123468</td>\n",
       "      <td>-0.062872</td>\n",
       "      <td>-0.007791</td>\n",
       "      <td>...</td>\n",
       "      <td>-0.036881</td>\n",
       "      <td>-0.042875</td>\n",
       "      <td>-0.053003</td>\n",
       "      <td>-0.061751</td>\n",
       "      <td>-0.069119</td>\n",
       "      <td>-0.075795</td>\n",
       "      <td>-0.083159</td>\n",
       "      <td>-0.087765</td>\n",
       "      <td>0</td>\n",
       "      <td>100</td>\n",
       "    </tr>\n",
       "  </tbody>\n",
       "</table>\n",
       "<p>5 rows × 362 columns</p>\n",
       "</div>"
      ],
      "text/plain": [
       "          0         1         2         3         4         5         6  \\\n",
       "0 -0.360519 -0.319990 -0.275334 -0.232754 -0.191561 -0.147619 -0.102996   \n",
       "1 -0.347760 -0.272265 -0.202976 -0.140584 -0.081642 -0.032352  0.008663   \n",
       "2 -0.304913 -0.242247 -0.178891 -0.118982 -0.065966 -0.019842  0.019389   \n",
       "3 -0.001562  0.043882  0.084502  0.123744  0.162298  0.197407  0.228382   \n",
       "4 -0.531150 -0.482258 -0.426476 -0.366560 -0.306646 -0.246045 -0.184756   \n",
       "\n",
       "          7         8         9  ...       352       353       354       355  \\\n",
       "0 -0.058381 -0.015153  0.025999  ... -0.016707 -0.015152 -0.014977 -0.013427   \n",
       "1  0.040714  0.065870  0.087576  ... -0.200547 -0.204075 -0.206914 -0.205619   \n",
       "2  0.053796  0.084756  0.112269  ... -0.028826 -0.022611 -0.019841 -0.022584   \n",
       "3  0.253154  0.276549  0.297188  ...  0.016617  0.015064  0.010063  0.002304   \n",
       "4 -0.123468 -0.062872 -0.007791  ... -0.036881 -0.042875 -0.053003 -0.061751   \n",
       "\n",
       "        356       357       358       359  label  record_id  \n",
       "0 -0.010500 -0.006197 -0.006722 -0.008627      0        100  \n",
       "1 -0.202256 -0.197516 -0.189329 -0.179076      0        100  \n",
       "2 -0.029461 -0.039095 -0.054930 -0.071454      0        100  \n",
       "3 -0.006148 -0.015980 -0.019611 -0.018420      0        100  \n",
       "4 -0.069119 -0.075795 -0.083159 -0.087765      0        100  \n",
       "\n",
       "[5 rows x 362 columns]"
      ]
     },
     "execution_count": 16,
     "metadata": {},
     "output_type": "execute_result"
    }
   ],
   "source": [
    "database = pd.DataFrame(data=X)\n",
    "database['label'] = y\n",
    "database['record_id'] = Z\n",
    "database.head()"
   ]
  },
  {
   "cell_type": "markdown",
   "id": "339e9cee",
   "metadata": {},
   "source": [
    "**Comparação dos tipos de batidas com e sem ruído**"
   ]
  },
  {
   "cell_type": "markdown",
   "id": "6c92e17a",
   "metadata": {},
   "source": [
    "### Análise dos dados\n",
    "Nessa análise não importa se a base de dados é ``noisy_database`` ou ``database`` porque estamos analisando a quantidade de classes e não a qualidade do sinal."
   ]
  },
  {
   "cell_type": "code",
   "execution_count": 17,
   "id": "b376f6e5",
   "metadata": {},
   "outputs": [
    {
     "data": {
      "text/plain": [
       "float64    360\n",
       "int64        1\n",
       "object       1\n",
       "dtype: int64"
      ]
     },
     "execution_count": 17,
     "metadata": {},
     "output_type": "execute_result"
    }
   ],
   "source": [
    "database.dtypes.value_counts()"
   ]
  },
  {
   "cell_type": "code",
   "execution_count": 139,
   "id": "9b2fd14a",
   "metadata": {},
   "outputs": [
    {
     "data": {
      "text/plain": [
       "0     75011\n",
       "1      8071\n",
       "2      7255\n",
       "6      7129\n",
       "12     7023\n",
       "3      2546\n",
       "13      982\n",
       "7       802\n",
       "8       472\n",
       "10      229\n",
       "14      193\n",
       "4       150\n",
       "15      132\n",
       "11      106\n",
       "5        83\n",
       "9        16\n",
       "Name: label, dtype: int64"
      ]
     },
     "execution_count": 139,
     "metadata": {},
     "output_type": "execute_result"
    }
   ],
   "source": [
    "database['label'].value_counts()"
   ]
  },
  {
   "cell_type": "code",
   "execution_count": 154,
   "id": "9b3dafcc",
   "metadata": {},
   "outputs": [],
   "source": [
    "mapX = {'N': 75011, 'L': 8071,'R': 7255,'V': 7129, '/': 7023, 'A': 2546, 'f': 982, 'F': 802,'!': 472,'j': 229, \n",
    "        'x': 193,'a': 150,'|':132,'E': 106,'J': 83,'e': 16}"
   ]
  },
  {
   "cell_type": "code",
   "execution_count": 162,
   "id": "fd0bd017",
   "metadata": {},
   "outputs": [
    {
     "data": {
      "image/png": "[encoded data removed]",
      "text/plain": [
       "<Figure size 800x500 with 1 Axes>"
      ]
     },
     "metadata": {},
     "output_type": "display_data"
    }
   ],
   "source": [
    "categorias = list(mapX.keys())\n",
    "valores = list(mapX.values())\n",
    "\n",
    "plt.figure(figsize=(8, 5))\n",
    "plt.bar(categorias, valores, color='blue', edgecolor='black', alpha=0.7)\n",
    "\n",
    "# Adicionar rótulos e título\n",
    "plt.xlabel('Classes')\n",
    "plt.ylabel('Quantidade de instâncias')\n",
    "plt.title('Distribuição de 16 classes para dados segmentados em 360')\n",
    "\n",
    "# Adicionar grades ao eixo y\n",
    "plt.grid(axis='y', linestyle='--', alpha=0.7)\n",
    "\n",
    "# Adicionar anotações (opcional)\n",
    "for i, v in enumerate(valores):\n",
    "    plt.text(i, v + 0.5, str(v), ha='center', va='bottom')\n",
    "    \n",
    "plt.savefig('distribuicao2.pdf')\n",
    "\n",
    "# Exibir o gráfico\n",
    "plt.show()"
   ]
  },
  {
   "cell_type": "markdown",
   "id": "ee398409",
   "metadata": {},
   "source": [
    "## AutoML com sinais ruidosos"
   ]
  },
  {
   "cell_type": "code",
   "execution_count": 20,
   "id": "10025aaf",
   "metadata": {},
   "outputs": [
    {
     "data": {
      "text/plain": [
       "((82650, 361), (27550, 361))"
      ]
     },
     "execution_count": 20,
     "metadata": {},
     "output_type": "execute_result"
    }
   ],
   "source": [
    "#removendo a coluna record_id pois ela não é necessária nas classificações \n",
    "noisy_database2 = noisy_database.iloc[:, :-1]\n",
    "train_data, test_data = train_test_split(noisy_database2, random_state=42, stratify=noisy_database2.label)\n",
    "train_data.shape, test_data.shape "
   ]
  },
  {
   "cell_type": "code",
   "execution_count": 21,
   "id": "dde4dca1",
   "metadata": {},
   "outputs": [
    {
     "data": {
      "text/plain": [
       "((82650, 360), (27550, 360), (82650,), (27550,))"
      ]
     },
     "execution_count": 21,
     "metadata": {},
     "output_type": "execute_result"
    }
   ],
   "source": [
    "X_train, y_train = train_data.iloc[:,:-1], train_data['label']\n",
    "X_test, y_test = test_data.iloc[:,:-1], test_data['label']\n",
    "X_train.shape, X_test.shape, y_train.shape, y_test.shape"
   ]
  },
  {
   "cell_type": "code",
   "execution_count": 22,
   "id": "1d1d3ada",
   "metadata": {},
   "outputs": [
    {
     "data": {
      "text/html": [],
      "text/plain": [
       "<IPython.core.display.HTML object>"
      ]
     },
     "metadata": {},
     "output_type": "display_data"
    },
    {
     "name": "stderr",
     "output_type": "stream",
     "text": [
      "Fitted model: NeuralNetTorch/87e19736 ...\n",
      "\t0.9888\t = Validation score   (accuracy)\n",
      "\t181.3s\t = Training   runtime\n",
      "\t0.18s\t = Validation runtime\n",
      "Fitted model: NeuralNetTorch/047a4968 ...\n",
      "\t0.951\t = Validation score   (accuracy)\n",
      "\t147.65s\t = Training   runtime\n",
      "\t0.2s\t = Validation runtime\n",
      "Fitted model: NeuralNetTorch/e03a1bca ...\n",
      "\t0.8756\t = Validation score   (accuracy)\n",
      "\t254.41s\t = Training   runtime\n",
      "\t0.61s\t = Validation runtime\n",
      "Fitted model: NeuralNetTorch/bd4a9e75 ...\n",
      "\t0.9906\t = Validation score   (accuracy)\n",
      "\t211.66s\t = Training   runtime\n",
      "\t0.17s\t = Validation runtime\n",
      "Fitted model: NeuralNetTorch/6a521c20 ...\n",
      "\t0.8806\t = Validation score   (accuracy)\n",
      "\t491.56s\t = Training   runtime\n",
      "\t2.33s\t = Validation runtime\n",
      "Fitting model: LightGBMLarge ... Training model for up to 498.3s of the 4529.81s of remaining time.\n",
      "\t0.977\t = Validation score   (accuracy)\n",
      "\t389.99s\t = Training   runtime\n",
      "\t1.54s\t = Validation runtime\n",
      "Fitting model: WeightedEnsemble_L2 ... Training model for up to 719.76s of the 4125.35s of remaining time.\n",
      "\t0.9916\t = Validation score   (accuracy)\n",
      "\t2.65s\t = Training   runtime\n",
      "\t0.0s\t = Validation runtime\n",
      "AutoGluon training complete, total runtime = 3077.8s ... Best model: \"WeightedEnsemble_L2\"\n",
      "TabularPredictor saved. To load, use: predictor = TabularPredictor.load(\"AutogluonModels/ag-20231203_011102/\")\n"
     ]
    },
    {
     "name": "stdout",
     "output_type": "stream",
     "text": [
      "CPU times: user 4h 13min 50s, sys: 1min 4s, total: 4h 14min 54s\n",
      "Wall time: 51min 17s\n"
     ]
    }
   ],
   "source": [
    "%%time\n",
    "predictor = TabularPredictor(label='label').fit(train_data, time_limit=7200, hyperparameter_tune_kwargs = \n",
    "                                                {'num_trials': 5, 'scheduler' : 'local', 'searcher': 'auto'})"
   ]
  },
  {
   "cell_type": "markdown",
   "id": "da7926ec",
   "metadata": {},
   "source": [
    "### Dataframe de hiperparâmetros"
   ]
  },
  {
   "cell_type": "markdown",
   "id": "48292b0d",
   "metadata": {},
   "source": [
    "Iremos usar 3 métodos para os modelos do AutoGluon, o primeiro sem reamostragem, o segundo utilizando a técnica de reamostragem SMOTE e o terceiro a técnica de reamostragem ADASYN. Por isso, para auxiliar o acesso dos hiperparâmetros utilizaremos um dataframe."
   ]
  },
  {
   "cell_type": "markdown",
   "id": "2e6b3b64",
   "metadata": {},
   "source": [
    "A função ``autogluon_models_df`` trata as informações dos modelos gerados pelo TabularPredictor e retorna um dataframe com um ranking de acurácia dos modelos e facilita o processo de seleção/visualização dos hiperparâmetros de cada modelo. O datafame contém as seguintes informações: a segmentação usada, se o filtro foi aplicado, a técnica de reamostragem, o nome do modelo, os hiperparâmetros do modelo e acurácia. Nesse notebook executamos os modelos com a segmentação dos dados com uma janela de 180."
   ]
  },
  {
   "cell_type": "code",
   "execution_count": 23,
   "id": "bd47b6e2",
   "metadata": {},
   "outputs": [],
   "source": [
    "def autogluon_models_df(window, filter_applied, resampling_tech, predictor_model, test_data_):\n",
    "    leaderboard = predictor_model.leaderboard(test_data_, silent=True, extra_metrics=['accuracy','precision_weighted','recall_weighted', 'f1_weighted'])\n",
    "    all_models = predictor_model.get_model_names()\n",
    "    predictor_information = predictor_model.info()\n",
    "    autogluon_accuracy = []\n",
    "    autogluon_precision = []\n",
    "    autogluon_f1 = []\n",
    "    autogluon_recall = []\n",
    "    autogluon_hyperparameters = []\n",
    "    autogluon_algorithms = [] \n",
    "    for model in all_models:\n",
    "        if model != 'WeightedEnsemble_L2':\n",
    "            autogluon_algorithms.append(model)\n",
    "            accuracy = (leaderboard.accuracy[leaderboard['model'] == model]).values[0]\n",
    "            precision_weighted = (leaderboard.precision_weighted[leaderboard['model'] == model]).values[0]\n",
    "            recall_weighted = (leaderboard.recall_weighted[leaderboard['model'] == model]).values[0]\n",
    "            f1_weighted = (leaderboard.f1_weighted[leaderboard['model'] == model]).values[0]\n",
    "            \n",
    "            autogluon_accuracy.append(accuracy)\n",
    "            autogluon_precision.append(precision_weighted)\n",
    "            autogluon_recall.append(recall_weighted)\n",
    "            autogluon_f1.append(f1_weighted)\n",
    "            \n",
    "            autogluon_hyperparameters.append(predictor_information[\"model_info\"][model][\"hyperparameters\"])\n",
    "            \n",
    "    window_size_list = [window*2]*len(autogluon_algorithms)\n",
    "    filter_applied_list = [filter_applied]*len(autogluon_algorithms)\n",
    "    resampling_tech_list = [resampling_tech]*len(autogluon_algorithms)\n",
    "        \n",
    "    \n",
    "    autogluon_args = list(zip(window_size_list, filter_applied_list, resampling_tech_list, \n",
    "                              autogluon_algorithms, autogluon_hyperparameters, autogluon_accuracy,\n",
    "                             autogluon_precision, autogluon_recall, autogluon_f1))    \n",
    "    \n",
    "    hyperparameters = pd.DataFrame(autogluon_args, columns=['window_size','filter_applied','resampling_tech',\n",
    "                                                            'model','hyperparameters','accuracy',\n",
    "                                                            'precision_weighted','recall_weighted', 'f1_weighted'])\n",
    "    \n",
    "    hyperparameters = hyperparameters.sort_values(by='accuracy', ascending=False)\n",
    "    hyperparameters = hyperparameters.reset_index(drop=True)\n",
    "    \n",
    "    #agrupamento por algoritmos\n",
    "    hyperparameters['algorithm'] = ''\n",
    "    all_algorithms = ['LightGBM', 'RandomForest', 'NeuralNetTorch', 'NeuralNetFastAI', 'XGBoost',\n",
    "                      'ExtraTrees', 'CatBoost', 'KNeighbors']\n",
    "    \n",
    "    hyperparameters.loc[hyperparameters['model'].str.contains('LightGBM'), 'algorithm'] = 'LightGBM'\n",
    "    hyperparameters.loc[hyperparameters['model'].str.contains('RandomForest'), 'algorithm'] = 'RandomForest'\n",
    "    hyperparameters.loc[hyperparameters['model'].str.contains('NeuralNetTorch'), 'algorithm'] = 'NeuralNetTorch'\n",
    "    hyperparameters.loc[hyperparameters['model'].str.contains('NeuralNetFastAI'), 'algorithm'] = 'NeuralNetFastAI'\n",
    "    hyperparameters.loc[hyperparameters['model'].str.contains('XGBoost'), 'algorithm'] = 'XGBoost'\n",
    "    hyperparameters.loc[hyperparameters['model'].str.contains('ExtraTrees'), 'algorithm'] = 'ExtraTrees'\n",
    "    hyperparameters.loc[hyperparameters['model'].str.contains('CatBoost'), 'algorithm'] = 'CatBoost'\n",
    "    hyperparameters.loc[hyperparameters['model'].str.contains('KNeighbors'), 'algorithm'] = 'KNeighbors'\n",
    "    \n",
    "    return hyperparameters"
   ]
  },
  {
   "cell_type": "code",
   "execution_count": 24,
   "id": "26b006d0",
   "metadata": {},
   "outputs": [
    {
     "name": "stderr",
     "output_type": "stream",
     "text": [
      "/home/jupyter-luana@alu.ufc.br/.local/lib/python3.9/site-packages/sklearn/metrics/_classification.py:1344: UndefinedMetricWarning: Precision is ill-defined and being set to 0.0 in labels with no predicted samples. Use `zero_division` parameter to control this behavior.\n",
      "  _warn_prf(average, modifier, msg_start, len(result))\n",
      "/home/jupyter-luana@alu.ufc.br/.local/lib/python3.9/site-packages/sklearn/metrics/_classification.py:1344: UndefinedMetricWarning: Precision is ill-defined and being set to 0.0 in labels with no predicted samples. Use `zero_division` parameter to control this behavior.\n",
      "  _warn_prf(average, modifier, msg_start, len(result))\n",
      "/home/jupyter-luana@alu.ufc.br/.local/lib/python3.9/site-packages/sklearn/metrics/_classification.py:1344: UndefinedMetricWarning: Precision is ill-defined and being set to 0.0 in labels with no predicted samples. Use `zero_division` parameter to control this behavior.\n",
      "  _warn_prf(average, modifier, msg_start, len(result))\n",
      "/home/jupyter-luana@alu.ufc.br/.local/lib/python3.9/site-packages/sklearn/metrics/_classification.py:1344: UndefinedMetricWarning: Precision is ill-defined and being set to 0.0 in labels with no predicted samples. Use `zero_division` parameter to control this behavior.\n",
      "  _warn_prf(average, modifier, msg_start, len(result))\n",
      "/home/jupyter-luana@alu.ufc.br/.local/lib/python3.9/site-packages/sklearn/metrics/_classification.py:1344: UndefinedMetricWarning: Precision is ill-defined and being set to 0.0 in labels with no predicted samples. Use `zero_division` parameter to control this behavior.\n",
      "  _warn_prf(average, modifier, msg_start, len(result))\n",
      "/home/jupyter-luana@alu.ufc.br/.local/lib/python3.9/site-packages/sklearn/metrics/_classification.py:1344: UndefinedMetricWarning: Precision is ill-defined and being set to 0.0 in labels with no predicted samples. Use `zero_division` parameter to control this behavior.\n",
      "  _warn_prf(average, modifier, msg_start, len(result))\n",
      "/home/jupyter-luana@alu.ufc.br/.local/lib/python3.9/site-packages/sklearn/metrics/_classification.py:1344: UndefinedMetricWarning: Precision is ill-defined and being set to 0.0 in labels with no predicted samples. Use `zero_division` parameter to control this behavior.\n",
      "  _warn_prf(average, modifier, msg_start, len(result))\n",
      "/home/jupyter-luana@alu.ufc.br/.local/lib/python3.9/site-packages/sklearn/metrics/_classification.py:1344: UndefinedMetricWarning: Precision is ill-defined and being set to 0.0 in labels with no predicted samples. Use `zero_division` parameter to control this behavior.\n",
      "  _warn_prf(average, modifier, msg_start, len(result))\n",
      "/home/jupyter-luana@alu.ufc.br/.local/lib/python3.9/site-packages/sklearn/metrics/_classification.py:1344: UndefinedMetricWarning: Precision is ill-defined and being set to 0.0 in labels with no predicted samples. Use `zero_division` parameter to control this behavior.\n",
      "  _warn_prf(average, modifier, msg_start, len(result))\n",
      "/home/jupyter-luana@alu.ufc.br/.local/lib/python3.9/site-packages/sklearn/metrics/_classification.py:1344: UndefinedMetricWarning: Precision is ill-defined and being set to 0.0 in labels with no predicted samples. Use `zero_division` parameter to control this behavior.\n",
      "  _warn_prf(average, modifier, msg_start, len(result))\n",
      "/home/jupyter-luana@alu.ufc.br/.local/lib/python3.9/site-packages/sklearn/metrics/_classification.py:1344: UndefinedMetricWarning: Precision is ill-defined and being set to 0.0 in labels with no predicted samples. Use `zero_division` parameter to control this behavior.\n",
      "  _warn_prf(average, modifier, msg_start, len(result))\n",
      "/home/jupyter-luana@alu.ufc.br/.local/lib/python3.9/site-packages/sklearn/metrics/_classification.py:1344: UndefinedMetricWarning: Precision is ill-defined and being set to 0.0 in labels with no predicted samples. Use `zero_division` parameter to control this behavior.\n",
      "  _warn_prf(average, modifier, msg_start, len(result))\n",
      "/home/jupyter-luana@alu.ufc.br/.local/lib/python3.9/site-packages/sklearn/metrics/_classification.py:1344: UndefinedMetricWarning: Precision is ill-defined and being set to 0.0 in labels with no predicted samples. Use `zero_division` parameter to control this behavior.\n",
      "  _warn_prf(average, modifier, msg_start, len(result))\n",
      "/home/jupyter-luana@alu.ufc.br/.local/lib/python3.9/site-packages/sklearn/metrics/_classification.py:1344: UndefinedMetricWarning: Precision is ill-defined and being set to 0.0 in labels with no predicted samples. Use `zero_division` parameter to control this behavior.\n",
      "  _warn_prf(average, modifier, msg_start, len(result))\n",
      "/home/jupyter-luana@alu.ufc.br/.local/lib/python3.9/site-packages/sklearn/metrics/_classification.py:1344: UndefinedMetricWarning: Precision is ill-defined and being set to 0.0 in labels with no predicted samples. Use `zero_division` parameter to control this behavior.\n",
      "  _warn_prf(average, modifier, msg_start, len(result))\n"
     ]
    },
    {
     "name": "stdout",
     "output_type": "stream",
     "text": [
      "CPU times: user 7min 35s, sys: 2.56 s, total: 7min 38s\n",
      "Wall time: 1min 10s\n"
     ]
    }
   ],
   "source": [
    "%%time\n",
    "model_without_resampling = autogluon_models_df(window=window_size,\n",
    "                                               filter_applied=False, \n",
    "                                               resampling_tech=None,\n",
    "                                               predictor_model=predictor,\n",
    "                                               test_data_=test_data)"
   ]
  },
  {
   "cell_type": "markdown",
   "id": "fe8f5d95",
   "metadata": {},
   "source": [
    "**Ranking dos modelos sem reamostragem e sem filtro**"
   ]
  },
  {
   "cell_type": "code",
   "execution_count": 25,
   "id": "4c5ea85d",
   "metadata": {},
   "outputs": [
    {
     "data": {
      "text/html": [
       "<div>\n",
       "<style scoped>\n",
       "    .dataframe tbody tr th:only-of-type {\n",
       "        vertical-align: middle;\n",
       "    }\n",
       "\n",
       "    .dataframe tbody tr th {\n",
       "        vertical-align: top;\n",
       "    }\n",
       "\n",
       "    .dataframe thead th {\n",
       "        text-align: right;\n",
       "    }\n",
       "</style>\n",
       "<table border=\"1\" class=\"dataframe\">\n",
       "  <thead>\n",
       "    <tr style=\"text-align: right;\">\n",
       "      <th></th>\n",
       "      <th>window_size</th>\n",
       "      <th>filter_applied</th>\n",
       "      <th>resampling_tech</th>\n",
       "      <th>model</th>\n",
       "      <th>hyperparameters</th>\n",
       "      <th>accuracy</th>\n",
       "      <th>precision_weighted</th>\n",
       "      <th>recall_weighted</th>\n",
       "      <th>f1_weighted</th>\n",
       "      <th>algorithm</th>\n",
       "    </tr>\n",
       "  </thead>\n",
       "  <tbody>\n",
       "    <tr>\n",
       "      <th>0</th>\n",
       "      <td>360</td>\n",
       "      <td>False</td>\n",
       "      <td>None</td>\n",
       "      <td>NeuralNetFastAI/81ef5b8c</td>\n",
       "      <td>{'layers': None, 'emb_drop': 0.1, 'ps': 0.1, 'bs': 256, 'lr': 0.01, 'epochs': 30, 'early.stopping.min_delta': 0.0001, 'early.stopping.patience': 20, 'smoothing': 0.0}</td>\n",
       "      <td>0.988494</td>\n",
       "      <td>0.988070</td>\n",
       "      <td>0.988494</td>\n",
       "      <td>0.988127</td>\n",
       "      <td>NeuralNetFastAI</td>\n",
       "    </tr>\n",
       "    <tr>\n",
       "      <th>1</th>\n",
       "      <td>360</td>\n",
       "      <td>False</td>\n",
       "      <td>None</td>\n",
       "      <td>NeuralNetFastAI/30f5b552</td>\n",
       "      <td>{'layers': (500, 200, 100), 'emb_drop': 0.42712629581198064, 'ps': 0.07249739001468652, 'bs': 4096, 'lr': 0.035156995999692124, 'epochs': 28, 'early.stopping.min_delta': 0.0001, 'early.stopping.patience': 20, 'smoothing': 0.0}</td>\n",
       "      <td>0.988421</td>\n",
       "      <td>0.987926</td>\n",
       "      <td>0.988421</td>\n",
       "      <td>0.988056</td>\n",
       "      <td>NeuralNetFastAI</td>\n",
       "    </tr>\n",
       "  </tbody>\n",
       "</table>\n",
       "</div>"
      ],
      "text/plain": [
       "   window_size  filter_applied resampling_tech                     model  \\\n",
       "0          360           False            None  NeuralNetFastAI/81ef5b8c   \n",
       "1          360           False            None  NeuralNetFastAI/30f5b552   \n",
       "\n",
       "                                                                                                                                                                                                                      hyperparameters  \\\n",
       "0                                                              {'layers': None, 'emb_drop': 0.1, 'ps': 0.1, 'bs': 256, 'lr': 0.01, 'epochs': 30, 'early.stopping.min_delta': 0.0001, 'early.stopping.patience': 20, 'smoothing': 0.0}   \n",
       "1  {'layers': (500, 200, 100), 'emb_drop': 0.42712629581198064, 'ps': 0.07249739001468652, 'bs': 4096, 'lr': 0.035156995999692124, 'epochs': 28, 'early.stopping.min_delta': 0.0001, 'early.stopping.patience': 20, 'smoothing': 0.0}   \n",
       "\n",
       "   accuracy  precision_weighted  recall_weighted  f1_weighted        algorithm  \n",
       "0  0.988494            0.988070         0.988494     0.988127  NeuralNetFastAI  \n",
       "1  0.988421            0.987926         0.988421     0.988056  NeuralNetFastAI  "
      ]
     },
     "execution_count": 25,
     "metadata": {},
     "output_type": "execute_result"
    }
   ],
   "source": [
    "model_without_resampling.head(2)"
   ]
  },
  {
   "cell_type": "markdown",
   "id": "658ea6cd",
   "metadata": {},
   "source": [
    "**Cálculo do intervalo de confiança**"
   ]
  },
  {
   "cell_type": "code",
   "execution_count": 164,
   "id": "9712b418",
   "metadata": {},
   "outputs": [
    {
     "name": "stdout",
     "output_type": "stream",
     "text": [
      "Intervalo de confiança(0.9868195306126069, 0.9893804693873931)\n"
     ]
    }
   ],
   "source": [
    "z = 1.96\n",
    "f1 = 0.9881\n",
    "n = len(X_test)\n",
    "interval = z * np.sqrt((f1 * (1 - f1)) / n)\n",
    "print(f\"Intervalo de confiança{(f1-interval, f1+interval)}\")"
   ]
  },
  {
   "cell_type": "code",
   "execution_count": 27,
   "id": "341be807",
   "metadata": {},
   "outputs": [
    {
     "data": {
      "text/plain": [
       "LightGBM           7\n",
       "NeuralNetFastAI    5\n",
       "NeuralNetTorch     5\n",
       "KNeighbors         2\n",
       "RandomForest       2\n",
       "ExtraTrees         2\n",
       "XGBoost            1\n",
       "CatBoost           1\n",
       "Name: algorithm, dtype: int64"
      ]
     },
     "execution_count": 27,
     "metadata": {},
     "output_type": "execute_result"
    }
   ],
   "source": [
    "model_without_resampling['algorithm'].value_counts()"
   ]
  },
  {
   "cell_type": "code",
   "execution_count": 28,
   "id": "b64daf89",
   "metadata": {},
   "outputs": [
    {
     "data": {
      "text/plain": [
       "25"
      ]
     },
     "execution_count": 28,
     "metadata": {},
     "output_type": "execute_result"
    }
   ],
   "source": [
    "model_without_resampling['algorithm'].value_counts().sum()"
   ]
  },
  {
   "cell_type": "markdown",
   "id": "7279ef5f",
   "metadata": {},
   "source": [
    "Para evitar perda dos dados"
   ]
  },
  {
   "cell_type": "code",
   "execution_count": 29,
   "id": "7cb86e9e",
   "metadata": {},
   "outputs": [],
   "source": [
    "model_without_resampling.to_csv('model_without_resampling.csv', index=False)"
   ]
  },
  {
   "cell_type": "markdown",
   "id": "f648f33c",
   "metadata": {},
   "source": [
    "### AutoML com técnica de reamostragem SMOTE"
   ]
  },
  {
   "cell_type": "code",
   "execution_count": 30,
   "id": "f72529de",
   "metadata": {},
   "outputs": [],
   "source": [
    "# Aplicar SMOTE apenas no conjunto de treinamento\n",
    "smote = SMOTE(sampling_strategy='auto')"
   ]
  },
  {
   "cell_type": "code",
   "execution_count": 31,
   "id": "859b38db",
   "metadata": {},
   "outputs": [
    {
     "name": "stdout",
     "output_type": "stream",
     "text": [
      "Distribuição de classes sem a reamostragem:  Counter({0: 56258, 1: 6053, 2: 5441, 6: 5347, 12: 5267, 3: 1909, 13: 737, 7: 601, 8: 354, 10: 172, 14: 145, 4: 113, 15: 99, 11: 80, 5: 62, 9: 12})\n"
     ]
    }
   ],
   "source": [
    "print(\"Distribuição de classes sem a reamostragem: \", Counter(y_train))"
   ]
  },
  {
   "cell_type": "code",
   "execution_count": 32,
   "id": "870bcf3f",
   "metadata": {},
   "outputs": [
    {
     "name": "stdout",
     "output_type": "stream",
     "text": [
      "CPU times: user 16.1 s, sys: 1.77 s, total: 17.8 s\n",
      "Wall time: 8.56 s\n"
     ]
    }
   ],
   "source": [
    "%%time\n",
    "X_resampled_smote, y_resampled_smote = smote.fit_resample(X_train, y_train)"
   ]
  },
  {
   "cell_type": "code",
   "execution_count": 33,
   "id": "4eaf5ec9",
   "metadata": {},
   "outputs": [
    {
     "name": "stdout",
     "output_type": "stream",
     "text": [
      "Distribuição de classes após a reamostragem:  Counter({0: 56258, 12: 56258, 13: 56258, 1: 56258, 6: 56258, 4: 56258, 2: 56258, 7: 56258, 3: 56258, 11: 56258, 8: 56258, 10: 56258, 14: 56258, 15: 56258, 5: 56258, 9: 56258})\n"
     ]
    }
   ],
   "source": [
    "print(\"Distribuição de classes após a reamostragem: \", Counter(y_resampled_smote))"
   ]
  },
  {
   "cell_type": "code",
   "execution_count": 34,
   "id": "2f29fe55",
   "metadata": {},
   "outputs": [
    {
     "data": {
      "text/html": [
       "<div>\n",
       "<style scoped>\n",
       "    .dataframe tbody tr th:only-of-type {\n",
       "        vertical-align: middle;\n",
       "    }\n",
       "\n",
       "    .dataframe tbody tr th {\n",
       "        vertical-align: top;\n",
       "    }\n",
       "\n",
       "    .dataframe thead th {\n",
       "        text-align: right;\n",
       "    }\n",
       "</style>\n",
       "<table border=\"1\" class=\"dataframe\">\n",
       "  <thead>\n",
       "    <tr style=\"text-align: right;\">\n",
       "      <th></th>\n",
       "      <th>0</th>\n",
       "      <th>1</th>\n",
       "      <th>2</th>\n",
       "      <th>3</th>\n",
       "      <th>4</th>\n",
       "      <th>5</th>\n",
       "      <th>6</th>\n",
       "      <th>7</th>\n",
       "      <th>8</th>\n",
       "      <th>9</th>\n",
       "      <th>...</th>\n",
       "      <th>351</th>\n",
       "      <th>352</th>\n",
       "      <th>353</th>\n",
       "      <th>354</th>\n",
       "      <th>355</th>\n",
       "      <th>356</th>\n",
       "      <th>357</th>\n",
       "      <th>358</th>\n",
       "      <th>359</th>\n",
       "      <th>label</th>\n",
       "    </tr>\n",
       "  </thead>\n",
       "  <tbody>\n",
       "    <tr>\n",
       "      <th>0</th>\n",
       "      <td>-0.377484</td>\n",
       "      <td>-0.352075</td>\n",
       "      <td>-0.352075</td>\n",
       "      <td>-0.352075</td>\n",
       "      <td>-0.326666</td>\n",
       "      <td>-0.275848</td>\n",
       "      <td>-0.301257</td>\n",
       "      <td>-0.301257</td>\n",
       "      <td>-0.275848</td>\n",
       "      <td>-0.326666</td>\n",
       "      <td>...</td>\n",
       "      <td>-0.123393</td>\n",
       "      <td>-0.123393</td>\n",
       "      <td>-0.021756</td>\n",
       "      <td>0.003653</td>\n",
       "      <td>0.054472</td>\n",
       "      <td>0.003653</td>\n",
       "      <td>0.029062</td>\n",
       "      <td>0.003653</td>\n",
       "      <td>0.029062</td>\n",
       "      <td>0</td>\n",
       "    </tr>\n",
       "    <tr>\n",
       "      <th>1</th>\n",
       "      <td>-0.002746</td>\n",
       "      <td>0.003082</td>\n",
       "      <td>-0.031882</td>\n",
       "      <td>-0.037709</td>\n",
       "      <td>-0.061018</td>\n",
       "      <td>-0.066846</td>\n",
       "      <td>-0.084327</td>\n",
       "      <td>-0.084327</td>\n",
       "      <td>-0.101809</td>\n",
       "      <td>-0.113464</td>\n",
       "      <td>...</td>\n",
       "      <td>0.014736</td>\n",
       "      <td>-0.002746</td>\n",
       "      <td>0.003082</td>\n",
       "      <td>0.008909</td>\n",
       "      <td>0.003082</td>\n",
       "      <td>-0.008573</td>\n",
       "      <td>-0.008573</td>\n",
       "      <td>-0.020227</td>\n",
       "      <td>0.003082</td>\n",
       "      <td>12</td>\n",
       "    </tr>\n",
       "    <tr>\n",
       "      <th>2</th>\n",
       "      <td>-0.105585</td>\n",
       "      <td>-0.062279</td>\n",
       "      <td>-0.105585</td>\n",
       "      <td>-0.148891</td>\n",
       "      <td>-0.134456</td>\n",
       "      <td>-0.091150</td>\n",
       "      <td>-0.076715</td>\n",
       "      <td>-0.018974</td>\n",
       "      <td>-0.033409</td>\n",
       "      <td>-0.091150</td>\n",
       "      <td>...</td>\n",
       "      <td>-0.307678</td>\n",
       "      <td>-0.033409</td>\n",
       "      <td>0.255296</td>\n",
       "      <td>0.673917</td>\n",
       "      <td>1.020363</td>\n",
       "      <td>1.294632</td>\n",
       "      <td>1.713254</td>\n",
       "      <td>2.160746</td>\n",
       "      <td>2.637109</td>\n",
       "      <td>0</td>\n",
       "    </tr>\n",
       "    <tr>\n",
       "      <th>3</th>\n",
       "      <td>-0.236055</td>\n",
       "      <td>-0.222389</td>\n",
       "      <td>-0.222389</td>\n",
       "      <td>-0.167722</td>\n",
       "      <td>-0.167722</td>\n",
       "      <td>-0.181389</td>\n",
       "      <td>-0.208722</td>\n",
       "      <td>-0.167722</td>\n",
       "      <td>-0.113055</td>\n",
       "      <td>-0.044722</td>\n",
       "      <td>...</td>\n",
       "      <td>-0.413722</td>\n",
       "      <td>-0.441056</td>\n",
       "      <td>-0.413722</td>\n",
       "      <td>-0.290722</td>\n",
       "      <td>-0.208722</td>\n",
       "      <td>-0.181389</td>\n",
       "      <td>-0.126722</td>\n",
       "      <td>-0.181389</td>\n",
       "      <td>-0.181389</td>\n",
       "      <td>0</td>\n",
       "    </tr>\n",
       "    <tr>\n",
       "      <th>4</th>\n",
       "      <td>-0.057805</td>\n",
       "      <td>-0.082375</td>\n",
       "      <td>-0.143799</td>\n",
       "      <td>-0.143799</td>\n",
       "      <td>-0.119229</td>\n",
       "      <td>-0.082375</td>\n",
       "      <td>-0.070090</td>\n",
       "      <td>-0.008666</td>\n",
       "      <td>-0.008666</td>\n",
       "      <td>-0.008666</td>\n",
       "      <td>...</td>\n",
       "      <td>0.126467</td>\n",
       "      <td>0.163322</td>\n",
       "      <td>0.224746</td>\n",
       "      <td>0.224746</td>\n",
       "      <td>0.273885</td>\n",
       "      <td>0.261600</td>\n",
       "      <td>0.249316</td>\n",
       "      <td>0.200176</td>\n",
       "      <td>0.138752</td>\n",
       "      <td>0</td>\n",
       "    </tr>\n",
       "  </tbody>\n",
       "</table>\n",
       "<p>5 rows × 361 columns</p>\n",
       "</div>"
      ],
      "text/plain": [
       "          0         1         2         3         4         5         6  \\\n",
       "0 -0.377484 -0.352075 -0.352075 -0.352075 -0.326666 -0.275848 -0.301257   \n",
       "1 -0.002746  0.003082 -0.031882 -0.037709 -0.061018 -0.066846 -0.084327   \n",
       "2 -0.105585 -0.062279 -0.105585 -0.148891 -0.134456 -0.091150 -0.076715   \n",
       "3 -0.236055 -0.222389 -0.222389 -0.167722 -0.167722 -0.181389 -0.208722   \n",
       "4 -0.057805 -0.082375 -0.143799 -0.143799 -0.119229 -0.082375 -0.070090   \n",
       "\n",
       "          7         8         9  ...       351       352       353       354  \\\n",
       "0 -0.301257 -0.275848 -0.326666  ... -0.123393 -0.123393 -0.021756  0.003653   \n",
       "1 -0.084327 -0.101809 -0.113464  ...  0.014736 -0.002746  0.003082  0.008909   \n",
       "2 -0.018974 -0.033409 -0.091150  ... -0.307678 -0.033409  0.255296  0.673917   \n",
       "3 -0.167722 -0.113055 -0.044722  ... -0.413722 -0.441056 -0.413722 -0.290722   \n",
       "4 -0.008666 -0.008666 -0.008666  ...  0.126467  0.163322  0.224746  0.224746   \n",
       "\n",
       "        355       356       357       358       359  label  \n",
       "0  0.054472  0.003653  0.029062  0.003653  0.029062      0  \n",
       "1  0.003082 -0.008573 -0.008573 -0.020227  0.003082     12  \n",
       "2  1.020363  1.294632  1.713254  2.160746  2.637109      0  \n",
       "3 -0.208722 -0.181389 -0.126722 -0.181389 -0.181389      0  \n",
       "4  0.273885  0.261600  0.249316  0.200176  0.138752      0  \n",
       "\n",
       "[5 rows x 361 columns]"
      ]
     },
     "execution_count": 34,
     "metadata": {},
     "output_type": "execute_result"
    }
   ],
   "source": [
    "resampled_smote = X_resampled_smote.join(y_resampled_smote)\n",
    "resampled_smote.head()"
   ]
  },
  {
   "cell_type": "code",
   "execution_count": 35,
   "id": "c0c7e69a",
   "metadata": {},
   "outputs": [
    {
     "data": {
      "text/html": [],
      "text/plain": [
       "<IPython.core.display.HTML object>"
      ]
     },
     "metadata": {},
     "output_type": "display_data"
    },
    {
     "name": "stderr",
     "output_type": "stream",
     "text": [
      "2023-12-03 02:08:25,953\tERROR trial_runner.py:1062 -- Trial cdfca6f0: Error processing event.\n",
      "ray.tune.error._TuneNoNextExecutorEventError: Traceback (most recent call last):\n",
      "  File \"/home/jupyter-luana@alu.ufc.br/.local/lib/python3.9/site-packages/ray/tune/execution/ray_trial_executor.py\", line 1276, in get_next_executor_event\n",
      "    future_result = ray.get(ready_future)\n",
      "  File \"/home/jupyter-luana@alu.ufc.br/.local/lib/python3.9/site-packages/ray/_private/client_mode_hook.py\", line 105, in wrapper\n",
      "    return func(*args, **kwargs)\n",
      "  File \"/home/jupyter-luana@alu.ufc.br/.local/lib/python3.9/site-packages/ray/_private/worker.py\", line 2382, in get\n",
      "    raise value\n",
      "ray.exceptions.OutOfMemoryError: Task was killed due to the node running low on memory.\n",
      "Memory on the node (IP: 10.102.21.240, ID: aab385690118dd7c0659c694adf563c98c005fed3aae68e3a1c9a922) where the task (actor ID: 6593206f3c2ec8b621fa364101000000, name=ImplicitFunc.__init__, pid=600569, memory used=8.74GB) was running was 89.58GB / 94.20GB (0.950878), which exceeds the memory usage threshold of 0.95. Ray killed this worker (ID: d2c3a85bf6db52cd3cb61b8c90d22094e0f0eb55c7c631d483175923) because it was the most recently scheduled task; to see more information about memory usage on this node, use `ray logs raylet.out -ip 10.102.21.240`. To see the logs of the worker, use `ray logs worker-d2c3a85bf6db52cd3cb61b8c90d22094e0f0eb55c7c631d483175923*out -ip 10.102.21.240. Top 10 memory users:\n",
      "PID\tMEM(GB)\tCOMMAND\n",
      "461128\t42.14\t/opt/tljh/user/bin/python -m ipykernel_launcher -f /home/jupyter-luana@alu.ufc.br/.local/share/jupyt...\n",
      "597911\t13.46\t/opt/tljh/user/bin/python -m ipykernel_launcher -f /home/jupyter-luana@alu.ufc.br/.local/share/jupyt...\n",
      "600568\t10.48\tray::ImplicitFunc.train\n",
      "489067\t9.70\t/opt/tljh/user/bin/python -m ipykernel_launcher -f /home/jupyter-luana@alu.ufc.br/.local/share/jupyt...\n",
      "600569\t8.74\tray::ImplicitFunc.train\n",
      "525134\t0.21\t/opt/tljh/user/bin/python -m ipykernel_launcher -f /home/jupyter-luana@alu.ufc.br/.local/share/jupyt...\n",
      "489192\t0.13\t/home/jupyter-luana@alu.ufc.br/.local/lib/python3.9/site-packages/ray/core/src/ray/gcs/gcs_server --...\n",
      "320596\t0.12\t/opt/tljh/user/bin/python /opt/tljh/user/bin/jupyterhub-singleuser --port=42525\n",
      "461345\t0.11\t/home/jupyter-luana@alu.ufc.br/.local/lib/python3.9/site-packages/ray/core/src/ray/gcs/gcs_server --...\n",
      "461453\t0.10\t/home/jupyter-luana@alu.ufc.br/.local/lib/python3.9/site-packages/ray/core/src/ray/raylet/raylet --r...\n",
      "Refer to the documentation on how to address the out of memory issue: https://docs.ray.io/en/latest/ray-core/scheduling/ray-oom-prevention.html. Consider provisioning more memory on this node or reducing task parallelism by requesting more CPUs per task. Set max_restarts and max_task_retries to enable retry when the task crashes due to OOM. To adjust the kill threshold, set the environment variable `RAY_memory_usage_threshold` when starting Ray. To disable worker killing, set the environment variable `RAY_memory_monitor_refresh_ms` to zero.\n",
      "\n",
      "2023-12-03 02:08:25,956\tERROR ray_trial_executor.py:930 -- An exception occurred when trying to stop the Ray actor:Traceback (most recent call last):\n",
      "  File \"/home/jupyter-luana@alu.ufc.br/.local/lib/python3.9/site-packages/ray/tune/execution/ray_trial_executor.py\", line 921, in _resolve_stop_event\n",
      "    ray.get(future, timeout=timeout)\n",
      "  File \"/home/jupyter-luana@alu.ufc.br/.local/lib/python3.9/site-packages/ray/_private/client_mode_hook.py\", line 105, in wrapper\n",
      "    return func(*args, **kwargs)\n",
      "  File \"/home/jupyter-luana@alu.ufc.br/.local/lib/python3.9/site-packages/ray/_private/worker.py\", line 2382, in get\n",
      "    raise value\n",
      "ray.exceptions.OutOfMemoryError: Task was killed due to the node running low on memory.\n",
      "Memory on the node (IP: 10.102.21.240, ID: aab385690118dd7c0659c694adf563c98c005fed3aae68e3a1c9a922) where the task (actor ID: 6593206f3c2ec8b621fa364101000000, name=ImplicitFunc.__init__, pid=600569, memory used=8.74GB) was running was 89.58GB / 94.20GB (0.950878), which exceeds the memory usage threshold of 0.95. Ray killed this worker (ID: d2c3a85bf6db52cd3cb61b8c90d22094e0f0eb55c7c631d483175923) because it was the most recently scheduled task; to see more information about memory usage on this node, use `ray logs raylet.out -ip 10.102.21.240`. To see the logs of the worker, use `ray logs worker-d2c3a85bf6db52cd3cb61b8c90d22094e0f0eb55c7c631d483175923*out -ip 10.102.21.240. Top 10 memory users:\n",
      "PID\tMEM(GB)\tCOMMAND\n",
      "461128\t42.14\t/opt/tljh/user/bin/python -m ipykernel_launcher -f /home/jupyter-luana@alu.ufc.br/.local/share/jupyt...\n",
      "597911\t13.46\t/opt/tljh/user/bin/python -m ipykernel_launcher -f /home/jupyter-luana@alu.ufc.br/.local/share/jupyt...\n",
      "600568\t10.48\tray::ImplicitFunc.train\n",
      "489067\t9.70\t/opt/tljh/user/bin/python -m ipykernel_launcher -f /home/jupyter-luana@alu.ufc.br/.local/share/jupyt...\n",
      "600569\t8.74\tray::ImplicitFunc.train\n",
      "525134\t0.21\t/opt/tljh/user/bin/python -m ipykernel_launcher -f /home/jupyter-luana@alu.ufc.br/.local/share/jupyt...\n",
      "489192\t0.13\t/home/jupyter-luana@alu.ufc.br/.local/lib/python3.9/site-packages/ray/core/src/ray/gcs/gcs_server --...\n",
      "320596\t0.12\t/opt/tljh/user/bin/python /opt/tljh/user/bin/jupyterhub-singleuser --port=42525\n",
      "461345\t0.11\t/home/jupyter-luana@alu.ufc.br/.local/lib/python3.9/site-packages/ray/core/src/ray/gcs/gcs_server --...\n",
      "461453\t0.10\t/home/jupyter-luana@alu.ufc.br/.local/lib/python3.9/site-packages/ray/core/src/ray/raylet/raylet --r...\n",
      "Refer to the documentation on how to address the out of memory issue: https://docs.ray.io/en/latest/ray-core/scheduling/ray-oom-prevention.html. Consider provisioning more memory on this node or reducing task parallelism by requesting more CPUs per task. Set max_restarts and max_task_retries to enable retry when the task crashes due to OOM. To adjust the kill threshold, set the environment variable `RAY_memory_usage_threshold` when starting Ray. To disable worker killing, set the environment variable `RAY_memory_monitor_refresh_ms` to zero.\n",
      "\n",
      "2023-12-03 02:15:25,684\tERROR tune.py:794 -- Trials did not complete: [cdfca6f0]\n",
      "Fitted model: NeuralNetTorch/ea22e3e6 ...\n",
      "\t0.7506\t = Validation score   (accuracy)\n",
      "\t404.69s\t = Training   runtime\n",
      "\t1.28s\t = Validation runtime\n",
      "Fitting model: LightGBMLarge ... Training model for up to 495.02s of the 6500.66s of remaining time.\n",
      "\tWarning: Not enough memory to safely train model. Estimated to require 28.023 GB out of 25.524 GB available memory (121.993%)... (90.000% of avail memory is the max safe size)\n",
      "\tTo force training the model, specify the model hyperparameter \"ag.max_memory_usage_ratio\" to a larger value (currently 1.0, set to >=1.27 to avoid the error)\n",
      "\t\tTo set the same value for all models, do the following when calling predictor.fit: `predictor.fit(..., ag_args_fit={\"ag.max_memory_usage_ratio\": VALUE})`\n",
      "\t\tSetting \"ag.max_memory_usage_ratio\" to values above 1 may result in out-of-memory errors. You may consider using a machine with more memory as a safer alternative.\n",
      "\tNot enough memory to train LightGBMLarge... Skipping this model.\n",
      "Fitting model: WeightedEnsemble_L2 ... Training model for up to 715.02s of the 6487.8s of remaining time.\n",
      "\t0.7506\t = Validation score   (accuracy)\n",
      "\t0.01s\t = Training   runtime\n",
      "\t0.0s\t = Validation runtime\n",
      "AutoGluon training complete, total runtime = 717.62s ... Best model: \"WeightedEnsemble_L2\"\n",
      "TabularPredictor saved. To load, use: predictor = TabularPredictor.load(\"AutogluonModels/ag-20231203_020341/\")\n"
     ]
    },
    {
     "name": "stdout",
     "output_type": "stream",
     "text": [
      "CPU times: user 3min 30s, sys: 36.6 s, total: 4min 7s\n",
      "Wall time: 11min 57s\n"
     ]
    }
   ],
   "source": [
    "%%time\n",
    "smote_resampling_training = TabularPredictor(label='label').fit(resampled_smote, time_limit=7200, \n",
    "                                                                hyperparameter_tune_kwargs = {'num_trials': 5, 'scheduler' : 'local', 'searcher': 'auto'})"
   ]
  },
  {
   "cell_type": "markdown",
   "id": "8f44b58a",
   "metadata": {},
   "source": [
    "**Dataframe de hiperparâmetros**\n",
    "\n",
    "A função ``autogluon_models_df`` trata as informações dos modelos gerados pelo TabularPredictor e retorna um dataframe com um ranking de acurácia dos modelos e facilita o processo de seleção/visualização dos hiperparâmetros de cada modelo. O datafame contém as seguintes informações: a segmentação usada, se o filtro foi aplicado, a técnica de reamostragem, o nome do modelo, os hiperparâmetros do modelo e acurácia. Nesse notebook executamos os modelos com a segmentação dos dados com uma janela de 180."
   ]
  },
  {
   "cell_type": "code",
   "execution_count": 36,
   "id": "adc19831",
   "metadata": {},
   "outputs": [
    {
     "name": "stdout",
     "output_type": "stream",
     "text": [
      "CPU times: user 2.61 s, sys: 109 ms, total: 2.72 s\n",
      "Wall time: 2.01 s\n"
     ]
    }
   ],
   "source": [
    "%%time\n",
    "models_with_smote = autogluon_models_df(window=window_size,\n",
    "                                        filter_applied=False, \n",
    "                                        resampling_tech='smote',\n",
    "                                        predictor_model=smote_resampling_training,\n",
    "                                        test_data_=test_data)"
   ]
  },
  {
   "cell_type": "markdown",
   "id": "424eaab0",
   "metadata": {},
   "source": [
    "**Ranking dos modelos com a técnica de reamostragem SMOTE e sem filtro**"
   ]
  },
  {
   "cell_type": "code",
   "execution_count": 166,
   "id": "0fc360f7",
   "metadata": {},
   "outputs": [
    {
     "data": {
      "text/html": [
       "<div>\n",
       "<style scoped>\n",
       "    .dataframe tbody tr th:only-of-type {\n",
       "        vertical-align: middle;\n",
       "    }\n",
       "\n",
       "    .dataframe tbody tr th {\n",
       "        vertical-align: top;\n",
       "    }\n",
       "\n",
       "    .dataframe thead th {\n",
       "        text-align: right;\n",
       "    }\n",
       "</style>\n",
       "<table border=\"1\" class=\"dataframe\">\n",
       "  <thead>\n",
       "    <tr style=\"text-align: right;\">\n",
       "      <th></th>\n",
       "      <th>window_size</th>\n",
       "      <th>filter_applied</th>\n",
       "      <th>resampling_tech</th>\n",
       "      <th>model</th>\n",
       "      <th>hyperparameters</th>\n",
       "      <th>accuracy</th>\n",
       "      <th>precision_weighted</th>\n",
       "      <th>recall_weighted</th>\n",
       "      <th>f1_weighted</th>\n",
       "      <th>algorithm</th>\n",
       "    </tr>\n",
       "  </thead>\n",
       "  <tbody>\n",
       "    <tr>\n",
       "      <th>0</th>\n",
       "      <td>360</td>\n",
       "      <td>False</td>\n",
       "      <td>smote</td>\n",
       "      <td>NeuralNetTorch/ea22e3e6</td>\n",
       "      <td>{'num_epochs': 500, 'epochs_wo_improve': 20, 'activation': 'relu', 'embedding_size_factor': 0.7, 'embed_exponent': 0.56, 'max_embedding_dim': 100, 'y_range': None, 'y_range_extend': 0.05, 'dropout_prob': 0.1, 'optimizer': 'adam', 'learning_rate': 0.025397221831731192, 'weight_decay': 0.0018135762094857264, 'proc.embed_min_categories': 10, 'proc.impute_strategy': 'mean', 'proc.max_category_levels': 500, 'proc.skew_threshold': 0.5, 'use_ngram_features': False, 'num_layers': 4, 'hidden_size': 256, 'max_batch_size': 512, 'use_batchnorm': False, 'loss_function': 'auto'}</td>\n",
       "      <td>0.577278</td>\n",
       "      <td>0.88631</td>\n",
       "      <td>0.577278</td>\n",
       "      <td>0.669669</td>\n",
       "      <td>NeuralNetTorch</td>\n",
       "    </tr>\n",
       "  </tbody>\n",
       "</table>\n",
       "</div>"
      ],
      "text/plain": [
       "   window_size  filter_applied resampling_tech                    model  \\\n",
       "0          360           False           smote  NeuralNetTorch/ea22e3e6   \n",
       "\n",
       "                                                                                                                                                                                                                                                                                                                                                                                                                                                                                                                                                                               hyperparameters  \\\n",
       "0  {'num_epochs': 500, 'epochs_wo_improve': 20, 'activation': 'relu', 'embedding_size_factor': 0.7, 'embed_exponent': 0.56, 'max_embedding_dim': 100, 'y_range': None, 'y_range_extend': 0.05, 'dropout_prob': 0.1, 'optimizer': 'adam', 'learning_rate': 0.025397221831731192, 'weight_decay': 0.0018135762094857264, 'proc.embed_min_categories': 10, 'proc.impute_strategy': 'mean', 'proc.max_category_levels': 500, 'proc.skew_threshold': 0.5, 'use_ngram_features': False, 'num_layers': 4, 'hidden_size': 256, 'max_batch_size': 512, 'use_batchnorm': False, 'loss_function': 'auto'}   \n",
       "\n",
       "   accuracy  precision_weighted  recall_weighted  f1_weighted       algorithm  \n",
       "0  0.577278             0.88631         0.577278     0.669669  NeuralNetTorch  "
      ]
     },
     "execution_count": 166,
     "metadata": {},
     "output_type": "execute_result"
    }
   ],
   "source": [
    "models_with_smote.head(2)"
   ]
  },
  {
   "cell_type": "markdown",
   "id": "474a19a8",
   "metadata": {},
   "source": [
    "**Cálculo do intervalo de confiança**"
   ]
  },
  {
   "cell_type": "code",
   "execution_count": 169,
   "id": "11959536",
   "metadata": {},
   "outputs": [
    {
     "name": "stdout",
     "output_type": "stream",
     "text": [
      "Intervalo de confiança(0.6640457808488418, 0.6751542191511581)\n"
     ]
    }
   ],
   "source": [
    "z = 1.96\n",
    "f1 = 0.6696\n",
    "n = len(X_test)\n",
    "interval = z * np.sqrt((f1 * (1 - f1)) / n)\n",
    "print(f\"Intervalo de confiança{(f1-interval, f1+interval)}\")"
   ]
  },
  {
   "cell_type": "code",
   "execution_count": 39,
   "id": "c0740f5b",
   "metadata": {},
   "outputs": [
    {
     "data": {
      "text/plain": [
       "NeuralNetTorch    1\n",
       "Name: algorithm, dtype: int64"
      ]
     },
     "execution_count": 39,
     "metadata": {},
     "output_type": "execute_result"
    }
   ],
   "source": [
    "models_with_smote['algorithm'].value_counts()"
   ]
  },
  {
   "cell_type": "code",
   "execution_count": 40,
   "id": "f8e32177",
   "metadata": {},
   "outputs": [
    {
     "data": {
      "text/plain": [
       "1"
      ]
     },
     "execution_count": 40,
     "metadata": {},
     "output_type": "execute_result"
    }
   ],
   "source": [
    "models_with_smote['algorithm'].value_counts().sum()"
   ]
  },
  {
   "cell_type": "markdown",
   "id": "7a6f6de3",
   "metadata": {},
   "source": [
    "Para evitar perda dos dados"
   ]
  },
  {
   "cell_type": "code",
   "execution_count": 41,
   "id": "a49b873f",
   "metadata": {},
   "outputs": [],
   "source": [
    "models_with_smote.to_csv('models_with_smote.csv', index=False)"
   ]
  },
  {
   "cell_type": "markdown",
   "id": "cb5b23c9",
   "metadata": {},
   "source": [
    "**Junção dos modelos**"
   ]
  },
  {
   "cell_type": "code",
   "execution_count": 42,
   "id": "42a1f2e7",
   "metadata": {},
   "outputs": [],
   "source": [
    "hyperparameters_all_models = pd.concat([models_with_smote, model_without_resampling])"
   ]
  },
  {
   "cell_type": "code",
   "execution_count": 43,
   "id": "73c67164",
   "metadata": {},
   "outputs": [],
   "source": [
    "hyperparameters_all_models = hyperparameters_all_models.sort_values(by='accuracy', ascending=False)"
   ]
  },
  {
   "cell_type": "code",
   "execution_count": 44,
   "id": "50d79536",
   "metadata": {},
   "outputs": [],
   "source": [
    "hyperparameters_all_models = hyperparameters_all_models.reset_index(drop=True)"
   ]
  },
  {
   "cell_type": "code",
   "execution_count": 45,
   "id": "357af66d",
   "metadata": {},
   "outputs": [
    {
     "data": {
      "text/html": [
       "<div>\n",
       "<style scoped>\n",
       "    .dataframe tbody tr th:only-of-type {\n",
       "        vertical-align: middle;\n",
       "    }\n",
       "\n",
       "    .dataframe tbody tr th {\n",
       "        vertical-align: top;\n",
       "    }\n",
       "\n",
       "    .dataframe thead th {\n",
       "        text-align: right;\n",
       "    }\n",
       "</style>\n",
       "<table border=\"1\" class=\"dataframe\">\n",
       "  <thead>\n",
       "    <tr style=\"text-align: right;\">\n",
       "      <th></th>\n",
       "      <th>window_size</th>\n",
       "      <th>filter_applied</th>\n",
       "      <th>resampling_tech</th>\n",
       "      <th>model</th>\n",
       "      <th>hyperparameters</th>\n",
       "      <th>accuracy</th>\n",
       "      <th>precision_weighted</th>\n",
       "      <th>recall_weighted</th>\n",
       "      <th>f1_weighted</th>\n",
       "      <th>algorithm</th>\n",
       "    </tr>\n",
       "  </thead>\n",
       "  <tbody>\n",
       "    <tr>\n",
       "      <th>0</th>\n",
       "      <td>360</td>\n",
       "      <td>False</td>\n",
       "      <td>None</td>\n",
       "      <td>NeuralNetFastAI/81ef5b8c</td>\n",
       "      <td>{'layers': None, 'emb_drop': 0.1, 'ps': 0.1, 'bs': 256, 'lr': 0.01, 'epochs': 30, 'early.stopping.min_delta': 0.0001, 'early.stopping.patience': 20, 'smoothing': 0.0}</td>\n",
       "      <td>0.988494</td>\n",
       "      <td>0.988070</td>\n",
       "      <td>0.988494</td>\n",
       "      <td>0.988127</td>\n",
       "      <td>NeuralNetFastAI</td>\n",
       "    </tr>\n",
       "    <tr>\n",
       "      <th>1</th>\n",
       "      <td>360</td>\n",
       "      <td>False</td>\n",
       "      <td>None</td>\n",
       "      <td>NeuralNetFastAI/30f5b552</td>\n",
       "      <td>{'layers': (500, 200, 100), 'emb_drop': 0.42712629581198064, 'ps': 0.07249739001468652, 'bs': 4096, 'lr': 0.035156995999692124, 'epochs': 28, 'early.stopping.min_delta': 0.0001, 'early.stopping.patience': 20, 'smoothing': 0.0}</td>\n",
       "      <td>0.988421</td>\n",
       "      <td>0.987926</td>\n",
       "      <td>0.988421</td>\n",
       "      <td>0.988056</td>\n",
       "      <td>NeuralNetFastAI</td>\n",
       "    </tr>\n",
       "  </tbody>\n",
       "</table>\n",
       "</div>"
      ],
      "text/plain": [
       "   window_size  filter_applied resampling_tech                     model  \\\n",
       "0          360           False            None  NeuralNetFastAI/81ef5b8c   \n",
       "1          360           False            None  NeuralNetFastAI/30f5b552   \n",
       "\n",
       "                                                                                                                                                                                                                      hyperparameters  \\\n",
       "0                                                              {'layers': None, 'emb_drop': 0.1, 'ps': 0.1, 'bs': 256, 'lr': 0.01, 'epochs': 30, 'early.stopping.min_delta': 0.0001, 'early.stopping.patience': 20, 'smoothing': 0.0}   \n",
       "1  {'layers': (500, 200, 100), 'emb_drop': 0.42712629581198064, 'ps': 0.07249739001468652, 'bs': 4096, 'lr': 0.035156995999692124, 'epochs': 28, 'early.stopping.min_delta': 0.0001, 'early.stopping.patience': 20, 'smoothing': 0.0}   \n",
       "\n",
       "   accuracy  precision_weighted  recall_weighted  f1_weighted        algorithm  \n",
       "0  0.988494            0.988070         0.988494     0.988127  NeuralNetFastAI  \n",
       "1  0.988421            0.987926         0.988421     0.988056  NeuralNetFastAI  "
      ]
     },
     "execution_count": 45,
     "metadata": {},
     "output_type": "execute_result"
    }
   ],
   "source": [
    "hyperparameters_all_models.head(2)"
   ]
  },
  {
   "cell_type": "markdown",
   "id": "b509080b",
   "metadata": {},
   "source": [
    "### AutoML com técnica de reamostragem ADASYN"
   ]
  },
  {
   "cell_type": "code",
   "execution_count": 46,
   "id": "609663c8",
   "metadata": {},
   "outputs": [
    {
     "name": "stdout",
     "output_type": "stream",
     "text": [
      "Distribuição de classes sem a reamostragem:  Counter({0: 56258, 1: 6053, 2: 5441, 6: 5347, 12: 5267, 3: 1909, 13: 737, 7: 601, 8: 354, 10: 172, 14: 145, 4: 113, 15: 99, 11: 80, 5: 62, 9: 12})\n"
     ]
    }
   ],
   "source": [
    "print(\"Distribuição de classes sem a reamostragem: \", Counter(y_train))"
   ]
  },
  {
   "cell_type": "code",
   "execution_count": 47,
   "id": "b941caa2",
   "metadata": {},
   "outputs": [],
   "source": [
    "adasyn = ADASYN(sampling_strategy='minority', random_state=42)\n",
    "X_resampled_adasyn, y_resampled_adasyn = adasyn.fit_resample(X_train, y_train)"
   ]
  },
  {
   "cell_type": "code",
   "execution_count": 48,
   "id": "6e05d445",
   "metadata": {},
   "outputs": [
    {
     "name": "stdout",
     "output_type": "stream",
     "text": [
      "Distribuição de classes após a reamostragem:  Counter({9: 56262, 0: 56258, 1: 6053, 2: 5441, 6: 5347, 12: 5267, 3: 1909, 13: 737, 7: 601, 8: 354, 10: 172, 14: 145, 4: 113, 15: 99, 11: 80, 5: 62})\n"
     ]
    }
   ],
   "source": [
    "print(\"Distribuição de classes após a reamostragem: \", Counter(y_resampled_adasyn))"
   ]
  },
  {
   "cell_type": "code",
   "execution_count": 49,
   "id": "cf9ff815",
   "metadata": {},
   "outputs": [],
   "source": [
    "resampled_adasyn = X_resampled_adasyn.join(y_resampled_adasyn)"
   ]
  },
  {
   "cell_type": "code",
   "execution_count": 50,
   "id": "56c9099a",
   "metadata": {},
   "outputs": [
    {
     "data": {
      "text/html": [],
      "text/plain": [
       "<IPython.core.display.HTML object>"
      ]
     },
     "metadata": {},
     "output_type": "display_data"
    },
    {
     "name": "stderr",
     "output_type": "stream",
     "text": [
      "Fitted model: NeuralNetTorch/db013e75 ...\n",
      "\t0.9928\t = Validation score   (accuracy)\n",
      "\t144.08s\t = Training   runtime\n",
      "\t0.26s\t = Validation runtime\n",
      "Fitted model: NeuralNetTorch/fa4065ea ...\n",
      "\t0.9942\t = Validation score   (accuracy)\n",
      "\t487.98s\t = Training   runtime\n",
      "\t0.21s\t = Validation runtime\n",
      "Fitted model: NeuralNetTorch/4321f039 ...\n",
      "\t0.9662\t = Validation score   (accuracy)\n",
      "\t468.53s\t = Training   runtime\n",
      "\t2.22s\t = Validation runtime\n",
      "Fitted model: NeuralNetTorch/558e0ece ...\n",
      "\t0.9924\t = Validation score   (accuracy)\n",
      "\t348.42s\t = Training   runtime\n",
      "\t0.1s\t = Validation runtime\n",
      "Fitted model: NeuralNetTorch/3da6286e ...\n",
      "\t0.985\t = Validation score   (accuracy)\n",
      "\t471.7s\t = Training   runtime\n",
      "\t0.5s\t = Validation runtime\n",
      "Fitting model: LightGBMLarge ... Training model for up to 498.14s of the 3707.19s of remaining time.\n",
      "\t0.9838\t = Validation score   (accuracy)\n",
      "\t499.0s\t = Training   runtime\n",
      "\t1.43s\t = Validation runtime\n",
      "Fitting model: WeightedEnsemble_L2 ... Training model for up to 719.54s of the 3192.17s of remaining time.\n",
      "\t0.9946\t = Validation score   (accuracy)\n",
      "\t2.62s\t = Training   runtime\n",
      "\t0.0s\t = Validation runtime\n",
      "AutoGluon training complete, total runtime = 4011.27s ... Best model: \"WeightedEnsemble_L2\"\n",
      "TabularPredictor saved. To load, use: predictor = TabularPredictor.load(\"AutogluonModels/ag-20231203_021542/\")\n"
     ]
    },
    {
     "name": "stdout",
     "output_type": "stream",
     "text": [
      "CPU times: user 6h 7min 47s, sys: 1min 24s, total: 6h 9min 12s\n",
      "Wall time: 1h 6min 51s\n"
     ]
    }
   ],
   "source": [
    "%%time\n",
    "adasyn_resampling_training = TabularPredictor(label='label').fit(resampled_adasyn, time_limit=7200,\n",
    "                                                                 hyperparameter_tune_kwargs = {'num_trials': 5, 'scheduler' : 'local', 'searcher': 'auto'})"
   ]
  },
  {
   "cell_type": "markdown",
   "id": "98a8187a",
   "metadata": {},
   "source": [
    "**Dataframe de hiperparâmetros**\n",
    "\n",
    "A função ``autogluon_models_df`` trata as informações dos modelos gerados pelo TabularPredictor e retorna um dataframe com um ranking de acurácia dos modelos e facilita o processo de seleção/visualização dos hiperparâmetros de cada modelo. O datafame contém as seguintes informações: a segmentação usada, se o filtro foi aplicado, a técnica de reamostragem, o nome do modelo, os hiperparâmetros do modelo e acurácia. Nesse notebook executamos os modelos com a segmentação dos dados com uma janela de 180."
   ]
  },
  {
   "cell_type": "code",
   "execution_count": 51,
   "id": "cc29c753",
   "metadata": {},
   "outputs": [
    {
     "name": "stderr",
     "output_type": "stream",
     "text": [
      "/home/jupyter-luana@alu.ufc.br/.local/lib/python3.9/site-packages/sklearn/metrics/_classification.py:1344: UndefinedMetricWarning: Precision is ill-defined and being set to 0.0 in labels with no predicted samples. Use `zero_division` parameter to control this behavior.\n",
      "  _warn_prf(average, modifier, msg_start, len(result))\n",
      "/home/jupyter-luana@alu.ufc.br/.local/lib/python3.9/site-packages/sklearn/metrics/_classification.py:1344: UndefinedMetricWarning: Precision is ill-defined and being set to 0.0 in labels with no predicted samples. Use `zero_division` parameter to control this behavior.\n",
      "  _warn_prf(average, modifier, msg_start, len(result))\n",
      "/home/jupyter-luana@alu.ufc.br/.local/lib/python3.9/site-packages/sklearn/metrics/_classification.py:1344: UndefinedMetricWarning: Precision is ill-defined and being set to 0.0 in labels with no predicted samples. Use `zero_division` parameter to control this behavior.\n",
      "  _warn_prf(average, modifier, msg_start, len(result))\n",
      "/home/jupyter-luana@alu.ufc.br/.local/lib/python3.9/site-packages/sklearn/metrics/_classification.py:1344: UndefinedMetricWarning: Precision is ill-defined and being set to 0.0 in labels with no predicted samples. Use `zero_division` parameter to control this behavior.\n",
      "  _warn_prf(average, modifier, msg_start, len(result))\n",
      "/home/jupyter-luana@alu.ufc.br/.local/lib/python3.9/site-packages/sklearn/metrics/_classification.py:1344: UndefinedMetricWarning: Precision is ill-defined and being set to 0.0 in labels with no predicted samples. Use `zero_division` parameter to control this behavior.\n",
      "  _warn_prf(average, modifier, msg_start, len(result))\n",
      "/home/jupyter-luana@alu.ufc.br/.local/lib/python3.9/site-packages/sklearn/metrics/_classification.py:1344: UndefinedMetricWarning: Precision is ill-defined and being set to 0.0 in labels with no predicted samples. Use `zero_division` parameter to control this behavior.\n",
      "  _warn_prf(average, modifier, msg_start, len(result))\n",
      "/home/jupyter-luana@alu.ufc.br/.local/lib/python3.9/site-packages/sklearn/metrics/_classification.py:1344: UndefinedMetricWarning: Precision is ill-defined and being set to 0.0 in labels with no predicted samples. Use `zero_division` parameter to control this behavior.\n",
      "  _warn_prf(average, modifier, msg_start, len(result))\n",
      "/home/jupyter-luana@alu.ufc.br/.local/lib/python3.9/site-packages/sklearn/metrics/_classification.py:1344: UndefinedMetricWarning: Precision is ill-defined and being set to 0.0 in labels with no predicted samples. Use `zero_division` parameter to control this behavior.\n",
      "  _warn_prf(average, modifier, msg_start, len(result))\n",
      "/home/jupyter-luana@alu.ufc.br/.local/lib/python3.9/site-packages/sklearn/metrics/_classification.py:1344: UndefinedMetricWarning: Precision is ill-defined and being set to 0.0 in labels with no predicted samples. Use `zero_division` parameter to control this behavior.\n",
      "  _warn_prf(average, modifier, msg_start, len(result))\n",
      "/home/jupyter-luana@alu.ufc.br/.local/lib/python3.9/site-packages/sklearn/metrics/_classification.py:1344: UndefinedMetricWarning: Precision is ill-defined and being set to 0.0 in labels with no predicted samples. Use `zero_division` parameter to control this behavior.\n",
      "  _warn_prf(average, modifier, msg_start, len(result))\n",
      "/home/jupyter-luana@alu.ufc.br/.local/lib/python3.9/site-packages/sklearn/metrics/_classification.py:1344: UndefinedMetricWarning: Precision is ill-defined and being set to 0.0 in labels with no predicted samples. Use `zero_division` parameter to control this behavior.\n",
      "  _warn_prf(average, modifier, msg_start, len(result))\n"
     ]
    },
    {
     "name": "stdout",
     "output_type": "stream",
     "text": [
      "CPU times: user 9min 10s, sys: 3.02 s, total: 9min 13s\n",
      "Wall time: 1min 16s\n"
     ]
    }
   ],
   "source": [
    "%%time\n",
    "models_with_adasyn = autogluon_models_df(window=window_size,\n",
    "                                        filter_applied=False, \n",
    "                                        resampling_tech='adasyn',\n",
    "                                        predictor_model=adasyn_resampling_training,\n",
    "                                        test_data_=test_data)"
   ]
  },
  {
   "cell_type": "markdown",
   "id": "0535e587",
   "metadata": {},
   "source": [
    "**Ranking dos modelos com a técnica de reamostragem ADASYN e sem filtro**"
   ]
  },
  {
   "cell_type": "code",
   "execution_count": 52,
   "id": "34f22a3c",
   "metadata": {
    "scrolled": true
   },
   "outputs": [
    {
     "data": {
      "text/html": [
       "<div>\n",
       "<style scoped>\n",
       "    .dataframe tbody tr th:only-of-type {\n",
       "        vertical-align: middle;\n",
       "    }\n",
       "\n",
       "    .dataframe tbody tr th {\n",
       "        vertical-align: top;\n",
       "    }\n",
       "\n",
       "    .dataframe thead th {\n",
       "        text-align: right;\n",
       "    }\n",
       "</style>\n",
       "<table border=\"1\" class=\"dataframe\">\n",
       "  <thead>\n",
       "    <tr style=\"text-align: right;\">\n",
       "      <th></th>\n",
       "      <th>window_size</th>\n",
       "      <th>filter_applied</th>\n",
       "      <th>resampling_tech</th>\n",
       "      <th>model</th>\n",
       "      <th>hyperparameters</th>\n",
       "      <th>accuracy</th>\n",
       "      <th>precision_weighted</th>\n",
       "      <th>recall_weighted</th>\n",
       "      <th>f1_weighted</th>\n",
       "      <th>algorithm</th>\n",
       "    </tr>\n",
       "  </thead>\n",
       "  <tbody>\n",
       "    <tr>\n",
       "      <th>0</th>\n",
       "      <td>360</td>\n",
       "      <td>False</td>\n",
       "      <td>adasyn</td>\n",
       "      <td>NeuralNetFastAI/03135a95</td>\n",
       "      <td>{'layers': None, 'emb_drop': 0.1, 'ps': 0.1, 'bs': 256, 'lr': 0.01, 'epochs': 30, 'early.stopping.min_delta': 0.0001, 'early.stopping.patience': 20, 'smoothing': 0.0}</td>\n",
       "      <td>0.989220</td>\n",
       "      <td>0.988799</td>\n",
       "      <td>0.989220</td>\n",
       "      <td>0.988899</td>\n",
       "      <td>NeuralNetFastAI</td>\n",
       "    </tr>\n",
       "    <tr>\n",
       "      <th>1</th>\n",
       "      <td>360</td>\n",
       "      <td>False</td>\n",
       "      <td>adasyn</td>\n",
       "      <td>NeuralNetFastAI/65bbd68c</td>\n",
       "      <td>{'layers': (500, 200), 'emb_drop': 0.03117924504700692, 'ps': 0.36490445895396484, 'bs': 128, 'lr': 0.0034360287571879233, 'epochs': 22, 'early.stopping.min_delta': 0.0001, 'early.stopping.patience': 20, 'smoothing': 0.0}</td>\n",
       "      <td>0.987804</td>\n",
       "      <td>0.987318</td>\n",
       "      <td>0.987804</td>\n",
       "      <td>0.987213</td>\n",
       "      <td>NeuralNetFastAI</td>\n",
       "    </tr>\n",
       "  </tbody>\n",
       "</table>\n",
       "</div>"
      ],
      "text/plain": [
       "   window_size  filter_applied resampling_tech                     model  \\\n",
       "0          360           False          adasyn  NeuralNetFastAI/03135a95   \n",
       "1          360           False          adasyn  NeuralNetFastAI/65bbd68c   \n",
       "\n",
       "                                                                                                                                                                                                                 hyperparameters  \\\n",
       "0                                                         {'layers': None, 'emb_drop': 0.1, 'ps': 0.1, 'bs': 256, 'lr': 0.01, 'epochs': 30, 'early.stopping.min_delta': 0.0001, 'early.stopping.patience': 20, 'smoothing': 0.0}   \n",
       "1  {'layers': (500, 200), 'emb_drop': 0.03117924504700692, 'ps': 0.36490445895396484, 'bs': 128, 'lr': 0.0034360287571879233, 'epochs': 22, 'early.stopping.min_delta': 0.0001, 'early.stopping.patience': 20, 'smoothing': 0.0}   \n",
       "\n",
       "   accuracy  precision_weighted  recall_weighted  f1_weighted        algorithm  \n",
       "0  0.989220            0.988799         0.989220     0.988899  NeuralNetFastAI  \n",
       "1  0.987804            0.987318         0.987804     0.987213  NeuralNetFastAI  "
      ]
     },
     "execution_count": 52,
     "metadata": {},
     "output_type": "execute_result"
    }
   ],
   "source": [
    "models_with_adasyn.head(2)"
   ]
  },
  {
   "cell_type": "markdown",
   "id": "f9586d6a",
   "metadata": {},
   "source": [
    "**Cálculo do intervalo de confiança**"
   ]
  },
  {
   "cell_type": "code",
   "execution_count": 170,
   "id": "c8f8170e",
   "metadata": {},
   "outputs": [
    {
     "name": "stdout",
     "output_type": "stream",
     "text": [
      "Intervalo de confiança(0.9875573222856061, 0.9900426777143939)\n"
     ]
    }
   ],
   "source": [
    "z = 1.96\n",
    "f1 = 0.9888\n",
    "n = len(X_test)\n",
    "interval = z * np.sqrt((f1 * (1 - f1)) / n)\n",
    "print(f\"Intervalo de confiança{(f1-interval, f1+interval)}\")"
   ]
  },
  {
   "cell_type": "code",
   "execution_count": 54,
   "id": "75bfb155",
   "metadata": {},
   "outputs": [
    {
     "data": {
      "text/plain": [
       "NeuralNetFastAI    5\n",
       "NeuralNetTorch     5\n",
       "LightGBM           5\n",
       "KNeighbors         2\n",
       "RandomForest       2\n",
       "ExtraTrees         2\n",
       "XGBoost            1\n",
       "CatBoost           1\n",
       "Name: algorithm, dtype: int64"
      ]
     },
     "execution_count": 54,
     "metadata": {},
     "output_type": "execute_result"
    }
   ],
   "source": [
    "models_with_adasyn['algorithm'].value_counts()"
   ]
  },
  {
   "cell_type": "code",
   "execution_count": 55,
   "id": "d2c9947c",
   "metadata": {},
   "outputs": [
    {
     "data": {
      "text/plain": [
       "23"
      ]
     },
     "execution_count": 55,
     "metadata": {},
     "output_type": "execute_result"
    }
   ],
   "source": [
    "models_with_adasyn['algorithm'].value_counts().sum()"
   ]
  },
  {
   "cell_type": "markdown",
   "id": "c7644d11",
   "metadata": {},
   "source": [
    "Para evitar perda dos dados"
   ]
  },
  {
   "cell_type": "code",
   "execution_count": 56,
   "id": "666f1071",
   "metadata": {},
   "outputs": [],
   "source": [
    "models_with_adasyn.to_csv('models_with_adasyn.csv', index=False)"
   ]
  },
  {
   "cell_type": "markdown",
   "id": "69dd6a38",
   "metadata": {},
   "source": [
    "**Junção dos modelos**"
   ]
  },
  {
   "cell_type": "code",
   "execution_count": 57,
   "id": "d36f7c82",
   "metadata": {},
   "outputs": [],
   "source": [
    "hyperparameters_all_models = pd.concat([hyperparameters_all_models, models_with_adasyn])"
   ]
  },
  {
   "cell_type": "code",
   "execution_count": 58,
   "id": "f89036f9",
   "metadata": {},
   "outputs": [],
   "source": [
    "hyperparameters_all_models = hyperparameters_all_models.sort_values(by='accuracy', ascending=False)"
   ]
  },
  {
   "cell_type": "code",
   "execution_count": 59,
   "id": "7cef40b8",
   "metadata": {},
   "outputs": [],
   "source": [
    "hyperparameters_all_models = hyperparameters_all_models.reset_index(drop=True)"
   ]
  },
  {
   "cell_type": "code",
   "execution_count": 60,
   "id": "923fa9af",
   "metadata": {},
   "outputs": [
    {
     "data": {
      "text/html": [
       "<div>\n",
       "<style scoped>\n",
       "    .dataframe tbody tr th:only-of-type {\n",
       "        vertical-align: middle;\n",
       "    }\n",
       "\n",
       "    .dataframe tbody tr th {\n",
       "        vertical-align: top;\n",
       "    }\n",
       "\n",
       "    .dataframe thead th {\n",
       "        text-align: right;\n",
       "    }\n",
       "</style>\n",
       "<table border=\"1\" class=\"dataframe\">\n",
       "  <thead>\n",
       "    <tr style=\"text-align: right;\">\n",
       "      <th></th>\n",
       "      <th>window_size</th>\n",
       "      <th>filter_applied</th>\n",
       "      <th>resampling_tech</th>\n",
       "      <th>model</th>\n",
       "      <th>hyperparameters</th>\n",
       "      <th>accuracy</th>\n",
       "      <th>precision_weighted</th>\n",
       "      <th>recall_weighted</th>\n",
       "      <th>f1_weighted</th>\n",
       "      <th>algorithm</th>\n",
       "    </tr>\n",
       "  </thead>\n",
       "  <tbody>\n",
       "    <tr>\n",
       "      <th>0</th>\n",
       "      <td>360</td>\n",
       "      <td>False</td>\n",
       "      <td>adasyn</td>\n",
       "      <td>NeuralNetFastAI/03135a95</td>\n",
       "      <td>{'layers': None, 'emb_drop': 0.1, 'ps': 0.1, 'bs': 256, 'lr': 0.01, 'epochs': 30, 'early.stopping.min_delta': 0.0001, 'early.stopping.patience': 20, 'smoothing': 0.0}</td>\n",
       "      <td>0.989220</td>\n",
       "      <td>0.988799</td>\n",
       "      <td>0.989220</td>\n",
       "      <td>0.988899</td>\n",
       "      <td>NeuralNetFastAI</td>\n",
       "    </tr>\n",
       "    <tr>\n",
       "      <th>1</th>\n",
       "      <td>360</td>\n",
       "      <td>False</td>\n",
       "      <td>None</td>\n",
       "      <td>NeuralNetFastAI/81ef5b8c</td>\n",
       "      <td>{'layers': None, 'emb_drop': 0.1, 'ps': 0.1, 'bs': 256, 'lr': 0.01, 'epochs': 30, 'early.stopping.min_delta': 0.0001, 'early.stopping.patience': 20, 'smoothing': 0.0}</td>\n",
       "      <td>0.988494</td>\n",
       "      <td>0.988070</td>\n",
       "      <td>0.988494</td>\n",
       "      <td>0.988127</td>\n",
       "      <td>NeuralNetFastAI</td>\n",
       "    </tr>\n",
       "    <tr>\n",
       "      <th>2</th>\n",
       "      <td>360</td>\n",
       "      <td>False</td>\n",
       "      <td>None</td>\n",
       "      <td>NeuralNetFastAI/30f5b552</td>\n",
       "      <td>{'layers': (500, 200, 100), 'emb_drop': 0.42712629581198064, 'ps': 0.07249739001468652, 'bs': 4096, 'lr': 0.035156995999692124, 'epochs': 28, 'early.stopping.min_delta': 0.0001, 'early.stopping.patience': 20, 'smoothing': 0.0}</td>\n",
       "      <td>0.988421</td>\n",
       "      <td>0.987926</td>\n",
       "      <td>0.988421</td>\n",
       "      <td>0.988056</td>\n",
       "      <td>NeuralNetFastAI</td>\n",
       "    </tr>\n",
       "    <tr>\n",
       "      <th>3</th>\n",
       "      <td>360</td>\n",
       "      <td>False</td>\n",
       "      <td>adasyn</td>\n",
       "      <td>NeuralNetFastAI/65bbd68c</td>\n",
       "      <td>{'layers': (500, 200), 'emb_drop': 0.03117924504700692, 'ps': 0.36490445895396484, 'bs': 128, 'lr': 0.0034360287571879233, 'epochs': 22, 'early.stopping.min_delta': 0.0001, 'early.stopping.patience': 20, 'smoothing': 0.0}</td>\n",
       "      <td>0.987804</td>\n",
       "      <td>0.987318</td>\n",
       "      <td>0.987804</td>\n",
       "      <td>0.987213</td>\n",
       "      <td>NeuralNetFastAI</td>\n",
       "    </tr>\n",
       "    <tr>\n",
       "      <th>4</th>\n",
       "      <td>360</td>\n",
       "      <td>False</td>\n",
       "      <td>adasyn</td>\n",
       "      <td>NeuralNetTorch/fa4065ea</td>\n",
       "      <td>{'num_epochs': 500, 'epochs_wo_improve': 20, 'activation': 'elu', 'embedding_size_factor': 0.8, 'embed_exponent': 0.56, 'max_embedding_dim': 100, 'y_range': None, 'y_range_extend': 0.05, 'dropout_prob': 0.5, 'optimizer': 'adam', 'learning_rate': 0.0002833005989335324, 'weight_decay': 2.1008744194646226e-10, 'proc.embed_min_categories': 1000, 'proc.impute_strategy': 'mean', 'proc.max_category_levels': 1000, 'proc.skew_threshold': 0.999, 'use_ngram_features': False, 'num_layers': 3, 'hidden_size': 256, 'max_batch_size': 512, 'use_batchnorm': True, 'loss_function': 'auto'}</td>\n",
       "      <td>0.987768</td>\n",
       "      <td>0.987389</td>\n",
       "      <td>0.987768</td>\n",
       "      <td>0.987333</td>\n",
       "      <td>NeuralNetTorch</td>\n",
       "    </tr>\n",
       "  </tbody>\n",
       "</table>\n",
       "</div>"
      ],
      "text/plain": [
       "   window_size  filter_applied resampling_tech                     model  \\\n",
       "0          360           False          adasyn  NeuralNetFastAI/03135a95   \n",
       "1          360           False            None  NeuralNetFastAI/81ef5b8c   \n",
       "2          360           False            None  NeuralNetFastAI/30f5b552   \n",
       "3          360           False          adasyn  NeuralNetFastAI/65bbd68c   \n",
       "4          360           False          adasyn   NeuralNetTorch/fa4065ea   \n",
       "\n",
       "                                                                                                                                                                                                                                                                                                                                                                                                                                                                                                                                                                                    hyperparameters  \\\n",
       "0                                                                                                                                                                                                                                                                                                                                                                                                                            {'layers': None, 'emb_drop': 0.1, 'ps': 0.1, 'bs': 256, 'lr': 0.01, 'epochs': 30, 'early.stopping.min_delta': 0.0001, 'early.stopping.patience': 20, 'smoothing': 0.0}   \n",
       "1                                                                                                                                                                                                                                                                                                                                                                                                                            {'layers': None, 'emb_drop': 0.1, 'ps': 0.1, 'bs': 256, 'lr': 0.01, 'epochs': 30, 'early.stopping.min_delta': 0.0001, 'early.stopping.patience': 20, 'smoothing': 0.0}   \n",
       "2                                                                                                                                                                                                                                                                                                                                                                {'layers': (500, 200, 100), 'emb_drop': 0.42712629581198064, 'ps': 0.07249739001468652, 'bs': 4096, 'lr': 0.035156995999692124, 'epochs': 28, 'early.stopping.min_delta': 0.0001, 'early.stopping.patience': 20, 'smoothing': 0.0}   \n",
       "3                                                                                                                                                                                                                                                                                                                                                                     {'layers': (500, 200), 'emb_drop': 0.03117924504700692, 'ps': 0.36490445895396484, 'bs': 128, 'lr': 0.0034360287571879233, 'epochs': 22, 'early.stopping.min_delta': 0.0001, 'early.stopping.patience': 20, 'smoothing': 0.0}   \n",
       "4  {'num_epochs': 500, 'epochs_wo_improve': 20, 'activation': 'elu', 'embedding_size_factor': 0.8, 'embed_exponent': 0.56, 'max_embedding_dim': 100, 'y_range': None, 'y_range_extend': 0.05, 'dropout_prob': 0.5, 'optimizer': 'adam', 'learning_rate': 0.0002833005989335324, 'weight_decay': 2.1008744194646226e-10, 'proc.embed_min_categories': 1000, 'proc.impute_strategy': 'mean', 'proc.max_category_levels': 1000, 'proc.skew_threshold': 0.999, 'use_ngram_features': False, 'num_layers': 3, 'hidden_size': 256, 'max_batch_size': 512, 'use_batchnorm': True, 'loss_function': 'auto'}   \n",
       "\n",
       "   accuracy  precision_weighted  recall_weighted  f1_weighted        algorithm  \n",
       "0  0.989220            0.988799         0.989220     0.988899  NeuralNetFastAI  \n",
       "1  0.988494            0.988070         0.988494     0.988127  NeuralNetFastAI  \n",
       "2  0.988421            0.987926         0.988421     0.988056  NeuralNetFastAI  \n",
       "3  0.987804            0.987318         0.987804     0.987213  NeuralNetFastAI  \n",
       "4  0.987768            0.987389         0.987768     0.987333   NeuralNetTorch  "
      ]
     },
     "execution_count": 60,
     "metadata": {},
     "output_type": "execute_result"
    }
   ],
   "source": [
    "hyperparameters_all_models.head()"
   ]
  },
  {
   "cell_type": "markdown",
   "id": "3d493c2b",
   "metadata": {},
   "source": [
    "## AutoML com redução de ruído"
   ]
  },
  {
   "cell_type": "code",
   "execution_count": 61,
   "id": "267daad7",
   "metadata": {},
   "outputs": [
    {
     "data": {
      "text/plain": [
       "((82650, 361), (27550, 361))"
      ]
     },
     "execution_count": 61,
     "metadata": {},
     "output_type": "execute_result"
    }
   ],
   "source": [
    "#removendo a coluna record_id pois ela não é necessária nas classificações \n",
    "database2 = database.iloc[:, :-1]\n",
    "train_data2, test_data2 = train_test_split(database2, random_state=42, stratify=database2.label)\n",
    "train_data2.shape, test_data2.shape "
   ]
  },
  {
   "cell_type": "code",
   "execution_count": 62,
   "id": "7fd7f13b",
   "metadata": {},
   "outputs": [
    {
     "data": {
      "text/plain": [
       "((82650, 360), (27550, 360), (82650,), (27550,))"
      ]
     },
     "execution_count": 62,
     "metadata": {},
     "output_type": "execute_result"
    }
   ],
   "source": [
    "X_train2, y_train2 = train_data2.iloc[:,:-1], train_data2['label']\n",
    "X_test2, y_test2 = test_data2.iloc[:,:-1], test_data2['label']\n",
    "X_train2.shape, X_test2.shape, y_train2.shape, y_test2.shape"
   ]
  },
  {
   "cell_type": "code",
   "execution_count": 63,
   "id": "96b35384",
   "metadata": {},
   "outputs": [
    {
     "data": {
      "text/html": [],
      "text/plain": [
       "<IPython.core.display.HTML object>"
      ]
     },
     "metadata": {},
     "output_type": "display_data"
    },
    {
     "name": "stderr",
     "output_type": "stream",
     "text": [
      "Fitted model: NeuralNetTorch/1be4ff49 ...\n",
      "\t0.9876\t = Validation score   (accuracy)\n",
      "\t164.45s\t = Training   runtime\n",
      "\t0.3s\t = Validation runtime\n",
      "Fitted model: NeuralNetTorch/f4a2d8d3 ...\n",
      "\t0.9894\t = Validation score   (accuracy)\n",
      "\t206.48s\t = Training   runtime\n",
      "\t0.31s\t = Validation runtime\n",
      "Fitted model: NeuralNetTorch/e9c9b3fb ...\n",
      "\t0.9792\t = Validation score   (accuracy)\n",
      "\t156.19s\t = Training   runtime\n",
      "\t0.38s\t = Validation runtime\n",
      "Fitted model: NeuralNetTorch/81b1f9a4 ...\n",
      "\t0.9866\t = Validation score   (accuracy)\n",
      "\t488.99s\t = Training   runtime\n",
      "\t0.5s\t = Validation runtime\n",
      "Fitted model: NeuralNetTorch/58e5337a ...\n",
      "\t0.9884\t = Validation score   (accuracy)\n",
      "\t158.04s\t = Training   runtime\n",
      "\t0.3s\t = Validation runtime\n",
      "Fitting model: LightGBMLarge ... Training model for up to 498.23s of the 3820.38s of remaining time.\n",
      "\t0.9704\t = Validation score   (accuracy)\n",
      "\t89.87s\t = Training   runtime\n",
      "\t0.14s\t = Validation runtime\n",
      "Fitting model: WeightedEnsemble_L2 ... Training model for up to 719.67s of the 3717.37s of remaining time.\n",
      "\t0.9906\t = Validation score   (accuracy)\n",
      "\t2.63s\t = Training   runtime\n",
      "\t0.0s\t = Validation runtime\n",
      "AutoGluon training complete, total runtime = 3485.76s ... Best model: \"WeightedEnsemble_L2\"\n",
      "TabularPredictor saved. To load, use: predictor = TabularPredictor.load(\"AutogluonModels/ag-20231203_032350/\")\n"
     ]
    },
    {
     "name": "stdout",
     "output_type": "stream",
     "text": [
      "CPU times: user 5h 1min 6s, sys: 59.1 s, total: 5h 2min 5s\n",
      "Wall time: 58min 5s\n"
     ]
    }
   ],
   "source": [
    "%%time\n",
    "predictor2 = TabularPredictor(label='label').fit(train_data2, time_limit=7200, hyperparameter_tune_kwargs = \n",
    "                                                {'num_trials': 5, 'scheduler' : 'local', 'searcher': 'auto'})"
   ]
  },
  {
   "cell_type": "code",
   "execution_count": 174,
   "id": "5a47050d",
   "metadata": {},
   "outputs": [],
   "source": [
    "y_pred_NeuralNetFastAI = predictor2.predict(data=X_test2, model='NeuralNetFastAI/80c0ceaf')"
   ]
  },
  {
   "cell_type": "code",
   "execution_count": 175,
   "id": "4bd4a1d2",
   "metadata": {},
   "outputs": [
    {
     "name": "stdout",
     "output_type": "stream",
     "text": [
      "              precision    recall  f1-score   support\n",
      "\n",
      "           0     0.9924    0.9969    0.9947     18753\n",
      "           1     0.9970    0.9990    0.9980      2018\n",
      "           2     0.9994    0.9978    0.9986      1814\n",
      "           3     0.9570    0.9089    0.9324       637\n",
      "           4     0.8148    0.5946    0.6875        37\n",
      "           5     0.8696    0.9524    0.9091        21\n",
      "           6     0.9716    0.9781    0.9748      1782\n",
      "           7     0.9212    0.7562    0.8306       201\n",
      "           8     0.8780    0.9153    0.8963       118\n",
      "           9     0.5000    0.5000    0.5000         4\n",
      "          10     0.8980    0.7719    0.8302        57\n",
      "          11     1.0000    1.0000    1.0000        26\n",
      "          12     0.9960    0.9983    0.9972      1756\n",
      "          13     0.9833    0.9633    0.9732       245\n",
      "          14     0.9592    0.9792    0.9691        48\n",
      "          15     0.7143    0.3030    0.4255        33\n",
      "\n",
      "    accuracy                         0.9896     27550\n",
      "   macro avg     0.9032    0.8509    0.8698     27550\n",
      "weighted avg     0.9892    0.9896    0.9892     27550\n",
      "\n"
     ]
    }
   ],
   "source": [
    "print(classification_report(y_test2, y_pred_NeuralNetFastAI, digits=4))"
   ]
  },
  {
   "cell_type": "code",
   "execution_count": 176,
   "id": "9ced1040",
   "metadata": {},
   "outputs": [
    {
     "data": {
      "text/plain": [
       "['N',\n",
       " 'L',\n",
       " 'R',\n",
       " 'A',\n",
       " 'a',\n",
       " 'J',\n",
       " 'V',\n",
       " 'F',\n",
       " '!',\n",
       " 'e',\n",
       " 'j',\n",
       " 'E',\n",
       " '/',\n",
       " 'f',\n",
       " 'x',\n",
       " '|']"
      ]
     },
     "execution_count": 176,
     "metadata": {},
     "output_type": "execute_result"
    }
   ],
   "source": [
    "classes"
   ]
  },
  {
   "cell_type": "markdown",
   "id": "c25e76f6",
   "metadata": {},
   "source": [
    "**Dataframe de hiperparâmetros**\n",
    "\n",
    "A função ``autogluon_models_df`` trata as informações dos modelos gerados pelo TabularPredictor e retorna um dataframe com um ranking de acurácia dos modelos e facilita o processo de seleção/visualização dos hiperparâmetros de cada modelo. O datafame contém as seguintes informações: a segmentação usada, se o filtro foi aplicado, a técnica de reamostragem, o nome do modelo, os hiperparâmetros do modelo e acurácia. Nesse notebook executamos os modelos com a segmentação dos dados com uma janela de 180."
   ]
  },
  {
   "cell_type": "code",
   "execution_count": 66,
   "id": "777213ad",
   "metadata": {},
   "outputs": [
    {
     "name": "stderr",
     "output_type": "stream",
     "text": [
      "/home/jupyter-luana@alu.ufc.br/.local/lib/python3.9/site-packages/sklearn/metrics/_classification.py:1344: UndefinedMetricWarning: Precision is ill-defined and being set to 0.0 in labels with no predicted samples. Use `zero_division` parameter to control this behavior.\n",
      "  _warn_prf(average, modifier, msg_start, len(result))\n",
      "/home/jupyter-luana@alu.ufc.br/.local/lib/python3.9/site-packages/sklearn/metrics/_classification.py:1344: UndefinedMetricWarning: Precision is ill-defined and being set to 0.0 in labels with no predicted samples. Use `zero_division` parameter to control this behavior.\n",
      "  _warn_prf(average, modifier, msg_start, len(result))\n",
      "/home/jupyter-luana@alu.ufc.br/.local/lib/python3.9/site-packages/sklearn/metrics/_classification.py:1344: UndefinedMetricWarning: Precision is ill-defined and being set to 0.0 in labels with no predicted samples. Use `zero_division` parameter to control this behavior.\n",
      "  _warn_prf(average, modifier, msg_start, len(result))\n",
      "/home/jupyter-luana@alu.ufc.br/.local/lib/python3.9/site-packages/sklearn/metrics/_classification.py:1344: UndefinedMetricWarning: Precision is ill-defined and being set to 0.0 in labels with no predicted samples. Use `zero_division` parameter to control this behavior.\n",
      "  _warn_prf(average, modifier, msg_start, len(result))\n",
      "/home/jupyter-luana@alu.ufc.br/.local/lib/python3.9/site-packages/sklearn/metrics/_classification.py:1344: UndefinedMetricWarning: Precision is ill-defined and being set to 0.0 in labels with no predicted samples. Use `zero_division` parameter to control this behavior.\n",
      "  _warn_prf(average, modifier, msg_start, len(result))\n",
      "/home/jupyter-luana@alu.ufc.br/.local/lib/python3.9/site-packages/sklearn/metrics/_classification.py:1344: UndefinedMetricWarning: Precision is ill-defined and being set to 0.0 in labels with no predicted samples. Use `zero_division` parameter to control this behavior.\n",
      "  _warn_prf(average, modifier, msg_start, len(result))\n",
      "/home/jupyter-luana@alu.ufc.br/.local/lib/python3.9/site-packages/sklearn/metrics/_classification.py:1344: UndefinedMetricWarning: Precision is ill-defined and being set to 0.0 in labels with no predicted samples. Use `zero_division` parameter to control this behavior.\n",
      "  _warn_prf(average, modifier, msg_start, len(result))\n",
      "/home/jupyter-luana@alu.ufc.br/.local/lib/python3.9/site-packages/sklearn/metrics/_classification.py:1344: UndefinedMetricWarning: Precision is ill-defined and being set to 0.0 in labels with no predicted samples. Use `zero_division` parameter to control this behavior.\n",
      "  _warn_prf(average, modifier, msg_start, len(result))\n",
      "/home/jupyter-luana@alu.ufc.br/.local/lib/python3.9/site-packages/sklearn/metrics/_classification.py:1344: UndefinedMetricWarning: Precision is ill-defined and being set to 0.0 in labels with no predicted samples. Use `zero_division` parameter to control this behavior.\n",
      "  _warn_prf(average, modifier, msg_start, len(result))\n",
      "/home/jupyter-luana@alu.ufc.br/.local/lib/python3.9/site-packages/sklearn/metrics/_classification.py:1344: UndefinedMetricWarning: Precision is ill-defined and being set to 0.0 in labels with no predicted samples. Use `zero_division` parameter to control this behavior.\n",
      "  _warn_prf(average, modifier, msg_start, len(result))\n",
      "/home/jupyter-luana@alu.ufc.br/.local/lib/python3.9/site-packages/sklearn/metrics/_classification.py:1344: UndefinedMetricWarning: Precision is ill-defined and being set to 0.0 in labels with no predicted samples. Use `zero_division` parameter to control this behavior.\n",
      "  _warn_prf(average, modifier, msg_start, len(result))\n",
      "/home/jupyter-luana@alu.ufc.br/.local/lib/python3.9/site-packages/sklearn/metrics/_classification.py:1344: UndefinedMetricWarning: Precision is ill-defined and being set to 0.0 in labels with no predicted samples. Use `zero_division` parameter to control this behavior.\n",
      "  _warn_prf(average, modifier, msg_start, len(result))\n",
      "/home/jupyter-luana@alu.ufc.br/.local/lib/python3.9/site-packages/sklearn/metrics/_classification.py:1344: UndefinedMetricWarning: Precision is ill-defined and being set to 0.0 in labels with no predicted samples. Use `zero_division` parameter to control this behavior.\n",
      "  _warn_prf(average, modifier, msg_start, len(result))\n",
      "/home/jupyter-luana@alu.ufc.br/.local/lib/python3.9/site-packages/sklearn/metrics/_classification.py:1344: UndefinedMetricWarning: Precision is ill-defined and being set to 0.0 in labels with no predicted samples. Use `zero_division` parameter to control this behavior.\n",
      "  _warn_prf(average, modifier, msg_start, len(result))\n"
     ]
    },
    {
     "name": "stdout",
     "output_type": "stream",
     "text": [
      "CPU times: user 6min 49s, sys: 3.04 s, total: 6min 52s\n",
      "Wall time: 1min 8s\n"
     ]
    }
   ],
   "source": [
    "%%time\n",
    "model_without_resampling2 = autogluon_models_df(window=window_size,\n",
    "                                        filter_applied=True, \n",
    "                                        resampling_tech=None,\n",
    "                                        predictor_model=predictor2,\n",
    "                                        test_data_=test_data2)"
   ]
  },
  {
   "cell_type": "markdown",
   "id": "8511da94",
   "metadata": {},
   "source": [
    "**Ranking dos modelos com sem técnica de reamostragem e com filtro**"
   ]
  },
  {
   "cell_type": "code",
   "execution_count": 67,
   "id": "7d3cf901",
   "metadata": {},
   "outputs": [
    {
     "data": {
      "text/html": [
       "<div>\n",
       "<style scoped>\n",
       "    .dataframe tbody tr th:only-of-type {\n",
       "        vertical-align: middle;\n",
       "    }\n",
       "\n",
       "    .dataframe tbody tr th {\n",
       "        vertical-align: top;\n",
       "    }\n",
       "\n",
       "    .dataframe thead th {\n",
       "        text-align: right;\n",
       "    }\n",
       "</style>\n",
       "<table border=\"1\" class=\"dataframe\">\n",
       "  <thead>\n",
       "    <tr style=\"text-align: right;\">\n",
       "      <th></th>\n",
       "      <th>window_size</th>\n",
       "      <th>filter_applied</th>\n",
       "      <th>resampling_tech</th>\n",
       "      <th>model</th>\n",
       "      <th>hyperparameters</th>\n",
       "      <th>accuracy</th>\n",
       "      <th>precision_weighted</th>\n",
       "      <th>recall_weighted</th>\n",
       "      <th>f1_weighted</th>\n",
       "      <th>algorithm</th>\n",
       "    </tr>\n",
       "  </thead>\n",
       "  <tbody>\n",
       "    <tr>\n",
       "      <th>0</th>\n",
       "      <td>360</td>\n",
       "      <td>True</td>\n",
       "      <td>None</td>\n",
       "      <td>NeuralNetFastAI/80c0ceaf</td>\n",
       "      <td>{'layers': (1000, 500), 'emb_drop': 0.44574310265510286, 'ps': 0.09173623202265024, 'bs': 128, 'lr': 0.006973408537915314, 'epochs': 30, 'early.stopping.min_delta': 0.0001, 'early.stopping.patience': 20, 'smoothing': 0.0}</td>\n",
       "      <td>0.989583</td>\n",
       "      <td>0.989203</td>\n",
       "      <td>0.989583</td>\n",
       "      <td>0.989178</td>\n",
       "      <td>NeuralNetFastAI</td>\n",
       "    </tr>\n",
       "    <tr>\n",
       "      <th>1</th>\n",
       "      <td>360</td>\n",
       "      <td>True</td>\n",
       "      <td>None</td>\n",
       "      <td>NeuralNetFastAI/a465bc90</td>\n",
       "      <td>{'layers': None, 'emb_drop': 0.1, 'ps': 0.1, 'bs': 256, 'lr': 0.01, 'epochs': 30, 'early.stopping.min_delta': 0.0001, 'early.stopping.patience': 20, 'smoothing': 0.0}</td>\n",
       "      <td>0.989292</td>\n",
       "      <td>0.988853</td>\n",
       "      <td>0.989292</td>\n",
       "      <td>0.988909</td>\n",
       "      <td>NeuralNetFastAI</td>\n",
       "    </tr>\n",
       "  </tbody>\n",
       "</table>\n",
       "</div>"
      ],
      "text/plain": [
       "   window_size  filter_applied resampling_tech                     model  \\\n",
       "0          360            True            None  NeuralNetFastAI/80c0ceaf   \n",
       "1          360            True            None  NeuralNetFastAI/a465bc90   \n",
       "\n",
       "                                                                                                                                                                                                                 hyperparameters  \\\n",
       "0  {'layers': (1000, 500), 'emb_drop': 0.44574310265510286, 'ps': 0.09173623202265024, 'bs': 128, 'lr': 0.006973408537915314, 'epochs': 30, 'early.stopping.min_delta': 0.0001, 'early.stopping.patience': 20, 'smoothing': 0.0}   \n",
       "1                                                         {'layers': None, 'emb_drop': 0.1, 'ps': 0.1, 'bs': 256, 'lr': 0.01, 'epochs': 30, 'early.stopping.min_delta': 0.0001, 'early.stopping.patience': 20, 'smoothing': 0.0}   \n",
       "\n",
       "   accuracy  precision_weighted  recall_weighted  f1_weighted        algorithm  \n",
       "0  0.989583            0.989203         0.989583     0.989178  NeuralNetFastAI  \n",
       "1  0.989292            0.988853         0.989292     0.988909  NeuralNetFastAI  "
      ]
     },
     "execution_count": 67,
     "metadata": {},
     "output_type": "execute_result"
    }
   ],
   "source": [
    "model_without_resampling2.head(2)"
   ]
  },
  {
   "cell_type": "markdown",
   "id": "3367f570",
   "metadata": {},
   "source": [
    "**Cálculo do intervalo de confiança**"
   ]
  },
  {
   "cell_type": "code",
   "execution_count": 171,
   "id": "d6e41d92",
   "metadata": {},
   "outputs": [
    {
     "name": "stdout",
     "output_type": "stream",
     "text": [
      "Intervalo de confiança(0.9878738923004526, 0.9903261076995473)\n"
     ]
    }
   ],
   "source": [
    "z = 1.96\n",
    "f1 = 0.9891\n",
    "n = len(X_test2)\n",
    "interval = z * np.sqrt((f1 * (1 - f1)) / n)\n",
    "print(f\"Intervalo de confiança{(f1-interval, f1+interval)}\")"
   ]
  },
  {
   "cell_type": "code",
   "execution_count": 69,
   "id": "e3374e66",
   "metadata": {},
   "outputs": [
    {
     "data": {
      "text/plain": [
       "LightGBM           9\n",
       "NeuralNetFastAI    5\n",
       "NeuralNetTorch     5\n",
       "XGBoost            2\n",
       "KNeighbors         2\n",
       "RandomForest       2\n",
       "ExtraTrees         2\n",
       "CatBoost           1\n",
       "Name: algorithm, dtype: int64"
      ]
     },
     "execution_count": 69,
     "metadata": {},
     "output_type": "execute_result"
    }
   ],
   "source": [
    "model_without_resampling2['algorithm'].value_counts()"
   ]
  },
  {
   "cell_type": "code",
   "execution_count": 70,
   "id": "cff5071e",
   "metadata": {},
   "outputs": [
    {
     "data": {
      "text/plain": [
       "28"
      ]
     },
     "execution_count": 70,
     "metadata": {},
     "output_type": "execute_result"
    }
   ],
   "source": [
    "model_without_resampling2['algorithm'].value_counts().sum()"
   ]
  },
  {
   "cell_type": "markdown",
   "id": "5d69d28e",
   "metadata": {},
   "source": [
    "Para evitar perda dos dados"
   ]
  },
  {
   "cell_type": "code",
   "execution_count": 71,
   "id": "9f5fccf8",
   "metadata": {},
   "outputs": [],
   "source": [
    "model_without_resampling2.to_csv('model_without_resampling2.csv', index=False)"
   ]
  },
  {
   "cell_type": "markdown",
   "id": "ab937b10",
   "metadata": {},
   "source": [
    "**Junção dos modelos**"
   ]
  },
  {
   "cell_type": "code",
   "execution_count": 72,
   "id": "2fb4e2b9",
   "metadata": {},
   "outputs": [],
   "source": [
    "hyperparameters_all_models = pd.concat([hyperparameters_all_models, model_without_resampling2])"
   ]
  },
  {
   "cell_type": "code",
   "execution_count": 73,
   "id": "3de56bec",
   "metadata": {},
   "outputs": [],
   "source": [
    "hyperparameters_all_models = hyperparameters_all_models.sort_values(by='accuracy', ascending=False)"
   ]
  },
  {
   "cell_type": "code",
   "execution_count": 74,
   "id": "c632a5a4",
   "metadata": {},
   "outputs": [],
   "source": [
    "hyperparameters_all_models = hyperparameters_all_models.reset_index(drop=True)"
   ]
  },
  {
   "cell_type": "code",
   "execution_count": 75,
   "id": "74e33ae9",
   "metadata": {},
   "outputs": [
    {
     "data": {
      "text/html": [
       "<div>\n",
       "<style scoped>\n",
       "    .dataframe tbody tr th:only-of-type {\n",
       "        vertical-align: middle;\n",
       "    }\n",
       "\n",
       "    .dataframe tbody tr th {\n",
       "        vertical-align: top;\n",
       "    }\n",
       "\n",
       "    .dataframe thead th {\n",
       "        text-align: right;\n",
       "    }\n",
       "</style>\n",
       "<table border=\"1\" class=\"dataframe\">\n",
       "  <thead>\n",
       "    <tr style=\"text-align: right;\">\n",
       "      <th></th>\n",
       "      <th>window_size</th>\n",
       "      <th>filter_applied</th>\n",
       "      <th>resampling_tech</th>\n",
       "      <th>model</th>\n",
       "      <th>hyperparameters</th>\n",
       "      <th>accuracy</th>\n",
       "      <th>precision_weighted</th>\n",
       "      <th>recall_weighted</th>\n",
       "      <th>f1_weighted</th>\n",
       "      <th>algorithm</th>\n",
       "    </tr>\n",
       "  </thead>\n",
       "  <tbody>\n",
       "    <tr>\n",
       "      <th>0</th>\n",
       "      <td>360</td>\n",
       "      <td>True</td>\n",
       "      <td>None</td>\n",
       "      <td>NeuralNetFastAI/80c0ceaf</td>\n",
       "      <td>{'layers': (1000, 500), 'emb_drop': 0.44574310265510286, 'ps': 0.09173623202265024, 'bs': 128, 'lr': 0.006973408537915314, 'epochs': 30, 'early.stopping.min_delta': 0.0001, 'early.stopping.patience': 20, 'smoothing': 0.0}</td>\n",
       "      <td>0.989583</td>\n",
       "      <td>0.989203</td>\n",
       "      <td>0.989583</td>\n",
       "      <td>0.989178</td>\n",
       "      <td>NeuralNetFastAI</td>\n",
       "    </tr>\n",
       "    <tr>\n",
       "      <th>1</th>\n",
       "      <td>360</td>\n",
       "      <td>True</td>\n",
       "      <td>None</td>\n",
       "      <td>NeuralNetFastAI/a465bc90</td>\n",
       "      <td>{'layers': None, 'emb_drop': 0.1, 'ps': 0.1, 'bs': 256, 'lr': 0.01, 'epochs': 30, 'early.stopping.min_delta': 0.0001, 'early.stopping.patience': 20, 'smoothing': 0.0}</td>\n",
       "      <td>0.989292</td>\n",
       "      <td>0.988853</td>\n",
       "      <td>0.989292</td>\n",
       "      <td>0.988909</td>\n",
       "      <td>NeuralNetFastAI</td>\n",
       "    </tr>\n",
       "    <tr>\n",
       "      <th>2</th>\n",
       "      <td>360</td>\n",
       "      <td>False</td>\n",
       "      <td>adasyn</td>\n",
       "      <td>NeuralNetFastAI/03135a95</td>\n",
       "      <td>{'layers': None, 'emb_drop': 0.1, 'ps': 0.1, 'bs': 256, 'lr': 0.01, 'epochs': 30, 'early.stopping.min_delta': 0.0001, 'early.stopping.patience': 20, 'smoothing': 0.0}</td>\n",
       "      <td>0.989220</td>\n",
       "      <td>0.988799</td>\n",
       "      <td>0.989220</td>\n",
       "      <td>0.988899</td>\n",
       "      <td>NeuralNetFastAI</td>\n",
       "    </tr>\n",
       "    <tr>\n",
       "      <th>3</th>\n",
       "      <td>360</td>\n",
       "      <td>False</td>\n",
       "      <td>None</td>\n",
       "      <td>NeuralNetFastAI/81ef5b8c</td>\n",
       "      <td>{'layers': None, 'emb_drop': 0.1, 'ps': 0.1, 'bs': 256, 'lr': 0.01, 'epochs': 30, 'early.stopping.min_delta': 0.0001, 'early.stopping.patience': 20, 'smoothing': 0.0}</td>\n",
       "      <td>0.988494</td>\n",
       "      <td>0.988070</td>\n",
       "      <td>0.988494</td>\n",
       "      <td>0.988127</td>\n",
       "      <td>NeuralNetFastAI</td>\n",
       "    </tr>\n",
       "    <tr>\n",
       "      <th>4</th>\n",
       "      <td>360</td>\n",
       "      <td>False</td>\n",
       "      <td>None</td>\n",
       "      <td>NeuralNetFastAI/30f5b552</td>\n",
       "      <td>{'layers': (500, 200, 100), 'emb_drop': 0.42712629581198064, 'ps': 0.07249739001468652, 'bs': 4096, 'lr': 0.035156995999692124, 'epochs': 28, 'early.stopping.min_delta': 0.0001, 'early.stopping.patience': 20, 'smoothing': 0.0}</td>\n",
       "      <td>0.988421</td>\n",
       "      <td>0.987926</td>\n",
       "      <td>0.988421</td>\n",
       "      <td>0.988056</td>\n",
       "      <td>NeuralNetFastAI</td>\n",
       "    </tr>\n",
       "  </tbody>\n",
       "</table>\n",
       "</div>"
      ],
      "text/plain": [
       "   window_size  filter_applied resampling_tech                     model  \\\n",
       "0          360            True            None  NeuralNetFastAI/80c0ceaf   \n",
       "1          360            True            None  NeuralNetFastAI/a465bc90   \n",
       "2          360           False          adasyn  NeuralNetFastAI/03135a95   \n",
       "3          360           False            None  NeuralNetFastAI/81ef5b8c   \n",
       "4          360           False            None  NeuralNetFastAI/30f5b552   \n",
       "\n",
       "                                                                                                                                                                                                                      hyperparameters  \\\n",
       "0       {'layers': (1000, 500), 'emb_drop': 0.44574310265510286, 'ps': 0.09173623202265024, 'bs': 128, 'lr': 0.006973408537915314, 'epochs': 30, 'early.stopping.min_delta': 0.0001, 'early.stopping.patience': 20, 'smoothing': 0.0}   \n",
       "1                                                              {'layers': None, 'emb_drop': 0.1, 'ps': 0.1, 'bs': 256, 'lr': 0.01, 'epochs': 30, 'early.stopping.min_delta': 0.0001, 'early.stopping.patience': 20, 'smoothing': 0.0}   \n",
       "2                                                              {'layers': None, 'emb_drop': 0.1, 'ps': 0.1, 'bs': 256, 'lr': 0.01, 'epochs': 30, 'early.stopping.min_delta': 0.0001, 'early.stopping.patience': 20, 'smoothing': 0.0}   \n",
       "3                                                              {'layers': None, 'emb_drop': 0.1, 'ps': 0.1, 'bs': 256, 'lr': 0.01, 'epochs': 30, 'early.stopping.min_delta': 0.0001, 'early.stopping.patience': 20, 'smoothing': 0.0}   \n",
       "4  {'layers': (500, 200, 100), 'emb_drop': 0.42712629581198064, 'ps': 0.07249739001468652, 'bs': 4096, 'lr': 0.035156995999692124, 'epochs': 28, 'early.stopping.min_delta': 0.0001, 'early.stopping.patience': 20, 'smoothing': 0.0}   \n",
       "\n",
       "   accuracy  precision_weighted  recall_weighted  f1_weighted        algorithm  \n",
       "0  0.989583            0.989203         0.989583     0.989178  NeuralNetFastAI  \n",
       "1  0.989292            0.988853         0.989292     0.988909  NeuralNetFastAI  \n",
       "2  0.989220            0.988799         0.989220     0.988899  NeuralNetFastAI  \n",
       "3  0.988494            0.988070         0.988494     0.988127  NeuralNetFastAI  \n",
       "4  0.988421            0.987926         0.988421     0.988056  NeuralNetFastAI  "
      ]
     },
     "execution_count": 75,
     "metadata": {},
     "output_type": "execute_result"
    }
   ],
   "source": [
    "hyperparameters_all_models.head()"
   ]
  },
  {
   "cell_type": "markdown",
   "id": "7b836d9b",
   "metadata": {},
   "source": [
    "### AutoML com técnica de reamostragem SMOTE"
   ]
  },
  {
   "cell_type": "code",
   "execution_count": 76,
   "id": "6394a183",
   "metadata": {},
   "outputs": [],
   "source": [
    "# Aplicar SMOTE apenas no conjunto de treinamento\n",
    "smote2 = SMOTE(sampling_strategy='auto')"
   ]
  },
  {
   "cell_type": "code",
   "execution_count": 77,
   "id": "00ff33f5",
   "metadata": {},
   "outputs": [
    {
     "name": "stdout",
     "output_type": "stream",
     "text": [
      "Distribuição de classes sem a reamostragem:  Counter({0: 56258, 1: 6053, 2: 5441, 6: 5347, 12: 5267, 3: 1909, 13: 737, 7: 601, 8: 354, 10: 172, 14: 145, 4: 113, 15: 99, 11: 80, 5: 62, 9: 12})\n"
     ]
    }
   ],
   "source": [
    "print(\"Distribuição de classes sem a reamostragem: \", Counter(y_train2))"
   ]
  },
  {
   "cell_type": "code",
   "execution_count": 78,
   "id": "d42d35b6",
   "metadata": {},
   "outputs": [
    {
     "name": "stdout",
     "output_type": "stream",
     "text": [
      "CPU times: user 16 s, sys: 2.1 s, total: 18.1 s\n",
      "Wall time: 8.9 s\n"
     ]
    }
   ],
   "source": [
    "%%time\n",
    "X_resampled_smote2, y_resampled_smote2 = smote2.fit_resample(X_train2, y_train2)"
   ]
  },
  {
   "cell_type": "code",
   "execution_count": 79,
   "id": "7275f3fd",
   "metadata": {},
   "outputs": [
    {
     "name": "stdout",
     "output_type": "stream",
     "text": [
      "Distribuição de classes após a reamostragem:  Counter({0: 56258, 12: 56258, 13: 56258, 1: 56258, 6: 56258, 4: 56258, 2: 56258, 7: 56258, 3: 56258, 11: 56258, 8: 56258, 10: 56258, 14: 56258, 15: 56258, 5: 56258, 9: 56258})\n"
     ]
    }
   ],
   "source": [
    "print(\"Distribuição de classes após a reamostragem: \", Counter(y_resampled_smote2))"
   ]
  },
  {
   "cell_type": "code",
   "execution_count": 80,
   "id": "c4cf476e",
   "metadata": {},
   "outputs": [
    {
     "data": {
      "text/html": [
       "<div>\n",
       "<style scoped>\n",
       "    .dataframe tbody tr th:only-of-type {\n",
       "        vertical-align: middle;\n",
       "    }\n",
       "\n",
       "    .dataframe tbody tr th {\n",
       "        vertical-align: top;\n",
       "    }\n",
       "\n",
       "    .dataframe thead th {\n",
       "        text-align: right;\n",
       "    }\n",
       "</style>\n",
       "<table border=\"1\" class=\"dataframe\">\n",
       "  <thead>\n",
       "    <tr style=\"text-align: right;\">\n",
       "      <th></th>\n",
       "      <th>0</th>\n",
       "      <th>1</th>\n",
       "      <th>2</th>\n",
       "      <th>3</th>\n",
       "      <th>4</th>\n",
       "      <th>5</th>\n",
       "      <th>6</th>\n",
       "      <th>7</th>\n",
       "      <th>8</th>\n",
       "      <th>9</th>\n",
       "      <th>...</th>\n",
       "      <th>351</th>\n",
       "      <th>352</th>\n",
       "      <th>353</th>\n",
       "      <th>354</th>\n",
       "      <th>355</th>\n",
       "      <th>356</th>\n",
       "      <th>357</th>\n",
       "      <th>358</th>\n",
       "      <th>359</th>\n",
       "      <th>label</th>\n",
       "    </tr>\n",
       "  </thead>\n",
       "  <tbody>\n",
       "    <tr>\n",
       "      <th>0</th>\n",
       "      <td>-0.272225</td>\n",
       "      <td>-0.268127</td>\n",
       "      <td>-0.260744</td>\n",
       "      <td>-0.252706</td>\n",
       "      <td>-0.244672</td>\n",
       "      <td>-0.237299</td>\n",
       "      <td>-0.235190</td>\n",
       "      <td>-0.235714</td>\n",
       "      <td>-0.238872</td>\n",
       "      <td>-0.243349</td>\n",
       "      <td>...</td>\n",
       "      <td>-0.230183</td>\n",
       "      <td>-0.189770</td>\n",
       "      <td>-0.146723</td>\n",
       "      <td>-0.109592</td>\n",
       "      <td>-0.079692</td>\n",
       "      <td>-0.057679</td>\n",
       "      <td>-0.036979</td>\n",
       "      <td>-0.018249</td>\n",
       "      <td>0.005089</td>\n",
       "      <td>0</td>\n",
       "    </tr>\n",
       "    <tr>\n",
       "      <th>1</th>\n",
       "      <td>0.177141</td>\n",
       "      <td>0.159657</td>\n",
       "      <td>0.142420</td>\n",
       "      <td>0.126453</td>\n",
       "      <td>0.111244</td>\n",
       "      <td>0.096794</td>\n",
       "      <td>0.082591</td>\n",
       "      <td>0.069403</td>\n",
       "      <td>0.056717</td>\n",
       "      <td>0.045301</td>\n",
       "      <td>...</td>\n",
       "      <td>-0.319993</td>\n",
       "      <td>-0.325578</td>\n",
       "      <td>-0.329743</td>\n",
       "      <td>-0.333003</td>\n",
       "      <td>-0.335100</td>\n",
       "      <td>-0.335138</td>\n",
       "      <td>-0.332479</td>\n",
       "      <td>-0.327505</td>\n",
       "      <td>-0.319065</td>\n",
       "      <td>12</td>\n",
       "    </tr>\n",
       "    <tr>\n",
       "      <th>2</th>\n",
       "      <td>0.015869</td>\n",
       "      <td>0.009805</td>\n",
       "      <td>0.003733</td>\n",
       "      <td>0.000293</td>\n",
       "      <td>0.000993</td>\n",
       "      <td>0.003572</td>\n",
       "      <td>0.005765</td>\n",
       "      <td>0.009459</td>\n",
       "      <td>0.010128</td>\n",
       "      <td>0.010035</td>\n",
       "      <td>...</td>\n",
       "      <td>-0.085052</td>\n",
       "      <td>0.219559</td>\n",
       "      <td>0.575089</td>\n",
       "      <td>0.981540</td>\n",
       "      <td>1.432121</td>\n",
       "      <td>1.921174</td>\n",
       "      <td>2.449830</td>\n",
       "      <td>3.009792</td>\n",
       "      <td>3.593137</td>\n",
       "      <td>0</td>\n",
       "    </tr>\n",
       "    <tr>\n",
       "      <th>3</th>\n",
       "      <td>-0.207261</td>\n",
       "      <td>-0.203968</td>\n",
       "      <td>-0.200676</td>\n",
       "      <td>-0.193351</td>\n",
       "      <td>-0.185406</td>\n",
       "      <td>-0.174359</td>\n",
       "      <td>-0.161761</td>\n",
       "      <td>-0.147302</td>\n",
       "      <td>-0.133775</td>\n",
       "      <td>-0.123353</td>\n",
       "      <td>...</td>\n",
       "      <td>-0.398504</td>\n",
       "      <td>-0.382682</td>\n",
       "      <td>-0.357551</td>\n",
       "      <td>-0.324353</td>\n",
       "      <td>-0.290537</td>\n",
       "      <td>-0.260447</td>\n",
       "      <td>-0.234083</td>\n",
       "      <td>-0.212377</td>\n",
       "      <td>-0.192224</td>\n",
       "      <td>0</td>\n",
       "    </tr>\n",
       "    <tr>\n",
       "      <th>4</th>\n",
       "      <td>-0.839046</td>\n",
       "      <td>-0.850149</td>\n",
       "      <td>-0.857853</td>\n",
       "      <td>-0.858766</td>\n",
       "      <td>-0.854017</td>\n",
       "      <td>-0.845588</td>\n",
       "      <td>-0.834325</td>\n",
       "      <td>-0.820512</td>\n",
       "      <td>-0.806694</td>\n",
       "      <td>-0.793719</td>\n",
       "      <td>...</td>\n",
       "      <td>-0.216890</td>\n",
       "      <td>-0.196352</td>\n",
       "      <td>-0.176667</td>\n",
       "      <td>-0.162924</td>\n",
       "      <td>-0.155689</td>\n",
       "      <td>-0.156941</td>\n",
       "      <td>-0.164418</td>\n",
       "      <td>-0.176706</td>\n",
       "      <td>-0.189282</td>\n",
       "      <td>0</td>\n",
       "    </tr>\n",
       "  </tbody>\n",
       "</table>\n",
       "<p>5 rows × 361 columns</p>\n",
       "</div>"
      ],
      "text/plain": [
       "          0         1         2         3         4         5         6  \\\n",
       "0 -0.272225 -0.268127 -0.260744 -0.252706 -0.244672 -0.237299 -0.235190   \n",
       "1  0.177141  0.159657  0.142420  0.126453  0.111244  0.096794  0.082591   \n",
       "2  0.015869  0.009805  0.003733  0.000293  0.000993  0.003572  0.005765   \n",
       "3 -0.207261 -0.203968 -0.200676 -0.193351 -0.185406 -0.174359 -0.161761   \n",
       "4 -0.839046 -0.850149 -0.857853 -0.858766 -0.854017 -0.845588 -0.834325   \n",
       "\n",
       "          7         8         9  ...       351       352       353       354  \\\n",
       "0 -0.235714 -0.238872 -0.243349  ... -0.230183 -0.189770 -0.146723 -0.109592   \n",
       "1  0.069403  0.056717  0.045301  ... -0.319993 -0.325578 -0.329743 -0.333003   \n",
       "2  0.009459  0.010128  0.010035  ... -0.085052  0.219559  0.575089  0.981540   \n",
       "3 -0.147302 -0.133775 -0.123353  ... -0.398504 -0.382682 -0.357551 -0.324353   \n",
       "4 -0.820512 -0.806694 -0.793719  ... -0.216890 -0.196352 -0.176667 -0.162924   \n",
       "\n",
       "        355       356       357       358       359  label  \n",
       "0 -0.079692 -0.057679 -0.036979 -0.018249  0.005089      0  \n",
       "1 -0.335100 -0.335138 -0.332479 -0.327505 -0.319065     12  \n",
       "2  1.432121  1.921174  2.449830  3.009792  3.593137      0  \n",
       "3 -0.290537 -0.260447 -0.234083 -0.212377 -0.192224      0  \n",
       "4 -0.155689 -0.156941 -0.164418 -0.176706 -0.189282      0  \n",
       "\n",
       "[5 rows x 361 columns]"
      ]
     },
     "execution_count": 80,
     "metadata": {},
     "output_type": "execute_result"
    }
   ],
   "source": [
    "resampled_smote2 = X_resampled_smote2.join(y_resampled_smote2)\n",
    "resampled_smote2.head()"
   ]
  },
  {
   "cell_type": "code",
   "execution_count": 81,
   "id": "6d5ca27b",
   "metadata": {},
   "outputs": [
    {
     "data": {
      "text/html": [],
      "text/plain": [
       "<IPython.core.display.HTML object>"
      ]
     },
     "metadata": {},
     "output_type": "display_data"
    },
    {
     "name": "stderr",
     "output_type": "stream",
     "text": [
      "2023-12-03 23:57:12,508\tERROR trial_runner.py:1062 -- Trial a6baa04d: Error processing event.\n",
      "ray.tune.error._TuneNoNextExecutorEventError: Traceback (most recent call last):\n",
      "  File \"/home/jupyter-luana@alu.ufc.br/.local/lib/python3.9/site-packages/ray/tune/execution/ray_trial_executor.py\", line 1276, in get_next_executor_event\n",
      "    future_result = ray.get(ready_future)\n",
      "  File \"/home/jupyter-luana@alu.ufc.br/.local/lib/python3.9/site-packages/ray/_private/client_mode_hook.py\", line 105, in wrapper\n",
      "    return func(*args, **kwargs)\n",
      "  File \"/home/jupyter-luana@alu.ufc.br/.local/lib/python3.9/site-packages/ray/_private/worker.py\", line 2382, in get\n",
      "    raise value\n",
      "ray.exceptions.OutOfMemoryError: Task was killed due to the node running low on memory.\n",
      "Memory on the node (IP: 10.102.21.240, ID: aab385690118dd7c0659c694adf563c98c005fed3aae68e3a1c9a922) where the task (actor ID: 4f03cbcb426c6a82eee0f49e01000000, name=ImplicitFunc.__init__, pid=633033, memory used=11.52GB) was running was 89.69GB / 94.20GB (0.952027), which exceeds the memory usage threshold of 0.95. Ray killed this worker (ID: 61767bfb2982421699642ab61cd52a364555fabb2dc8500155923bce) because it was the most recently scheduled task; to see more information about memory usage on this node, use `ray logs raylet.out -ip 10.102.21.240`. To see the logs of the worker, use `ray logs worker-61767bfb2982421699642ab61cd52a364555fabb2dc8500155923bce*out -ip 10.102.21.240. Top 10 memory users:\n",
      "PID\tMEM(GB)\tCOMMAND\n",
      "461128\t42.15\t/opt/tljh/user/bin/python -m ipykernel_launcher -f /home/jupyter-luana@alu.ufc.br/.local/share/jupyt...\n",
      "597911\t20.33\t/opt/tljh/user/bin/python -m ipykernel_launcher -f /home/jupyter-luana@alu.ufc.br/.local/share/jupyt...\n",
      "633033\t11.52\tray::ImplicitFunc.train\n",
      "489067\t9.71\t/opt/tljh/user/bin/python -m ipykernel_launcher -f /home/jupyter-luana@alu.ufc.br/.local/share/jupyt...\n",
      "525134\t0.21\t/opt/tljh/user/bin/python -m ipykernel_launcher -f /home/jupyter-luana@alu.ufc.br/.local/share/jupyt...\n",
      "461345\t0.13\t/home/jupyter-luana@alu.ufc.br/.local/lib/python3.9/site-packages/ray/core/src/ray/gcs/gcs_server --...\n",
      "489192\t0.13\t/home/jupyter-luana@alu.ufc.br/.local/lib/python3.9/site-packages/ray/core/src/ray/gcs/gcs_server --...\n",
      "320596\t0.12\t/opt/tljh/user/bin/python /opt/tljh/user/bin/jupyterhub-singleuser --port=42525\n",
      "598045\t0.12\t/home/jupyter-luana@alu.ufc.br/.local/lib/python3.9/site-packages/ray/core/src/ray/gcs/gcs_server --...\n",
      "461453\t0.10\t/home/jupyter-luana@alu.ufc.br/.local/lib/python3.9/site-packages/ray/core/src/ray/raylet/raylet --r...\n",
      "Refer to the documentation on how to address the out of memory issue: https://docs.ray.io/en/latest/ray-core/scheduling/ray-oom-prevention.html. Consider provisioning more memory on this node or reducing task parallelism by requesting more CPUs per task. Set max_restarts and max_task_retries to enable retry when the task crashes due to OOM. To adjust the kill threshold, set the environment variable `RAY_memory_usage_threshold` when starting Ray. To disable worker killing, set the environment variable `RAY_memory_monitor_refresh_ms` to zero.\n",
      "\n",
      "2023-12-04 00:03:54,286\tERROR tune.py:794 -- Trials did not complete: [a6baa04d]\n",
      "Fitted model: NeuralNetTorch/6af39528 ...\n",
      "\t0.9976\t = Validation score   (accuracy)\n",
      "\t394.97s\t = Training   runtime\n",
      "\t1.09s\t = Validation runtime\n",
      "Fitting model: LightGBMLarge ... Training model for up to 495.41s of the 6508.88s of remaining time.\n",
      "\tWarning: Not enough memory to safely train model. Estimated to require 28.023 GB out of 16.960 GB available memory (183.596%)... (90.000% of avail memory is the max safe size)\n",
      "\tTo force training the model, specify the model hyperparameter \"ag.max_memory_usage_ratio\" to a larger value (currently 1.0, set to >=1.89 to avoid the error)\n",
      "\t\tTo set the same value for all models, do the following when calling predictor.fit: `predictor.fit(..., ag_args_fit={\"ag.max_memory_usage_ratio\": VALUE})`\n",
      "\t\tSetting \"ag.max_memory_usage_ratio\" to values above 1 may result in out-of-memory errors. You may consider using a machine with more memory as a safer alternative.\n",
      "\tNot enough memory to train LightGBMLarge... Skipping this model.\n",
      "Fitting model: WeightedEnsemble_L2 ... Training model for up to 715.6s of the 6496.04s of remaining time.\n",
      "\t0.9976\t = Validation score   (accuracy)\n",
      "\t0.01s\t = Training   runtime\n",
      "\t0.0s\t = Validation runtime\n",
      "AutoGluon training complete, total runtime = 709.41s ... Best model: \"WeightedEnsemble_L2\"\n",
      "TabularPredictor saved. To load, use: predictor = TabularPredictor.load(\"AutogluonModels/ag-20231203_235217/\")\n"
     ]
    },
    {
     "name": "stdout",
     "output_type": "stream",
     "text": [
      "CPU times: user 3min 29s, sys: 29.4 s, total: 3min 58s\n",
      "Wall time: 11min 49s\n"
     ]
    }
   ],
   "source": [
    "%%time\n",
    "smote_resampling_training2 = TabularPredictor(label='label').fit(resampled_smote2, time_limit=7200,\n",
    "                                                                 hyperparameter_tune_kwargs = {'num_trials': 5, 'scheduler' : 'local', 'searcher': 'auto'})"
   ]
  },
  {
   "cell_type": "markdown",
   "id": "d4136069",
   "metadata": {},
   "source": [
    "**Dataframe de hiperparâmetros**\n",
    "\n",
    "A função ``autogluon_models_df`` trata as informações dos modelos gerados pelo TabularPredictor e retorna um dataframe com um ranking de acurácia dos modelos e facilita o processo de seleção/visualização dos hiperparâmetros de cada modelo. O datafame contém as seguintes informações: a segmentação usada, se o filtro foi aplicado, a técnica de reamostragem, o nome do modelo, os hiperparâmetros do modelo e acurácia. Nesse notebook executamos os modelos com a segmentação dos dados com uma janela de 180."
   ]
  },
  {
   "cell_type": "code",
   "execution_count": 82,
   "id": "88ff463c",
   "metadata": {},
   "outputs": [
    {
     "name": "stdout",
     "output_type": "stream",
     "text": [
      "CPU times: user 2.69 s, sys: 123 ms, total: 2.81 s\n",
      "Wall time: 2.16 s\n"
     ]
    }
   ],
   "source": [
    "%%time\n",
    "models_with_smote2 = autogluon_models_df(window=window_size,\n",
    "                                        filter_applied=True, \n",
    "                                        resampling_tech='smote',\n",
    "                                        predictor_model=smote_resampling_training2,\n",
    "                                        test_data_=test_data2)"
   ]
  },
  {
   "cell_type": "markdown",
   "id": "ab9564d4",
   "metadata": {},
   "source": [
    "**Ranking dos modelos com a técnica de reamostragem SMOTE e com filtro**"
   ]
  },
  {
   "cell_type": "code",
   "execution_count": 83,
   "id": "91878059",
   "metadata": {},
   "outputs": [
    {
     "data": {
      "text/html": [
       "<div>\n",
       "<style scoped>\n",
       "    .dataframe tbody tr th:only-of-type {\n",
       "        vertical-align: middle;\n",
       "    }\n",
       "\n",
       "    .dataframe tbody tr th {\n",
       "        vertical-align: top;\n",
       "    }\n",
       "\n",
       "    .dataframe thead th {\n",
       "        text-align: right;\n",
       "    }\n",
       "</style>\n",
       "<table border=\"1\" class=\"dataframe\">\n",
       "  <thead>\n",
       "    <tr style=\"text-align: right;\">\n",
       "      <th></th>\n",
       "      <th>window_size</th>\n",
       "      <th>filter_applied</th>\n",
       "      <th>resampling_tech</th>\n",
       "      <th>model</th>\n",
       "      <th>hyperparameters</th>\n",
       "      <th>accuracy</th>\n",
       "      <th>precision_weighted</th>\n",
       "      <th>recall_weighted</th>\n",
       "      <th>f1_weighted</th>\n",
       "      <th>algorithm</th>\n",
       "    </tr>\n",
       "  </thead>\n",
       "  <tbody>\n",
       "    <tr>\n",
       "      <th>0</th>\n",
       "      <td>360</td>\n",
       "      <td>True</td>\n",
       "      <td>smote</td>\n",
       "      <td>NeuralNetTorch/6af39528</td>\n",
       "      <td>{'num_epochs': 500, 'epochs_wo_improve': 20, 'activation': 'relu', 'embedding_size_factor': 1.0, 'embed_exponent': 0.56, 'max_embedding_dim': 100, 'y_range': None, 'y_range_extend': 0.05, 'dropout_prob': 0.0, 'optimizer': 'adam', 'learning_rate': 0.0006758494175505446, 'weight_decay': 0.0003859682340903026, 'proc.embed_min_categories': 3, 'proc.impute_strategy': 'mean', 'proc.max_category_levels': 100, 'proc.skew_threshold': 0.99, 'use_ngram_features': False, 'num_layers': 2, 'hidden_size': 128, 'max_batch_size': 512, 'use_batchnorm': True, 'loss_function': 'auto'}</td>\n",
       "      <td>0.976806</td>\n",
       "      <td>0.981088</td>\n",
       "      <td>0.976806</td>\n",
       "      <td>0.978366</td>\n",
       "      <td>NeuralNetTorch</td>\n",
       "    </tr>\n",
       "  </tbody>\n",
       "</table>\n",
       "</div>"
      ],
      "text/plain": [
       "   window_size  filter_applied resampling_tech                    model  \\\n",
       "0          360            True           smote  NeuralNetTorch/6af39528   \n",
       "\n",
       "                                                                                                                                                                                                                                                                                                                                                                                                                                                                                                                                                                               hyperparameters  \\\n",
       "0  {'num_epochs': 500, 'epochs_wo_improve': 20, 'activation': 'relu', 'embedding_size_factor': 1.0, 'embed_exponent': 0.56, 'max_embedding_dim': 100, 'y_range': None, 'y_range_extend': 0.05, 'dropout_prob': 0.0, 'optimizer': 'adam', 'learning_rate': 0.0006758494175505446, 'weight_decay': 0.0003859682340903026, 'proc.embed_min_categories': 3, 'proc.impute_strategy': 'mean', 'proc.max_category_levels': 100, 'proc.skew_threshold': 0.99, 'use_ngram_features': False, 'num_layers': 2, 'hidden_size': 128, 'max_batch_size': 512, 'use_batchnorm': True, 'loss_function': 'auto'}   \n",
       "\n",
       "   accuracy  precision_weighted  recall_weighted  f1_weighted       algorithm  \n",
       "0  0.976806            0.981088         0.976806     0.978366  NeuralNetTorch  "
      ]
     },
     "execution_count": 83,
     "metadata": {},
     "output_type": "execute_result"
    }
   ],
   "source": [
    "models_with_smote2.head(2)"
   ]
  },
  {
   "cell_type": "markdown",
   "id": "e2020ebc",
   "metadata": {},
   "source": [
    "**Cálculo do intervalo de confiança**"
   ]
  },
  {
   "cell_type": "code",
   "execution_count": 172,
   "id": "82e878c0",
   "metadata": {},
   "outputs": [
    {
     "name": "stdout",
     "output_type": "stream",
     "text": [
      "Intervalo de confiança(0.9765794743029338, 0.9800205256970661)\n"
     ]
    }
   ],
   "source": [
    "z = 1.96\n",
    "f1 = 0.9783\n",
    "n = len(X_test2)\n",
    "interval = z * np.sqrt((f1 * (1 - f1)) / n)\n",
    "print(f\"Intervalo de confiança{(f1-interval, f1+interval)}\")"
   ]
  },
  {
   "cell_type": "code",
   "execution_count": 85,
   "id": "6b6e9b93",
   "metadata": {},
   "outputs": [
    {
     "data": {
      "text/plain": [
       "NeuralNetTorch    1\n",
       "Name: algorithm, dtype: int64"
      ]
     },
     "execution_count": 85,
     "metadata": {},
     "output_type": "execute_result"
    }
   ],
   "source": [
    "models_with_smote2['algorithm'].value_counts()"
   ]
  },
  {
   "cell_type": "code",
   "execution_count": 86,
   "id": "d1f69b57",
   "metadata": {},
   "outputs": [
    {
     "data": {
      "text/plain": [
       "1"
      ]
     },
     "execution_count": 86,
     "metadata": {},
     "output_type": "execute_result"
    }
   ],
   "source": [
    "models_with_smote2['algorithm'].value_counts().sum()"
   ]
  },
  {
   "cell_type": "markdown",
   "id": "de57cae6",
   "metadata": {},
   "source": [
    "Para evitar perda dos dados"
   ]
  },
  {
   "cell_type": "code",
   "execution_count": 87,
   "id": "4a08e42f",
   "metadata": {},
   "outputs": [],
   "source": [
    "models_with_smote2.to_csv('models_with_smote2.csv', index=False)"
   ]
  },
  {
   "cell_type": "markdown",
   "id": "6726916d",
   "metadata": {},
   "source": [
    "**Junção dos modelos**"
   ]
  },
  {
   "cell_type": "code",
   "execution_count": 88,
   "id": "3b646773",
   "metadata": {},
   "outputs": [],
   "source": [
    "hyperparameters_all_models = pd.concat([hyperparameters_all_models, models_with_smote2])"
   ]
  },
  {
   "cell_type": "code",
   "execution_count": 89,
   "id": "0563bed8",
   "metadata": {},
   "outputs": [],
   "source": [
    "hyperparameters_all_models = hyperparameters_all_models.sort_values(by='accuracy', ascending=False)"
   ]
  },
  {
   "cell_type": "code",
   "execution_count": 90,
   "id": "f68ddd0f",
   "metadata": {},
   "outputs": [],
   "source": [
    "hyperparameters_all_models = hyperparameters_all_models.reset_index(drop=True)"
   ]
  },
  {
   "cell_type": "code",
   "execution_count": 91,
   "id": "3c90d665",
   "metadata": {},
   "outputs": [
    {
     "data": {
      "text/html": [
       "<div>\n",
       "<style scoped>\n",
       "    .dataframe tbody tr th:only-of-type {\n",
       "        vertical-align: middle;\n",
       "    }\n",
       "\n",
       "    .dataframe tbody tr th {\n",
       "        vertical-align: top;\n",
       "    }\n",
       "\n",
       "    .dataframe thead th {\n",
       "        text-align: right;\n",
       "    }\n",
       "</style>\n",
       "<table border=\"1\" class=\"dataframe\">\n",
       "  <thead>\n",
       "    <tr style=\"text-align: right;\">\n",
       "      <th></th>\n",
       "      <th>window_size</th>\n",
       "      <th>filter_applied</th>\n",
       "      <th>resampling_tech</th>\n",
       "      <th>model</th>\n",
       "      <th>hyperparameters</th>\n",
       "      <th>accuracy</th>\n",
       "      <th>precision_weighted</th>\n",
       "      <th>recall_weighted</th>\n",
       "      <th>f1_weighted</th>\n",
       "      <th>algorithm</th>\n",
       "    </tr>\n",
       "  </thead>\n",
       "  <tbody>\n",
       "    <tr>\n",
       "      <th>0</th>\n",
       "      <td>360</td>\n",
       "      <td>True</td>\n",
       "      <td>None</td>\n",
       "      <td>NeuralNetFastAI/80c0ceaf</td>\n",
       "      <td>{'layers': (1000, 500), 'emb_drop': 0.44574310265510286, 'ps': 0.09173623202265024, 'bs': 128, 'lr': 0.006973408537915314, 'epochs': 30, 'early.stopping.min_delta': 0.0001, 'early.stopping.patience': 20, 'smoothing': 0.0}</td>\n",
       "      <td>0.989583</td>\n",
       "      <td>0.989203</td>\n",
       "      <td>0.989583</td>\n",
       "      <td>0.989178</td>\n",
       "      <td>NeuralNetFastAI</td>\n",
       "    </tr>\n",
       "    <tr>\n",
       "      <th>1</th>\n",
       "      <td>360</td>\n",
       "      <td>True</td>\n",
       "      <td>None</td>\n",
       "      <td>NeuralNetFastAI/a465bc90</td>\n",
       "      <td>{'layers': None, 'emb_drop': 0.1, 'ps': 0.1, 'bs': 256, 'lr': 0.01, 'epochs': 30, 'early.stopping.min_delta': 0.0001, 'early.stopping.patience': 20, 'smoothing': 0.0}</td>\n",
       "      <td>0.989292</td>\n",
       "      <td>0.988853</td>\n",
       "      <td>0.989292</td>\n",
       "      <td>0.988909</td>\n",
       "      <td>NeuralNetFastAI</td>\n",
       "    </tr>\n",
       "    <tr>\n",
       "      <th>2</th>\n",
       "      <td>360</td>\n",
       "      <td>False</td>\n",
       "      <td>adasyn</td>\n",
       "      <td>NeuralNetFastAI/03135a95</td>\n",
       "      <td>{'layers': None, 'emb_drop': 0.1, 'ps': 0.1, 'bs': 256, 'lr': 0.01, 'epochs': 30, 'early.stopping.min_delta': 0.0001, 'early.stopping.patience': 20, 'smoothing': 0.0}</td>\n",
       "      <td>0.989220</td>\n",
       "      <td>0.988799</td>\n",
       "      <td>0.989220</td>\n",
       "      <td>0.988899</td>\n",
       "      <td>NeuralNetFastAI</td>\n",
       "    </tr>\n",
       "    <tr>\n",
       "      <th>3</th>\n",
       "      <td>360</td>\n",
       "      <td>False</td>\n",
       "      <td>None</td>\n",
       "      <td>NeuralNetFastAI/81ef5b8c</td>\n",
       "      <td>{'layers': None, 'emb_drop': 0.1, 'ps': 0.1, 'bs': 256, 'lr': 0.01, 'epochs': 30, 'early.stopping.min_delta': 0.0001, 'early.stopping.patience': 20, 'smoothing': 0.0}</td>\n",
       "      <td>0.988494</td>\n",
       "      <td>0.988070</td>\n",
       "      <td>0.988494</td>\n",
       "      <td>0.988127</td>\n",
       "      <td>NeuralNetFastAI</td>\n",
       "    </tr>\n",
       "    <tr>\n",
       "      <th>4</th>\n",
       "      <td>360</td>\n",
       "      <td>False</td>\n",
       "      <td>None</td>\n",
       "      <td>NeuralNetFastAI/30f5b552</td>\n",
       "      <td>{'layers': (500, 200, 100), 'emb_drop': 0.42712629581198064, 'ps': 0.07249739001468652, 'bs': 4096, 'lr': 0.035156995999692124, 'epochs': 28, 'early.stopping.min_delta': 0.0001, 'early.stopping.patience': 20, 'smoothing': 0.0}</td>\n",
       "      <td>0.988421</td>\n",
       "      <td>0.987926</td>\n",
       "      <td>0.988421</td>\n",
       "      <td>0.988056</td>\n",
       "      <td>NeuralNetFastAI</td>\n",
       "    </tr>\n",
       "  </tbody>\n",
       "</table>\n",
       "</div>"
      ],
      "text/plain": [
       "   window_size  filter_applied resampling_tech                     model  \\\n",
       "0          360            True            None  NeuralNetFastAI/80c0ceaf   \n",
       "1          360            True            None  NeuralNetFastAI/a465bc90   \n",
       "2          360           False          adasyn  NeuralNetFastAI/03135a95   \n",
       "3          360           False            None  NeuralNetFastAI/81ef5b8c   \n",
       "4          360           False            None  NeuralNetFastAI/30f5b552   \n",
       "\n",
       "                                                                                                                                                                                                                      hyperparameters  \\\n",
       "0       {'layers': (1000, 500), 'emb_drop': 0.44574310265510286, 'ps': 0.09173623202265024, 'bs': 128, 'lr': 0.006973408537915314, 'epochs': 30, 'early.stopping.min_delta': 0.0001, 'early.stopping.patience': 20, 'smoothing': 0.0}   \n",
       "1                                                              {'layers': None, 'emb_drop': 0.1, 'ps': 0.1, 'bs': 256, 'lr': 0.01, 'epochs': 30, 'early.stopping.min_delta': 0.0001, 'early.stopping.patience': 20, 'smoothing': 0.0}   \n",
       "2                                                              {'layers': None, 'emb_drop': 0.1, 'ps': 0.1, 'bs': 256, 'lr': 0.01, 'epochs': 30, 'early.stopping.min_delta': 0.0001, 'early.stopping.patience': 20, 'smoothing': 0.0}   \n",
       "3                                                              {'layers': None, 'emb_drop': 0.1, 'ps': 0.1, 'bs': 256, 'lr': 0.01, 'epochs': 30, 'early.stopping.min_delta': 0.0001, 'early.stopping.patience': 20, 'smoothing': 0.0}   \n",
       "4  {'layers': (500, 200, 100), 'emb_drop': 0.42712629581198064, 'ps': 0.07249739001468652, 'bs': 4096, 'lr': 0.035156995999692124, 'epochs': 28, 'early.stopping.min_delta': 0.0001, 'early.stopping.patience': 20, 'smoothing': 0.0}   \n",
       "\n",
       "   accuracy  precision_weighted  recall_weighted  f1_weighted        algorithm  \n",
       "0  0.989583            0.989203         0.989583     0.989178  NeuralNetFastAI  \n",
       "1  0.989292            0.988853         0.989292     0.988909  NeuralNetFastAI  \n",
       "2  0.989220            0.988799         0.989220     0.988899  NeuralNetFastAI  \n",
       "3  0.988494            0.988070         0.988494     0.988127  NeuralNetFastAI  \n",
       "4  0.988421            0.987926         0.988421     0.988056  NeuralNetFastAI  "
      ]
     },
     "execution_count": 91,
     "metadata": {},
     "output_type": "execute_result"
    }
   ],
   "source": [
    "hyperparameters_all_models.head()"
   ]
  },
  {
   "cell_type": "markdown",
   "id": "48305bf6",
   "metadata": {},
   "source": [
    "### AutoML com técnica de reamostragem ADASYN"
   ]
  },
  {
   "cell_type": "code",
   "execution_count": 92,
   "id": "cec3d78b",
   "metadata": {},
   "outputs": [
    {
     "name": "stdout",
     "output_type": "stream",
     "text": [
      "Distribuição de classes sem a reamostragem:  Counter({0: 56258, 1: 6053, 2: 5441, 6: 5347, 12: 5267, 3: 1909, 13: 737, 7: 601, 8: 354, 10: 172, 14: 145, 4: 113, 15: 99, 11: 80, 5: 62, 9: 12})\n"
     ]
    }
   ],
   "source": [
    "print(\"Distribuição de classes sem a reamostragem: \", Counter(y_train2))"
   ]
  },
  {
   "cell_type": "code",
   "execution_count": 93,
   "id": "76fa31a4",
   "metadata": {},
   "outputs": [],
   "source": [
    "adasyn2 = ADASYN(sampling_strategy='minority', random_state=42)\n",
    "X_resampled_adasyn2, y_resampled_adasyn2 = adasyn.fit_resample(X_train2, y_train2)"
   ]
  },
  {
   "cell_type": "code",
   "execution_count": 94,
   "id": "d9efe28b",
   "metadata": {},
   "outputs": [
    {
     "name": "stdout",
     "output_type": "stream",
     "text": [
      "Distribuição de classes após a reamostragem:  Counter({9: 56259, 0: 56258, 1: 6053, 2: 5441, 6: 5347, 12: 5267, 3: 1909, 13: 737, 7: 601, 8: 354, 10: 172, 14: 145, 4: 113, 15: 99, 11: 80, 5: 62})\n"
     ]
    }
   ],
   "source": [
    "print(\"Distribuição de classes após a reamostragem: \", Counter(y_resampled_adasyn2))"
   ]
  },
  {
   "cell_type": "code",
   "execution_count": 95,
   "id": "49480350",
   "metadata": {},
   "outputs": [],
   "source": [
    "resampled_adasyn2 = X_resampled_adasyn2.join(y_resampled_adasyn2)"
   ]
  },
  {
   "cell_type": "code",
   "execution_count": 96,
   "id": "478180cf",
   "metadata": {},
   "outputs": [
    {
     "data": {
      "text/html": [],
      "text/plain": [
       "<IPython.core.display.HTML object>"
      ]
     },
     "metadata": {},
     "output_type": "display_data"
    },
    {
     "name": "stderr",
     "output_type": "stream",
     "text": [
      "Fitted model: NeuralNetTorch/d6cf7215 ...\n",
      "\t0.992\t = Validation score   (accuracy)\n",
      "\t137.66s\t = Training   runtime\n",
      "\t0.66s\t = Validation runtime\n",
      "Fitted model: NeuralNetTorch/21a6cdd4 ...\n",
      "\t0.991\t = Validation score   (accuracy)\n",
      "\t179.05s\t = Training   runtime\n",
      "\t0.06s\t = Validation runtime\n",
      "Fitted model: NeuralNetTorch/5b5ef5fb ...\n",
      "\t0.9934\t = Validation score   (accuracy)\n",
      "\t257.73s\t = Training   runtime\n",
      "\t0.06s\t = Validation runtime\n",
      "Fitted model: NeuralNetTorch/dadb5b62 ...\n",
      "\t0.9704\t = Validation score   (accuracy)\n",
      "\t223.63s\t = Training   runtime\n",
      "\t0.43s\t = Validation runtime\n",
      "Fitted model: NeuralNetTorch/c7dd3c92 ...\n",
      "\t0.992\t = Validation score   (accuracy)\n",
      "\t229.98s\t = Training   runtime\n",
      "\t0.5s\t = Validation runtime\n",
      "Fitting model: LightGBMLarge ... Training model for up to 498.06s of the 3958.33s of remaining time.\n",
      "\t0.9876\t = Validation score   (accuracy)\n",
      "\t412.49s\t = Training   runtime\n",
      "\t1.18s\t = Validation runtime\n",
      "Fitting model: WeightedEnsemble_L2 ... Training model for up to 719.42s of the 3532.38s of remaining time.\n",
      "\t0.9952\t = Validation score   (accuracy)\n",
      "\t2.69s\t = Training   runtime\n",
      "\t0.0s\t = Validation runtime\n",
      "AutoGluon training complete, total runtime = 3671.14s ... Best model: \"WeightedEnsemble_L2\"\n",
      "TabularPredictor saved. To load, use: predictor = TabularPredictor.load(\"AutogluonModels/ag-20231204_000410/\")\n"
     ]
    },
    {
     "name": "stdout",
     "output_type": "stream",
     "text": [
      "CPU times: user 5h 59min 24s, sys: 1min 11s, total: 6h 35s\n",
      "Wall time: 1h 1min 11s\n"
     ]
    }
   ],
   "source": [
    "%%time\n",
    "adasyn_resampling_training2 = TabularPredictor(label='label').fit(resampled_adasyn2, time_limit=7200,\n",
    "                                                                  hyperparameter_tune_kwargs = {'num_trials': 5, 'scheduler' : 'local', 'searcher': 'auto'})"
   ]
  },
  {
   "cell_type": "markdown",
   "id": "202d9704",
   "metadata": {},
   "source": [
    "**Dataframe de hiperparâmetros**\n",
    "\n",
    "A função ``autogluon_models_df`` trata as informações dos modelos gerados pelo TabularPredictor e retorna um dataframe com um ranking de acurácia dos modelos e facilita o processo de seleção/visualização dos hiperparâmetros de cada modelo. O datafame contém as seguintes informações: a segmentação usada, se o filtro foi aplicado, a técnica de reamostragem, o nome do modelo, os hiperparâmetros do modelo e acurácia. Nesse notebook executamos os modelos com a segmentação dos dados com uma janela de 180."
   ]
  },
  {
   "cell_type": "code",
   "execution_count": 97,
   "id": "27e98880",
   "metadata": {},
   "outputs": [
    {
     "name": "stderr",
     "output_type": "stream",
     "text": [
      "/home/jupyter-luana@alu.ufc.br/.local/lib/python3.9/site-packages/sklearn/metrics/_classification.py:1344: UndefinedMetricWarning: Precision is ill-defined and being set to 0.0 in labels with no predicted samples. Use `zero_division` parameter to control this behavior.\n",
      "  _warn_prf(average, modifier, msg_start, len(result))\n",
      "/home/jupyter-luana@alu.ufc.br/.local/lib/python3.9/site-packages/sklearn/metrics/_classification.py:1344: UndefinedMetricWarning: Precision is ill-defined and being set to 0.0 in labels with no predicted samples. Use `zero_division` parameter to control this behavior.\n",
      "  _warn_prf(average, modifier, msg_start, len(result))\n",
      "/home/jupyter-luana@alu.ufc.br/.local/lib/python3.9/site-packages/sklearn/metrics/_classification.py:1344: UndefinedMetricWarning: Precision is ill-defined and being set to 0.0 in labels with no predicted samples. Use `zero_division` parameter to control this behavior.\n",
      "  _warn_prf(average, modifier, msg_start, len(result))\n",
      "/home/jupyter-luana@alu.ufc.br/.local/lib/python3.9/site-packages/sklearn/metrics/_classification.py:1344: UndefinedMetricWarning: Precision is ill-defined and being set to 0.0 in labels with no predicted samples. Use `zero_division` parameter to control this behavior.\n",
      "  _warn_prf(average, modifier, msg_start, len(result))\n",
      "/home/jupyter-luana@alu.ufc.br/.local/lib/python3.9/site-packages/sklearn/metrics/_classification.py:1344: UndefinedMetricWarning: Precision is ill-defined and being set to 0.0 in labels with no predicted samples. Use `zero_division` parameter to control this behavior.\n",
      "  _warn_prf(average, modifier, msg_start, len(result))\n",
      "/home/jupyter-luana@alu.ufc.br/.local/lib/python3.9/site-packages/sklearn/metrics/_classification.py:1344: UndefinedMetricWarning: Precision is ill-defined and being set to 0.0 in labels with no predicted samples. Use `zero_division` parameter to control this behavior.\n",
      "  _warn_prf(average, modifier, msg_start, len(result))\n"
     ]
    },
    {
     "name": "stdout",
     "output_type": "stream",
     "text": [
      "CPU times: user 7min 59s, sys: 3.22 s, total: 8min 2s\n",
      "Wall time: 1min 7s\n"
     ]
    }
   ],
   "source": [
    "%%time\n",
    "models_with_adasyn2 = autogluon_models_df(window=window_size,\n",
    "                                        filter_applied=True, \n",
    "                                        resampling_tech='adasyn',\n",
    "                                        predictor_model=adasyn_resampling_training2,\n",
    "                                        test_data_=test_data2)"
   ]
  },
  {
   "cell_type": "code",
   "execution_count": 98,
   "id": "d536f068",
   "metadata": {},
   "outputs": [
    {
     "data": {
      "text/plain": [
       "['KNeighborsUnif',\n",
       " 'KNeighborsDist',\n",
       " 'NeuralNetFastAI/a2a9f897',\n",
       " 'NeuralNetFastAI/c954893e',\n",
       " 'NeuralNetFastAI/70270316',\n",
       " 'NeuralNetFastAI/bc7c2f49',\n",
       " 'NeuralNetFastAI/e64e1fee',\n",
       " 'LightGBMXT/T1',\n",
       " 'LightGBMXT/T2',\n",
       " 'LightGBMXT/T3',\n",
       " 'LightGBM/T1',\n",
       " 'LightGBM/T2',\n",
       " 'LightGBM/T3',\n",
       " 'LightGBM/T4',\n",
       " 'RandomForestGini',\n",
       " 'RandomForestEntr',\n",
       " 'CatBoost/T1',\n",
       " 'ExtraTreesGini',\n",
       " 'ExtraTreesEntr',\n",
       " 'XGBoost/T1',\n",
       " 'XGBoost/T2',\n",
       " 'NeuralNetTorch/d6cf7215',\n",
       " 'NeuralNetTorch/21a6cdd4',\n",
       " 'NeuralNetTorch/5b5ef5fb',\n",
       " 'NeuralNetTorch/dadb5b62',\n",
       " 'NeuralNetTorch/c7dd3c92',\n",
       " 'LightGBMLarge',\n",
       " 'WeightedEnsemble_L2']"
      ]
     },
     "execution_count": 98,
     "metadata": {},
     "output_type": "execute_result"
    }
   ],
   "source": [
    "adasyn_resampling_training2.get_model_names()"
   ]
  },
  {
   "cell_type": "code",
   "execution_count": 99,
   "id": "f881f6b4",
   "metadata": {},
   "outputs": [],
   "source": [
    "y_pred_lua = adasyn_resampling_training2.predict(data=X_test2, model='LightGBMXT/T1')"
   ]
  },
  {
   "cell_type": "code",
   "execution_count": 100,
   "id": "5880964c",
   "metadata": {},
   "outputs": [
    {
     "name": "stdout",
     "output_type": "stream",
     "text": [
      "              precision    recall  f1-score   support\n",
      "\n",
      "           0     0.9856    0.9935    0.9896     18753\n",
      "           1     0.9955    0.9921    0.9938      2018\n",
      "           2     0.9956    0.9923    0.9939      1814\n",
      "           3     0.9714    0.8540    0.9089       637\n",
      "           4     0.3400    0.4595    0.3908        37\n",
      "           5     0.4062    0.6190    0.4906        21\n",
      "           6     0.9613    0.9613    0.9613      1782\n",
      "           7     0.8636    0.6617    0.7493       201\n",
      "           8     0.8700    0.7373    0.7982       118\n",
      "           9     0.5000    0.5000    0.5000         4\n",
      "          10     0.6000    0.4211    0.4948        57\n",
      "          11     0.7419    0.8846    0.8070        26\n",
      "          12     0.9966    0.9977    0.9972      1756\n",
      "          13     0.9686    0.8816    0.9231       245\n",
      "          14     0.6393    0.8125    0.7156        48\n",
      "          15     0.1250    0.1212    0.1231        33\n",
      "\n",
      "    accuracy                         0.9801     27550\n",
      "   macro avg     0.7475    0.7431    0.7398     27550\n",
      "weighted avg     0.9802    0.9801    0.9798     27550\n",
      "\n"
     ]
    }
   ],
   "source": [
    "print(classification_report(y_test, y_pred_lua, digits=4))"
   ]
  },
  {
   "cell_type": "markdown",
   "id": "7143d5f3",
   "metadata": {},
   "source": [
    "**Ranking dos modelos com a técnica de reamostragem SMOTE e com filtro**"
   ]
  },
  {
   "cell_type": "code",
   "execution_count": 101,
   "id": "cb68eeb7",
   "metadata": {},
   "outputs": [
    {
     "data": {
      "text/html": [
       "<div>\n",
       "<style scoped>\n",
       "    .dataframe tbody tr th:only-of-type {\n",
       "        vertical-align: middle;\n",
       "    }\n",
       "\n",
       "    .dataframe tbody tr th {\n",
       "        vertical-align: top;\n",
       "    }\n",
       "\n",
       "    .dataframe thead th {\n",
       "        text-align: right;\n",
       "    }\n",
       "</style>\n",
       "<table border=\"1\" class=\"dataframe\">\n",
       "  <thead>\n",
       "    <tr style=\"text-align: right;\">\n",
       "      <th></th>\n",
       "      <th>window_size</th>\n",
       "      <th>filter_applied</th>\n",
       "      <th>resampling_tech</th>\n",
       "      <th>model</th>\n",
       "      <th>hyperparameters</th>\n",
       "      <th>accuracy</th>\n",
       "      <th>precision_weighted</th>\n",
       "      <th>recall_weighted</th>\n",
       "      <th>f1_weighted</th>\n",
       "      <th>algorithm</th>\n",
       "    </tr>\n",
       "  </thead>\n",
       "  <tbody>\n",
       "    <tr>\n",
       "      <th>0</th>\n",
       "      <td>360</td>\n",
       "      <td>True</td>\n",
       "      <td>adasyn</td>\n",
       "      <td>NeuralNetFastAI/e64e1fee</td>\n",
       "      <td>{'layers': (1000, 500, 200), 'emb_drop': 0.3317958297251325, 'ps': 0.11820819289715057, 'bs': 4096, 'lr': 0.014805234868417729, 'epochs': 29, 'early.stopping.min_delta': 0.0001, 'early.stopping.patience': 20, 'smoothing': 0.0}</td>\n",
       "      <td>0.988857</td>\n",
       "      <td>0.988505</td>\n",
       "      <td>0.988857</td>\n",
       "      <td>0.988541</td>\n",
       "      <td>NeuralNetFastAI</td>\n",
       "    </tr>\n",
       "    <tr>\n",
       "      <th>1</th>\n",
       "      <td>360</td>\n",
       "      <td>True</td>\n",
       "      <td>adasyn</td>\n",
       "      <td>NeuralNetFastAI/a2a9f897</td>\n",
       "      <td>{'layers': None, 'emb_drop': 0.1, 'ps': 0.1, 'bs': 256, 'lr': 0.01, 'epochs': 30, 'early.stopping.min_delta': 0.0001, 'early.stopping.patience': 20, 'smoothing': 0.0}</td>\n",
       "      <td>0.987623</td>\n",
       "      <td>0.987331</td>\n",
       "      <td>0.987623</td>\n",
       "      <td>0.987352</td>\n",
       "      <td>NeuralNetFastAI</td>\n",
       "    </tr>\n",
       "  </tbody>\n",
       "</table>\n",
       "</div>"
      ],
      "text/plain": [
       "   window_size  filter_applied resampling_tech                     model  \\\n",
       "0          360            True          adasyn  NeuralNetFastAI/e64e1fee   \n",
       "1          360            True          adasyn  NeuralNetFastAI/a2a9f897   \n",
       "\n",
       "                                                                                                                                                                                                                      hyperparameters  \\\n",
       "0  {'layers': (1000, 500, 200), 'emb_drop': 0.3317958297251325, 'ps': 0.11820819289715057, 'bs': 4096, 'lr': 0.014805234868417729, 'epochs': 29, 'early.stopping.min_delta': 0.0001, 'early.stopping.patience': 20, 'smoothing': 0.0}   \n",
       "1                                                              {'layers': None, 'emb_drop': 0.1, 'ps': 0.1, 'bs': 256, 'lr': 0.01, 'epochs': 30, 'early.stopping.min_delta': 0.0001, 'early.stopping.patience': 20, 'smoothing': 0.0}   \n",
       "\n",
       "   accuracy  precision_weighted  recall_weighted  f1_weighted        algorithm  \n",
       "0  0.988857            0.988505         0.988857     0.988541  NeuralNetFastAI  \n",
       "1  0.987623            0.987331         0.987623     0.987352  NeuralNetFastAI  "
      ]
     },
     "execution_count": 101,
     "metadata": {},
     "output_type": "execute_result"
    }
   ],
   "source": [
    "models_with_adasyn2.head(2)"
   ]
  },
  {
   "cell_type": "markdown",
   "id": "1d7ad93b",
   "metadata": {},
   "source": [
    "**Cálculo do intervalo de confiança**"
   ]
  },
  {
   "cell_type": "code",
   "execution_count": 173,
   "id": "105dd6b0",
   "metadata": {},
   "outputs": [
    {
     "name": "stdout",
     "output_type": "stream",
     "text": [
      "Intervalo de confiança(0.9872409802966474, 0.9897590197033527)\n"
     ]
    }
   ],
   "source": [
    "z = 1.96\n",
    "f1 = 0.9885\n",
    "n = len(X_test2)\n",
    "interval = z * np.sqrt((f1 * (1 - f1)) / n)\n",
    "print(f\"Intervalo de confiança{(f1-interval, f1+interval)}\")"
   ]
  },
  {
   "cell_type": "code",
   "execution_count": 103,
   "id": "fbca4f7c",
   "metadata": {},
   "outputs": [
    {
     "data": {
      "text/plain": [
       "LightGBM           8\n",
       "NeuralNetFastAI    5\n",
       "NeuralNetTorch     5\n",
       "XGBoost            2\n",
       "KNeighbors         2\n",
       "RandomForest       2\n",
       "ExtraTrees         2\n",
       "CatBoost           1\n",
       "Name: algorithm, dtype: int64"
      ]
     },
     "execution_count": 103,
     "metadata": {},
     "output_type": "execute_result"
    }
   ],
   "source": [
    "models_with_adasyn2['algorithm'].value_counts()"
   ]
  },
  {
   "cell_type": "code",
   "execution_count": 104,
   "id": "07683521",
   "metadata": {},
   "outputs": [
    {
     "data": {
      "text/plain": [
       "27"
      ]
     },
     "execution_count": 104,
     "metadata": {},
     "output_type": "execute_result"
    }
   ],
   "source": [
    "models_with_adasyn2['algorithm'].value_counts().sum()"
   ]
  },
  {
   "cell_type": "markdown",
   "id": "9083e7f5",
   "metadata": {},
   "source": [
    "Para evitar perda dos dados"
   ]
  },
  {
   "cell_type": "code",
   "execution_count": 105,
   "id": "7566cd57",
   "metadata": {},
   "outputs": [],
   "source": [
    "models_with_adasyn2.to_csv('models_with_adasyn2.csv', index=False)"
   ]
  },
  {
   "cell_type": "markdown",
   "id": "fedbb292",
   "metadata": {},
   "source": [
    "**Junção dos modelos**"
   ]
  },
  {
   "cell_type": "code",
   "execution_count": 106,
   "id": "8b15102d",
   "metadata": {},
   "outputs": [],
   "source": [
    "hyperparameters_all_models = pd.concat([hyperparameters_all_models, models_with_adasyn2])"
   ]
  },
  {
   "cell_type": "code",
   "execution_count": 107,
   "id": "3a6f667f",
   "metadata": {},
   "outputs": [],
   "source": [
    "hyperparameters_all_models = hyperparameters_all_models.sort_values(by='accuracy', ascending=False)"
   ]
  },
  {
   "cell_type": "code",
   "execution_count": 108,
   "id": "4bfad02c",
   "metadata": {},
   "outputs": [],
   "source": [
    "hyperparameters_all_models = hyperparameters_all_models.reset_index(drop=True)"
   ]
  },
  {
   "cell_type": "code",
   "execution_count": 109,
   "id": "f2911a1d",
   "metadata": {},
   "outputs": [
    {
     "data": {
      "text/html": [
       "<div>\n",
       "<style scoped>\n",
       "    .dataframe tbody tr th:only-of-type {\n",
       "        vertical-align: middle;\n",
       "    }\n",
       "\n",
       "    .dataframe tbody tr th {\n",
       "        vertical-align: top;\n",
       "    }\n",
       "\n",
       "    .dataframe thead th {\n",
       "        text-align: right;\n",
       "    }\n",
       "</style>\n",
       "<table border=\"1\" class=\"dataframe\">\n",
       "  <thead>\n",
       "    <tr style=\"text-align: right;\">\n",
       "      <th></th>\n",
       "      <th>window_size</th>\n",
       "      <th>filter_applied</th>\n",
       "      <th>resampling_tech</th>\n",
       "      <th>model</th>\n",
       "      <th>hyperparameters</th>\n",
       "      <th>accuracy</th>\n",
       "      <th>precision_weighted</th>\n",
       "      <th>recall_weighted</th>\n",
       "      <th>f1_weighted</th>\n",
       "      <th>algorithm</th>\n",
       "    </tr>\n",
       "  </thead>\n",
       "  <tbody>\n",
       "    <tr>\n",
       "      <th>0</th>\n",
       "      <td>360</td>\n",
       "      <td>True</td>\n",
       "      <td>None</td>\n",
       "      <td>NeuralNetFastAI/80c0ceaf</td>\n",
       "      <td>{'layers': (1000, 500), 'emb_drop': 0.44574310265510286, 'ps': 0.09173623202265024, 'bs': 128, 'lr': 0.006973408537915314, 'epochs': 30, 'early.stopping.min_delta': 0.0001, 'early.stopping.patience': 20, 'smoothing': 0.0}</td>\n",
       "      <td>0.989583</td>\n",
       "      <td>0.989203</td>\n",
       "      <td>0.989583</td>\n",
       "      <td>0.989178</td>\n",
       "      <td>NeuralNetFastAI</td>\n",
       "    </tr>\n",
       "    <tr>\n",
       "      <th>1</th>\n",
       "      <td>360</td>\n",
       "      <td>True</td>\n",
       "      <td>None</td>\n",
       "      <td>NeuralNetFastAI/a465bc90</td>\n",
       "      <td>{'layers': None, 'emb_drop': 0.1, 'ps': 0.1, 'bs': 256, 'lr': 0.01, 'epochs': 30, 'early.stopping.min_delta': 0.0001, 'early.stopping.patience': 20, 'smoothing': 0.0}</td>\n",
       "      <td>0.989292</td>\n",
       "      <td>0.988853</td>\n",
       "      <td>0.989292</td>\n",
       "      <td>0.988909</td>\n",
       "      <td>NeuralNetFastAI</td>\n",
       "    </tr>\n",
       "    <tr>\n",
       "      <th>2</th>\n",
       "      <td>360</td>\n",
       "      <td>False</td>\n",
       "      <td>adasyn</td>\n",
       "      <td>NeuralNetFastAI/03135a95</td>\n",
       "      <td>{'layers': None, 'emb_drop': 0.1, 'ps': 0.1, 'bs': 256, 'lr': 0.01, 'epochs': 30, 'early.stopping.min_delta': 0.0001, 'early.stopping.patience': 20, 'smoothing': 0.0}</td>\n",
       "      <td>0.989220</td>\n",
       "      <td>0.988799</td>\n",
       "      <td>0.989220</td>\n",
       "      <td>0.988899</td>\n",
       "      <td>NeuralNetFastAI</td>\n",
       "    </tr>\n",
       "    <tr>\n",
       "      <th>3</th>\n",
       "      <td>360</td>\n",
       "      <td>True</td>\n",
       "      <td>adasyn</td>\n",
       "      <td>NeuralNetFastAI/e64e1fee</td>\n",
       "      <td>{'layers': (1000, 500, 200), 'emb_drop': 0.3317958297251325, 'ps': 0.11820819289715057, 'bs': 4096, 'lr': 0.014805234868417729, 'epochs': 29, 'early.stopping.min_delta': 0.0001, 'early.stopping.patience': 20, 'smoothing': 0.0}</td>\n",
       "      <td>0.988857</td>\n",
       "      <td>0.988505</td>\n",
       "      <td>0.988857</td>\n",
       "      <td>0.988541</td>\n",
       "      <td>NeuralNetFastAI</td>\n",
       "    </tr>\n",
       "    <tr>\n",
       "      <th>4</th>\n",
       "      <td>360</td>\n",
       "      <td>False</td>\n",
       "      <td>None</td>\n",
       "      <td>NeuralNetFastAI/81ef5b8c</td>\n",
       "      <td>{'layers': None, 'emb_drop': 0.1, 'ps': 0.1, 'bs': 256, 'lr': 0.01, 'epochs': 30, 'early.stopping.min_delta': 0.0001, 'early.stopping.patience': 20, 'smoothing': 0.0}</td>\n",
       "      <td>0.988494</td>\n",
       "      <td>0.988070</td>\n",
       "      <td>0.988494</td>\n",
       "      <td>0.988127</td>\n",
       "      <td>NeuralNetFastAI</td>\n",
       "    </tr>\n",
       "  </tbody>\n",
       "</table>\n",
       "</div>"
      ],
      "text/plain": [
       "   window_size  filter_applied resampling_tech                     model  \\\n",
       "0          360            True            None  NeuralNetFastAI/80c0ceaf   \n",
       "1          360            True            None  NeuralNetFastAI/a465bc90   \n",
       "2          360           False          adasyn  NeuralNetFastAI/03135a95   \n",
       "3          360            True          adasyn  NeuralNetFastAI/e64e1fee   \n",
       "4          360           False            None  NeuralNetFastAI/81ef5b8c   \n",
       "\n",
       "                                                                                                                                                                                                                      hyperparameters  \\\n",
       "0       {'layers': (1000, 500), 'emb_drop': 0.44574310265510286, 'ps': 0.09173623202265024, 'bs': 128, 'lr': 0.006973408537915314, 'epochs': 30, 'early.stopping.min_delta': 0.0001, 'early.stopping.patience': 20, 'smoothing': 0.0}   \n",
       "1                                                              {'layers': None, 'emb_drop': 0.1, 'ps': 0.1, 'bs': 256, 'lr': 0.01, 'epochs': 30, 'early.stopping.min_delta': 0.0001, 'early.stopping.patience': 20, 'smoothing': 0.0}   \n",
       "2                                                              {'layers': None, 'emb_drop': 0.1, 'ps': 0.1, 'bs': 256, 'lr': 0.01, 'epochs': 30, 'early.stopping.min_delta': 0.0001, 'early.stopping.patience': 20, 'smoothing': 0.0}   \n",
       "3  {'layers': (1000, 500, 200), 'emb_drop': 0.3317958297251325, 'ps': 0.11820819289715057, 'bs': 4096, 'lr': 0.014805234868417729, 'epochs': 29, 'early.stopping.min_delta': 0.0001, 'early.stopping.patience': 20, 'smoothing': 0.0}   \n",
       "4                                                              {'layers': None, 'emb_drop': 0.1, 'ps': 0.1, 'bs': 256, 'lr': 0.01, 'epochs': 30, 'early.stopping.min_delta': 0.0001, 'early.stopping.patience': 20, 'smoothing': 0.0}   \n",
       "\n",
       "   accuracy  precision_weighted  recall_weighted  f1_weighted        algorithm  \n",
       "0  0.989583            0.989203         0.989583     0.989178  NeuralNetFastAI  \n",
       "1  0.989292            0.988853         0.989292     0.988909  NeuralNetFastAI  \n",
       "2  0.989220            0.988799         0.989220     0.988899  NeuralNetFastAI  \n",
       "3  0.988857            0.988505         0.988857     0.988541  NeuralNetFastAI  \n",
       "4  0.988494            0.988070         0.988494     0.988127  NeuralNetFastAI  "
      ]
     },
     "execution_count": 109,
     "metadata": {},
     "output_type": "execute_result"
    }
   ],
   "source": [
    "hyperparameters_all_models.head()"
   ]
  },
  {
   "cell_type": "code",
   "execution_count": 110,
   "id": "01e8b58d",
   "metadata": {},
   "outputs": [],
   "source": [
    "hyperparameters_all_models.to_csv('all_models-vfinal_seg2000_5classes.csv', index=False)"
   ]
  },
  {
   "cell_type": "markdown",
   "id": "d36eb69c",
   "metadata": {},
   "source": [
    "## Análise dos modelos"
   ]
  },
  {
   "cell_type": "code",
   "execution_count": 111,
   "id": "1f71e34d",
   "metadata": {},
   "outputs": [
    {
     "data": {
      "text/plain": [
       "LightGBM           29\n",
       "NeuralNetTorch     22\n",
       "NeuralNetFastAI    20\n",
       "KNeighbors          8\n",
       "RandomForest        8\n",
       "ExtraTrees          8\n",
       "XGBoost             6\n",
       "CatBoost            4\n",
       "Name: algorithm, dtype: int64"
      ]
     },
     "execution_count": 111,
     "metadata": {},
     "output_type": "execute_result"
    }
   ],
   "source": [
    "hyperparameters_all_models.algorithm.value_counts()"
   ]
  },
  {
   "cell_type": "markdown",
   "id": "394243da",
   "metadata": {},
   "source": [
    "**Melhores modelos por algoritmo**"
   ]
  },
  {
   "cell_type": "code",
   "execution_count": 112,
   "id": "cafaf6bf",
   "metadata": {},
   "outputs": [
    {
     "data": {
      "text/plain": [
       "0    NeuralNetFastAI\n",
       "1    NeuralNetFastAI\n",
       "2    NeuralNetFastAI\n",
       "3    NeuralNetFastAI\n",
       "4    NeuralNetFastAI\n",
       "5    NeuralNetFastAI\n",
       "6    NeuralNetFastAI\n",
       "7     NeuralNetTorch\n",
       "8     NeuralNetTorch\n",
       "9    NeuralNetFastAI\n",
       "Name: algorithm, dtype: object"
      ]
     },
     "execution_count": 112,
     "metadata": {},
     "output_type": "execute_result"
    }
   ],
   "source": [
    "hyperparameters_all_models['algorithm'].head(10)"
   ]
  },
  {
   "cell_type": "code",
   "execution_count": 113,
   "id": "8712672d",
   "metadata": {},
   "outputs": [
    {
     "data": {
      "text/html": [
       "<div>\n",
       "<style scoped>\n",
       "    .dataframe tbody tr th:only-of-type {\n",
       "        vertical-align: middle;\n",
       "    }\n",
       "\n",
       "    .dataframe tbody tr th {\n",
       "        vertical-align: top;\n",
       "    }\n",
       "\n",
       "    .dataframe thead th {\n",
       "        text-align: right;\n",
       "    }\n",
       "</style>\n",
       "<table border=\"1\" class=\"dataframe\">\n",
       "  <thead>\n",
       "    <tr style=\"text-align: right;\">\n",
       "      <th></th>\n",
       "      <th>window_size</th>\n",
       "      <th>filter_applied</th>\n",
       "      <th>resampling_tech</th>\n",
       "      <th>model</th>\n",
       "      <th>hyperparameters</th>\n",
       "      <th>accuracy</th>\n",
       "      <th>precision_weighted</th>\n",
       "      <th>recall_weighted</th>\n",
       "      <th>f1_weighted</th>\n",
       "      <th>algorithm</th>\n",
       "    </tr>\n",
       "  </thead>\n",
       "  <tbody>\n",
       "  </tbody>\n",
       "</table>\n",
       "</div>"
      ],
      "text/plain": [
       "Empty DataFrame\n",
       "Columns: [window_size, filter_applied, resampling_tech, model, hyperparameters, accuracy, precision_weighted, recall_weighted, f1_weighted, algorithm]\n",
       "Index: []"
      ]
     },
     "execution_count": 113,
     "metadata": {},
     "output_type": "execute_result"
    }
   ],
   "source": [
    "hyperparameters_all_models[hyperparameters_all_models['algorithm'] == 'KNN']"
   ]
  },
  {
   "cell_type": "markdown",
   "id": "8bd19da3",
   "metadata": {},
   "source": [
    "**Melhores modelos por algoritmo**"
   ]
  },
  {
   "cell_type": "code",
   "execution_count": 114,
   "id": "df869ec4",
   "metadata": {},
   "outputs": [],
   "source": [
    "all_algorithms = ['LightGBM', 'RandomForest', 'NeuralNetTorch', 'NeuralNetFastAI', 'XGBoost',\n",
    "                      'ExtraTrees', 'CatBoost', 'KNeighbors']\n",
    "best_models = pd.DataFrame()\n",
    "for i in all_algorithms:\n",
    "    new_model = hyperparameters_all_models[hyperparameters_all_models['algorithm'] == i].head(1)\n",
    "    best_models = pd.concat([best_models, new_model], ignore_index=True)"
   ]
  },
  {
   "cell_type": "code",
   "execution_count": 115,
   "id": "e3e49102",
   "metadata": {},
   "outputs": [],
   "source": [
    "best_models = best_models.sort_values(by='accuracy', ascending=False)"
   ]
  },
  {
   "cell_type": "code",
   "execution_count": 116,
   "id": "c351189e",
   "metadata": {},
   "outputs": [],
   "source": [
    "best_models = best_models.reset_index(drop=True)"
   ]
  },
  {
   "cell_type": "code",
   "execution_count": 117,
   "id": "62ca136f",
   "metadata": {},
   "outputs": [],
   "source": [
    "best_models.to_csv('best_models-vfinal_seg2000_5classes.csv', index=False)"
   ]
  },
  {
   "cell_type": "code",
   "execution_count": 118,
   "id": "842fd2b1",
   "metadata": {},
   "outputs": [
    {
     "data": {
      "text/plain": [
       "(8, 10)"
      ]
     },
     "execution_count": 118,
     "metadata": {},
     "output_type": "execute_result"
    }
   ],
   "source": [
    "best_models.shape"
   ]
  },
  {
   "cell_type": "code",
   "execution_count": 119,
   "id": "5b4fd953",
   "metadata": {},
   "outputs": [
    {
     "data": {
      "text/html": [
       "<div>\n",
       "<style scoped>\n",
       "    .dataframe tbody tr th:only-of-type {\n",
       "        vertical-align: middle;\n",
       "    }\n",
       "\n",
       "    .dataframe tbody tr th {\n",
       "        vertical-align: top;\n",
       "    }\n",
       "\n",
       "    .dataframe thead th {\n",
       "        text-align: right;\n",
       "    }\n",
       "</style>\n",
       "<table border=\"1\" class=\"dataframe\">\n",
       "  <thead>\n",
       "    <tr style=\"text-align: right;\">\n",
       "      <th></th>\n",
       "      <th>window_size</th>\n",
       "      <th>filter_applied</th>\n",
       "      <th>resampling_tech</th>\n",
       "      <th>model</th>\n",
       "      <th>hyperparameters</th>\n",
       "      <th>accuracy</th>\n",
       "      <th>precision_weighted</th>\n",
       "      <th>recall_weighted</th>\n",
       "      <th>f1_weighted</th>\n",
       "      <th>algorithm</th>\n",
       "    </tr>\n",
       "  </thead>\n",
       "  <tbody>\n",
       "    <tr>\n",
       "      <th>0</th>\n",
       "      <td>360</td>\n",
       "      <td>True</td>\n",
       "      <td>None</td>\n",
       "      <td>NeuralNetFastAI/80c0ceaf</td>\n",
       "      <td>{'layers': (1000, 500), 'emb_drop': 0.44574310265510286, 'ps': 0.09173623202265024, 'bs': 128, 'lr': 0.006973408537915314, 'epochs': 30, 'early.stopping.min_delta': 0.0001, 'early.stopping.patience': 20, 'smoothing': 0.0}</td>\n",
       "      <td>0.989583</td>\n",
       "      <td>0.989203</td>\n",
       "      <td>0.989583</td>\n",
       "      <td>0.989178</td>\n",
       "      <td>NeuralNetFastAI</td>\n",
       "    </tr>\n",
       "    <tr>\n",
       "      <th>1</th>\n",
       "      <td>360</td>\n",
       "      <td>False</td>\n",
       "      <td>adasyn</td>\n",
       "      <td>NeuralNetTorch/fa4065ea</td>\n",
       "      <td>{'num_epochs': 500, 'epochs_wo_improve': 20, 'activation': 'elu', 'embedding_size_factor': 0.8, 'embed_exponent': 0.56, 'max_embedding_dim': 100, 'y_range': None, 'y_range_extend': 0.05, 'dropout_prob': 0.5, 'optimizer': 'adam', 'learning_rate': 0.0002833005989335324, 'weight_decay': 2.1008744194646226e-10, 'proc.embed_min_categories': 1000, 'proc.impute_strategy': 'mean', 'proc.max_category_levels': 1000, 'proc.skew_threshold': 0.999, 'use_ngram_features': False, 'num_layers': 3, 'hidden_size': 256, 'max_batch_size': 512, 'use_batchnorm': True, 'loss_function': 'auto'}</td>\n",
       "      <td>0.987768</td>\n",
       "      <td>0.987389</td>\n",
       "      <td>0.987768</td>\n",
       "      <td>0.987333</td>\n",
       "      <td>NeuralNetTorch</td>\n",
       "    </tr>\n",
       "    <tr>\n",
       "      <th>2</th>\n",
       "      <td>360</td>\n",
       "      <td>True</td>\n",
       "      <td>None</td>\n",
       "      <td>LightGBMXT/T3</td>\n",
       "      <td>{'learning_rate': 0.049883446878335284, 'extra_trees': True, 'feature_fraction': 0.9618129346960314, 'min_data_in_leaf': 52, 'num_leaves': 52}</td>\n",
       "      <td>0.985662</td>\n",
       "      <td>0.985824</td>\n",
       "      <td>0.985662</td>\n",
       "      <td>0.984850</td>\n",
       "      <td>LightGBM</td>\n",
       "    </tr>\n",
       "    <tr>\n",
       "      <th>3</th>\n",
       "      <td>360</td>\n",
       "      <td>True</td>\n",
       "      <td>None</td>\n",
       "      <td>XGBoost/T2</td>\n",
       "      <td>{'n_estimators': 10000, 'learning_rate': 0.06994332504138302, 'n_jobs': -1, 'proc.max_category_levels': 100, 'objective': 'multi:softmax', 'booster': 'gbtree', 'num_class': 16, 'max_depth': 6, 'min_child_weight': 4, 'colsample_bytree': 0.7744067519636624}</td>\n",
       "      <td>0.984973</td>\n",
       "      <td>0.983932</td>\n",
       "      <td>0.984973</td>\n",
       "      <td>0.983945</td>\n",
       "      <td>XGBoost</td>\n",
       "    </tr>\n",
       "    <tr>\n",
       "      <th>4</th>\n",
       "      <td>360</td>\n",
       "      <td>True</td>\n",
       "      <td>None</td>\n",
       "      <td>KNeighborsDist</td>\n",
       "      <td>{'weights': 'distance'}</td>\n",
       "      <td>0.983485</td>\n",
       "      <td>0.982866</td>\n",
       "      <td>0.983485</td>\n",
       "      <td>0.982178</td>\n",
       "      <td>KNeighbors</td>\n",
       "    </tr>\n",
       "    <tr>\n",
       "      <th>5</th>\n",
       "      <td>360</td>\n",
       "      <td>True</td>\n",
       "      <td>None</td>\n",
       "      <td>RandomForestEntr</td>\n",
       "      <td>{'n_estimators': 300, 'max_leaf_nodes': 15000, 'n_jobs': -1, 'random_state': 0, 'bootstrap': True, 'criterion': 'entropy'}</td>\n",
       "      <td>0.981960</td>\n",
       "      <td>0.981538</td>\n",
       "      <td>0.981960</td>\n",
       "      <td>0.980060</td>\n",
       "      <td>RandomForest</td>\n",
       "    </tr>\n",
       "    <tr>\n",
       "      <th>6</th>\n",
       "      <td>360</td>\n",
       "      <td>True</td>\n",
       "      <td>None</td>\n",
       "      <td>ExtraTreesGini</td>\n",
       "      <td>{'n_estimators': 300, 'max_leaf_nodes': 15000, 'n_jobs': -1, 'random_state': 0, 'bootstrap': True, 'criterion': 'gini'}</td>\n",
       "      <td>0.981779</td>\n",
       "      <td>0.980191</td>\n",
       "      <td>0.981779</td>\n",
       "      <td>0.979513</td>\n",
       "      <td>ExtraTrees</td>\n",
       "    </tr>\n",
       "    <tr>\n",
       "      <th>7</th>\n",
       "      <td>360</td>\n",
       "      <td>True</td>\n",
       "      <td>None</td>\n",
       "      <td>CatBoost/T1</td>\n",
       "      <td>{'iterations': 10000, 'learning_rate': 0.05, 'random_seed': 0, 'allow_writing_files': False, 'eval_metric': 'Accuracy', 'depth': 6, 'l2_leaf_reg': 3}</td>\n",
       "      <td>0.979129</td>\n",
       "      <td>0.978241</td>\n",
       "      <td>0.979129</td>\n",
       "      <td>0.977358</td>\n",
       "      <td>CatBoost</td>\n",
       "    </tr>\n",
       "  </tbody>\n",
       "</table>\n",
       "</div>"
      ],
      "text/plain": [
       "   window_size  filter_applied resampling_tech                     model  \\\n",
       "0          360            True            None  NeuralNetFastAI/80c0ceaf   \n",
       "1          360           False          adasyn   NeuralNetTorch/fa4065ea   \n",
       "2          360            True            None             LightGBMXT/T3   \n",
       "3          360            True            None                XGBoost/T2   \n",
       "4          360            True            None            KNeighborsDist   \n",
       "5          360            True            None          RandomForestEntr   \n",
       "6          360            True            None            ExtraTreesGini   \n",
       "7          360            True            None               CatBoost/T1   \n",
       "\n",
       "                                                                                                                                                                                                                                                                                                                                                                                                                                                                                                                                                                                    hyperparameters  \\\n",
       "0                                                                                                                                                                                                                                                                                                                                                                     {'layers': (1000, 500), 'emb_drop': 0.44574310265510286, 'ps': 0.09173623202265024, 'bs': 128, 'lr': 0.006973408537915314, 'epochs': 30, 'early.stopping.min_delta': 0.0001, 'early.stopping.patience': 20, 'smoothing': 0.0}   \n",
       "1  {'num_epochs': 500, 'epochs_wo_improve': 20, 'activation': 'elu', 'embedding_size_factor': 0.8, 'embed_exponent': 0.56, 'max_embedding_dim': 100, 'y_range': None, 'y_range_extend': 0.05, 'dropout_prob': 0.5, 'optimizer': 'adam', 'learning_rate': 0.0002833005989335324, 'weight_decay': 2.1008744194646226e-10, 'proc.embed_min_categories': 1000, 'proc.impute_strategy': 'mean', 'proc.max_category_levels': 1000, 'proc.skew_threshold': 0.999, 'use_ngram_features': False, 'num_layers': 3, 'hidden_size': 256, 'max_batch_size': 512, 'use_batchnorm': True, 'loss_function': 'auto'}   \n",
       "2                                                                                                                                                                                                                                                                                                                                                                                                                                                    {'learning_rate': 0.049883446878335284, 'extra_trees': True, 'feature_fraction': 0.9618129346960314, 'min_data_in_leaf': 52, 'num_leaves': 52}   \n",
       "3                                                                                                                                                                                                                                                                                                                                   {'n_estimators': 10000, 'learning_rate': 0.06994332504138302, 'n_jobs': -1, 'proc.max_category_levels': 100, 'objective': 'multi:softmax', 'booster': 'gbtree', 'num_class': 16, 'max_depth': 6, 'min_child_weight': 4, 'colsample_bytree': 0.7744067519636624}   \n",
       "4                                                                                                                                                                                                                                                                                                                                                                                                                                                                                                                                                                           {'weights': 'distance'}   \n",
       "5                                                                                                                                                                                                                                                                                                                                                                                                                                                                        {'n_estimators': 300, 'max_leaf_nodes': 15000, 'n_jobs': -1, 'random_state': 0, 'bootstrap': True, 'criterion': 'entropy'}   \n",
       "6                                                                                                                                                                                                                                                                                                                                                                                                                                                                           {'n_estimators': 300, 'max_leaf_nodes': 15000, 'n_jobs': -1, 'random_state': 0, 'bootstrap': True, 'criterion': 'gini'}   \n",
       "7                                                                                                                                                                                                                                                                                                                                                                                                                                             {'iterations': 10000, 'learning_rate': 0.05, 'random_seed': 0, 'allow_writing_files': False, 'eval_metric': 'Accuracy', 'depth': 6, 'l2_leaf_reg': 3}   \n",
       "\n",
       "   accuracy  precision_weighted  recall_weighted  f1_weighted        algorithm  \n",
       "0  0.989583            0.989203         0.989583     0.989178  NeuralNetFastAI  \n",
       "1  0.987768            0.987389         0.987768     0.987333   NeuralNetTorch  \n",
       "2  0.985662            0.985824         0.985662     0.984850         LightGBM  \n",
       "3  0.984973            0.983932         0.984973     0.983945          XGBoost  \n",
       "4  0.983485            0.982866         0.983485     0.982178       KNeighbors  \n",
       "5  0.981960            0.981538         0.981960     0.980060     RandomForest  \n",
       "6  0.981779            0.980191         0.981779     0.979513       ExtraTrees  \n",
       "7  0.979129            0.978241         0.979129     0.977358         CatBoost  "
      ]
     },
     "execution_count": 119,
     "metadata": {},
     "output_type": "execute_result"
    }
   ],
   "source": [
    "best_models"
   ]
  },
  {
   "cell_type": "markdown",
   "id": "e3ab7dcd",
   "metadata": {},
   "source": [
    "## Conclusão"
   ]
  },
  {
   "cell_type": "code",
   "execution_count": 180,
   "id": "14a06c46",
   "metadata": {},
   "outputs": [
    {
     "data": {
      "text/html": [
       "<div>\n",
       "<style scoped>\n",
       "    .dataframe tbody tr th:only-of-type {\n",
       "        vertical-align: middle;\n",
       "    }\n",
       "\n",
       "    .dataframe tbody tr th {\n",
       "        vertical-align: top;\n",
       "    }\n",
       "\n",
       "    .dataframe thead th {\n",
       "        text-align: right;\n",
       "    }\n",
       "</style>\n",
       "<table border=\"1\" class=\"dataframe\">\n",
       "  <thead>\n",
       "    <tr style=\"text-align: right;\">\n",
       "      <th></th>\n",
       "      <th>window_size</th>\n",
       "      <th>filter_applied</th>\n",
       "      <th>resampling_tech</th>\n",
       "      <th>model</th>\n",
       "      <th>hyperparameters</th>\n",
       "      <th>accuracy</th>\n",
       "      <th>precision_weighted</th>\n",
       "      <th>recall_weighted</th>\n",
       "      <th>f1_weighted</th>\n",
       "      <th>algorithm</th>\n",
       "    </tr>\n",
       "  </thead>\n",
       "  <tbody>\n",
       "    <tr>\n",
       "      <th>0</th>\n",
       "      <td>360</td>\n",
       "      <td>True</td>\n",
       "      <td>None</td>\n",
       "      <td>NeuralNetFastAI/80c0ceaf</td>\n",
       "      <td>{'layers': (1000, 500), 'emb_drop': 0.44574310265510286, 'ps': 0.09173623202265024, 'bs': 128, 'lr': 0.006973408537915314, 'epochs': 30, 'early.stopping.min_delta': 0.0001, 'early.stopping.patience': 20, 'smoothing': 0.0}</td>\n",
       "      <td>0.989583</td>\n",
       "      <td>0.989203</td>\n",
       "      <td>0.989583</td>\n",
       "      <td>0.989178</td>\n",
       "      <td>NeuralNetFastAI</td>\n",
       "    </tr>\n",
       "    <tr>\n",
       "      <th>1</th>\n",
       "      <td>360</td>\n",
       "      <td>True</td>\n",
       "      <td>None</td>\n",
       "      <td>NeuralNetFastAI/a465bc90</td>\n",
       "      <td>{'layers': None, 'emb_drop': 0.1, 'ps': 0.1, 'bs': 256, 'lr': 0.01, 'epochs': 30, 'early.stopping.min_delta': 0.0001, 'early.stopping.patience': 20, 'smoothing': 0.0}</td>\n",
       "      <td>0.989292</td>\n",
       "      <td>0.988853</td>\n",
       "      <td>0.989292</td>\n",
       "      <td>0.988909</td>\n",
       "      <td>NeuralNetFastAI</td>\n",
       "    </tr>\n",
       "    <tr>\n",
       "      <th>2</th>\n",
       "      <td>360</td>\n",
       "      <td>False</td>\n",
       "      <td>adasyn</td>\n",
       "      <td>NeuralNetFastAI/03135a95</td>\n",
       "      <td>{'layers': None, 'emb_drop': 0.1, 'ps': 0.1, 'bs': 256, 'lr': 0.01, 'epochs': 30, 'early.stopping.min_delta': 0.0001, 'early.stopping.patience': 20, 'smoothing': 0.0}</td>\n",
       "      <td>0.989220</td>\n",
       "      <td>0.988799</td>\n",
       "      <td>0.989220</td>\n",
       "      <td>0.988899</td>\n",
       "      <td>NeuralNetFastAI</td>\n",
       "    </tr>\n",
       "    <tr>\n",
       "      <th>3</th>\n",
       "      <td>360</td>\n",
       "      <td>True</td>\n",
       "      <td>adasyn</td>\n",
       "      <td>NeuralNetFastAI/e64e1fee</td>\n",
       "      <td>{'layers': (1000, 500, 200), 'emb_drop': 0.3317958297251325, 'ps': 0.11820819289715057, 'bs': 4096, 'lr': 0.014805234868417729, 'epochs': 29, 'early.stopping.min_delta': 0.0001, 'early.stopping.patience': 20, 'smoothing': 0.0}</td>\n",
       "      <td>0.988857</td>\n",
       "      <td>0.988505</td>\n",
       "      <td>0.988857</td>\n",
       "      <td>0.988541</td>\n",
       "      <td>NeuralNetFastAI</td>\n",
       "    </tr>\n",
       "    <tr>\n",
       "      <th>4</th>\n",
       "      <td>360</td>\n",
       "      <td>False</td>\n",
       "      <td>None</td>\n",
       "      <td>NeuralNetFastAI/81ef5b8c</td>\n",
       "      <td>{'layers': None, 'emb_drop': 0.1, 'ps': 0.1, 'bs': 256, 'lr': 0.01, 'epochs': 30, 'early.stopping.min_delta': 0.0001, 'early.stopping.patience': 20, 'smoothing': 0.0}</td>\n",
       "      <td>0.988494</td>\n",
       "      <td>0.988070</td>\n",
       "      <td>0.988494</td>\n",
       "      <td>0.988127</td>\n",
       "      <td>NeuralNetFastAI</td>\n",
       "    </tr>\n",
       "    <tr>\n",
       "      <th>5</th>\n",
       "      <td>360</td>\n",
       "      <td>False</td>\n",
       "      <td>None</td>\n",
       "      <td>NeuralNetFastAI/30f5b552</td>\n",
       "      <td>{'layers': (500, 200, 100), 'emb_drop': 0.42712629581198064, 'ps': 0.07249739001468652, 'bs': 4096, 'lr': 0.035156995999692124, 'epochs': 28, 'early.stopping.min_delta': 0.0001, 'early.stopping.patience': 20, 'smoothing': 0.0}</td>\n",
       "      <td>0.988421</td>\n",
       "      <td>0.987926</td>\n",
       "      <td>0.988421</td>\n",
       "      <td>0.988056</td>\n",
       "      <td>NeuralNetFastAI</td>\n",
       "    </tr>\n",
       "    <tr>\n",
       "      <th>6</th>\n",
       "      <td>360</td>\n",
       "      <td>False</td>\n",
       "      <td>adasyn</td>\n",
       "      <td>NeuralNetFastAI/65bbd68c</td>\n",
       "      <td>{'layers': (500, 200), 'emb_drop': 0.03117924504700692, 'ps': 0.36490445895396484, 'bs': 128, 'lr': 0.0034360287571879233, 'epochs': 22, 'early.stopping.min_delta': 0.0001, 'early.stopping.patience': 20, 'smoothing': 0.0}</td>\n",
       "      <td>0.987804</td>\n",
       "      <td>0.987318</td>\n",
       "      <td>0.987804</td>\n",
       "      <td>0.987213</td>\n",
       "      <td>NeuralNetFastAI</td>\n",
       "    </tr>\n",
       "    <tr>\n",
       "      <th>7</th>\n",
       "      <td>360</td>\n",
       "      <td>False</td>\n",
       "      <td>adasyn</td>\n",
       "      <td>NeuralNetTorch/fa4065ea</td>\n",
       "      <td>{'num_epochs': 500, 'epochs_wo_improve': 20, 'activation': 'elu', 'embedding_size_factor': 0.8, 'embed_exponent': 0.56, 'max_embedding_dim': 100, 'y_range': None, 'y_range_extend': 0.05, 'dropout_prob': 0.5, 'optimizer': 'adam', 'learning_rate': 0.0002833005989335324, 'weight_decay': 2.1008744194646226e-10, 'proc.embed_min_categories': 1000, 'proc.impute_strategy': 'mean', 'proc.max_category_levels': 1000, 'proc.skew_threshold': 0.999, 'use_ngram_features': False, 'num_layers': 3, 'hidden_size': 256, 'max_batch_size': 512, 'use_batchnorm': True, 'loss_function': 'auto'}</td>\n",
       "      <td>0.987768</td>\n",
       "      <td>0.987389</td>\n",
       "      <td>0.987768</td>\n",
       "      <td>0.987333</td>\n",
       "      <td>NeuralNetTorch</td>\n",
       "    </tr>\n",
       "    <tr>\n",
       "      <th>8</th>\n",
       "      <td>360</td>\n",
       "      <td>True</td>\n",
       "      <td>adasyn</td>\n",
       "      <td>NeuralNetTorch/5b5ef5fb</td>\n",
       "      <td>{'num_epochs': 500, 'epochs_wo_improve': 20, 'activation': 'relu', 'embedding_size_factor': 1.0, 'embed_exponent': 0.56, 'max_embedding_dim': 100, 'y_range': None, 'y_range_extend': 0.05, 'dropout_prob': 0.0, 'optimizer': 'adam', 'learning_rate': 0.0012087519042542174, 'weight_decay': 6.874387224787512e-07, 'proc.embed_min_categories': 100, 'proc.impute_strategy': 'mean', 'proc.max_category_levels': 400, 'proc.skew_threshold': 10.0, 'use_ngram_features': False, 'num_layers': 3, 'hidden_size': 256, 'max_batch_size': 512, 'use_batchnorm': True, 'loss_function': 'auto'}</td>\n",
       "      <td>0.987623</td>\n",
       "      <td>0.987260</td>\n",
       "      <td>0.987623</td>\n",
       "      <td>0.987352</td>\n",
       "      <td>NeuralNetTorch</td>\n",
       "    </tr>\n",
       "    <tr>\n",
       "      <th>9</th>\n",
       "      <td>360</td>\n",
       "      <td>True</td>\n",
       "      <td>adasyn</td>\n",
       "      <td>NeuralNetFastAI/a2a9f897</td>\n",
       "      <td>{'layers': None, 'emb_drop': 0.1, 'ps': 0.1, 'bs': 256, 'lr': 0.01, 'epochs': 30, 'early.stopping.min_delta': 0.0001, 'early.stopping.patience': 20, 'smoothing': 0.0}</td>\n",
       "      <td>0.987623</td>\n",
       "      <td>0.987331</td>\n",
       "      <td>0.987623</td>\n",
       "      <td>0.987352</td>\n",
       "      <td>NeuralNetFastAI</td>\n",
       "    </tr>\n",
       "  </tbody>\n",
       "</table>\n",
       "</div>"
      ],
      "text/plain": [
       "   window_size  filter_applied resampling_tech                     model  \\\n",
       "0          360            True            None  NeuralNetFastAI/80c0ceaf   \n",
       "1          360            True            None  NeuralNetFastAI/a465bc90   \n",
       "2          360           False          adasyn  NeuralNetFastAI/03135a95   \n",
       "3          360            True          adasyn  NeuralNetFastAI/e64e1fee   \n",
       "4          360           False            None  NeuralNetFastAI/81ef5b8c   \n",
       "5          360           False            None  NeuralNetFastAI/30f5b552   \n",
       "6          360           False          adasyn  NeuralNetFastAI/65bbd68c   \n",
       "7          360           False          adasyn   NeuralNetTorch/fa4065ea   \n",
       "8          360            True          adasyn   NeuralNetTorch/5b5ef5fb   \n",
       "9          360            True          adasyn  NeuralNetFastAI/a2a9f897   \n",
       "\n",
       "                                                                                                                                                                                                                                                                                                                                                                                                                                                                                                                                                                                    hyperparameters  \\\n",
       "0                                                                                                                                                                                                                                                                                                                                                                     {'layers': (1000, 500), 'emb_drop': 0.44574310265510286, 'ps': 0.09173623202265024, 'bs': 128, 'lr': 0.006973408537915314, 'epochs': 30, 'early.stopping.min_delta': 0.0001, 'early.stopping.patience': 20, 'smoothing': 0.0}   \n",
       "1                                                                                                                                                                                                                                                                                                                                                                                                                            {'layers': None, 'emb_drop': 0.1, 'ps': 0.1, 'bs': 256, 'lr': 0.01, 'epochs': 30, 'early.stopping.min_delta': 0.0001, 'early.stopping.patience': 20, 'smoothing': 0.0}   \n",
       "2                                                                                                                                                                                                                                                                                                                                                                                                                            {'layers': None, 'emb_drop': 0.1, 'ps': 0.1, 'bs': 256, 'lr': 0.01, 'epochs': 30, 'early.stopping.min_delta': 0.0001, 'early.stopping.patience': 20, 'smoothing': 0.0}   \n",
       "3                                                                                                                                                                                                                                                                                                                                                                {'layers': (1000, 500, 200), 'emb_drop': 0.3317958297251325, 'ps': 0.11820819289715057, 'bs': 4096, 'lr': 0.014805234868417729, 'epochs': 29, 'early.stopping.min_delta': 0.0001, 'early.stopping.patience': 20, 'smoothing': 0.0}   \n",
       "4                                                                                                                                                                                                                                                                                                                                                                                                                            {'layers': None, 'emb_drop': 0.1, 'ps': 0.1, 'bs': 256, 'lr': 0.01, 'epochs': 30, 'early.stopping.min_delta': 0.0001, 'early.stopping.patience': 20, 'smoothing': 0.0}   \n",
       "5                                                                                                                                                                                                                                                                                                                                                                {'layers': (500, 200, 100), 'emb_drop': 0.42712629581198064, 'ps': 0.07249739001468652, 'bs': 4096, 'lr': 0.035156995999692124, 'epochs': 28, 'early.stopping.min_delta': 0.0001, 'early.stopping.patience': 20, 'smoothing': 0.0}   \n",
       "6                                                                                                                                                                                                                                                                                                                                                                     {'layers': (500, 200), 'emb_drop': 0.03117924504700692, 'ps': 0.36490445895396484, 'bs': 128, 'lr': 0.0034360287571879233, 'epochs': 22, 'early.stopping.min_delta': 0.0001, 'early.stopping.patience': 20, 'smoothing': 0.0}   \n",
       "7  {'num_epochs': 500, 'epochs_wo_improve': 20, 'activation': 'elu', 'embedding_size_factor': 0.8, 'embed_exponent': 0.56, 'max_embedding_dim': 100, 'y_range': None, 'y_range_extend': 0.05, 'dropout_prob': 0.5, 'optimizer': 'adam', 'learning_rate': 0.0002833005989335324, 'weight_decay': 2.1008744194646226e-10, 'proc.embed_min_categories': 1000, 'proc.impute_strategy': 'mean', 'proc.max_category_levels': 1000, 'proc.skew_threshold': 0.999, 'use_ngram_features': False, 'num_layers': 3, 'hidden_size': 256, 'max_batch_size': 512, 'use_batchnorm': True, 'loss_function': 'auto'}   \n",
       "8     {'num_epochs': 500, 'epochs_wo_improve': 20, 'activation': 'relu', 'embedding_size_factor': 1.0, 'embed_exponent': 0.56, 'max_embedding_dim': 100, 'y_range': None, 'y_range_extend': 0.05, 'dropout_prob': 0.0, 'optimizer': 'adam', 'learning_rate': 0.0012087519042542174, 'weight_decay': 6.874387224787512e-07, 'proc.embed_min_categories': 100, 'proc.impute_strategy': 'mean', 'proc.max_category_levels': 400, 'proc.skew_threshold': 10.0, 'use_ngram_features': False, 'num_layers': 3, 'hidden_size': 256, 'max_batch_size': 512, 'use_batchnorm': True, 'loss_function': 'auto'}   \n",
       "9                                                                                                                                                                                                                                                                                                                                                                                                                            {'layers': None, 'emb_drop': 0.1, 'ps': 0.1, 'bs': 256, 'lr': 0.01, 'epochs': 30, 'early.stopping.min_delta': 0.0001, 'early.stopping.patience': 20, 'smoothing': 0.0}   \n",
       "\n",
       "   accuracy  precision_weighted  recall_weighted  f1_weighted        algorithm  \n",
       "0  0.989583            0.989203         0.989583     0.989178  NeuralNetFastAI  \n",
       "1  0.989292            0.988853         0.989292     0.988909  NeuralNetFastAI  \n",
       "2  0.989220            0.988799         0.989220     0.988899  NeuralNetFastAI  \n",
       "3  0.988857            0.988505         0.988857     0.988541  NeuralNetFastAI  \n",
       "4  0.988494            0.988070         0.988494     0.988127  NeuralNetFastAI  \n",
       "5  0.988421            0.987926         0.988421     0.988056  NeuralNetFastAI  \n",
       "6  0.987804            0.987318         0.987804     0.987213  NeuralNetFastAI  \n",
       "7  0.987768            0.987389         0.987768     0.987333   NeuralNetTorch  \n",
       "8  0.987623            0.987260         0.987623     0.987352   NeuralNetTorch  \n",
       "9  0.987623            0.987331         0.987623     0.987352  NeuralNetFastAI  "
      ]
     },
     "execution_count": 180,
     "metadata": {},
     "output_type": "execute_result"
    }
   ],
   "source": [
    "hyperparameters_all_models.head(10)"
   ]
  },
  {
   "cell_type": "code",
   "execution_count": 183,
   "id": "02102c6d",
   "metadata": {},
   "outputs": [
    {
     "data": {
      "text/html": [
       "<div>\n",
       "<style scoped>\n",
       "    .dataframe tbody tr th:only-of-type {\n",
       "        vertical-align: middle;\n",
       "    }\n",
       "\n",
       "    .dataframe tbody tr th {\n",
       "        vertical-align: top;\n",
       "    }\n",
       "\n",
       "    .dataframe thead th {\n",
       "        text-align: right;\n",
       "    }\n",
       "</style>\n",
       "<table border=\"1\" class=\"dataframe\">\n",
       "  <thead>\n",
       "    <tr style=\"text-align: right;\">\n",
       "      <th></th>\n",
       "      <th>window_size</th>\n",
       "      <th>filter_applied</th>\n",
       "      <th>resampling_tech</th>\n",
       "      <th>model</th>\n",
       "      <th>hyperparameters</th>\n",
       "      <th>accuracy</th>\n",
       "      <th>precision_weighted</th>\n",
       "      <th>recall_weighted</th>\n",
       "      <th>f1_weighted</th>\n",
       "      <th>algorithm</th>\n",
       "    </tr>\n",
       "  </thead>\n",
       "  <tbody>\n",
       "    <tr>\n",
       "      <th>7</th>\n",
       "      <td>360</td>\n",
       "      <td>False</td>\n",
       "      <td>adasyn</td>\n",
       "      <td>NeuralNetTorch/fa4065ea</td>\n",
       "      <td>{'num_epochs': 500, 'epochs_wo_improve': 20, 'activation': 'elu', 'embedding_size_factor': 0.8, 'embed_exponent': 0.56, 'max_embedding_dim': 100, 'y_range': None, 'y_range_extend': 0.05, 'dropout_prob': 0.5, 'optimizer': 'adam', 'learning_rate': 0.0002833005989335324, 'weight_decay': 2.1008744194646226e-10, 'proc.embed_min_categories': 1000, 'proc.impute_strategy': 'mean', 'proc.max_category_levels': 1000, 'proc.skew_threshold': 0.999, 'use_ngram_features': False, 'num_layers': 3, 'hidden_size': 256, 'max_batch_size': 512, 'use_batchnorm': True, 'loss_function': 'auto'}</td>\n",
       "      <td>0.987768</td>\n",
       "      <td>0.987389</td>\n",
       "      <td>0.987768</td>\n",
       "      <td>0.987333</td>\n",
       "      <td>NeuralNetTorch</td>\n",
       "    </tr>\n",
       "    <tr>\n",
       "      <th>8</th>\n",
       "      <td>360</td>\n",
       "      <td>True</td>\n",
       "      <td>adasyn</td>\n",
       "      <td>NeuralNetTorch/5b5ef5fb</td>\n",
       "      <td>{'num_epochs': 500, 'epochs_wo_improve': 20, 'activation': 'relu', 'embedding_size_factor': 1.0, 'embed_exponent': 0.56, 'max_embedding_dim': 100, 'y_range': None, 'y_range_extend': 0.05, 'dropout_prob': 0.0, 'optimizer': 'adam', 'learning_rate': 0.0012087519042542174, 'weight_decay': 6.874387224787512e-07, 'proc.embed_min_categories': 100, 'proc.impute_strategy': 'mean', 'proc.max_category_levels': 400, 'proc.skew_threshold': 10.0, 'use_ngram_features': False, 'num_layers': 3, 'hidden_size': 256, 'max_batch_size': 512, 'use_batchnorm': True, 'loss_function': 'auto'}</td>\n",
       "      <td>0.987623</td>\n",
       "      <td>0.987260</td>\n",
       "      <td>0.987623</td>\n",
       "      <td>0.987352</td>\n",
       "      <td>NeuralNetTorch</td>\n",
       "    </tr>\n",
       "    <tr>\n",
       "      <th>10</th>\n",
       "      <td>360</td>\n",
       "      <td>True</td>\n",
       "      <td>None</td>\n",
       "      <td>NeuralNetTorch/f4a2d8d3</td>\n",
       "      <td>{'num_epochs': 500, 'epochs_wo_improve': 20, 'activation': 'relu', 'embedding_size_factor': 1.5, 'embed_exponent': 0.56, 'max_embedding_dim': 100, 'y_range': None, 'y_range_extend': 0.05, 'dropout_prob': 0.2, 'optimizer': 'adam', 'learning_rate': 0.0003447386634213917, 'weight_decay': 1.4009786376863152e-07, 'proc.embed_min_categories': 3, 'proc.impute_strategy': 'most_frequent', 'proc.max_category_levels': 100, 'proc.skew_threshold': 0.999, 'use_ngram_features': False, 'num_layers': 4, 'hidden_size': 128, 'max_batch_size': 512, 'use_batchnorm': True, 'loss_function': 'auto'}</td>\n",
       "      <td>0.987550</td>\n",
       "      <td>0.986600</td>\n",
       "      <td>0.987550</td>\n",
       "      <td>0.986797</td>\n",
       "      <td>NeuralNetTorch</td>\n",
       "    </tr>\n",
       "    <tr>\n",
       "      <th>11</th>\n",
       "      <td>360</td>\n",
       "      <td>False</td>\n",
       "      <td>None</td>\n",
       "      <td>NeuralNetTorch/bd4a9e75</td>\n",
       "      <td>{'num_epochs': 500, 'epochs_wo_improve': 20, 'activation': 'relu', 'embedding_size_factor': 1.3, 'embed_exponent': 0.56, 'max_embedding_dim': 100, 'y_range': None, 'y_range_extend': 0.05, 'dropout_prob': 0.2, 'optimizer': 'adam', 'learning_rate': 0.00020473592726554356, 'weight_decay': 8.435427080082823e-08, 'proc.embed_min_categories': 3, 'proc.impute_strategy': 'mean', 'proc.max_category_levels': 100, 'proc.skew_threshold': 0.99, 'use_ngram_features': False, 'num_layers': 2, 'hidden_size': 128, 'max_batch_size': 512, 'use_batchnorm': False, 'loss_function': 'auto'}</td>\n",
       "      <td>0.987514</td>\n",
       "      <td>0.986761</td>\n",
       "      <td>0.987514</td>\n",
       "      <td>0.986851</td>\n",
       "      <td>NeuralNetTorch</td>\n",
       "    </tr>\n",
       "    <tr>\n",
       "      <th>12</th>\n",
       "      <td>360</td>\n",
       "      <td>False</td>\n",
       "      <td>None</td>\n",
       "      <td>NeuralNetTorch/87e19736</td>\n",
       "      <td>{'num_epochs': 500, 'epochs_wo_improve': 20, 'activation': 'relu', 'embedding_size_factor': 1.0, 'embed_exponent': 0.56, 'max_embedding_dim': 100, 'y_range': None, 'y_range_extend': 0.05, 'dropout_prob': 0.1, 'optimizer': 'adam', 'learning_rate': 0.0003, 'weight_decay': 1e-06, 'proc.embed_min_categories': 4, 'proc.impute_strategy': 'median', 'proc.max_category_levels': 100, 'proc.skew_threshold': 0.99, 'use_ngram_features': False, 'num_layers': 2, 'hidden_size': 128, 'max_batch_size': 512, 'use_batchnorm': False, 'loss_function': 'auto'}</td>\n",
       "      <td>0.987223</td>\n",
       "      <td>0.986481</td>\n",
       "      <td>0.987223</td>\n",
       "      <td>0.986727</td>\n",
       "      <td>NeuralNetTorch</td>\n",
       "    </tr>\n",
       "    <tr>\n",
       "      <th>13</th>\n",
       "      <td>360</td>\n",
       "      <td>True</td>\n",
       "      <td>adasyn</td>\n",
       "      <td>NeuralNetTorch/c7dd3c92</td>\n",
       "      <td>{'num_epochs': 500, 'epochs_wo_improve': 20, 'activation': 'elu', 'embedding_size_factor': 1.0, 'embed_exponent': 0.56, 'max_embedding_dim': 100, 'y_range': None, 'y_range_extend': 0.05, 'dropout_prob': 0.2, 'optimizer': 'adam', 'learning_rate': 0.0003314900744924503, 'weight_decay': 2.074084413876267e-12, 'proc.embed_min_categories': 4, 'proc.impute_strategy': 'mean', 'proc.max_category_levels': 100, 'proc.skew_threshold': 0.5, 'use_ngram_features': False, 'num_layers': 2, 'hidden_size': 128, 'max_batch_size': 512, 'use_batchnorm': False, 'loss_function': 'auto'}</td>\n",
       "      <td>0.986570</td>\n",
       "      <td>0.986105</td>\n",
       "      <td>0.986570</td>\n",
       "      <td>0.985871</td>\n",
       "      <td>NeuralNetTorch</td>\n",
       "    </tr>\n",
       "    <tr>\n",
       "      <th>14</th>\n",
       "      <td>360</td>\n",
       "      <td>True</td>\n",
       "      <td>None</td>\n",
       "      <td>NeuralNetTorch/58e5337a</td>\n",
       "      <td>{'num_epochs': 500, 'epochs_wo_improve': 20, 'activation': 'elu', 'embedding_size_factor': 0.8, 'embed_exponent': 0.56, 'max_embedding_dim': 100, 'y_range': None, 'y_range_extend': 0.05, 'dropout_prob': 0.3, 'optimizer': 'adam', 'learning_rate': 0.0002696068313272596, 'weight_decay': 3.2786968502739887e-06, 'proc.embed_min_categories': 4, 'proc.impute_strategy': 'median', 'proc.max_category_levels': 1000, 'proc.skew_threshold': 1.0, 'use_ngram_features': False, 'num_layers': 2, 'hidden_size': 128, 'max_batch_size': 512, 'use_batchnorm': False, 'loss_function': 'auto'}</td>\n",
       "      <td>0.986243</td>\n",
       "      <td>0.985674</td>\n",
       "      <td>0.986243</td>\n",
       "      <td>0.985854</td>\n",
       "      <td>NeuralNetTorch</td>\n",
       "    </tr>\n",
       "    <tr>\n",
       "      <th>16</th>\n",
       "      <td>360</td>\n",
       "      <td>True</td>\n",
       "      <td>None</td>\n",
       "      <td>NeuralNetTorch/1be4ff49</td>\n",
       "      <td>{'num_epochs': 500, 'epochs_wo_improve': 20, 'activation': 'relu', 'embedding_size_factor': 1.0, 'embed_exponent': 0.56, 'max_embedding_dim': 100, 'y_range': None, 'y_range_extend': 0.05, 'dropout_prob': 0.1, 'optimizer': 'adam', 'learning_rate': 0.0003, 'weight_decay': 1e-06, 'proc.embed_min_categories': 4, 'proc.impute_strategy': 'median', 'proc.max_category_levels': 100, 'proc.skew_threshold': 0.99, 'use_ngram_features': False, 'num_layers': 2, 'hidden_size': 128, 'max_batch_size': 512, 'use_batchnorm': False, 'loss_function': 'auto'}</td>\n",
       "      <td>0.986025</td>\n",
       "      <td>0.985229</td>\n",
       "      <td>0.986025</td>\n",
       "      <td>0.985415</td>\n",
       "      <td>NeuralNetTorch</td>\n",
       "    </tr>\n",
       "    <tr>\n",
       "      <th>18</th>\n",
       "      <td>360</td>\n",
       "      <td>True</td>\n",
       "      <td>None</td>\n",
       "      <td>NeuralNetTorch/81b1f9a4</td>\n",
       "      <td>{'num_epochs': 500, 'epochs_wo_improve': 20, 'activation': 'elu', 'embedding_size_factor': 0.5, 'embed_exponent': 0.56, 'max_embedding_dim': 100, 'y_range': None, 'y_range_extend': 0.05, 'dropout_prob': 0.2, 'optimizer': 'adam', 'learning_rate': 0.0017220535703428763, 'weight_decay': 1.7073119730321288e-07, 'proc.embed_min_categories': 1000, 'proc.impute_strategy': 'most_frequent', 'proc.max_category_levels': 200, 'proc.skew_threshold': 0.5, 'use_ngram_features': False, 'num_layers': 4, 'hidden_size': 256, 'max_batch_size': 512, 'use_batchnorm': False, 'loss_function': 'auto'}</td>\n",
       "      <td>0.985590</td>\n",
       "      <td>0.984705</td>\n",
       "      <td>0.985590</td>\n",
       "      <td>0.984550</td>\n",
       "      <td>NeuralNetTorch</td>\n",
       "    </tr>\n",
       "    <tr>\n",
       "      <th>19</th>\n",
       "      <td>360</td>\n",
       "      <td>True</td>\n",
       "      <td>adasyn</td>\n",
       "      <td>NeuralNetTorch/d6cf7215</td>\n",
       "      <td>{'num_epochs': 500, 'epochs_wo_improve': 20, 'activation': 'relu', 'embedding_size_factor': 1.0, 'embed_exponent': 0.56, 'max_embedding_dim': 100, 'y_range': None, 'y_range_extend': 0.05, 'dropout_prob': 0.1, 'optimizer': 'adam', 'learning_rate': 0.0003, 'weight_decay': 1e-06, 'proc.embed_min_categories': 4, 'proc.impute_strategy': 'median', 'proc.max_category_levels': 100, 'proc.skew_threshold': 0.99, 'use_ngram_features': False, 'num_layers': 2, 'hidden_size': 128, 'max_batch_size': 512, 'use_batchnorm': False, 'loss_function': 'auto'}</td>\n",
       "      <td>0.985445</td>\n",
       "      <td>0.984640</td>\n",
       "      <td>0.985445</td>\n",
       "      <td>0.984743</td>\n",
       "      <td>NeuralNetTorch</td>\n",
       "    </tr>\n",
       "    <tr>\n",
       "      <th>22</th>\n",
       "      <td>360</td>\n",
       "      <td>False</td>\n",
       "      <td>adasyn</td>\n",
       "      <td>NeuralNetTorch/558e0ece</td>\n",
       "      <td>{'num_epochs': 500, 'epochs_wo_improve': 20, 'activation': 'relu', 'embedding_size_factor': 1.1, 'embed_exponent': 0.56, 'max_embedding_dim': 100, 'y_range': None, 'y_range_extend': 0.05, 'dropout_prob': 0.4, 'optimizer': 'adam', 'learning_rate': 0.00011535598785985186, 'weight_decay': 0.0006012889408906359, 'proc.embed_min_categories': 4, 'proc.impute_strategy': 'mean', 'proc.max_category_levels': 1000, 'proc.skew_threshold': 100.0, 'use_ngram_features': False, 'num_layers': 2, 'hidden_size': 512, 'max_batch_size': 512, 'use_batchnorm': True, 'loss_function': 'auto'}</td>\n",
       "      <td>0.984574</td>\n",
       "      <td>0.983381</td>\n",
       "      <td>0.984574</td>\n",
       "      <td>0.983432</td>\n",
       "      <td>NeuralNetTorch</td>\n",
       "    </tr>\n",
       "    <tr>\n",
       "      <th>26</th>\n",
       "      <td>360</td>\n",
       "      <td>False</td>\n",
       "      <td>adasyn</td>\n",
       "      <td>NeuralNetTorch/db013e75</td>\n",
       "      <td>{'num_epochs': 500, 'epochs_wo_improve': 20, 'activation': 'relu', 'embedding_size_factor': 1.0, 'embed_exponent': 0.56, 'max_embedding_dim': 100, 'y_range': None, 'y_range_extend': 0.05, 'dropout_prob': 0.1, 'optimizer': 'adam', 'learning_rate': 0.0003, 'weight_decay': 1e-06, 'proc.embed_min_categories': 4, 'proc.impute_strategy': 'median', 'proc.max_category_levels': 100, 'proc.skew_threshold': 0.99, 'use_ngram_features': False, 'num_layers': 2, 'hidden_size': 128, 'max_batch_size': 512, 'use_batchnorm': False, 'loss_function': 'auto'}</td>\n",
       "      <td>0.983956</td>\n",
       "      <td>0.983216</td>\n",
       "      <td>0.983956</td>\n",
       "      <td>0.983081</td>\n",
       "      <td>NeuralNetTorch</td>\n",
       "    </tr>\n",
       "    <tr>\n",
       "      <th>27</th>\n",
       "      <td>360</td>\n",
       "      <td>True</td>\n",
       "      <td>adasyn</td>\n",
       "      <td>NeuralNetTorch/21a6cdd4</td>\n",
       "      <td>{'num_epochs': 500, 'epochs_wo_improve': 20, 'activation': 'elu', 'embedding_size_factor': 1.0, 'embed_exponent': 0.56, 'max_embedding_dim': 100, 'y_range': None, 'y_range_extend': 0.05, 'dropout_prob': 0.1, 'optimizer': 'adam', 'learning_rate': 0.0008294509683159359, 'weight_decay': 0.0005048295846316531, 'proc.embed_min_categories': 100, 'proc.impute_strategy': 'mean', 'proc.max_category_levels': 500, 'proc.skew_threshold': 10.0, 'use_ngram_features': False, 'num_layers': 3, 'hidden_size': 128, 'max_batch_size': 512, 'use_batchnorm': False, 'loss_function': 'auto'}</td>\n",
       "      <td>0.983956</td>\n",
       "      <td>0.982945</td>\n",
       "      <td>0.983956</td>\n",
       "      <td>0.983068</td>\n",
       "      <td>NeuralNetTorch</td>\n",
       "    </tr>\n",
       "    <tr>\n",
       "      <th>64</th>\n",
       "      <td>360</td>\n",
       "      <td>True</td>\n",
       "      <td>smote</td>\n",
       "      <td>NeuralNetTorch/6af39528</td>\n",
       "      <td>{'num_epochs': 500, 'epochs_wo_improve': 20, 'activation': 'relu', 'embedding_size_factor': 1.0, 'embed_exponent': 0.56, 'max_embedding_dim': 100, 'y_range': None, 'y_range_extend': 0.05, 'dropout_prob': 0.0, 'optimizer': 'adam', 'learning_rate': 0.0006758494175505446, 'weight_decay': 0.0003859682340903026, 'proc.embed_min_categories': 3, 'proc.impute_strategy': 'mean', 'proc.max_category_levels': 100, 'proc.skew_threshold': 0.99, 'use_ngram_features': False, 'num_layers': 2, 'hidden_size': 128, 'max_batch_size': 512, 'use_batchnorm': True, 'loss_function': 'auto'}</td>\n",
       "      <td>0.976806</td>\n",
       "      <td>0.981088</td>\n",
       "      <td>0.976806</td>\n",
       "      <td>0.978366</td>\n",
       "      <td>NeuralNetTorch</td>\n",
       "    </tr>\n",
       "    <tr>\n",
       "      <th>65</th>\n",
       "      <td>360</td>\n",
       "      <td>True</td>\n",
       "      <td>None</td>\n",
       "      <td>NeuralNetTorch/e9c9b3fb</td>\n",
       "      <td>{'num_epochs': 500, 'epochs_wo_improve': 20, 'activation': 'elu', 'embedding_size_factor': 1.0, 'embed_exponent': 0.56, 'max_embedding_dim': 100, 'y_range': None, 'y_range_extend': 0.05, 'dropout_prob': 0.5, 'optimizer': 'adam', 'learning_rate': 0.0007871347842638844, 'weight_decay': 0.00191836231330975, 'proc.embed_min_categories': 4, 'proc.impute_strategy': 'most_frequent', 'proc.max_category_levels': 1000, 'proc.skew_threshold': 0.999, 'use_ngram_features': False, 'num_layers': 2, 'hidden_size': 256, 'max_batch_size': 512, 'use_batchnorm': False, 'loss_function': 'auto'}</td>\n",
       "      <td>0.976225</td>\n",
       "      <td>0.973283</td>\n",
       "      <td>0.976225</td>\n",
       "      <td>0.974192</td>\n",
       "      <td>NeuralNetTorch</td>\n",
       "    </tr>\n",
       "    <tr>\n",
       "      <th>75</th>\n",
       "      <td>360</td>\n",
       "      <td>False</td>\n",
       "      <td>adasyn</td>\n",
       "      <td>NeuralNetTorch/3da6286e</td>\n",
       "      <td>{'num_epochs': 500, 'epochs_wo_improve': 20, 'activation': 'elu', 'embedding_size_factor': 1.3, 'embed_exponent': 0.56, 'max_embedding_dim': 100, 'y_range': None, 'y_range_extend': 0.05, 'dropout_prob': 0.2, 'optimizer': 'adam', 'learning_rate': 0.0199080193708755, 'weight_decay': 3.9302637677827553e-07, 'proc.embed_min_categories': 10, 'proc.impute_strategy': 'most_frequent', 'proc.max_category_levels': 1000, 'proc.skew_threshold': 0.2, 'use_ngram_features': False, 'num_layers': 2, 'hidden_size': 512, 'max_batch_size': 512, 'use_batchnorm': True, 'loss_function': 'auto'}</td>\n",
       "      <td>0.972232</td>\n",
       "      <td>0.970122</td>\n",
       "      <td>0.972232</td>\n",
       "      <td>0.970348</td>\n",
       "      <td>NeuralNetTorch</td>\n",
       "    </tr>\n",
       "    <tr>\n",
       "      <th>95</th>\n",
       "      <td>360</td>\n",
       "      <td>False</td>\n",
       "      <td>None</td>\n",
       "      <td>NeuralNetTorch/047a4968</td>\n",
       "      <td>{'num_epochs': 500, 'epochs_wo_improve': 20, 'activation': 'elu', 'embedding_size_factor': 0.7, 'embed_exponent': 0.56, 'max_embedding_dim': 100, 'y_range': None, 'y_range_extend': 0.05, 'dropout_prob': 0.4, 'optimizer': 'adam', 'learning_rate': 0.0004919021493936706, 'weight_decay': 0.009376842886936725, 'proc.embed_min_categories': 4, 'proc.impute_strategy': 'median', 'proc.max_category_levels': 20, 'proc.skew_threshold': 0.99, 'use_ngram_features': False, 'num_layers': 3, 'hidden_size': 128, 'max_batch_size': 512, 'use_batchnorm': False, 'loss_function': 'auto'}</td>\n",
       "      <td>0.951180</td>\n",
       "      <td>0.941136</td>\n",
       "      <td>0.951180</td>\n",
       "      <td>0.941348</td>\n",
       "      <td>NeuralNetTorch</td>\n",
       "    </tr>\n",
       "    <tr>\n",
       "      <th>97</th>\n",
       "      <td>360</td>\n",
       "      <td>True</td>\n",
       "      <td>adasyn</td>\n",
       "      <td>NeuralNetTorch/dadb5b62</td>\n",
       "      <td>{'num_epochs': 500, 'epochs_wo_improve': 20, 'activation': 'relu', 'embedding_size_factor': 1.1, 'embed_exponent': 0.56, 'max_embedding_dim': 100, 'y_range': None, 'y_range_extend': 0.05, 'dropout_prob': 0.4, 'optimizer': 'adam', 'learning_rate': 0.00016337029932175315, 'weight_decay': 0.08885113750376859, 'proc.embed_min_categories': 3, 'proc.impute_strategy': 'most_frequent', 'proc.max_category_levels': 100, 'proc.skew_threshold': 0.99, 'use_ngram_features': False, 'num_layers': 4, 'hidden_size': 256, 'max_batch_size': 512, 'use_batchnorm': True, 'loss_function': 'auto'}</td>\n",
       "      <td>0.950454</td>\n",
       "      <td>0.925007</td>\n",
       "      <td>0.950454</td>\n",
       "      <td>0.936191</td>\n",
       "      <td>NeuralNetTorch</td>\n",
       "    </tr>\n",
       "    <tr>\n",
       "      <th>99</th>\n",
       "      <td>360</td>\n",
       "      <td>False</td>\n",
       "      <td>adasyn</td>\n",
       "      <td>NeuralNetTorch/4321f039</td>\n",
       "      <td>{'num_epochs': 500, 'epochs_wo_improve': 20, 'activation': 'relu', 'embedding_size_factor': 0.9, 'embed_exponent': 0.56, 'max_embedding_dim': 100, 'y_range': None, 'y_range_extend': 0.05, 'dropout_prob': 0.0, 'optimizer': 'adam', 'learning_rate': 0.00381704812176929, 'weight_decay': 0.01561560820341085, 'proc.embed_min_categories': 100, 'proc.impute_strategy': 'median', 'proc.max_category_levels': 20, 'proc.skew_threshold': 0.2, 'use_ngram_features': False, 'num_layers': 4, 'hidden_size': 256, 'max_batch_size': 512, 'use_batchnorm': True, 'loss_function': 'auto'}</td>\n",
       "      <td>0.937495</td>\n",
       "      <td>0.912460</td>\n",
       "      <td>0.937495</td>\n",
       "      <td>0.920900</td>\n",
       "      <td>NeuralNetTorch</td>\n",
       "    </tr>\n",
       "    <tr>\n",
       "      <th>101</th>\n",
       "      <td>360</td>\n",
       "      <td>False</td>\n",
       "      <td>None</td>\n",
       "      <td>NeuralNetTorch/6a521c20</td>\n",
       "      <td>{'num_epochs': 500, 'epochs_wo_improve': 20, 'activation': 'elu', 'embedding_size_factor': 0.8, 'embed_exponent': 0.56, 'max_embedding_dim': 100, 'y_range': None, 'y_range_extend': 0.05, 'dropout_prob': 0.2, 'optimizer': 'adam', 'learning_rate': 0.00204183581270632, 'weight_decay': 0.025036061925065637, 'proc.embed_min_categories': 10, 'proc.impute_strategy': 'mean', 'proc.max_category_levels': 10, 'proc.skew_threshold': 0.3, 'use_ngram_features': False, 'num_layers': 3, 'hidden_size': 256, 'max_batch_size': 512, 'use_batchnorm': True, 'loss_function': 'auto'}</td>\n",
       "      <td>0.880290</td>\n",
       "      <td>0.850149</td>\n",
       "      <td>0.880290</td>\n",
       "      <td>0.855685</td>\n",
       "      <td>NeuralNetTorch</td>\n",
       "    </tr>\n",
       "    <tr>\n",
       "      <th>102</th>\n",
       "      <td>360</td>\n",
       "      <td>False</td>\n",
       "      <td>None</td>\n",
       "      <td>NeuralNetTorch/e03a1bca</td>\n",
       "      <td>{'num_epochs': 500, 'epochs_wo_improve': 20, 'activation': 'elu', 'embedding_size_factor': 1.5, 'embed_exponent': 0.56, 'max_embedding_dim': 100, 'y_range': None, 'y_range_extend': 0.05, 'dropout_prob': 0.4, 'optimizer': 'adam', 'learning_rate': 0.006545302939933489, 'weight_decay': 0.01860907447091634, 'proc.embed_min_categories': 3, 'proc.impute_strategy': 'median', 'proc.max_category_levels': 1000, 'proc.skew_threshold': 0.8, 'use_ngram_features': False, 'num_layers': 3, 'hidden_size': 128, 'max_batch_size': 512, 'use_batchnorm': True, 'loss_function': 'auto'}</td>\n",
       "      <td>0.876298</td>\n",
       "      <td>0.851422</td>\n",
       "      <td>0.876298</td>\n",
       "      <td>0.851316</td>\n",
       "      <td>NeuralNetTorch</td>\n",
       "    </tr>\n",
       "    <tr>\n",
       "      <th>104</th>\n",
       "      <td>360</td>\n",
       "      <td>False</td>\n",
       "      <td>smote</td>\n",
       "      <td>NeuralNetTorch/ea22e3e6</td>\n",
       "      <td>{'num_epochs': 500, 'epochs_wo_improve': 20, 'activation': 'relu', 'embedding_size_factor': 0.7, 'embed_exponent': 0.56, 'max_embedding_dim': 100, 'y_range': None, 'y_range_extend': 0.05, 'dropout_prob': 0.1, 'optimizer': 'adam', 'learning_rate': 0.025397221831731192, 'weight_decay': 0.0018135762094857264, 'proc.embed_min_categories': 10, 'proc.impute_strategy': 'mean', 'proc.max_category_levels': 500, 'proc.skew_threshold': 0.5, 'use_ngram_features': False, 'num_layers': 4, 'hidden_size': 256, 'max_batch_size': 512, 'use_batchnorm': False, 'loss_function': 'auto'}</td>\n",
       "      <td>0.577278</td>\n",
       "      <td>0.886310</td>\n",
       "      <td>0.577278</td>\n",
       "      <td>0.669669</td>\n",
       "      <td>NeuralNetTorch</td>\n",
       "    </tr>\n",
       "  </tbody>\n",
       "</table>\n",
       "</div>"
      ],
      "text/plain": [
       "     window_size  filter_applied resampling_tech                    model  \\\n",
       "7            360           False          adasyn  NeuralNetTorch/fa4065ea   \n",
       "8            360            True          adasyn  NeuralNetTorch/5b5ef5fb   \n",
       "10           360            True            None  NeuralNetTorch/f4a2d8d3   \n",
       "11           360           False            None  NeuralNetTorch/bd4a9e75   \n",
       "12           360           False            None  NeuralNetTorch/87e19736   \n",
       "13           360            True          adasyn  NeuralNetTorch/c7dd3c92   \n",
       "14           360            True            None  NeuralNetTorch/58e5337a   \n",
       "16           360            True            None  NeuralNetTorch/1be4ff49   \n",
       "18           360            True            None  NeuralNetTorch/81b1f9a4   \n",
       "19           360            True          adasyn  NeuralNetTorch/d6cf7215   \n",
       "22           360           False          adasyn  NeuralNetTorch/558e0ece   \n",
       "26           360           False          adasyn  NeuralNetTorch/db013e75   \n",
       "27           360            True          adasyn  NeuralNetTorch/21a6cdd4   \n",
       "64           360            True           smote  NeuralNetTorch/6af39528   \n",
       "65           360            True            None  NeuralNetTorch/e9c9b3fb   \n",
       "75           360           False          adasyn  NeuralNetTorch/3da6286e   \n",
       "95           360           False            None  NeuralNetTorch/047a4968   \n",
       "97           360            True          adasyn  NeuralNetTorch/dadb5b62   \n",
       "99           360           False          adasyn  NeuralNetTorch/4321f039   \n",
       "101          360           False            None  NeuralNetTorch/6a521c20   \n",
       "102          360           False            None  NeuralNetTorch/e03a1bca   \n",
       "104          360           False           smote  NeuralNetTorch/ea22e3e6   \n",
       "\n",
       "                                                                                                                                                                                                                                                                                                                                                                                                                                                                                                                                                                                             hyperparameters  \\\n",
       "7           {'num_epochs': 500, 'epochs_wo_improve': 20, 'activation': 'elu', 'embedding_size_factor': 0.8, 'embed_exponent': 0.56, 'max_embedding_dim': 100, 'y_range': None, 'y_range_extend': 0.05, 'dropout_prob': 0.5, 'optimizer': 'adam', 'learning_rate': 0.0002833005989335324, 'weight_decay': 2.1008744194646226e-10, 'proc.embed_min_categories': 1000, 'proc.impute_strategy': 'mean', 'proc.max_category_levels': 1000, 'proc.skew_threshold': 0.999, 'use_ngram_features': False, 'num_layers': 3, 'hidden_size': 256, 'max_batch_size': 512, 'use_batchnorm': True, 'loss_function': 'auto'}   \n",
       "8              {'num_epochs': 500, 'epochs_wo_improve': 20, 'activation': 'relu', 'embedding_size_factor': 1.0, 'embed_exponent': 0.56, 'max_embedding_dim': 100, 'y_range': None, 'y_range_extend': 0.05, 'dropout_prob': 0.0, 'optimizer': 'adam', 'learning_rate': 0.0012087519042542174, 'weight_decay': 6.874387224787512e-07, 'proc.embed_min_categories': 100, 'proc.impute_strategy': 'mean', 'proc.max_category_levels': 400, 'proc.skew_threshold': 10.0, 'use_ngram_features': False, 'num_layers': 3, 'hidden_size': 256, 'max_batch_size': 512, 'use_batchnorm': True, 'loss_function': 'auto'}   \n",
       "10    {'num_epochs': 500, 'epochs_wo_improve': 20, 'activation': 'relu', 'embedding_size_factor': 1.5, 'embed_exponent': 0.56, 'max_embedding_dim': 100, 'y_range': None, 'y_range_extend': 0.05, 'dropout_prob': 0.2, 'optimizer': 'adam', 'learning_rate': 0.0003447386634213917, 'weight_decay': 1.4009786376863152e-07, 'proc.embed_min_categories': 3, 'proc.impute_strategy': 'most_frequent', 'proc.max_category_levels': 100, 'proc.skew_threshold': 0.999, 'use_ngram_features': False, 'num_layers': 4, 'hidden_size': 128, 'max_batch_size': 512, 'use_batchnorm': True, 'loss_function': 'auto'}   \n",
       "11             {'num_epochs': 500, 'epochs_wo_improve': 20, 'activation': 'relu', 'embedding_size_factor': 1.3, 'embed_exponent': 0.56, 'max_embedding_dim': 100, 'y_range': None, 'y_range_extend': 0.05, 'dropout_prob': 0.2, 'optimizer': 'adam', 'learning_rate': 0.00020473592726554356, 'weight_decay': 8.435427080082823e-08, 'proc.embed_min_categories': 3, 'proc.impute_strategy': 'mean', 'proc.max_category_levels': 100, 'proc.skew_threshold': 0.99, 'use_ngram_features': False, 'num_layers': 2, 'hidden_size': 128, 'max_batch_size': 512, 'use_batchnorm': False, 'loss_function': 'auto'}   \n",
       "12                                           {'num_epochs': 500, 'epochs_wo_improve': 20, 'activation': 'relu', 'embedding_size_factor': 1.0, 'embed_exponent': 0.56, 'max_embedding_dim': 100, 'y_range': None, 'y_range_extend': 0.05, 'dropout_prob': 0.1, 'optimizer': 'adam', 'learning_rate': 0.0003, 'weight_decay': 1e-06, 'proc.embed_min_categories': 4, 'proc.impute_strategy': 'median', 'proc.max_category_levels': 100, 'proc.skew_threshold': 0.99, 'use_ngram_features': False, 'num_layers': 2, 'hidden_size': 128, 'max_batch_size': 512, 'use_batchnorm': False, 'loss_function': 'auto'}   \n",
       "13                {'num_epochs': 500, 'epochs_wo_improve': 20, 'activation': 'elu', 'embedding_size_factor': 1.0, 'embed_exponent': 0.56, 'max_embedding_dim': 100, 'y_range': None, 'y_range_extend': 0.05, 'dropout_prob': 0.2, 'optimizer': 'adam', 'learning_rate': 0.0003314900744924503, 'weight_decay': 2.074084413876267e-12, 'proc.embed_min_categories': 4, 'proc.impute_strategy': 'mean', 'proc.max_category_levels': 100, 'proc.skew_threshold': 0.5, 'use_ngram_features': False, 'num_layers': 2, 'hidden_size': 128, 'max_batch_size': 512, 'use_batchnorm': False, 'loss_function': 'auto'}   \n",
       "14            {'num_epochs': 500, 'epochs_wo_improve': 20, 'activation': 'elu', 'embedding_size_factor': 0.8, 'embed_exponent': 0.56, 'max_embedding_dim': 100, 'y_range': None, 'y_range_extend': 0.05, 'dropout_prob': 0.3, 'optimizer': 'adam', 'learning_rate': 0.0002696068313272596, 'weight_decay': 3.2786968502739887e-06, 'proc.embed_min_categories': 4, 'proc.impute_strategy': 'median', 'proc.max_category_levels': 1000, 'proc.skew_threshold': 1.0, 'use_ngram_features': False, 'num_layers': 2, 'hidden_size': 128, 'max_batch_size': 512, 'use_batchnorm': False, 'loss_function': 'auto'}   \n",
       "16                                           {'num_epochs': 500, 'epochs_wo_improve': 20, 'activation': 'relu', 'embedding_size_factor': 1.0, 'embed_exponent': 0.56, 'max_embedding_dim': 100, 'y_range': None, 'y_range_extend': 0.05, 'dropout_prob': 0.1, 'optimizer': 'adam', 'learning_rate': 0.0003, 'weight_decay': 1e-06, 'proc.embed_min_categories': 4, 'proc.impute_strategy': 'median', 'proc.max_category_levels': 100, 'proc.skew_threshold': 0.99, 'use_ngram_features': False, 'num_layers': 2, 'hidden_size': 128, 'max_batch_size': 512, 'use_batchnorm': False, 'loss_function': 'auto'}   \n",
       "18   {'num_epochs': 500, 'epochs_wo_improve': 20, 'activation': 'elu', 'embedding_size_factor': 0.5, 'embed_exponent': 0.56, 'max_embedding_dim': 100, 'y_range': None, 'y_range_extend': 0.05, 'dropout_prob': 0.2, 'optimizer': 'adam', 'learning_rate': 0.0017220535703428763, 'weight_decay': 1.7073119730321288e-07, 'proc.embed_min_categories': 1000, 'proc.impute_strategy': 'most_frequent', 'proc.max_category_levels': 200, 'proc.skew_threshold': 0.5, 'use_ngram_features': False, 'num_layers': 4, 'hidden_size': 256, 'max_batch_size': 512, 'use_batchnorm': False, 'loss_function': 'auto'}   \n",
       "19                                           {'num_epochs': 500, 'epochs_wo_improve': 20, 'activation': 'relu', 'embedding_size_factor': 1.0, 'embed_exponent': 0.56, 'max_embedding_dim': 100, 'y_range': None, 'y_range_extend': 0.05, 'dropout_prob': 0.1, 'optimizer': 'adam', 'learning_rate': 0.0003, 'weight_decay': 1e-06, 'proc.embed_min_categories': 4, 'proc.impute_strategy': 'median', 'proc.max_category_levels': 100, 'proc.skew_threshold': 0.99, 'use_ngram_features': False, 'num_layers': 2, 'hidden_size': 128, 'max_batch_size': 512, 'use_batchnorm': False, 'loss_function': 'auto'}   \n",
       "22            {'num_epochs': 500, 'epochs_wo_improve': 20, 'activation': 'relu', 'embedding_size_factor': 1.1, 'embed_exponent': 0.56, 'max_embedding_dim': 100, 'y_range': None, 'y_range_extend': 0.05, 'dropout_prob': 0.4, 'optimizer': 'adam', 'learning_rate': 0.00011535598785985186, 'weight_decay': 0.0006012889408906359, 'proc.embed_min_categories': 4, 'proc.impute_strategy': 'mean', 'proc.max_category_levels': 1000, 'proc.skew_threshold': 100.0, 'use_ngram_features': False, 'num_layers': 2, 'hidden_size': 512, 'max_batch_size': 512, 'use_batchnorm': True, 'loss_function': 'auto'}   \n",
       "26                                           {'num_epochs': 500, 'epochs_wo_improve': 20, 'activation': 'relu', 'embedding_size_factor': 1.0, 'embed_exponent': 0.56, 'max_embedding_dim': 100, 'y_range': None, 'y_range_extend': 0.05, 'dropout_prob': 0.1, 'optimizer': 'adam', 'learning_rate': 0.0003, 'weight_decay': 1e-06, 'proc.embed_min_categories': 4, 'proc.impute_strategy': 'median', 'proc.max_category_levels': 100, 'proc.skew_threshold': 0.99, 'use_ngram_features': False, 'num_layers': 2, 'hidden_size': 128, 'max_batch_size': 512, 'use_batchnorm': False, 'loss_function': 'auto'}   \n",
       "27             {'num_epochs': 500, 'epochs_wo_improve': 20, 'activation': 'elu', 'embedding_size_factor': 1.0, 'embed_exponent': 0.56, 'max_embedding_dim': 100, 'y_range': None, 'y_range_extend': 0.05, 'dropout_prob': 0.1, 'optimizer': 'adam', 'learning_rate': 0.0008294509683159359, 'weight_decay': 0.0005048295846316531, 'proc.embed_min_categories': 100, 'proc.impute_strategy': 'mean', 'proc.max_category_levels': 500, 'proc.skew_threshold': 10.0, 'use_ngram_features': False, 'num_layers': 3, 'hidden_size': 128, 'max_batch_size': 512, 'use_batchnorm': False, 'loss_function': 'auto'}   \n",
       "64               {'num_epochs': 500, 'epochs_wo_improve': 20, 'activation': 'relu', 'embedding_size_factor': 1.0, 'embed_exponent': 0.56, 'max_embedding_dim': 100, 'y_range': None, 'y_range_extend': 0.05, 'dropout_prob': 0.0, 'optimizer': 'adam', 'learning_rate': 0.0006758494175505446, 'weight_decay': 0.0003859682340903026, 'proc.embed_min_categories': 3, 'proc.impute_strategy': 'mean', 'proc.max_category_levels': 100, 'proc.skew_threshold': 0.99, 'use_ngram_features': False, 'num_layers': 2, 'hidden_size': 128, 'max_batch_size': 512, 'use_batchnorm': True, 'loss_function': 'auto'}   \n",
       "65      {'num_epochs': 500, 'epochs_wo_improve': 20, 'activation': 'elu', 'embedding_size_factor': 1.0, 'embed_exponent': 0.56, 'max_embedding_dim': 100, 'y_range': None, 'y_range_extend': 0.05, 'dropout_prob': 0.5, 'optimizer': 'adam', 'learning_rate': 0.0007871347842638844, 'weight_decay': 0.00191836231330975, 'proc.embed_min_categories': 4, 'proc.impute_strategy': 'most_frequent', 'proc.max_category_levels': 1000, 'proc.skew_threshold': 0.999, 'use_ngram_features': False, 'num_layers': 2, 'hidden_size': 256, 'max_batch_size': 512, 'use_batchnorm': False, 'loss_function': 'auto'}   \n",
       "75        {'num_epochs': 500, 'epochs_wo_improve': 20, 'activation': 'elu', 'embedding_size_factor': 1.3, 'embed_exponent': 0.56, 'max_embedding_dim': 100, 'y_range': None, 'y_range_extend': 0.05, 'dropout_prob': 0.2, 'optimizer': 'adam', 'learning_rate': 0.0199080193708755, 'weight_decay': 3.9302637677827553e-07, 'proc.embed_min_categories': 10, 'proc.impute_strategy': 'most_frequent', 'proc.max_category_levels': 1000, 'proc.skew_threshold': 0.2, 'use_ngram_features': False, 'num_layers': 2, 'hidden_size': 512, 'max_batch_size': 512, 'use_batchnorm': True, 'loss_function': 'auto'}   \n",
       "95               {'num_epochs': 500, 'epochs_wo_improve': 20, 'activation': 'elu', 'embedding_size_factor': 0.7, 'embed_exponent': 0.56, 'max_embedding_dim': 100, 'y_range': None, 'y_range_extend': 0.05, 'dropout_prob': 0.4, 'optimizer': 'adam', 'learning_rate': 0.0004919021493936706, 'weight_decay': 0.009376842886936725, 'proc.embed_min_categories': 4, 'proc.impute_strategy': 'median', 'proc.max_category_levels': 20, 'proc.skew_threshold': 0.99, 'use_ngram_features': False, 'num_layers': 3, 'hidden_size': 128, 'max_batch_size': 512, 'use_batchnorm': False, 'loss_function': 'auto'}   \n",
       "97       {'num_epochs': 500, 'epochs_wo_improve': 20, 'activation': 'relu', 'embedding_size_factor': 1.1, 'embed_exponent': 0.56, 'max_embedding_dim': 100, 'y_range': None, 'y_range_extend': 0.05, 'dropout_prob': 0.4, 'optimizer': 'adam', 'learning_rate': 0.00016337029932175315, 'weight_decay': 0.08885113750376859, 'proc.embed_min_categories': 3, 'proc.impute_strategy': 'most_frequent', 'proc.max_category_levels': 100, 'proc.skew_threshold': 0.99, 'use_ngram_features': False, 'num_layers': 4, 'hidden_size': 256, 'max_batch_size': 512, 'use_batchnorm': True, 'loss_function': 'auto'}   \n",
       "99                 {'num_epochs': 500, 'epochs_wo_improve': 20, 'activation': 'relu', 'embedding_size_factor': 0.9, 'embed_exponent': 0.56, 'max_embedding_dim': 100, 'y_range': None, 'y_range_extend': 0.05, 'dropout_prob': 0.0, 'optimizer': 'adam', 'learning_rate': 0.00381704812176929, 'weight_decay': 0.01561560820341085, 'proc.embed_min_categories': 100, 'proc.impute_strategy': 'median', 'proc.max_category_levels': 20, 'proc.skew_threshold': 0.2, 'use_ngram_features': False, 'num_layers': 4, 'hidden_size': 256, 'max_batch_size': 512, 'use_batchnorm': True, 'loss_function': 'auto'}   \n",
       "101                   {'num_epochs': 500, 'epochs_wo_improve': 20, 'activation': 'elu', 'embedding_size_factor': 0.8, 'embed_exponent': 0.56, 'max_embedding_dim': 100, 'y_range': None, 'y_range_extend': 0.05, 'dropout_prob': 0.2, 'optimizer': 'adam', 'learning_rate': 0.00204183581270632, 'weight_decay': 0.025036061925065637, 'proc.embed_min_categories': 10, 'proc.impute_strategy': 'mean', 'proc.max_category_levels': 10, 'proc.skew_threshold': 0.3, 'use_ngram_features': False, 'num_layers': 3, 'hidden_size': 256, 'max_batch_size': 512, 'use_batchnorm': True, 'loss_function': 'auto'}   \n",
       "102                {'num_epochs': 500, 'epochs_wo_improve': 20, 'activation': 'elu', 'embedding_size_factor': 1.5, 'embed_exponent': 0.56, 'max_embedding_dim': 100, 'y_range': None, 'y_range_extend': 0.05, 'dropout_prob': 0.4, 'optimizer': 'adam', 'learning_rate': 0.006545302939933489, 'weight_decay': 0.01860907447091634, 'proc.embed_min_categories': 3, 'proc.impute_strategy': 'median', 'proc.max_category_levels': 1000, 'proc.skew_threshold': 0.8, 'use_ngram_features': False, 'num_layers': 3, 'hidden_size': 128, 'max_batch_size': 512, 'use_batchnorm': True, 'loss_function': 'auto'}   \n",
       "104              {'num_epochs': 500, 'epochs_wo_improve': 20, 'activation': 'relu', 'embedding_size_factor': 0.7, 'embed_exponent': 0.56, 'max_embedding_dim': 100, 'y_range': None, 'y_range_extend': 0.05, 'dropout_prob': 0.1, 'optimizer': 'adam', 'learning_rate': 0.025397221831731192, 'weight_decay': 0.0018135762094857264, 'proc.embed_min_categories': 10, 'proc.impute_strategy': 'mean', 'proc.max_category_levels': 500, 'proc.skew_threshold': 0.5, 'use_ngram_features': False, 'num_layers': 4, 'hidden_size': 256, 'max_batch_size': 512, 'use_batchnorm': False, 'loss_function': 'auto'}   \n",
       "\n",
       "     accuracy  precision_weighted  recall_weighted  f1_weighted  \\\n",
       "7    0.987768            0.987389         0.987768     0.987333   \n",
       "8    0.987623            0.987260         0.987623     0.987352   \n",
       "10   0.987550            0.986600         0.987550     0.986797   \n",
       "11   0.987514            0.986761         0.987514     0.986851   \n",
       "12   0.987223            0.986481         0.987223     0.986727   \n",
       "13   0.986570            0.986105         0.986570     0.985871   \n",
       "14   0.986243            0.985674         0.986243     0.985854   \n",
       "16   0.986025            0.985229         0.986025     0.985415   \n",
       "18   0.985590            0.984705         0.985590     0.984550   \n",
       "19   0.985445            0.984640         0.985445     0.984743   \n",
       "22   0.984574            0.983381         0.984574     0.983432   \n",
       "26   0.983956            0.983216         0.983956     0.983081   \n",
       "27   0.983956            0.982945         0.983956     0.983068   \n",
       "64   0.976806            0.981088         0.976806     0.978366   \n",
       "65   0.976225            0.973283         0.976225     0.974192   \n",
       "75   0.972232            0.970122         0.972232     0.970348   \n",
       "95   0.951180            0.941136         0.951180     0.941348   \n",
       "97   0.950454            0.925007         0.950454     0.936191   \n",
       "99   0.937495            0.912460         0.937495     0.920900   \n",
       "101  0.880290            0.850149         0.880290     0.855685   \n",
       "102  0.876298            0.851422         0.876298     0.851316   \n",
       "104  0.577278            0.886310         0.577278     0.669669   \n",
       "\n",
       "          algorithm  \n",
       "7    NeuralNetTorch  \n",
       "8    NeuralNetTorch  \n",
       "10   NeuralNetTorch  \n",
       "11   NeuralNetTorch  \n",
       "12   NeuralNetTorch  \n",
       "13   NeuralNetTorch  \n",
       "14   NeuralNetTorch  \n",
       "16   NeuralNetTorch  \n",
       "18   NeuralNetTorch  \n",
       "19   NeuralNetTorch  \n",
       "22   NeuralNetTorch  \n",
       "26   NeuralNetTorch  \n",
       "27   NeuralNetTorch  \n",
       "64   NeuralNetTorch  \n",
       "65   NeuralNetTorch  \n",
       "75   NeuralNetTorch  \n",
       "95   NeuralNetTorch  \n",
       "97   NeuralNetTorch  \n",
       "99   NeuralNetTorch  \n",
       "101  NeuralNetTorch  \n",
       "102  NeuralNetTorch  \n",
       "104  NeuralNetTorch  "
      ]
     },
     "execution_count": 183,
     "metadata": {},
     "output_type": "execute_result"
    }
   ],
   "source": [
    "hyperparameters_all_models[hyperparameters_all_models['algorithm'] == 'NeuralNetTorch']"
   ]
  },
  {
   "cell_type": "code",
   "execution_count": 122,
   "id": "ece7d494",
   "metadata": {},
   "outputs": [
    {
     "data": {
      "text/plain": [
       "8"
      ]
     },
     "execution_count": 122,
     "metadata": {},
     "output_type": "execute_result"
    }
   ],
   "source": [
    "(hyperparameters_all_models.head(10).algorithm == 'NeuralNetFastAI').sum()"
   ]
  },
  {
   "cell_type": "code",
   "execution_count": 123,
   "id": "25c88e0c",
   "metadata": {},
   "outputs": [
    {
     "data": {
      "text/plain": [
       "0"
      ]
     },
     "execution_count": 123,
     "metadata": {},
     "output_type": "execute_result"
    }
   ],
   "source": [
    "(hyperparameters_all_models.head(10).algorithm == 'LightGBM').sum()"
   ]
  },
  {
   "cell_type": "code",
   "execution_count": 124,
   "id": "337ddf51",
   "metadata": {},
   "outputs": [
    {
     "data": {
      "text/plain": [
       "0    NeuralNetFastAI\n",
       "1    NeuralNetFastAI\n",
       "2    NeuralNetFastAI\n",
       "3    NeuralNetFastAI\n",
       "4    NeuralNetFastAI\n",
       "5    NeuralNetFastAI\n",
       "6    NeuralNetFastAI\n",
       "7     NeuralNetTorch\n",
       "8     NeuralNetTorch\n",
       "9    NeuralNetFastAI\n",
       "Name: algorithm, dtype: object"
      ]
     },
     "execution_count": 124,
     "metadata": {},
     "output_type": "execute_result"
    }
   ],
   "source": [
    "hyperparameters_all_models.head(10).algorithm"
   ]
  },
  {
   "cell_type": "code",
   "execution_count": 125,
   "id": "63f850ad",
   "metadata": {},
   "outputs": [
    {
     "data": {
      "text/plain": [
       "7"
      ]
     },
     "execution_count": 125,
     "metadata": {},
     "output_type": "execute_result"
    }
   ],
   "source": [
    "best_models.filter_applied.sum()"
   ]
  },
  {
   "cell_type": "code",
   "execution_count": 126,
   "id": "844453e3",
   "metadata": {},
   "outputs": [
    {
     "data": {
      "text/plain": [
       "adasyn    1\n",
       "Name: resampling_tech, dtype: int64"
      ]
     },
     "execution_count": 126,
     "metadata": {},
     "output_type": "execute_result"
    }
   ],
   "source": [
    "best_models.resampling_tech.value_counts()"
   ]
  },
  {
   "cell_type": "code",
   "execution_count": null,
   "id": "1850b6f9",
   "metadata": {},
   "outputs": [],
   "source": []
  }
 ],
 "metadata": {
  "kernelspec": {
   "display_name": "Python 3 (ipykernel)",
   "language": "python",
   "name": "python3"
  },
  "language_info": {
   "codemirror_mode": {
    "name": "ipython",
    "version": 3
   },
   "file_extension": ".py",
   "mimetype": "text/x-python",
   "name": "python",
   "nbconvert_exporter": "python",
   "pygments_lexer": "ipython3",
   "version": "3.9.7"
  }
 },
 "nbformat": 4,
 "nbformat_minor": 5
}
