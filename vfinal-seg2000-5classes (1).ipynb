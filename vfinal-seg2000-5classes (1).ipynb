{
 "cells": [
  {
   "cell_type": "code",
   "execution_count": 1,
   "id": "458e484c",
   "metadata": {},
   "outputs": [],
   "source": [
    "#para apagar diretório de modelos quando for gerar novos modelos\n",
    "#import shutil\n",
    "#diretorio_a_apagar = './backup'\n",
    "#shutil.rmtree(diretorio_a_apagar)"
   ]
  },
  {
   "cell_type": "code",
   "execution_count": 2,
   "id": "309f8593",
   "metadata": {},
   "outputs": [],
   "source": [
    "#para executar esse projeto é necessário ter a seguintes libs instaladas\n",
    "#pip install pandas\n",
    "#pip install scipy\n",
    "#pip install autogluon\n",
    "#pip install opendatasets --upgrade\n",
    "#pip install -U imbalanced-learn\n",
    "#pip install neurokit2"
   ]
  },
  {
   "cell_type": "code",
   "execution_count": 3,
   "id": "d8f607ad",
   "metadata": {},
   "outputs": [],
   "source": [
    "#libs \"básicas\"\n",
    "import os\n",
    "import csv\n",
    "import numpy as np\n",
    "import pandas as pd\n",
    "import neurokit2 as nk\n",
    "from scipy import stats\n",
    "import matplotlib.pyplot as plt\n",
    "\n",
    "#libs que auxiliam os modelos\n",
    "from collections import Counter\n",
    "from imblearn.over_sampling import SMOTE\n",
    "from imblearn.over_sampling import ADASYN\n",
    "from autogluon.tabular import TabularPredictor\n",
    "from sklearn.model_selection import train_test_split\n",
    "from sklearn.metrics import classification_report\n",
    "\n",
    "#lib para importar base de dados\n",
    "import opendatasets as od"
   ]
  },
  {
   "cell_type": "markdown",
   "id": "5089cef7",
   "metadata": {},
   "source": [
    "A base de dados é oficialmente compartilhada pela [PhysioNet](https://www.physionet.org/content/mitdb/1.0.0/), porém, executando a linha a seguir, a mesma base de dados é obtida através da plataforma kaggle com auxílio da biblioteca opendatasets."
   ]
  },
  {
   "cell_type": "code",
   "execution_count": 4,
   "id": "30ebebc2",
   "metadata": {},
   "outputs": [
    {
     "name": "stdout",
     "output_type": "stream",
     "text": [
      "Skipping, found downloaded files in \"./mitbit-arrhythmia-database\" (use force=True to force download)\n"
     ]
    }
   ],
   "source": [
    "od.download(\"https://www.kaggle.com/datasets/taejoongyoon/mitbit-arrhythmia-database?datasetId=52320&sortBy=voteCount\")"
   ]
  },
  {
   "cell_type": "markdown",
   "id": "ee413176",
   "metadata": {},
   "source": [
    "## Pré processamento\n",
    "Iremos analisar os modelos com dados sem remoção de ruído e com remoção de ruído"
   ]
  },
  {
   "cell_type": "markdown",
   "id": "8b2c3599",
   "metadata": {},
   "source": [
    "#### Variáveis auxiliares"
   ]
  },
  {
   "cell_type": "code",
   "execution_count": 5,
   "id": "8c0436aa",
   "metadata": {},
   "outputs": [],
   "source": [
    "path = './mitbit-arrhythmia-database/mitbih_database/'\n",
    "window_size = 1000\n",
    "maximum_counting = 10000\n",
    "\n",
    "classes = ['N','L','R','A','V']\n",
    "n_classes = len(classes)\n",
    "count_classes = {elemento: 0 for elemento in classes}\n",
    "\n",
    "X = list()\n",
    "y = list()"
   ]
  },
  {
   "cell_type": "code",
   "execution_count": 6,
   "id": "cf42e58f",
   "metadata": {},
   "outputs": [],
   "source": [
    "description_beats = {'N':'Batida normal', 'L':'Batida de bloqueio de ramo esquerdo',\n",
    "                     'R':'Batida de bloqueio de ramo direito','A':'Batimento atrial prematuro',\n",
    "                     'a':'Batimento atrial prematuro aberrado','J':'Batimento prematuro nodal (juncional)',\n",
    "                     'S':'Batimento supraventricular prematuro ou ectópico (atrial ou nodal)',\n",
    "                     'V':'Contração ventricular prematura','F':'Fusão de batimento ventricular e normal',\n",
    "                     'e':'Batida de escape atrial','j':'Batida de escape nodal (juncional)',\n",
    "                     'E':'Batida de escape ventricular','/':'Batida ritmada',\n",
    "                     'f':'Fusão de batida ritmada e normal','Q': 'Batida inclassificável'}"
   ]
  },
  {
   "cell_type": "markdown",
   "id": "7226cf99",
   "metadata": {},
   "source": [
    "#### Preparo dos arquivos"
   ]
  },
  {
   "cell_type": "code",
   "execution_count": 7,
   "id": "7579d0d0",
   "metadata": {},
   "outputs": [],
   "source": [
    "# Leitura dos arquivos\n",
    "filenames = next(os.walk(path))[2]\n",
    "\n",
    "# Para separar e salvar os arquivos em csv e txt\n",
    "records = list()\n",
    "annotations = list()\n",
    "filenames.sort()"
   ]
  },
  {
   "cell_type": "code",
   "execution_count": 8,
   "id": "dfabb96a",
   "metadata": {},
   "outputs": [],
   "source": [
    "# Definindo nomes de arquivos e anotações\n",
    "for f in filenames:\n",
    "    filename, file_extension = os.path.splitext(f)\n",
    "    \n",
    "    # *.csv\n",
    "    if(file_extension == '.csv'):\n",
    "        records.append(path + filename + file_extension)\n",
    "\n",
    "    # *.txt\n",
    "    else:\n",
    "        annotations.append(path + filename + file_extension)"
   ]
  },
  {
   "cell_type": "code",
   "execution_count": 9,
   "id": "f7e38b7c",
   "metadata": {},
   "outputs": [
    {
     "data": {
      "text/plain": [
       "(48, 48)"
      ]
     },
     "execution_count": 9,
     "metadata": {},
     "output_type": "execute_result"
    }
   ],
   "source": [
    "len(records), len(annotations)"
   ]
  },
  {
   "cell_type": "markdown",
   "id": "1b2241f4",
   "metadata": {},
   "source": [
    "#### Extração dos dados e pré processamento sem remoção de rúido"
   ]
  },
  {
   "cell_type": "code",
   "execution_count": 10,
   "id": "c33f0090",
   "metadata": {},
   "outputs": [
    {
     "name": "stdout",
     "output_type": "stream",
     "text": [
      "(99754, 2000) (99754,)\n",
      "CPU times: user 19.6 s, sys: 771 ms, total: 20.4 s\n",
      "Wall time: 20.4 s\n"
     ]
    }
   ],
   "source": [
    "%%time\n",
    "# Registros\n",
    "X_with_noise = list() #x contém os valores do sinais\n",
    "y_with_noise = list() #y para os rótulos\n",
    "z_with_noise = list() #z indica o índice do registro\n",
    "\n",
    "for r in range(0,len(records)):\n",
    "    signals = []\n",
    "\n",
    "    with open(records[r], 'rt') as csvfile:\n",
    "        spamreader = csv.reader(csvfile, delimiter=',', quotechar='|') # ler arquivo csv\n",
    "        next(spamreader) # ignora header\n",
    "        for row in spamreader:\n",
    "            signals.append(int(row[1]))\n",
    "                \n",
    "    # Normalizando os dados: https://www.investopedia.com/terms/z/zscore.asp\n",
    "    signals = stats.zscore(signals)\n",
    "    \n",
    "    \n",
    "    with open(annotations[r], 'r') as fileID:\n",
    "        lines = fileID.readlines()[1:] # 0 índice é o cabeçalho do gráfico, ignora o header\n",
    "\n",
    "        for line in lines:\n",
    "            row = list(filter(lambda item: item != '', line.split(' ')))\n",
    "            time, sample, arrhythmia_type = row[0:3]\n",
    "            pos = int(sample)\n",
    "\n",
    "            if(arrhythmia_type in classes): # Verificar se é uma classe válida\n",
    "                # Contar a quantidade de dados de cada classe\n",
    "                arrhythmia_index = classes.index(arrhythmia_type)\n",
    "                count_classes[arrhythmia_type] += 1\n",
    "                \n",
    "                # pos é o momento que foi feita a analise.\n",
    "                if(window_size <= pos and (pos + window_size) < len(signals)):\n",
    "                    # pega uma janela de tempo onde o pos fica no meio\n",
    "                    beat = signals[pos-window_size:pos+window_size]\n",
    "        \n",
    "                    X_with_noise.append(beat)\n",
    "                    y_with_noise.append(arrhythmia_index)\n",
    "                    z_with_noise.append(os.path.splitext(os.path.basename(records[r]))[0])\n",
    "\n",
    "print(np.shape(X_with_noise), np.shape(y_with_noise))"
   ]
  },
  {
   "cell_type": "markdown",
   "id": "42461ab9",
   "metadata": {},
   "source": [
    "Utilizamos a coluna ``record_id`` afim de facilitar consultas relacionadas a qual registro pertence cada linha em casos de dúvidas, mas a coluna não é utilizada nos modelos."
   ]
  },
  {
   "cell_type": "code",
   "execution_count": 11,
   "id": "14bdf7e0",
   "metadata": {},
   "outputs": [
    {
     "data": {
      "text/html": [
       "<div>\n",
       "<style scoped>\n",
       "    .dataframe tbody tr th:only-of-type {\n",
       "        vertical-align: middle;\n",
       "    }\n",
       "\n",
       "    .dataframe tbody tr th {\n",
       "        vertical-align: top;\n",
       "    }\n",
       "\n",
       "    .dataframe thead th {\n",
       "        text-align: right;\n",
       "    }\n",
       "</style>\n",
       "<table border=\"1\" class=\"dataframe\">\n",
       "  <thead>\n",
       "    <tr style=\"text-align: right;\">\n",
       "      <th></th>\n",
       "      <th>0</th>\n",
       "      <th>1</th>\n",
       "      <th>2</th>\n",
       "      <th>3</th>\n",
       "      <th>4</th>\n",
       "      <th>5</th>\n",
       "      <th>6</th>\n",
       "      <th>7</th>\n",
       "      <th>8</th>\n",
       "      <th>9</th>\n",
       "      <th>...</th>\n",
       "      <th>1992</th>\n",
       "      <th>1993</th>\n",
       "      <th>1994</th>\n",
       "      <th>1995</th>\n",
       "      <th>1996</th>\n",
       "      <th>1997</th>\n",
       "      <th>1998</th>\n",
       "      <th>1999</th>\n",
       "      <th>label</th>\n",
       "      <th>record_id</th>\n",
       "    </tr>\n",
       "  </thead>\n",
       "  <tbody>\n",
       "    <tr>\n",
       "      <th>0</th>\n",
       "      <td>0.136123</td>\n",
       "      <td>0.136123</td>\n",
       "      <td>0.110243</td>\n",
       "      <td>0.162003</td>\n",
       "      <td>0.162003</td>\n",
       "      <td>0.213763</td>\n",
       "      <td>0.187883</td>\n",
       "      <td>0.110243</td>\n",
       "      <td>0.084363</td>\n",
       "      <td>0.136123</td>\n",
       "      <td>...</td>\n",
       "      <td>-0.252076</td>\n",
       "      <td>-0.329716</td>\n",
       "      <td>-0.226196</td>\n",
       "      <td>-0.226196</td>\n",
       "      <td>-0.226196</td>\n",
       "      <td>-0.200316</td>\n",
       "      <td>-0.226196</td>\n",
       "      <td>-0.252076</td>\n",
       "      <td>0</td>\n",
       "      <td>100</td>\n",
       "    </tr>\n",
       "    <tr>\n",
       "      <th>1</th>\n",
       "      <td>-0.045036</td>\n",
       "      <td>-0.019156</td>\n",
       "      <td>0.058483</td>\n",
       "      <td>0.084363</td>\n",
       "      <td>0.006723</td>\n",
       "      <td>-0.019156</td>\n",
       "      <td>-0.070916</td>\n",
       "      <td>-0.045036</td>\n",
       "      <td>0.032603</td>\n",
       "      <td>-0.045036</td>\n",
       "      <td>...</td>\n",
       "      <td>-1.002596</td>\n",
       "      <td>-0.924956</td>\n",
       "      <td>-0.950836</td>\n",
       "      <td>-0.924956</td>\n",
       "      <td>-1.002596</td>\n",
       "      <td>-1.002596</td>\n",
       "      <td>-0.950836</td>\n",
       "      <td>-0.899076</td>\n",
       "      <td>0</td>\n",
       "      <td>100</td>\n",
       "    </tr>\n",
       "    <tr>\n",
       "      <th>2</th>\n",
       "      <td>-0.226196</td>\n",
       "      <td>-0.174436</td>\n",
       "      <td>-0.148556</td>\n",
       "      <td>-0.122676</td>\n",
       "      <td>-0.148556</td>\n",
       "      <td>-0.174436</td>\n",
       "      <td>-0.277956</td>\n",
       "      <td>-0.226196</td>\n",
       "      <td>-0.226196</td>\n",
       "      <td>-0.252076</td>\n",
       "      <td>...</td>\n",
       "      <td>-0.614396</td>\n",
       "      <td>-0.588516</td>\n",
       "      <td>-0.536756</td>\n",
       "      <td>-0.536756</td>\n",
       "      <td>-0.588516</td>\n",
       "      <td>-0.640276</td>\n",
       "      <td>-0.614396</td>\n",
       "      <td>-0.588516</td>\n",
       "      <td>0</td>\n",
       "      <td>100</td>\n",
       "    </tr>\n",
       "    <tr>\n",
       "      <th>3</th>\n",
       "      <td>-0.407356</td>\n",
       "      <td>-0.329716</td>\n",
       "      <td>-0.303836</td>\n",
       "      <td>-0.329716</td>\n",
       "      <td>-0.355596</td>\n",
       "      <td>-0.226196</td>\n",
       "      <td>-0.148556</td>\n",
       "      <td>-0.070916</td>\n",
       "      <td>-0.045036</td>\n",
       "      <td>-0.070916</td>\n",
       "      <td>...</td>\n",
       "      <td>-0.381476</td>\n",
       "      <td>-0.355596</td>\n",
       "      <td>-0.381476</td>\n",
       "      <td>-0.407356</td>\n",
       "      <td>-0.484996</td>\n",
       "      <td>-0.407356</td>\n",
       "      <td>-0.381476</td>\n",
       "      <td>-0.355596</td>\n",
       "      <td>3</td>\n",
       "      <td>100</td>\n",
       "    </tr>\n",
       "    <tr>\n",
       "      <th>4</th>\n",
       "      <td>-0.174436</td>\n",
       "      <td>-0.122676</td>\n",
       "      <td>-0.070916</td>\n",
       "      <td>-0.045036</td>\n",
       "      <td>-0.096796</td>\n",
       "      <td>-0.148556</td>\n",
       "      <td>-0.252076</td>\n",
       "      <td>-0.200316</td>\n",
       "      <td>-0.174436</td>\n",
       "      <td>-0.148556</td>\n",
       "      <td>...</td>\n",
       "      <td>0.032603</td>\n",
       "      <td>0.136123</td>\n",
       "      <td>0.162003</td>\n",
       "      <td>0.239643</td>\n",
       "      <td>0.239643</td>\n",
       "      <td>0.187883</td>\n",
       "      <td>0.213763</td>\n",
       "      <td>0.265523</td>\n",
       "      <td>0</td>\n",
       "      <td>100</td>\n",
       "    </tr>\n",
       "  </tbody>\n",
       "</table>\n",
       "<p>5 rows × 2002 columns</p>\n",
       "</div>"
      ],
      "text/plain": [
       "          0         1         2         3         4         5         6  \\\n",
       "0  0.136123  0.136123  0.110243  0.162003  0.162003  0.213763  0.187883   \n",
       "1 -0.045036 -0.019156  0.058483  0.084363  0.006723 -0.019156 -0.070916   \n",
       "2 -0.226196 -0.174436 -0.148556 -0.122676 -0.148556 -0.174436 -0.277956   \n",
       "3 -0.407356 -0.329716 -0.303836 -0.329716 -0.355596 -0.226196 -0.148556   \n",
       "4 -0.174436 -0.122676 -0.070916 -0.045036 -0.096796 -0.148556 -0.252076   \n",
       "\n",
       "          7         8         9  ...      1992      1993      1994      1995  \\\n",
       "0  0.110243  0.084363  0.136123  ... -0.252076 -0.329716 -0.226196 -0.226196   \n",
       "1 -0.045036  0.032603 -0.045036  ... -1.002596 -0.924956 -0.950836 -0.924956   \n",
       "2 -0.226196 -0.226196 -0.252076  ... -0.614396 -0.588516 -0.536756 -0.536756   \n",
       "3 -0.070916 -0.045036 -0.070916  ... -0.381476 -0.355596 -0.381476 -0.407356   \n",
       "4 -0.200316 -0.174436 -0.148556  ...  0.032603  0.136123  0.162003  0.239643   \n",
       "\n",
       "       1996      1997      1998      1999  label  record_id  \n",
       "0 -0.226196 -0.200316 -0.226196 -0.252076      0        100  \n",
       "1 -1.002596 -1.002596 -0.950836 -0.899076      0        100  \n",
       "2 -0.588516 -0.640276 -0.614396 -0.588516      0        100  \n",
       "3 -0.484996 -0.407356 -0.381476 -0.355596      3        100  \n",
       "4  0.239643  0.187883  0.213763  0.265523      0        100  \n",
       "\n",
       "[5 rows x 2002 columns]"
      ]
     },
     "execution_count": 11,
     "metadata": {},
     "output_type": "execute_result"
    }
   ],
   "source": [
    "noisy_database = pd.DataFrame(data=X_with_noise)\n",
    "noisy_database['label'] = y_with_noise\n",
    "noisy_database['record_id'] = z_with_noise\n",
    "noisy_database.head()"
   ]
  },
  {
   "cell_type": "code",
   "execution_count": 12,
   "id": "922927a6",
   "metadata": {},
   "outputs": [
    {
     "data": {
      "text/plain": [
       "(99754, 2002)"
      ]
     },
     "execution_count": 12,
     "metadata": {},
     "output_type": "execute_result"
    }
   ],
   "source": [
    "noisy_database.shape"
   ]
  },
  {
   "cell_type": "code",
   "execution_count": 13,
   "id": "c608235b",
   "metadata": {},
   "outputs": [
    {
     "data": {
      "text/plain": [
       "0    74815\n",
       "1     8053\n",
       "2     7235\n",
       "4     7114\n",
       "3     2537\n",
       "Name: label, dtype: int64"
      ]
     },
     "execution_count": 13,
     "metadata": {},
     "output_type": "execute_result"
    }
   ],
   "source": [
    "noisy_database['label'].value_counts()"
   ]
  },
  {
   "cell_type": "markdown",
   "id": "840644cc",
   "metadata": {},
   "source": [
    "#### Extração dos dados e pré processamento com remoção de rúido"
   ]
  },
  {
   "cell_type": "markdown",
   "id": "58dd9dc6",
   "metadata": {},
   "source": [
    "O parâmetro de taxa de amostragem (sampling rate) ideal pode depender da frequência de amostragem original dos seus dados. O ideal é que a taxa de amostragem seja preservada durante todo o processamento para evitar perda de informações importantes."
   ]
  },
  {
   "cell_type": "code",
   "execution_count": 14,
   "id": "1930282f",
   "metadata": {},
   "outputs": [],
   "source": [
    "def denoise(ecg): \n",
    "    #sampling_rate ( int ) – A frequência de amostragem do sinal (em Hz, ou seja, amostras/segundo).\n",
    "    data = nk.ecg_clean(ecg, sampling_rate=360, method=\"neurokit\")     \n",
    "    return data"
   ]
  },
  {
   "cell_type": "code",
   "execution_count": 15,
   "id": "68652666",
   "metadata": {},
   "outputs": [
    {
     "name": "stdout",
     "output_type": "stream",
     "text": [
      "(99754, 2000) (99754,)\n",
      "CPU times: user 19.4 s, sys: 669 ms, total: 20.1 s\n",
      "Wall time: 20 s\n"
     ]
    }
   ],
   "source": [
    "%%time\n",
    "# Registros\n",
    "X = list() #x contém os valores do sinais\n",
    "y = list() #y para os rótulos\n",
    "Z = list() #z indica o índice do registro\n",
    "\n",
    "for r in range(0,len(records)):\n",
    "    signals = []\n",
    "\n",
    "    with open(records[r], 'rt') as csvfile:\n",
    "        spamreader = csv.reader(csvfile, delimiter=',', quotechar='|') # ler arquivo csv\n",
    "        next(spamreader) # ignora header\n",
    "        for row in spamreader:\n",
    "            signals.append(int(row[1]))\n",
    "            \n",
    "    signals = denoise(signals)\n",
    "    \n",
    "    # Normalizando os dados: https://www.investopedia.com/terms/z/zscore.asp\n",
    "    signals = stats.zscore(signals)\n",
    "    \n",
    "    \n",
    "    with open(annotations[r], 'r') as fileID:\n",
    "        lines = fileID.readlines()[1:] # 0 índice é o cabeçalho do gráfico, ignora o header\n",
    "\n",
    "        for line in lines:\n",
    "            row = list(filter(lambda item: item != '', line.split(' ')))\n",
    "            time, sample, arrhythmia_type = row[0:3]\n",
    "            pos = int(sample)\n",
    "\n",
    "            if(arrhythmia_type in classes): # Verificar se é uma classe válida\n",
    "                # Contar a quantidade de dados de cada classe\n",
    "                arrhythmia_index = classes.index(arrhythmia_type)\n",
    "                count_classes[arrhythmia_type] += 1\n",
    "                \n",
    "                # pos é o momento que foi feita a analise.\n",
    "                if(window_size <= pos and (pos + window_size) < len(signals)):\n",
    "                    # pega uma janela de tempo onde o pos fica no meio\n",
    "                    beat = signals[pos-window_size:pos+window_size]\n",
    "        \n",
    "                    X.append(beat)\n",
    "                    y.append(arrhythmia_index)\n",
    "                    Z.append(os.path.splitext(os.path.basename(records[r]))[0])\n",
    "\n",
    "print(np.shape(X), np.shape(y))"
   ]
  },
  {
   "cell_type": "code",
   "execution_count": 16,
   "id": "24465b96",
   "metadata": {},
   "outputs": [
    {
     "data": {
      "text/html": [
       "<div>\n",
       "<style scoped>\n",
       "    .dataframe tbody tr th:only-of-type {\n",
       "        vertical-align: middle;\n",
       "    }\n",
       "\n",
       "    .dataframe tbody tr th {\n",
       "        vertical-align: top;\n",
       "    }\n",
       "\n",
       "    .dataframe thead th {\n",
       "        text-align: right;\n",
       "    }\n",
       "</style>\n",
       "<table border=\"1\" class=\"dataframe\">\n",
       "  <thead>\n",
       "    <tr style=\"text-align: right;\">\n",
       "      <th></th>\n",
       "      <th>0</th>\n",
       "      <th>1</th>\n",
       "      <th>2</th>\n",
       "      <th>3</th>\n",
       "      <th>4</th>\n",
       "      <th>5</th>\n",
       "      <th>6</th>\n",
       "      <th>7</th>\n",
       "      <th>8</th>\n",
       "      <th>9</th>\n",
       "      <th>...</th>\n",
       "      <th>1992</th>\n",
       "      <th>1993</th>\n",
       "      <th>1994</th>\n",
       "      <th>1995</th>\n",
       "      <th>1996</th>\n",
       "      <th>1997</th>\n",
       "      <th>1998</th>\n",
       "      <th>1999</th>\n",
       "      <th>label</th>\n",
       "      <th>record_id</th>\n",
       "    </tr>\n",
       "  </thead>\n",
       "  <tbody>\n",
       "    <tr>\n",
       "      <th>0</th>\n",
       "      <td>0.083958</td>\n",
       "      <td>0.085536</td>\n",
       "      <td>0.086416</td>\n",
       "      <td>0.088665</td>\n",
       "      <td>0.088838</td>\n",
       "      <td>0.087622</td>\n",
       "      <td>0.083642</td>\n",
       "      <td>0.076895</td>\n",
       "      <td>0.068760</td>\n",
       "      <td>0.059927</td>\n",
       "      <td>...</td>\n",
       "      <td>-0.054384</td>\n",
       "      <td>-0.054374</td>\n",
       "      <td>-0.052298</td>\n",
       "      <td>-0.049536</td>\n",
       "      <td>-0.048844</td>\n",
       "      <td>-0.048154</td>\n",
       "      <td>-0.048845</td>\n",
       "      <td>-0.051606</td>\n",
       "      <td>0</td>\n",
       "      <td>100</td>\n",
       "    </tr>\n",
       "    <tr>\n",
       "      <th>1</th>\n",
       "      <td>0.178741</td>\n",
       "      <td>0.185196</td>\n",
       "      <td>0.190959</td>\n",
       "      <td>0.191895</td>\n",
       "      <td>0.187314</td>\n",
       "      <td>0.179973</td>\n",
       "      <td>0.170562</td>\n",
       "      <td>0.162526</td>\n",
       "      <td>0.153797</td>\n",
       "      <td>0.141620</td>\n",
       "      <td>...</td>\n",
       "      <td>-0.946181</td>\n",
       "      <td>-0.940877</td>\n",
       "      <td>-0.933509</td>\n",
       "      <td>-0.919941</td>\n",
       "      <td>-0.904997</td>\n",
       "      <td>-0.885232</td>\n",
       "      <td>-0.856511</td>\n",
       "      <td>-0.822968</td>\n",
       "      <td>0</td>\n",
       "      <td>100</td>\n",
       "    </tr>\n",
       "    <tr>\n",
       "      <th>2</th>\n",
       "      <td>-0.000832</td>\n",
       "      <td>-0.011242</td>\n",
       "      <td>-0.021651</td>\n",
       "      <td>-0.032751</td>\n",
       "      <td>-0.046607</td>\n",
       "      <td>-0.061154</td>\n",
       "      <td>-0.077079</td>\n",
       "      <td>-0.090937</td>\n",
       "      <td>-0.104795</td>\n",
       "      <td>-0.115897</td>\n",
       "      <td>...</td>\n",
       "      <td>-0.581727</td>\n",
       "      <td>-0.585270</td>\n",
       "      <td>-0.587435</td>\n",
       "      <td>-0.590290</td>\n",
       "      <td>-0.593146</td>\n",
       "      <td>-0.592557</td>\n",
       "      <td>-0.583699</td>\n",
       "      <td>-0.567260</td>\n",
       "      <td>0</td>\n",
       "      <td>100</td>\n",
       "    </tr>\n",
       "    <tr>\n",
       "      <th>3</th>\n",
       "      <td>-0.290699</td>\n",
       "      <td>-0.266626</td>\n",
       "      <td>-0.235661</td>\n",
       "      <td>-0.198491</td>\n",
       "      <td>-0.155118</td>\n",
       "      <td>-0.104853</td>\n",
       "      <td>-0.053208</td>\n",
       "      <td>-0.001562</td>\n",
       "      <td>0.043882</td>\n",
       "      <td>0.084502</td>\n",
       "      <td>...</td>\n",
       "      <td>-0.558391</td>\n",
       "      <td>-0.553579</td>\n",
       "      <td>-0.551522</td>\n",
       "      <td>-0.552220</td>\n",
       "      <td>-0.554294</td>\n",
       "      <td>-0.553609</td>\n",
       "      <td>-0.552233</td>\n",
       "      <td>-0.551544</td>\n",
       "      <td>3</td>\n",
       "      <td>100</td>\n",
       "    </tr>\n",
       "    <tr>\n",
       "      <th>4</th>\n",
       "      <td>0.016099</td>\n",
       "      <td>0.016617</td>\n",
       "      <td>0.015064</td>\n",
       "      <td>0.010063</td>\n",
       "      <td>0.002304</td>\n",
       "      <td>-0.006148</td>\n",
       "      <td>-0.015980</td>\n",
       "      <td>-0.019611</td>\n",
       "      <td>-0.018420</td>\n",
       "      <td>-0.012407</td>\n",
       "      <td>...</td>\n",
       "      <td>0.087004</td>\n",
       "      <td>0.123378</td>\n",
       "      <td>0.156308</td>\n",
       "      <td>0.187862</td>\n",
       "      <td>0.214592</td>\n",
       "      <td>0.238568</td>\n",
       "      <td>0.260477</td>\n",
       "      <td>0.279630</td>\n",
       "      <td>0</td>\n",
       "      <td>100</td>\n",
       "    </tr>\n",
       "  </tbody>\n",
       "</table>\n",
       "<p>5 rows × 2002 columns</p>\n",
       "</div>"
      ],
      "text/plain": [
       "          0         1         2         3         4         5         6  \\\n",
       "0  0.083958  0.085536  0.086416  0.088665  0.088838  0.087622  0.083642   \n",
       "1  0.178741  0.185196  0.190959  0.191895  0.187314  0.179973  0.170562   \n",
       "2 -0.000832 -0.011242 -0.021651 -0.032751 -0.046607 -0.061154 -0.077079   \n",
       "3 -0.290699 -0.266626 -0.235661 -0.198491 -0.155118 -0.104853 -0.053208   \n",
       "4  0.016099  0.016617  0.015064  0.010063  0.002304 -0.006148 -0.015980   \n",
       "\n",
       "          7         8         9  ...      1992      1993      1994      1995  \\\n",
       "0  0.076895  0.068760  0.059927  ... -0.054384 -0.054374 -0.052298 -0.049536   \n",
       "1  0.162526  0.153797  0.141620  ... -0.946181 -0.940877 -0.933509 -0.919941   \n",
       "2 -0.090937 -0.104795 -0.115897  ... -0.581727 -0.585270 -0.587435 -0.590290   \n",
       "3 -0.001562  0.043882  0.084502  ... -0.558391 -0.553579 -0.551522 -0.552220   \n",
       "4 -0.019611 -0.018420 -0.012407  ...  0.087004  0.123378  0.156308  0.187862   \n",
       "\n",
       "       1996      1997      1998      1999  label  record_id  \n",
       "0 -0.048844 -0.048154 -0.048845 -0.051606      0        100  \n",
       "1 -0.904997 -0.885232 -0.856511 -0.822968      0        100  \n",
       "2 -0.593146 -0.592557 -0.583699 -0.567260      0        100  \n",
       "3 -0.554294 -0.553609 -0.552233 -0.551544      3        100  \n",
       "4  0.214592  0.238568  0.260477  0.279630      0        100  \n",
       "\n",
       "[5 rows x 2002 columns]"
      ]
     },
     "execution_count": 16,
     "metadata": {},
     "output_type": "execute_result"
    }
   ],
   "source": [
    "database = pd.DataFrame(data=X)\n",
    "database['label'] = y\n",
    "database['record_id'] = Z\n",
    "database.head()"
   ]
  },
  {
   "cell_type": "markdown",
   "id": "339e9cee",
   "metadata": {},
   "source": [
    "**Comparação dos tipos de batidas com e sem ruído**"
   ]
  },
  {
   "cell_type": "markdown",
   "id": "6c92e17a",
   "metadata": {},
   "source": [
    "### Análise dos dados\n",
    "Nessa análise não importa se a base de dados é ``noisy_database`` ou ``database`` porque estamos analisando a quantidade de classes e não a qualidade do sinal."
   ]
  },
  {
   "cell_type": "code",
   "execution_count": 17,
   "id": "b376f6e5",
   "metadata": {},
   "outputs": [
    {
     "data": {
      "text/plain": [
       "float64    2000\n",
       "int64         1\n",
       "object        1\n",
       "dtype: int64"
      ]
     },
     "execution_count": 17,
     "metadata": {},
     "output_type": "execute_result"
    }
   ],
   "source": [
    "database.dtypes.value_counts()"
   ]
  },
  {
   "cell_type": "code",
   "execution_count": 18,
   "id": "9b2fd14a",
   "metadata": {},
   "outputs": [
    {
     "data": {
      "text/plain": [
       "0    74815\n",
       "1     8053\n",
       "2     7235\n",
       "4     7114\n",
       "3     2537\n",
       "Name: label, dtype: int64"
      ]
     },
     "execution_count": 18,
     "metadata": {},
     "output_type": "execute_result"
    }
   ],
   "source": [
    "database['label'].value_counts()"
   ]
  },
  {
   "cell_type": "code",
   "execution_count": 19,
   "id": "0ba16638",
   "metadata": {},
   "outputs": [
    {
     "data": {
      "image/png": "[encoded data removed]",
      "text/plain": [
       "<Figure size 640x480 with 1 Axes>"
      ]
     },
     "metadata": {},
     "output_type": "display_data"
    }
   ],
   "source": [
    "database['label'].hist();"
   ]
  },
  {
   "cell_type": "markdown",
   "id": "ee398409",
   "metadata": {},
   "source": [
    "## AutoML com sinais ruidosos"
   ]
  },
  {
   "cell_type": "code",
   "execution_count": 20,
   "id": "10025aaf",
   "metadata": {},
   "outputs": [
    {
     "data": {
      "text/plain": [
       "((74815, 2001), (24939, 2001))"
      ]
     },
     "execution_count": 20,
     "metadata": {},
     "output_type": "execute_result"
    }
   ],
   "source": [
    "#removendo a coluna record_id pois ela não é necessária nas classificações \n",
    "noisy_database2 = noisy_database.iloc[:, :-1]\n",
    "train_data, test_data = train_test_split(noisy_database2, random_state=42, stratify=noisy_database2.label)\n",
    "train_data.shape, test_data.shape "
   ]
  },
  {
   "cell_type": "code",
   "execution_count": 21,
   "id": "dde4dca1",
   "metadata": {},
   "outputs": [
    {
     "data": {
      "text/plain": [
       "((74815, 2000), (24939, 2000), (74815,), (24939,))"
      ]
     },
     "execution_count": 21,
     "metadata": {},
     "output_type": "execute_result"
    }
   ],
   "source": [
    "X_train, y_train = train_data.iloc[:,:-1], train_data['label']\n",
    "X_test, y_test = test_data.iloc[:,:-1], test_data['label']\n",
    "X_train.shape, X_test.shape, y_train.shape, y_test.shape"
   ]
  },
  {
   "cell_type": "code",
   "execution_count": 22,
   "id": "1d1d3ada",
   "metadata": {},
   "outputs": [
    {
     "data": {
      "text/html": [],
      "text/plain": [
       "<IPython.core.display.HTML object>"
      ]
     },
     "metadata": {},
     "output_type": "display_data"
    },
    {
     "name": "stderr",
     "output_type": "stream",
     "text": [
      "Fitted model: NeuralNetTorch/523a3c13 ...\n",
      "\t0.99\t = Validation score   (accuracy)\n",
      "\t293.03s\t = Training   runtime\n",
      "\t2.79s\t = Validation runtime\n",
      "Fitted model: NeuralNetTorch/331cf39a ...\n",
      "\t0.9694\t = Validation score   (accuracy)\n",
      "\t171.58s\t = Training   runtime\n",
      "\t0.3s\t = Validation runtime\n",
      "Fitted model: NeuralNetTorch/0804615d ...\n",
      "\t0.9924\t = Validation score   (accuracy)\n",
      "\t1957.01s\t = Training   runtime\n",
      "\t2.79s\t = Validation runtime\n",
      "Fitted model: NeuralNetTorch/962d0db5 ...\n",
      "\t0.9934\t = Validation score   (accuracy)\n",
      "\t994.22s\t = Training   runtime\n",
      "\t2.76s\t = Validation runtime\n",
      "Fitted model: NeuralNetTorch/ec2a69c8 ...\n",
      "\t0.9764\t = Validation score   (accuracy)\n",
      "\t267.81s\t = Training   runtime\n",
      "\t2.92s\t = Validation runtime\n",
      "Fitting model: LightGBMLarge ... Training model for up to 1992.59s of the 18180.73s of remaining time.\n",
      "\t0.9882\t = Validation score   (accuracy)\n",
      "\t907.63s\t = Training   runtime\n",
      "\t0.3s\t = Validation runtime\n",
      "Fitting model: WeightedEnsemble_L2 ... Training model for up to 2878.18s of the 17241.06s of remaining time.\n",
      "\t0.994\t = Validation score   (accuracy)\n",
      "\t1.9s\t = Training   runtime\n",
      "\t0.0s\t = Validation runtime\n",
      "AutoGluon training complete, total runtime = 11563.0s ... Best model: \"WeightedEnsemble_L2\"\n",
      "TabularPredictor saved. To load, use: predictor = TabularPredictor.load(\"AutogluonModels/ag-20231128_201440/\")\n"
     ]
    },
    {
     "name": "stdout",
     "output_type": "stream",
     "text": [
      "CPU times: user 14h 28min 35s, sys: 35min 26s, total: 15h 4min 2s\n",
      "Wall time: 3h 12min 43s\n"
     ]
    }
   ],
   "source": [
    "%%time\n",
    "predictor = TabularPredictor(label='label').fit(train_data, time_limit=28800, hyperparameter_tune_kwargs = \n",
    "                                                {'num_trials': 5, 'scheduler' : 'local', 'searcher': 'auto'})"
   ]
  },
  {
   "cell_type": "markdown",
   "id": "da7926ec",
   "metadata": {},
   "source": [
    "### Dataframe de hiperparâmetros"
   ]
  },
  {
   "cell_type": "markdown",
   "id": "48292b0d",
   "metadata": {},
   "source": [
    "Iremos usar 3 métodos para os modelos do AutoGluon, o primeiro sem reamostragem, o segundo utilizando a técnica de reamostragem SMOTE e o terceiro a técnica de reamostragem ADASYN. Por isso, para auxiliar o acesso dos hiperparâmetros utilizaremos um dataframe."
   ]
  },
  {
   "cell_type": "markdown",
   "id": "2e6b3b64",
   "metadata": {},
   "source": [
    "A função ``autogluon_models_df`` trata as informações dos modelos gerados pelo TabularPredictor e retorna um dataframe com um ranking de acurácia dos modelos e facilita o processo de seleção/visualização dos hiperparâmetros de cada modelo. O datafame contém as seguintes informações: a segmentação usada, se o filtro foi aplicado, a técnica de reamostragem, o nome do modelo, os hiperparâmetros do modelo e acurácia. Nesse notebook executamos os modelos com a segmentação dos dados com uma janela de 180."
   ]
  },
  {
   "cell_type": "code",
   "execution_count": 23,
   "id": "bd47b6e2",
   "metadata": {},
   "outputs": [],
   "source": [
    "def autogluon_models_df(window, filter_applied, resampling_tech, predictor_model, test_data_):\n",
    "    leaderboard = predictor_model.leaderboard(test_data_, silent=True, extra_metrics=['accuracy','precision_weighted','recall_weighted', 'f1_weighted'])\n",
    "    all_models = predictor_model.get_model_names()\n",
    "    predictor_information = predictor_model.info()\n",
    "    autogluon_accuracy = []\n",
    "    autogluon_precision = []\n",
    "    autogluon_f1 = []\n",
    "    autogluon_recall = []\n",
    "    autogluon_hyperparameters = []\n",
    "    autogluon_algorithms = [] \n",
    "    for model in all_models:\n",
    "        if model != 'WeightedEnsemble_L2':\n",
    "            autogluon_algorithms.append(model)\n",
    "            accuracy = (leaderboard.accuracy[leaderboard['model'] == model]).values[0]\n",
    "            precision_weighted = (leaderboard.precision_weighted[leaderboard['model'] == model]).values[0]\n",
    "            recall_weighted = (leaderboard.recall_weighted[leaderboard['model'] == model]).values[0]\n",
    "            f1_weighted = (leaderboard.f1_weighted[leaderboard['model'] == model]).values[0]\n",
    "            \n",
    "            autogluon_accuracy.append(accuracy)\n",
    "            autogluon_precision.append(precision_weighted)\n",
    "            autogluon_recall.append(recall_weighted)\n",
    "            autogluon_f1.append(f1_weighted)\n",
    "            \n",
    "            autogluon_hyperparameters.append(predictor_information[\"model_info\"][model][\"hyperparameters\"])\n",
    "            \n",
    "    window_size_list = [window*2]*len(autogluon_algorithms)\n",
    "    filter_applied_list = [filter_applied]*len(autogluon_algorithms)\n",
    "    resampling_tech_list = [resampling_tech]*len(autogluon_algorithms)\n",
    "        \n",
    "    \n",
    "    autogluon_args = list(zip(window_size_list, filter_applied_list, resampling_tech_list, \n",
    "                              autogluon_algorithms, autogluon_hyperparameters, autogluon_accuracy,\n",
    "                             autogluon_precision, autogluon_recall, autogluon_f1))    \n",
    "    \n",
    "    hyperparameters = pd.DataFrame(autogluon_args, columns=['window_size','filter_applied','resampling_tech',\n",
    "                                                            'model','hyperparameters','accuracy',\n",
    "                                                            'precision_weighted','recall_weighted', 'f1_weighted'])\n",
    "    \n",
    "    hyperparameters = hyperparameters.sort_values(by='accuracy', ascending=False)\n",
    "    hyperparameters = hyperparameters.reset_index(drop=True)\n",
    "    \n",
    "    #agrupamento por algoritmos\n",
    "    hyperparameters['algorithm'] = ''\n",
    "    all_algorithms = ['LightGBM', 'RandomForest', 'NeuralNetTorch', 'NeuralNetFastAI', 'XGBoost',\n",
    "                      'ExtraTrees', 'CatBoost', 'KNeighbors']\n",
    "    \n",
    "    hyperparameters.loc[hyperparameters['model'].str.contains('LightGBM'), 'algorithm'] = 'LightGBM'\n",
    "    hyperparameters.loc[hyperparameters['model'].str.contains('RandomForest'), 'algorithm'] = 'RandomForest'\n",
    "    hyperparameters.loc[hyperparameters['model'].str.contains('NeuralNetTorch'), 'algorithm'] = 'NeuralNetTorch'\n",
    "    hyperparameters.loc[hyperparameters['model'].str.contains('NeuralNetFastAI'), 'algorithm'] = 'NeuralNetFastAI'\n",
    "    hyperparameters.loc[hyperparameters['model'].str.contains('XGBoost'), 'algorithm'] = 'XGBoost'\n",
    "    hyperparameters.loc[hyperparameters['model'].str.contains('ExtraTrees'), 'algorithm'] = 'ExtraTrees'\n",
    "    hyperparameters.loc[hyperparameters['model'].str.contains('CatBoost'), 'algorithm'] = 'CatBoost'\n",
    "    hyperparameters.loc[hyperparameters['model'].str.contains('KNeighbors'), 'algorithm'] = 'KNeighbors'\n",
    "    \n",
    "    return hyperparameters"
   ]
  },
  {
   "cell_type": "code",
   "execution_count": 24,
   "id": "26b006d0",
   "metadata": {},
   "outputs": [
    {
     "name": "stdout",
     "output_type": "stream",
     "text": [
      "CPU times: user 16min 23s, sys: 3.09 s, total: 16min 26s\n",
      "Wall time: 2min 24s\n"
     ]
    }
   ],
   "source": [
    "%%time\n",
    "model_without_resampling = autogluon_models_df(window=window_size,\n",
    "                                               filter_applied=False, \n",
    "                                               resampling_tech=None,\n",
    "                                               predictor_model=predictor,\n",
    "                                               test_data_=test_data)"
   ]
  },
  {
   "cell_type": "markdown",
   "id": "fe8f5d95",
   "metadata": {},
   "source": [
    "**Ranking dos modelos sem reamostragem e sem filtro**"
   ]
  },
  {
   "cell_type": "code",
   "execution_count": 25,
   "id": "4c5ea85d",
   "metadata": {},
   "outputs": [
    {
     "data": {
      "text/html": [
       "<div>\n",
       "<style scoped>\n",
       "    .dataframe tbody tr th:only-of-type {\n",
       "        vertical-align: middle;\n",
       "    }\n",
       "\n",
       "    .dataframe tbody tr th {\n",
       "        vertical-align: top;\n",
       "    }\n",
       "\n",
       "    .dataframe thead th {\n",
       "        text-align: right;\n",
       "    }\n",
       "</style>\n",
       "<table border=\"1\" class=\"dataframe\">\n",
       "  <thead>\n",
       "    <tr style=\"text-align: right;\">\n",
       "      <th></th>\n",
       "      <th>window_size</th>\n",
       "      <th>filter_applied</th>\n",
       "      <th>resampling_tech</th>\n",
       "      <th>model</th>\n",
       "      <th>hyperparameters</th>\n",
       "      <th>accuracy</th>\n",
       "      <th>precision_weighted</th>\n",
       "      <th>recall_weighted</th>\n",
       "      <th>f1_weighted</th>\n",
       "      <th>algorithm</th>\n",
       "    </tr>\n",
       "  </thead>\n",
       "  <tbody>\n",
       "    <tr>\n",
       "      <th>0</th>\n",
       "      <td>2000</td>\n",
       "      <td>False</td>\n",
       "      <td>None</td>\n",
       "      <td>NeuralNetFastAI/76554e76</td>\n",
       "      <td>{'layers': None, 'emb_drop': 0.1, 'ps': 0.1, 'bs': 256, 'lr': 0.01, 'epochs': 30, 'early.stopping.min_delta': 0.0001, 'early.stopping.patience': 20, 'smoothing': 0.0}</td>\n",
       "      <td>0.992261</td>\n",
       "      <td>0.992192</td>\n",
       "      <td>0.992261</td>\n",
       "      <td>0.992205</td>\n",
       "      <td>NeuralNetFastAI</td>\n",
       "    </tr>\n",
       "    <tr>\n",
       "      <th>1</th>\n",
       "      <td>2000</td>\n",
       "      <td>False</td>\n",
       "      <td>None</td>\n",
       "      <td>NeuralNetTorch/962d0db5</td>\n",
       "      <td>{'num_epochs': 500, 'epochs_wo_improve': 20, 'activation': 'elu', 'embedding_size_factor': 0.6, 'embed_exponent': 0.56, 'max_embedding_dim': 100, 'y_range': None, 'y_range_extend': 0.05, 'dropout_prob': 0.2, 'optimizer': 'adam', 'learning_rate': 0.01301814743912817, 'weight_decay': 1.3209894849025664e-12, 'proc.embed_min_categories': 3, 'proc.impute_strategy': 'median', 'proc.max_category_levels': 1000, 'proc.skew_threshold': 0.9, 'use_ngram_features': False, 'num_layers': 3, 'hidden_size': 256, 'max_batch_size': 512, 'use_batchnorm': True, 'loss_function': 'auto'}</td>\n",
       "      <td>0.992061</td>\n",
       "      <td>0.992008</td>\n",
       "      <td>0.992061</td>\n",
       "      <td>0.991949</td>\n",
       "      <td>NeuralNetTorch</td>\n",
       "    </tr>\n",
       "  </tbody>\n",
       "</table>\n",
       "</div>"
      ],
      "text/plain": [
       "   window_size  filter_applied resampling_tech                     model  \\\n",
       "0         2000           False            None  NeuralNetFastAI/76554e76   \n",
       "1         2000           False            None   NeuralNetTorch/962d0db5   \n",
       "\n",
       "                                                                                                                                                                                                                                                                                                                                                                                                                                                                                                                                                                               hyperparameters  \\\n",
       "0                                                                                                                                                                                                                                                                                                                                                                                                                       {'layers': None, 'emb_drop': 0.1, 'ps': 0.1, 'bs': 256, 'lr': 0.01, 'epochs': 30, 'early.stopping.min_delta': 0.0001, 'early.stopping.patience': 20, 'smoothing': 0.0}   \n",
       "1  {'num_epochs': 500, 'epochs_wo_improve': 20, 'activation': 'elu', 'embedding_size_factor': 0.6, 'embed_exponent': 0.56, 'max_embedding_dim': 100, 'y_range': None, 'y_range_extend': 0.05, 'dropout_prob': 0.2, 'optimizer': 'adam', 'learning_rate': 0.01301814743912817, 'weight_decay': 1.3209894849025664e-12, 'proc.embed_min_categories': 3, 'proc.impute_strategy': 'median', 'proc.max_category_levels': 1000, 'proc.skew_threshold': 0.9, 'use_ngram_features': False, 'num_layers': 3, 'hidden_size': 256, 'max_batch_size': 512, 'use_batchnorm': True, 'loss_function': 'auto'}   \n",
       "\n",
       "   accuracy  precision_weighted  recall_weighted  f1_weighted        algorithm  \n",
       "0  0.992261            0.992192         0.992261     0.992205  NeuralNetFastAI  \n",
       "1  0.992061            0.992008         0.992061     0.991949   NeuralNetTorch  "
      ]
     },
     "execution_count": 25,
     "metadata": {},
     "output_type": "execute_result"
    }
   ],
   "source": [
    "model_without_resampling.head(2)"
   ]
  },
  {
   "cell_type": "markdown",
   "id": "658ea6cd",
   "metadata": {},
   "source": [
    "**Cálculo do intervalo de confiança**"
   ]
  },
  {
   "cell_type": "code",
   "execution_count": 139,
   "id": "9712b418",
   "metadata": {},
   "outputs": [
    {
     "name": "stdout",
     "output_type": "stream",
     "text": [
      "Intervalo de confiança(0.991108148773116, 0.9932918512268839)\n"
     ]
    }
   ],
   "source": [
    "z = 1.96\n",
    "accuracy = 0.9922\n",
    "n = len(X_test)\n",
    "interval = z * np.sqrt((accuracy * (1 - accuracy)) / n)\n",
    "print(f\"Intervalo de confiança{(accuracy-interval, accuracy+interval)}\")"
   ]
  },
  {
   "cell_type": "code",
   "execution_count": 26,
   "id": "341be807",
   "metadata": {},
   "outputs": [
    {
     "data": {
      "text/plain": [
       "LightGBM           7\n",
       "NeuralNetFastAI    5\n",
       "NeuralNetTorch     5\n",
       "RandomForest       2\n",
       "ExtraTrees         2\n",
       "KNeighbors         2\n",
       "XGBoost            1\n",
       "CatBoost           1\n",
       "Name: algorithm, dtype: int64"
      ]
     },
     "execution_count": 26,
     "metadata": {},
     "output_type": "execute_result"
    }
   ],
   "source": [
    "model_without_resampling['algorithm'].value_counts()"
   ]
  },
  {
   "cell_type": "code",
   "execution_count": 27,
   "id": "b64daf89",
   "metadata": {},
   "outputs": [
    {
     "data": {
      "text/plain": [
       "25"
      ]
     },
     "execution_count": 27,
     "metadata": {},
     "output_type": "execute_result"
    }
   ],
   "source": [
    "model_without_resampling['algorithm'].value_counts().sum()"
   ]
  },
  {
   "cell_type": "markdown",
   "id": "7279ef5f",
   "metadata": {},
   "source": [
    "Para evitar perda dos dados"
   ]
  },
  {
   "cell_type": "code",
   "execution_count": 28,
   "id": "7cb86e9e",
   "metadata": {},
   "outputs": [],
   "source": [
    "model_without_resampling.to_csv('model_without_resampling.csv', index=False)"
   ]
  },
  {
   "cell_type": "markdown",
   "id": "f648f33c",
   "metadata": {},
   "source": [
    "### AutoML com técnica de reamostragem SMOTE"
   ]
  },
  {
   "cell_type": "code",
   "execution_count": 29,
   "id": "f72529de",
   "metadata": {},
   "outputs": [],
   "source": [
    "# Aplicar SMOTE apenas no conjunto de treinamento\n",
    "smote = SMOTE(sampling_strategy='auto')"
   ]
  },
  {
   "cell_type": "code",
   "execution_count": 30,
   "id": "859b38db",
   "metadata": {},
   "outputs": [
    {
     "name": "stdout",
     "output_type": "stream",
     "text": [
      "Distribuição de classes sem a reamostragem:  Counter({0: 56111, 1: 6040, 2: 5426, 4: 5335, 3: 1903})\n"
     ]
    }
   ],
   "source": [
    "print(\"Distribuição de classes sem a reamostragem: \", Counter(y_train))"
   ]
  },
  {
   "cell_type": "code",
   "execution_count": 31,
   "id": "870bcf3f",
   "metadata": {},
   "outputs": [
    {
     "name": "stdout",
     "output_type": "stream",
     "text": [
      "CPU times: user 33.9 s, sys: 2.92 s, total: 36.8 s\n",
      "Wall time: 16 s\n"
     ]
    }
   ],
   "source": [
    "%%time\n",
    "X_resampled_smote, y_resampled_smote = smote.fit_resample(X_train, y_train)"
   ]
  },
  {
   "cell_type": "code",
   "execution_count": 32,
   "id": "4eaf5ec9",
   "metadata": {},
   "outputs": [
    {
     "name": "stdout",
     "output_type": "stream",
     "text": [
      "Distribuição de classes após a reamostragem:  Counter({4: 56111, 0: 56111, 2: 56111, 1: 56111, 3: 56111})\n"
     ]
    }
   ],
   "source": [
    "print(\"Distribuição de classes após a reamostragem: \", Counter(y_resampled_smote))"
   ]
  },
  {
   "cell_type": "code",
   "execution_count": 33,
   "id": "2f29fe55",
   "metadata": {},
   "outputs": [
    {
     "data": {
      "text/html": [
       "<div>\n",
       "<style scoped>\n",
       "    .dataframe tbody tr th:only-of-type {\n",
       "        vertical-align: middle;\n",
       "    }\n",
       "\n",
       "    .dataframe tbody tr th {\n",
       "        vertical-align: top;\n",
       "    }\n",
       "\n",
       "    .dataframe thead th {\n",
       "        text-align: right;\n",
       "    }\n",
       "</style>\n",
       "<table border=\"1\" class=\"dataframe\">\n",
       "  <thead>\n",
       "    <tr style=\"text-align: right;\">\n",
       "      <th></th>\n",
       "      <th>0</th>\n",
       "      <th>1</th>\n",
       "      <th>2</th>\n",
       "      <th>3</th>\n",
       "      <th>4</th>\n",
       "      <th>5</th>\n",
       "      <th>6</th>\n",
       "      <th>7</th>\n",
       "      <th>8</th>\n",
       "      <th>9</th>\n",
       "      <th>...</th>\n",
       "      <th>1991</th>\n",
       "      <th>1992</th>\n",
       "      <th>1993</th>\n",
       "      <th>1994</th>\n",
       "      <th>1995</th>\n",
       "      <th>1996</th>\n",
       "      <th>1997</th>\n",
       "      <th>1998</th>\n",
       "      <th>1999</th>\n",
       "      <th>label</th>\n",
       "    </tr>\n",
       "  </thead>\n",
       "  <tbody>\n",
       "    <tr>\n",
       "      <th>0</th>\n",
       "      <td>0.129698</td>\n",
       "      <td>0.179569</td>\n",
       "      <td>0.179569</td>\n",
       "      <td>0.196193</td>\n",
       "      <td>0.162946</td>\n",
       "      <td>0.146322</td>\n",
       "      <td>0.113075</td>\n",
       "      <td>0.162946</td>\n",
       "      <td>0.196193</td>\n",
       "      <td>0.212816</td>\n",
       "      <td>...</td>\n",
       "      <td>-0.285891</td>\n",
       "      <td>-0.302514</td>\n",
       "      <td>-0.219396</td>\n",
       "      <td>-0.202773</td>\n",
       "      <td>-0.236020</td>\n",
       "      <td>-0.269267</td>\n",
       "      <td>-0.302514</td>\n",
       "      <td>-0.269267</td>\n",
       "      <td>-0.236020</td>\n",
       "      <td>4</td>\n",
       "    </tr>\n",
       "    <tr>\n",
       "      <th>1</th>\n",
       "      <td>0.096508</td>\n",
       "      <td>0.110943</td>\n",
       "      <td>0.168684</td>\n",
       "      <td>0.211990</td>\n",
       "      <td>0.183119</td>\n",
       "      <td>0.139814</td>\n",
       "      <td>0.067638</td>\n",
       "      <td>0.053202</td>\n",
       "      <td>0.038767</td>\n",
       "      <td>0.038767</td>\n",
       "      <td>...</td>\n",
       "      <td>0.558435</td>\n",
       "      <td>0.587306</td>\n",
       "      <td>0.688352</td>\n",
       "      <td>0.760529</td>\n",
       "      <td>0.774964</td>\n",
       "      <td>0.746093</td>\n",
       "      <td>0.832705</td>\n",
       "      <td>0.948187</td>\n",
       "      <td>0.933751</td>\n",
       "      <td>0</td>\n",
       "    </tr>\n",
       "    <tr>\n",
       "      <th>2</th>\n",
       "      <td>1.121642</td>\n",
       "      <td>1.148811</td>\n",
       "      <td>1.203150</td>\n",
       "      <td>1.257489</td>\n",
       "      <td>1.352582</td>\n",
       "      <td>1.488429</td>\n",
       "      <td>1.529183</td>\n",
       "      <td>1.569938</td>\n",
       "      <td>1.597107</td>\n",
       "      <td>1.637861</td>\n",
       "      <td>...</td>\n",
       "      <td>-0.685127</td>\n",
       "      <td>-0.657958</td>\n",
       "      <td>-0.671542</td>\n",
       "      <td>-0.671542</td>\n",
       "      <td>-0.671542</td>\n",
       "      <td>-0.617204</td>\n",
       "      <td>-0.590034</td>\n",
       "      <td>-0.576449</td>\n",
       "      <td>-0.549280</td>\n",
       "      <td>0</td>\n",
       "    </tr>\n",
       "    <tr>\n",
       "      <th>3</th>\n",
       "      <td>-0.004539</td>\n",
       "      <td>-0.047844</td>\n",
       "      <td>-0.062279</td>\n",
       "      <td>-0.134456</td>\n",
       "      <td>-0.148891</td>\n",
       "      <td>-0.206632</td>\n",
       "      <td>-0.148891</td>\n",
       "      <td>-0.120020</td>\n",
       "      <td>-0.091150</td>\n",
       "      <td>-0.120020</td>\n",
       "      <td>...</td>\n",
       "      <td>-0.134456</td>\n",
       "      <td>0.024332</td>\n",
       "      <td>0.139814</td>\n",
       "      <td>0.298601</td>\n",
       "      <td>0.428518</td>\n",
       "      <td>0.572871</td>\n",
       "      <td>0.688352</td>\n",
       "      <td>0.760529</td>\n",
       "      <td>0.717223</td>\n",
       "      <td>0</td>\n",
       "    </tr>\n",
       "    <tr>\n",
       "      <th>4</th>\n",
       "      <td>0.698712</td>\n",
       "      <td>0.743159</td>\n",
       "      <td>0.743159</td>\n",
       "      <td>0.713528</td>\n",
       "      <td>0.639449</td>\n",
       "      <td>0.580185</td>\n",
       "      <td>0.565370</td>\n",
       "      <td>0.609817</td>\n",
       "      <td>0.624633</td>\n",
       "      <td>0.624633</td>\n",
       "      <td>...</td>\n",
       "      <td>-0.323578</td>\n",
       "      <td>-0.293947</td>\n",
       "      <td>-0.353210</td>\n",
       "      <td>-0.338394</td>\n",
       "      <td>-0.338394</td>\n",
       "      <td>-0.368026</td>\n",
       "      <td>-0.382842</td>\n",
       "      <td>-0.397657</td>\n",
       "      <td>-0.368026</td>\n",
       "      <td>0</td>\n",
       "    </tr>\n",
       "  </tbody>\n",
       "</table>\n",
       "<p>5 rows × 2001 columns</p>\n",
       "</div>"
      ],
      "text/plain": [
       "          0         1         2         3         4         5         6  \\\n",
       "0  0.129698  0.179569  0.179569  0.196193  0.162946  0.146322  0.113075   \n",
       "1  0.096508  0.110943  0.168684  0.211990  0.183119  0.139814  0.067638   \n",
       "2  1.121642  1.148811  1.203150  1.257489  1.352582  1.488429  1.529183   \n",
       "3 -0.004539 -0.047844 -0.062279 -0.134456 -0.148891 -0.206632 -0.148891   \n",
       "4  0.698712  0.743159  0.743159  0.713528  0.639449  0.580185  0.565370   \n",
       "\n",
       "          7         8         9  ...      1991      1992      1993      1994  \\\n",
       "0  0.162946  0.196193  0.212816  ... -0.285891 -0.302514 -0.219396 -0.202773   \n",
       "1  0.053202  0.038767  0.038767  ...  0.558435  0.587306  0.688352  0.760529   \n",
       "2  1.569938  1.597107  1.637861  ... -0.685127 -0.657958 -0.671542 -0.671542   \n",
       "3 -0.120020 -0.091150 -0.120020  ... -0.134456  0.024332  0.139814  0.298601   \n",
       "4  0.609817  0.624633  0.624633  ... -0.323578 -0.293947 -0.353210 -0.338394   \n",
       "\n",
       "       1995      1996      1997      1998      1999  label  \n",
       "0 -0.236020 -0.269267 -0.302514 -0.269267 -0.236020      4  \n",
       "1  0.774964  0.746093  0.832705  0.948187  0.933751      0  \n",
       "2 -0.671542 -0.617204 -0.590034 -0.576449 -0.549280      0  \n",
       "3  0.428518  0.572871  0.688352  0.760529  0.717223      0  \n",
       "4 -0.338394 -0.368026 -0.382842 -0.397657 -0.368026      0  \n",
       "\n",
       "[5 rows x 2001 columns]"
      ]
     },
     "execution_count": 33,
     "metadata": {},
     "output_type": "execute_result"
    }
   ],
   "source": [
    "resampled_smote = X_resampled_smote.join(y_resampled_smote)\n",
    "resampled_smote.head()"
   ]
  },
  {
   "cell_type": "code",
   "execution_count": 34,
   "id": "c0c7e69a",
   "metadata": {},
   "outputs": [
    {
     "data": {
      "text/html": [],
      "text/plain": [
       "<IPython.core.display.HTML object>"
      ]
     },
     "metadata": {},
     "output_type": "display_data"
    },
    {
     "name": "stderr",
     "output_type": "stream",
     "text": [
      "Fitted model: NeuralNetTorch/853b33bc ...\n",
      "\t0.9991\t = Validation score   (accuracy)\n",
      "\t885.04s\t = Training   runtime\n",
      "\t3.23s\t = Validation runtime\n",
      "Fitted model: NeuralNetTorch/c115cb1f ...\n",
      "\t0.9993\t = Validation score   (accuracy)\n",
      "\t1966.03s\t = Training   runtime\n",
      "\t0.33s\t = Validation runtime\n",
      "Fitted model: NeuralNetTorch/92127fad ...\n",
      "\t0.9993\t = Validation score   (accuracy)\n",
      "\t857.62s\t = Training   runtime\n",
      "\t0.34s\t = Validation runtime\n",
      "Fitted model: NeuralNetTorch/eaaf05bb ...\n",
      "\t0.9982\t = Validation score   (accuracy)\n",
      "\t232.72s\t = Training   runtime\n",
      "\t0.35s\t = Validation runtime\n",
      "Fitting model: LightGBMLarge ... Training model for up to 1989.76s of the 14974.09s of remaining time.\n",
      "\tWarning: Potentially not enough memory to safely train model. Estimated to require 36.311 GB out of 64.233 GB available memory (62.811%)... (90.000% of avail memory is the max safe size)\n",
      "\tTo avoid this warning, specify the model hyperparameter \"ag.max_memory_usage_ratio\" to a larger value (currently 1.0, set to >=0.80 to avoid the warning)\n",
      "\t\tTo set the same value for all models, do the following when calling predictor.fit: `predictor.fit(..., ag_args_fit={\"ag.max_memory_usage_ratio\": VALUE})`\n",
      "\t0.9984\t = Validation score   (accuracy)\n",
      "\t1543.17s\t = Training   runtime\n",
      "\t0.25s\t = Validation runtime\n",
      "Fitting model: WeightedEnsemble_L2 ... Training model for up to 2874.1s of the 13422.39s of remaining time.\n",
      "\t0.9998\t = Validation score   (accuracy)\n",
      "\t1.45s\t = Training   runtime\n",
      "\t0.0s\t = Validation runtime\n",
      "AutoGluon training complete, total runtime = 15386.96s ... Best model: \"WeightedEnsemble_L2\"\n",
      "TabularPredictor saved. To load, use: predictor = TabularPredictor.load(\"AutogluonModels/ag-20231128_233006/\")\n"
     ]
    },
    {
     "name": "stdout",
     "output_type": "stream",
     "text": [
      "CPU times: user 20h 45min 16s, sys: 19min 31s, total: 21h 4min 47s\n",
      "Wall time: 4h 16min 26s\n"
     ]
    }
   ],
   "source": [
    "%%time\n",
    "smote_resampling_training = TabularPredictor(label='label').fit(resampled_smote, time_limit=28800, \n",
    "                                                                hyperparameter_tune_kwargs = {'num_trials': 5, 'scheduler' : 'local', 'searcher': 'auto'})"
   ]
  },
  {
   "cell_type": "markdown",
   "id": "8f44b58a",
   "metadata": {},
   "source": [
    "**Dataframe de hiperparâmetros**\n",
    "\n",
    "A função ``autogluon_models_df`` trata as informações dos modelos gerados pelo TabularPredictor e retorna um dataframe com um ranking de acurácia dos modelos e facilita o processo de seleção/visualização dos hiperparâmetros de cada modelo. O datafame contém as seguintes informações: a segmentação usada, se o filtro foi aplicado, a técnica de reamostragem, o nome do modelo, os hiperparâmetros do modelo e acurácia. Nesse notebook executamos os modelos com a segmentação dos dados com uma janela de 180."
   ]
  },
  {
   "cell_type": "code",
   "execution_count": 35,
   "id": "adc19831",
   "metadata": {},
   "outputs": [
    {
     "name": "stdout",
     "output_type": "stream",
     "text": [
      "CPU times: user 1min 18s, sys: 4.71 s, total: 1min 23s\n",
      "Wall time: 32.3 s\n"
     ]
    }
   ],
   "source": [
    "%%time\n",
    "models_with_smote = autogluon_models_df(window=window_size,\n",
    "                                        filter_applied=False, \n",
    "                                        resampling_tech='smote',\n",
    "                                        predictor_model=smote_resampling_training,\n",
    "                                        test_data_=test_data)"
   ]
  },
  {
   "cell_type": "markdown",
   "id": "424eaab0",
   "metadata": {},
   "source": [
    "**Ranking dos modelos com a técnica de reamostragem SMOTE e sem filtro**"
   ]
  },
  {
   "cell_type": "code",
   "execution_count": 36,
   "id": "0fc360f7",
   "metadata": {},
   "outputs": [
    {
     "data": {
      "text/html": [
       "<div>\n",
       "<style scoped>\n",
       "    .dataframe tbody tr th:only-of-type {\n",
       "        vertical-align: middle;\n",
       "    }\n",
       "\n",
       "    .dataframe tbody tr th {\n",
       "        vertical-align: top;\n",
       "    }\n",
       "\n",
       "    .dataframe thead th {\n",
       "        text-align: right;\n",
       "    }\n",
       "</style>\n",
       "<table border=\"1\" class=\"dataframe\">\n",
       "  <thead>\n",
       "    <tr style=\"text-align: right;\">\n",
       "      <th></th>\n",
       "      <th>window_size</th>\n",
       "      <th>filter_applied</th>\n",
       "      <th>resampling_tech</th>\n",
       "      <th>model</th>\n",
       "      <th>hyperparameters</th>\n",
       "      <th>accuracy</th>\n",
       "      <th>precision_weighted</th>\n",
       "      <th>recall_weighted</th>\n",
       "      <th>f1_weighted</th>\n",
       "      <th>algorithm</th>\n",
       "    </tr>\n",
       "  </thead>\n",
       "  <tbody>\n",
       "    <tr>\n",
       "      <th>0</th>\n",
       "      <td>2000</td>\n",
       "      <td>False</td>\n",
       "      <td>smote</td>\n",
       "      <td>LightGBMXT/T1</td>\n",
       "      <td>{'learning_rate': 0.05, 'extra_trees': True, 'feature_fraction': 1.0, 'min_data_in_leaf': 20, 'num_leaves': 31}</td>\n",
       "      <td>0.99194</td>\n",
       "      <td>0.991851</td>\n",
       "      <td>0.99194</td>\n",
       "      <td>0.991854</td>\n",
       "      <td>LightGBM</td>\n",
       "    </tr>\n",
       "    <tr>\n",
       "      <th>1</th>\n",
       "      <td>2000</td>\n",
       "      <td>False</td>\n",
       "      <td>smote</td>\n",
       "      <td>NeuralNetFastAI/54e545e1</td>\n",
       "      <td>{'layers': None, 'emb_drop': 0.1, 'ps': 0.1, 'bs': 256, 'lr': 0.01, 'epochs': 30, 'early.stopping.min_delta': 0.0001, 'early.stopping.patience': 20, 'smoothing': 0.0}</td>\n",
       "      <td>0.99166</td>\n",
       "      <td>0.991561</td>\n",
       "      <td>0.99166</td>\n",
       "      <td>0.991557</td>\n",
       "      <td>NeuralNetFastAI</td>\n",
       "    </tr>\n",
       "  </tbody>\n",
       "</table>\n",
       "</div>"
      ],
      "text/plain": [
       "   window_size  filter_applied resampling_tech                     model  \\\n",
       "0         2000           False           smote             LightGBMXT/T1   \n",
       "1         2000           False           smote  NeuralNetFastAI/54e545e1   \n",
       "\n",
       "                                                                                                                                                          hyperparameters  \\\n",
       "0                                                         {'learning_rate': 0.05, 'extra_trees': True, 'feature_fraction': 1.0, 'min_data_in_leaf': 20, 'num_leaves': 31}   \n",
       "1  {'layers': None, 'emb_drop': 0.1, 'ps': 0.1, 'bs': 256, 'lr': 0.01, 'epochs': 30, 'early.stopping.min_delta': 0.0001, 'early.stopping.patience': 20, 'smoothing': 0.0}   \n",
       "\n",
       "   accuracy  precision_weighted  recall_weighted  f1_weighted        algorithm  \n",
       "0   0.99194            0.991851          0.99194     0.991854         LightGBM  \n",
       "1   0.99166            0.991561          0.99166     0.991557  NeuralNetFastAI  "
      ]
     },
     "execution_count": 36,
     "metadata": {},
     "output_type": "execute_result"
    }
   ],
   "source": [
    "models_with_smote.head(2)"
   ]
  },
  {
   "cell_type": "markdown",
   "id": "474a19a8",
   "metadata": {},
   "source": [
    "**Cálculo do intervalo de confiança**"
   ]
  },
  {
   "cell_type": "code",
   "execution_count": 150,
   "id": "11959536",
   "metadata": {},
   "outputs": [
    {
     "name": "stdout",
     "output_type": "stream",
     "text": [
      "Intervalo de confiança(0.9906807282771989, 0.9929192717228011)\n"
     ]
    }
   ],
   "source": [
    "z = 1.96\n",
    "accuracy = 0.9918\n",
    "n = len(X_test)\n",
    "interval = z * np.sqrt((accuracy * (1 - accuracy)) / n)\n",
    "print(f\"Intervalo de confiança{(accuracy-interval, accuracy+interval)}\")"
   ]
  },
  {
   "cell_type": "code",
   "execution_count": 37,
   "id": "c0740f5b",
   "metadata": {},
   "outputs": [
    {
     "data": {
      "text/plain": [
       "NeuralNetTorch     4\n",
       "LightGBM           3\n",
       "NeuralNetFastAI    2\n",
       "RandomForest       2\n",
       "ExtraTrees         2\n",
       "XGBoost            1\n",
       "CatBoost           1\n",
       "Name: algorithm, dtype: int64"
      ]
     },
     "execution_count": 37,
     "metadata": {},
     "output_type": "execute_result"
    }
   ],
   "source": [
    "models_with_smote['algorithm'].value_counts()"
   ]
  },
  {
   "cell_type": "code",
   "execution_count": 38,
   "id": "f8e32177",
   "metadata": {},
   "outputs": [
    {
     "data": {
      "text/plain": [
       "15"
      ]
     },
     "execution_count": 38,
     "metadata": {},
     "output_type": "execute_result"
    }
   ],
   "source": [
    "models_with_smote['algorithm'].value_counts().sum()"
   ]
  },
  {
   "cell_type": "markdown",
   "id": "7a6f6de3",
   "metadata": {},
   "source": [
    "Para evitar perda dos dados"
   ]
  },
  {
   "cell_type": "code",
   "execution_count": 39,
   "id": "a49b873f",
   "metadata": {},
   "outputs": [],
   "source": [
    "models_with_smote.to_csv('models_with_smote.csv', index=False)"
   ]
  },
  {
   "cell_type": "markdown",
   "id": "cb5b23c9",
   "metadata": {},
   "source": [
    "**Junção dos modelos**"
   ]
  },
  {
   "cell_type": "code",
   "execution_count": 40,
   "id": "42a1f2e7",
   "metadata": {},
   "outputs": [],
   "source": [
    "hyperparameters_all_models = pd.concat([models_with_smote, model_without_resampling])"
   ]
  },
  {
   "cell_type": "code",
   "execution_count": 41,
   "id": "73c67164",
   "metadata": {},
   "outputs": [],
   "source": [
    "hyperparameters_all_models = hyperparameters_all_models.sort_values(by='accuracy', ascending=False)"
   ]
  },
  {
   "cell_type": "code",
   "execution_count": 42,
   "id": "50d79536",
   "metadata": {},
   "outputs": [],
   "source": [
    "hyperparameters_all_models = hyperparameters_all_models.reset_index(drop=True)"
   ]
  },
  {
   "cell_type": "code",
   "execution_count": 43,
   "id": "357af66d",
   "metadata": {},
   "outputs": [
    {
     "data": {
      "text/html": [
       "<div>\n",
       "<style scoped>\n",
       "    .dataframe tbody tr th:only-of-type {\n",
       "        vertical-align: middle;\n",
       "    }\n",
       "\n",
       "    .dataframe tbody tr th {\n",
       "        vertical-align: top;\n",
       "    }\n",
       "\n",
       "    .dataframe thead th {\n",
       "        text-align: right;\n",
       "    }\n",
       "</style>\n",
       "<table border=\"1\" class=\"dataframe\">\n",
       "  <thead>\n",
       "    <tr style=\"text-align: right;\">\n",
       "      <th></th>\n",
       "      <th>window_size</th>\n",
       "      <th>filter_applied</th>\n",
       "      <th>resampling_tech</th>\n",
       "      <th>model</th>\n",
       "      <th>hyperparameters</th>\n",
       "      <th>accuracy</th>\n",
       "      <th>precision_weighted</th>\n",
       "      <th>recall_weighted</th>\n",
       "      <th>f1_weighted</th>\n",
       "      <th>algorithm</th>\n",
       "    </tr>\n",
       "  </thead>\n",
       "  <tbody>\n",
       "    <tr>\n",
       "      <th>0</th>\n",
       "      <td>2000</td>\n",
       "      <td>False</td>\n",
       "      <td>None</td>\n",
       "      <td>NeuralNetFastAI/76554e76</td>\n",
       "      <td>{'layers': None, 'emb_drop': 0.1, 'ps': 0.1, 'bs': 256, 'lr': 0.01, 'epochs': 30, 'early.stopping.min_delta': 0.0001, 'early.stopping.patience': 20, 'smoothing': 0.0}</td>\n",
       "      <td>0.992261</td>\n",
       "      <td>0.992192</td>\n",
       "      <td>0.992261</td>\n",
       "      <td>0.992205</td>\n",
       "      <td>NeuralNetFastAI</td>\n",
       "    </tr>\n",
       "    <tr>\n",
       "      <th>1</th>\n",
       "      <td>2000</td>\n",
       "      <td>False</td>\n",
       "      <td>None</td>\n",
       "      <td>NeuralNetTorch/962d0db5</td>\n",
       "      <td>{'num_epochs': 500, 'epochs_wo_improve': 20, 'activation': 'elu', 'embedding_size_factor': 0.6, 'embed_exponent': 0.56, 'max_embedding_dim': 100, 'y_range': None, 'y_range_extend': 0.05, 'dropout_prob': 0.2, 'optimizer': 'adam', 'learning_rate': 0.01301814743912817, 'weight_decay': 1.3209894849025664e-12, 'proc.embed_min_categories': 3, 'proc.impute_strategy': 'median', 'proc.max_category_levels': 1000, 'proc.skew_threshold': 0.9, 'use_ngram_features': False, 'num_layers': 3, 'hidden_size': 256, 'max_batch_size': 512, 'use_batchnorm': True, 'loss_function': 'auto'}</td>\n",
       "      <td>0.992061</td>\n",
       "      <td>0.992008</td>\n",
       "      <td>0.992061</td>\n",
       "      <td>0.991949</td>\n",
       "      <td>NeuralNetTorch</td>\n",
       "    </tr>\n",
       "  </tbody>\n",
       "</table>\n",
       "</div>"
      ],
      "text/plain": [
       "   window_size  filter_applied resampling_tech                     model  \\\n",
       "0         2000           False            None  NeuralNetFastAI/76554e76   \n",
       "1         2000           False            None   NeuralNetTorch/962d0db5   \n",
       "\n",
       "                                                                                                                                                                                                                                                                                                                                                                                                                                                                                                                                                                               hyperparameters  \\\n",
       "0                                                                                                                                                                                                                                                                                                                                                                                                                       {'layers': None, 'emb_drop': 0.1, 'ps': 0.1, 'bs': 256, 'lr': 0.01, 'epochs': 30, 'early.stopping.min_delta': 0.0001, 'early.stopping.patience': 20, 'smoothing': 0.0}   \n",
       "1  {'num_epochs': 500, 'epochs_wo_improve': 20, 'activation': 'elu', 'embedding_size_factor': 0.6, 'embed_exponent': 0.56, 'max_embedding_dim': 100, 'y_range': None, 'y_range_extend': 0.05, 'dropout_prob': 0.2, 'optimizer': 'adam', 'learning_rate': 0.01301814743912817, 'weight_decay': 1.3209894849025664e-12, 'proc.embed_min_categories': 3, 'proc.impute_strategy': 'median', 'proc.max_category_levels': 1000, 'proc.skew_threshold': 0.9, 'use_ngram_features': False, 'num_layers': 3, 'hidden_size': 256, 'max_batch_size': 512, 'use_batchnorm': True, 'loss_function': 'auto'}   \n",
       "\n",
       "   accuracy  precision_weighted  recall_weighted  f1_weighted        algorithm  \n",
       "0  0.992261            0.992192         0.992261     0.992205  NeuralNetFastAI  \n",
       "1  0.992061            0.992008         0.992061     0.991949   NeuralNetTorch  "
      ]
     },
     "execution_count": 43,
     "metadata": {},
     "output_type": "execute_result"
    }
   ],
   "source": [
    "hyperparameters_all_models.head(2)"
   ]
  },
  {
   "cell_type": "markdown",
   "id": "b509080b",
   "metadata": {},
   "source": [
    "### AutoML com técnica de reamostragem ADASYN"
   ]
  },
  {
   "cell_type": "code",
   "execution_count": 44,
   "id": "609663c8",
   "metadata": {},
   "outputs": [
    {
     "name": "stdout",
     "output_type": "stream",
     "text": [
      "Distribuição de classes sem a reamostragem:  Counter({0: 56111, 1: 6040, 2: 5426, 4: 5335, 3: 1903})\n"
     ]
    }
   ],
   "source": [
    "print(\"Distribuição de classes sem a reamostragem: \", Counter(y_train))"
   ]
  },
  {
   "cell_type": "code",
   "execution_count": 45,
   "id": "b941caa2",
   "metadata": {},
   "outputs": [],
   "source": [
    "adasyn = ADASYN(sampling_strategy='minority', random_state=42)\n",
    "X_resampled_adasyn, y_resampled_adasyn = adasyn.fit_resample(X_train, y_train)"
   ]
  },
  {
   "cell_type": "code",
   "execution_count": 46,
   "id": "6e05d445",
   "metadata": {},
   "outputs": [
    {
     "name": "stdout",
     "output_type": "stream",
     "text": [
      "Distribuição de classes após a reamostragem:  Counter({3: 56127, 0: 56111, 1: 6040, 2: 5426, 4: 5335})\n"
     ]
    }
   ],
   "source": [
    "print(\"Distribuição de classes após a reamostragem: \", Counter(y_resampled_adasyn))"
   ]
  },
  {
   "cell_type": "code",
   "execution_count": 47,
   "id": "cf9ff815",
   "metadata": {},
   "outputs": [],
   "source": [
    "resampled_adasyn = X_resampled_adasyn.join(y_resampled_adasyn)"
   ]
  },
  {
   "cell_type": "code",
   "execution_count": 48,
   "id": "56c9099a",
   "metadata": {},
   "outputs": [
    {
     "data": {
      "text/html": [],
      "text/plain": [
       "<IPython.core.display.HTML object>"
      ]
     },
     "metadata": {},
     "output_type": "display_data"
    },
    {
     "name": "stderr",
     "output_type": "stream",
     "text": [
      "Fitted model: NeuralNetTorch/a5777c2d ...\n",
      "\t0.9968\t = Validation score   (accuracy)\n",
      "\t538.51s\t = Training   runtime\n",
      "\t3.25s\t = Validation runtime\n",
      "Fitted model: NeuralNetTorch/7e8041c1 ...\n",
      "\t0.997\t = Validation score   (accuracy)\n",
      "\t1649.68s\t = Training   runtime\n",
      "\t0.35s\t = Validation runtime\n",
      "Fitted model: NeuralNetTorch/cdacc347 ...\n",
      "\t0.9984\t = Validation score   (accuracy)\n",
      "\t1133.24s\t = Training   runtime\n",
      "\t2.79s\t = Validation runtime\n",
      "Fitted model: NeuralNetTorch/174cf165 ...\n",
      "\t0.9978\t = Validation score   (accuracy)\n",
      "\t770.34s\t = Training   runtime\n",
      "\t2.82s\t = Validation runtime\n",
      "Fitted model: NeuralNetTorch/bdf7bada ...\n",
      "\t0.8776\t = Validation score   (accuracy)\n",
      "\t299.45s\t = Training   runtime\n",
      "\t3.9s\t = Validation runtime\n",
      "Fitting model: LightGBMLarge ... Training model for up to 1991.73s of the 18397.94s of remaining time.\n",
      "\tRan out of time, early stopping on iteration 876. Best iteration is:\n",
      "\t[864]\tvalid_set's multi_error: 0.0036\n",
      "\t0.9964\t = Validation score   (accuracy)\n",
      "\t1999.07s\t = Training   runtime\n",
      "\t0.78s\t = Validation runtime\n",
      "Fitting model: WeightedEnsemble_L2 ... Training model for up to 2876.95s of the 16380.95s of remaining time.\n",
      "\t0.9986\t = Validation score   (accuracy)\n",
      "\t1.62s\t = Training   runtime\n",
      "\t0.0s\t = Validation runtime\n",
      "AutoGluon training complete, total runtime = 12424.3s ... Best model: \"WeightedEnsemble_L2\"\n",
      "TabularPredictor saved. To load, use: predictor = TabularPredictor.load(\"AutogluonModels/ag-20231129_034715/\")\n"
     ]
    },
    {
     "name": "stdout",
     "output_type": "stream",
     "text": [
      "CPU times: user 15h 52min 11s, sys: 27min 7s, total: 16h 19min 18s\n",
      "Wall time: 3h 27min 4s\n"
     ]
    }
   ],
   "source": [
    "%%time\n",
    "adasyn_resampling_training = TabularPredictor(label='label').fit(resampled_adasyn, time_limit=28800,\n",
    "                                                                 hyperparameter_tune_kwargs = {'num_trials': 5, 'scheduler' : 'local', 'searcher': 'auto'})"
   ]
  },
  {
   "cell_type": "markdown",
   "id": "98a8187a",
   "metadata": {},
   "source": [
    "**Dataframe de hiperparâmetros**\n",
    "\n",
    "A função ``autogluon_models_df`` trata as informações dos modelos gerados pelo TabularPredictor e retorna um dataframe com um ranking de acurácia dos modelos e facilita o processo de seleção/visualização dos hiperparâmetros de cada modelo. O datafame contém as seguintes informações: a segmentação usada, se o filtro foi aplicado, a técnica de reamostragem, o nome do modelo, os hiperparâmetros do modelo e acurácia. Nesse notebook executamos os modelos com a segmentação dos dados com uma janela de 180."
   ]
  },
  {
   "cell_type": "code",
   "execution_count": 49,
   "id": "cc29c753",
   "metadata": {},
   "outputs": [
    {
     "name": "stdout",
     "output_type": "stream",
     "text": [
      "CPU times: user 2min 29s, sys: 6.35 s, total: 2min 35s\n",
      "Wall time: 1min 11s\n"
     ]
    }
   ],
   "source": [
    "%%time\n",
    "models_with_adasyn = autogluon_models_df(window=window_size,\n",
    "                                        filter_applied=False, \n",
    "                                        resampling_tech='adasyn',\n",
    "                                        predictor_model=adasyn_resampling_training,\n",
    "                                        test_data_=test_data)"
   ]
  },
  {
   "cell_type": "markdown",
   "id": "0535e587",
   "metadata": {},
   "source": [
    "**Ranking dos modelos com a técnica de reamostragem ADASYN e sem filtro**"
   ]
  },
  {
   "cell_type": "code",
   "execution_count": 50,
   "id": "34f22a3c",
   "metadata": {
    "scrolled": true
   },
   "outputs": [
    {
     "data": {
      "text/html": [
       "<div>\n",
       "<style scoped>\n",
       "    .dataframe tbody tr th:only-of-type {\n",
       "        vertical-align: middle;\n",
       "    }\n",
       "\n",
       "    .dataframe tbody tr th {\n",
       "        vertical-align: top;\n",
       "    }\n",
       "\n",
       "    .dataframe thead th {\n",
       "        text-align: right;\n",
       "    }\n",
       "</style>\n",
       "<table border=\"1\" class=\"dataframe\">\n",
       "  <thead>\n",
       "    <tr style=\"text-align: right;\">\n",
       "      <th></th>\n",
       "      <th>window_size</th>\n",
       "      <th>filter_applied</th>\n",
       "      <th>resampling_tech</th>\n",
       "      <th>model</th>\n",
       "      <th>hyperparameters</th>\n",
       "      <th>accuracy</th>\n",
       "      <th>precision_weighted</th>\n",
       "      <th>recall_weighted</th>\n",
       "      <th>f1_weighted</th>\n",
       "      <th>algorithm</th>\n",
       "    </tr>\n",
       "  </thead>\n",
       "  <tbody>\n",
       "    <tr>\n",
       "      <th>0</th>\n",
       "      <td>2000</td>\n",
       "      <td>False</td>\n",
       "      <td>adasyn</td>\n",
       "      <td>NeuralNetFastAI/c859f25a</td>\n",
       "      <td>{'layers': None, 'emb_drop': 0.1, 'ps': 0.1, 'bs': 256, 'lr': 0.01, 'epochs': 30, 'early.stopping.min_delta': 0.0001, 'early.stopping.patience': 20, 'smoothing': 0.0}</td>\n",
       "      <td>0.9919</td>\n",
       "      <td>0.991847</td>\n",
       "      <td>0.9919</td>\n",
       "      <td>0.991864</td>\n",
       "      <td>NeuralNetFastAI</td>\n",
       "    </tr>\n",
       "    <tr>\n",
       "      <th>1</th>\n",
       "      <td>2000</td>\n",
       "      <td>False</td>\n",
       "      <td>adasyn</td>\n",
       "      <td>NeuralNetTorch/cdacc347</td>\n",
       "      <td>{'num_epochs': 500, 'epochs_wo_improve': 20, 'activation': 'elu', 'embedding_size_factor': 0.7, 'embed_exponent': 0.56, 'max_embedding_dim': 100, 'y_range': None, 'y_range_extend': 0.05, 'dropout_prob': 0.4, 'optimizer': 'adam', 'learning_rate': 0.000540093288600174, 'weight_decay': 5.0084921880402506e-11, 'proc.embed_min_categories': 100, 'proc.impute_strategy': 'median', 'proc.max_category_levels': 200, 'proc.skew_threshold': 1.0, 'use_ngram_features': False, 'num_layers': 3, 'hidden_size': 512, 'max_batch_size': 512, 'use_batchnorm': True, 'loss_function': 'auto'}</td>\n",
       "      <td>0.9919</td>\n",
       "      <td>0.991817</td>\n",
       "      <td>0.9919</td>\n",
       "      <td>0.991818</td>\n",
       "      <td>NeuralNetTorch</td>\n",
       "    </tr>\n",
       "  </tbody>\n",
       "</table>\n",
       "</div>"
      ],
      "text/plain": [
       "   window_size  filter_applied resampling_tech                     model  \\\n",
       "0         2000           False          adasyn  NeuralNetFastAI/c859f25a   \n",
       "1         2000           False          adasyn   NeuralNetTorch/cdacc347   \n",
       "\n",
       "                                                                                                                                                                                                                                                                                                                                                                                                                                                                                                                                                                                 hyperparameters  \\\n",
       "0                                                                                                                                                                                                                                                                                                                                                                                                                         {'layers': None, 'emb_drop': 0.1, 'ps': 0.1, 'bs': 256, 'lr': 0.01, 'epochs': 30, 'early.stopping.min_delta': 0.0001, 'early.stopping.patience': 20, 'smoothing': 0.0}   \n",
       "1  {'num_epochs': 500, 'epochs_wo_improve': 20, 'activation': 'elu', 'embedding_size_factor': 0.7, 'embed_exponent': 0.56, 'max_embedding_dim': 100, 'y_range': None, 'y_range_extend': 0.05, 'dropout_prob': 0.4, 'optimizer': 'adam', 'learning_rate': 0.000540093288600174, 'weight_decay': 5.0084921880402506e-11, 'proc.embed_min_categories': 100, 'proc.impute_strategy': 'median', 'proc.max_category_levels': 200, 'proc.skew_threshold': 1.0, 'use_ngram_features': False, 'num_layers': 3, 'hidden_size': 512, 'max_batch_size': 512, 'use_batchnorm': True, 'loss_function': 'auto'}   \n",
       "\n",
       "   accuracy  precision_weighted  recall_weighted  f1_weighted        algorithm  \n",
       "0    0.9919            0.991847           0.9919     0.991864  NeuralNetFastAI  \n",
       "1    0.9919            0.991817           0.9919     0.991818   NeuralNetTorch  "
      ]
     },
     "execution_count": 50,
     "metadata": {},
     "output_type": "execute_result"
    }
   ],
   "source": [
    "models_with_adasyn.head(2)"
   ]
  },
  {
   "cell_type": "markdown",
   "id": "f9586d6a",
   "metadata": {},
   "source": [
    "**Cálculo do intervalo de confiança**"
   ]
  },
  {
   "cell_type": "code",
   "execution_count": 151,
   "id": "c8f8170e",
   "metadata": {},
   "outputs": [
    {
     "name": "stdout",
     "output_type": "stream",
     "text": [
      "Intervalo de confiança(0.9906807282771989, 0.9929192717228011)\n"
     ]
    }
   ],
   "source": [
    "z = 1.96\n",
    "accuracy = 0.9918\n",
    "n = len(X_test)\n",
    "interval = z * np.sqrt((accuracy * (1 - accuracy)) / n)\n",
    "print(f\"Intervalo de confiança{(accuracy-interval, accuracy+interval)}\")"
   ]
  },
  {
   "cell_type": "code",
   "execution_count": 51,
   "id": "75bfb155",
   "metadata": {},
   "outputs": [
    {
     "data": {
      "text/plain": [
       "NeuralNetFastAI    5\n",
       "NeuralNetTorch     5\n",
       "LightGBM           3\n",
       "RandomForest       2\n",
       "ExtraTrees         2\n",
       "XGBoost            1\n",
       "CatBoost           1\n",
       "Name: algorithm, dtype: int64"
      ]
     },
     "execution_count": 51,
     "metadata": {},
     "output_type": "execute_result"
    }
   ],
   "source": [
    "models_with_adasyn['algorithm'].value_counts()"
   ]
  },
  {
   "cell_type": "code",
   "execution_count": 52,
   "id": "d2c9947c",
   "metadata": {},
   "outputs": [
    {
     "data": {
      "text/plain": [
       "19"
      ]
     },
     "execution_count": 52,
     "metadata": {},
     "output_type": "execute_result"
    }
   ],
   "source": [
    "models_with_adasyn['algorithm'].value_counts().sum()"
   ]
  },
  {
   "cell_type": "markdown",
   "id": "c7644d11",
   "metadata": {},
   "source": [
    "Para evitar perda dos dados"
   ]
  },
  {
   "cell_type": "code",
   "execution_count": 53,
   "id": "666f1071",
   "metadata": {},
   "outputs": [],
   "source": [
    "models_with_adasyn.to_csv('models_with_adasyn.csv', index=False)"
   ]
  },
  {
   "cell_type": "markdown",
   "id": "69dd6a38",
   "metadata": {},
   "source": [
    "**Junção dos modelos**"
   ]
  },
  {
   "cell_type": "code",
   "execution_count": 54,
   "id": "d36f7c82",
   "metadata": {},
   "outputs": [],
   "source": [
    "hyperparameters_all_models = pd.concat([hyperparameters_all_models, models_with_adasyn])"
   ]
  },
  {
   "cell_type": "code",
   "execution_count": 55,
   "id": "f89036f9",
   "metadata": {},
   "outputs": [],
   "source": [
    "hyperparameters_all_models = hyperparameters_all_models.sort_values(by='accuracy', ascending=False)"
   ]
  },
  {
   "cell_type": "code",
   "execution_count": 56,
   "id": "7cef40b8",
   "metadata": {},
   "outputs": [],
   "source": [
    "hyperparameters_all_models = hyperparameters_all_models.reset_index(drop=True)"
   ]
  },
  {
   "cell_type": "code",
   "execution_count": 57,
   "id": "923fa9af",
   "metadata": {},
   "outputs": [
    {
     "data": {
      "text/html": [
       "<div>\n",
       "<style scoped>\n",
       "    .dataframe tbody tr th:only-of-type {\n",
       "        vertical-align: middle;\n",
       "    }\n",
       "\n",
       "    .dataframe tbody tr th {\n",
       "        vertical-align: top;\n",
       "    }\n",
       "\n",
       "    .dataframe thead th {\n",
       "        text-align: right;\n",
       "    }\n",
       "</style>\n",
       "<table border=\"1\" class=\"dataframe\">\n",
       "  <thead>\n",
       "    <tr style=\"text-align: right;\">\n",
       "      <th></th>\n",
       "      <th>window_size</th>\n",
       "      <th>filter_applied</th>\n",
       "      <th>resampling_tech</th>\n",
       "      <th>model</th>\n",
       "      <th>hyperparameters</th>\n",
       "      <th>accuracy</th>\n",
       "      <th>precision_weighted</th>\n",
       "      <th>recall_weighted</th>\n",
       "      <th>f1_weighted</th>\n",
       "      <th>algorithm</th>\n",
       "    </tr>\n",
       "  </thead>\n",
       "  <tbody>\n",
       "    <tr>\n",
       "      <th>0</th>\n",
       "      <td>2000</td>\n",
       "      <td>False</td>\n",
       "      <td>None</td>\n",
       "      <td>NeuralNetFastAI/76554e76</td>\n",
       "      <td>{'layers': None, 'emb_drop': 0.1, 'ps': 0.1, 'bs': 256, 'lr': 0.01, 'epochs': 30, 'early.stopping.min_delta': 0.0001, 'early.stopping.patience': 20, 'smoothing': 0.0}</td>\n",
       "      <td>0.992261</td>\n",
       "      <td>0.992192</td>\n",
       "      <td>0.992261</td>\n",
       "      <td>0.992205</td>\n",
       "      <td>NeuralNetFastAI</td>\n",
       "    </tr>\n",
       "    <tr>\n",
       "      <th>1</th>\n",
       "      <td>2000</td>\n",
       "      <td>False</td>\n",
       "      <td>None</td>\n",
       "      <td>NeuralNetTorch/962d0db5</td>\n",
       "      <td>{'num_epochs': 500, 'epochs_wo_improve': 20, 'activation': 'elu', 'embedding_size_factor': 0.6, 'embed_exponent': 0.56, 'max_embedding_dim': 100, 'y_range': None, 'y_range_extend': 0.05, 'dropout_prob': 0.2, 'optimizer': 'adam', 'learning_rate': 0.01301814743912817, 'weight_decay': 1.3209894849025664e-12, 'proc.embed_min_categories': 3, 'proc.impute_strategy': 'median', 'proc.max_category_levels': 1000, 'proc.skew_threshold': 0.9, 'use_ngram_features': False, 'num_layers': 3, 'hidden_size': 256, 'max_batch_size': 512, 'use_batchnorm': True, 'loss_function': 'auto'}</td>\n",
       "      <td>0.992061</td>\n",
       "      <td>0.992008</td>\n",
       "      <td>0.992061</td>\n",
       "      <td>0.991949</td>\n",
       "      <td>NeuralNetTorch</td>\n",
       "    </tr>\n",
       "    <tr>\n",
       "      <th>2</th>\n",
       "      <td>2000</td>\n",
       "      <td>False</td>\n",
       "      <td>smote</td>\n",
       "      <td>LightGBMXT/T1</td>\n",
       "      <td>{'learning_rate': 0.05, 'extra_trees': True, 'feature_fraction': 1.0, 'min_data_in_leaf': 20, 'num_leaves': 31}</td>\n",
       "      <td>0.991940</td>\n",
       "      <td>0.991851</td>\n",
       "      <td>0.991940</td>\n",
       "      <td>0.991854</td>\n",
       "      <td>LightGBM</td>\n",
       "    </tr>\n",
       "    <tr>\n",
       "      <th>3</th>\n",
       "      <td>2000</td>\n",
       "      <td>False</td>\n",
       "      <td>adasyn</td>\n",
       "      <td>NeuralNetTorch/cdacc347</td>\n",
       "      <td>{'num_epochs': 500, 'epochs_wo_improve': 20, 'activation': 'elu', 'embedding_size_factor': 0.7, 'embed_exponent': 0.56, 'max_embedding_dim': 100, 'y_range': None, 'y_range_extend': 0.05, 'dropout_prob': 0.4, 'optimizer': 'adam', 'learning_rate': 0.000540093288600174, 'weight_decay': 5.0084921880402506e-11, 'proc.embed_min_categories': 100, 'proc.impute_strategy': 'median', 'proc.max_category_levels': 200, 'proc.skew_threshold': 1.0, 'use_ngram_features': False, 'num_layers': 3, 'hidden_size': 512, 'max_batch_size': 512, 'use_batchnorm': True, 'loss_function': 'auto'}</td>\n",
       "      <td>0.991900</td>\n",
       "      <td>0.991817</td>\n",
       "      <td>0.991900</td>\n",
       "      <td>0.991818</td>\n",
       "      <td>NeuralNetTorch</td>\n",
       "    </tr>\n",
       "    <tr>\n",
       "      <th>4</th>\n",
       "      <td>2000</td>\n",
       "      <td>False</td>\n",
       "      <td>adasyn</td>\n",
       "      <td>NeuralNetFastAI/c859f25a</td>\n",
       "      <td>{'layers': None, 'emb_drop': 0.1, 'ps': 0.1, 'bs': 256, 'lr': 0.01, 'epochs': 30, 'early.stopping.min_delta': 0.0001, 'early.stopping.patience': 20, 'smoothing': 0.0}</td>\n",
       "      <td>0.991900</td>\n",
       "      <td>0.991847</td>\n",
       "      <td>0.991900</td>\n",
       "      <td>0.991864</td>\n",
       "      <td>NeuralNetFastAI</td>\n",
       "    </tr>\n",
       "  </tbody>\n",
       "</table>\n",
       "</div>"
      ],
      "text/plain": [
       "   window_size  filter_applied resampling_tech                     model  \\\n",
       "0         2000           False            None  NeuralNetFastAI/76554e76   \n",
       "1         2000           False            None   NeuralNetTorch/962d0db5   \n",
       "2         2000           False           smote             LightGBMXT/T1   \n",
       "3         2000           False          adasyn   NeuralNetTorch/cdacc347   \n",
       "4         2000           False          adasyn  NeuralNetFastAI/c859f25a   \n",
       "\n",
       "                                                                                                                                                                                                                                                                                                                                                                                                                                                                                                                                                                                 hyperparameters  \\\n",
       "0                                                                                                                                                                                                                                                                                                                                                                                                                         {'layers': None, 'emb_drop': 0.1, 'ps': 0.1, 'bs': 256, 'lr': 0.01, 'epochs': 30, 'early.stopping.min_delta': 0.0001, 'early.stopping.patience': 20, 'smoothing': 0.0}   \n",
       "1    {'num_epochs': 500, 'epochs_wo_improve': 20, 'activation': 'elu', 'embedding_size_factor': 0.6, 'embed_exponent': 0.56, 'max_embedding_dim': 100, 'y_range': None, 'y_range_extend': 0.05, 'dropout_prob': 0.2, 'optimizer': 'adam', 'learning_rate': 0.01301814743912817, 'weight_decay': 1.3209894849025664e-12, 'proc.embed_min_categories': 3, 'proc.impute_strategy': 'median', 'proc.max_category_levels': 1000, 'proc.skew_threshold': 0.9, 'use_ngram_features': False, 'num_layers': 3, 'hidden_size': 256, 'max_batch_size': 512, 'use_batchnorm': True, 'loss_function': 'auto'}   \n",
       "2                                                                                                                                                                                                                                                                                                                                                                                                                                                                                {'learning_rate': 0.05, 'extra_trees': True, 'feature_fraction': 1.0, 'min_data_in_leaf': 20, 'num_leaves': 31}   \n",
       "3  {'num_epochs': 500, 'epochs_wo_improve': 20, 'activation': 'elu', 'embedding_size_factor': 0.7, 'embed_exponent': 0.56, 'max_embedding_dim': 100, 'y_range': None, 'y_range_extend': 0.05, 'dropout_prob': 0.4, 'optimizer': 'adam', 'learning_rate': 0.000540093288600174, 'weight_decay': 5.0084921880402506e-11, 'proc.embed_min_categories': 100, 'proc.impute_strategy': 'median', 'proc.max_category_levels': 200, 'proc.skew_threshold': 1.0, 'use_ngram_features': False, 'num_layers': 3, 'hidden_size': 512, 'max_batch_size': 512, 'use_batchnorm': True, 'loss_function': 'auto'}   \n",
       "4                                                                                                                                                                                                                                                                                                                                                                                                                         {'layers': None, 'emb_drop': 0.1, 'ps': 0.1, 'bs': 256, 'lr': 0.01, 'epochs': 30, 'early.stopping.min_delta': 0.0001, 'early.stopping.patience': 20, 'smoothing': 0.0}   \n",
       "\n",
       "   accuracy  precision_weighted  recall_weighted  f1_weighted        algorithm  \n",
       "0  0.992261            0.992192         0.992261     0.992205  NeuralNetFastAI  \n",
       "1  0.992061            0.992008         0.992061     0.991949   NeuralNetTorch  \n",
       "2  0.991940            0.991851         0.991940     0.991854         LightGBM  \n",
       "3  0.991900            0.991817         0.991900     0.991818   NeuralNetTorch  \n",
       "4  0.991900            0.991847         0.991900     0.991864  NeuralNetFastAI  "
      ]
     },
     "execution_count": 57,
     "metadata": {},
     "output_type": "execute_result"
    }
   ],
   "source": [
    "hyperparameters_all_models.head()"
   ]
  },
  {
   "cell_type": "markdown",
   "id": "3d493c2b",
   "metadata": {},
   "source": [
    "## AutoML com redução de ruído"
   ]
  },
  {
   "cell_type": "code",
   "execution_count": 58,
   "id": "267daad7",
   "metadata": {},
   "outputs": [
    {
     "data": {
      "text/plain": [
       "((74815, 2001), (24939, 2001))"
      ]
     },
     "execution_count": 58,
     "metadata": {},
     "output_type": "execute_result"
    }
   ],
   "source": [
    "#removendo a coluna record_id pois ela não é necessária nas classificações \n",
    "database2 = database.iloc[:, :-1]\n",
    "train_data2, test_data2 = train_test_split(database2, random_state=42, stratify=database2.label)\n",
    "train_data2.shape, test_data2.shape "
   ]
  },
  {
   "cell_type": "code",
   "execution_count": 59,
   "id": "7fd7f13b",
   "metadata": {},
   "outputs": [
    {
     "data": {
      "text/plain": [
       "((74815, 2000), (24939, 2000), (74815,), (24939,))"
      ]
     },
     "execution_count": 59,
     "metadata": {},
     "output_type": "execute_result"
    }
   ],
   "source": [
    "X_train2, y_train2 = train_data2.iloc[:,:-1], train_data2['label']\n",
    "X_test2, y_test2 = test_data2.iloc[:,:-1], test_data2['label']\n",
    "X_train2.shape, X_test2.shape, y_train2.shape, y_test2.shape"
   ]
  },
  {
   "cell_type": "code",
   "execution_count": 60,
   "id": "96b35384",
   "metadata": {},
   "outputs": [
    {
     "data": {
      "text/html": [],
      "text/plain": [
       "<IPython.core.display.HTML object>"
      ]
     },
     "metadata": {},
     "output_type": "display_data"
    },
    {
     "name": "stderr",
     "output_type": "stream",
     "text": [
      "Fitted model: NeuralNetTorch/0cd113f2 ...\n",
      "\t0.9914\t = Validation score   (accuracy)\n",
      "\t427.11s\t = Training   runtime\n",
      "\t3.01s\t = Validation runtime\n",
      "Fitted model: NeuralNetTorch/862903f6 ...\n",
      "\t0.9918\t = Validation score   (accuracy)\n",
      "\t1260.75s\t = Training   runtime\n",
      "\t2.84s\t = Validation runtime\n",
      "Fitted model: NeuralNetTorch/948df250 ...\n",
      "\t0.9944\t = Validation score   (accuracy)\n",
      "\t456.02s\t = Training   runtime\n",
      "\t2.83s\t = Validation runtime\n",
      "Fitted model: NeuralNetTorch/7e766644 ...\n",
      "\t0.993\t = Validation score   (accuracy)\n",
      "\t454.91s\t = Training   runtime\n",
      "\t2.89s\t = Validation runtime\n",
      "Fitted model: NeuralNetTorch/75b88add ...\n",
      "\t0.9928\t = Validation score   (accuracy)\n",
      "\t346.66s\t = Training   runtime\n",
      "\t3.99s\t = Validation runtime\n",
      "Fitting model: LightGBMLarge ... Training model for up to 1992.33s of the 19578.87s of remaining time.\n",
      "\t0.992\t = Validation score   (accuracy)\n",
      "\t736.59s\t = Training   runtime\n",
      "\t0.33s\t = Validation runtime\n",
      "Fitting model: WeightedEnsemble_L2 ... Training model for up to 2877.81s of the 18806.01s of remaining time.\n",
      "\t0.9954\t = Validation score   (accuracy)\n",
      "\t2.01s\t = Training   runtime\n",
      "\t0.0s\t = Validation runtime\n",
      "AutoGluon training complete, total runtime = 9998.13s ... Best model: \"WeightedEnsemble_L2\"\n",
      "TabularPredictor saved. To load, use: predictor = TabularPredictor.load(\"AutogluonModels/ag-20231129_071532/\")\n"
     ]
    },
    {
     "name": "stdout",
     "output_type": "stream",
     "text": [
      "CPU times: user 14h 22min 12s, sys: 15min 19s, total: 14h 37min 31s\n",
      "Wall time: 2h 46min 38s\n"
     ]
    }
   ],
   "source": [
    "%%time\n",
    "predictor2 = TabularPredictor(label='label').fit(train_data2, time_limit=28800, hyperparameter_tune_kwargs = \n",
    "                                                {'num_trials': 5, 'scheduler' : 'local', 'searcher': 'auto'})"
   ]
  },
  {
   "cell_type": "code",
   "execution_count": 158,
   "id": "b38ce1d8",
   "metadata": {},
   "outputs": [],
   "source": [
    "y_pred_LightGBM = predictor2.predict(data=X_test2, model='LightGBM/T5')"
   ]
  },
  {
   "cell_type": "code",
   "execution_count": 159,
   "id": "283644dd",
   "metadata": {},
   "outputs": [
    {
     "name": "stdout",
     "output_type": "stream",
     "text": [
      "              precision    recall  f1-score   support\n",
      "\n",
      "           0     0.9938    0.9991    0.9965     18704\n",
      "           1     0.9985    0.9950    0.9968      2013\n",
      "           2     0.9983    0.9939    0.9961      1809\n",
      "           3     0.9844    0.8975    0.9389       634\n",
      "           4     0.9937    0.9775    0.9855      1779\n",
      "\n",
      "    accuracy                         0.9943     24939\n",
      "   macro avg     0.9938    0.9726    0.9828     24939\n",
      "weighted avg     0.9943    0.9943    0.9942     24939\n",
      "\n"
     ]
    }
   ],
   "source": [
    "print(classification_report(y_test2, y_pred_LightGBM, digits=4))"
   ]
  },
  {
   "cell_type": "markdown",
   "id": "c25e76f6",
   "metadata": {},
   "source": [
    "**Dataframe de hiperparâmetros**\n",
    "\n",
    "A função ``autogluon_models_df`` trata as informações dos modelos gerados pelo TabularPredictor e retorna um dataframe com um ranking de acurácia dos modelos e facilita o processo de seleção/visualização dos hiperparâmetros de cada modelo. O datafame contém as seguintes informações: a segmentação usada, se o filtro foi aplicado, a técnica de reamostragem, o nome do modelo, os hiperparâmetros do modelo e acurácia. Nesse notebook executamos os modelos com a segmentação dos dados com uma janela de 180."
   ]
  },
  {
   "cell_type": "code",
   "execution_count": 61,
   "id": "777213ad",
   "metadata": {},
   "outputs": [
    {
     "name": "stderr",
     "output_type": "stream",
     "text": [
      "/home/jupyter-luana@alu.ufc.br/.local/lib/python3.9/site-packages/sklearn/metrics/_classification.py:1344: UndefinedMetricWarning: Precision is ill-defined and being set to 0.0 in labels with no predicted samples. Use `zero_division` parameter to control this behavior.\n",
      "  _warn_prf(average, modifier, msg_start, len(result))\n",
      "/home/jupyter-luana@alu.ufc.br/.local/lib/python3.9/site-packages/sklearn/metrics/_classification.py:1344: UndefinedMetricWarning: Precision is ill-defined and being set to 0.0 in labels with no predicted samples. Use `zero_division` parameter to control this behavior.\n",
      "  _warn_prf(average, modifier, msg_start, len(result))\n"
     ]
    },
    {
     "name": "stdout",
     "output_type": "stream",
     "text": [
      "CPU times: user 16min 31s, sys: 9.94 s, total: 16min 41s\n",
      "Wall time: 2min 44s\n"
     ]
    }
   ],
   "source": [
    "%%time\n",
    "model_without_resampling2 = autogluon_models_df(window=window_size,\n",
    "                                        filter_applied=True, \n",
    "                                        resampling_tech=None,\n",
    "                                        predictor_model=predictor2,\n",
    "                                        test_data_=test_data2)"
   ]
  },
  {
   "cell_type": "markdown",
   "id": "8511da94",
   "metadata": {},
   "source": [
    "**Ranking dos modelos com sem técnica de reamostragem e com filtro**"
   ]
  },
  {
   "cell_type": "code",
   "execution_count": 62,
   "id": "7d3cf901",
   "metadata": {},
   "outputs": [
    {
     "data": {
      "text/html": [
       "<div>\n",
       "<style scoped>\n",
       "    .dataframe tbody tr th:only-of-type {\n",
       "        vertical-align: middle;\n",
       "    }\n",
       "\n",
       "    .dataframe tbody tr th {\n",
       "        vertical-align: top;\n",
       "    }\n",
       "\n",
       "    .dataframe thead th {\n",
       "        text-align: right;\n",
       "    }\n",
       "</style>\n",
       "<table border=\"1\" class=\"dataframe\">\n",
       "  <thead>\n",
       "    <tr style=\"text-align: right;\">\n",
       "      <th></th>\n",
       "      <th>window_size</th>\n",
       "      <th>filter_applied</th>\n",
       "      <th>resampling_tech</th>\n",
       "      <th>model</th>\n",
       "      <th>hyperparameters</th>\n",
       "      <th>accuracy</th>\n",
       "      <th>precision_weighted</th>\n",
       "      <th>recall_weighted</th>\n",
       "      <th>f1_weighted</th>\n",
       "      <th>algorithm</th>\n",
       "    </tr>\n",
       "  </thead>\n",
       "  <tbody>\n",
       "    <tr>\n",
       "      <th>0</th>\n",
       "      <td>2000</td>\n",
       "      <td>True</td>\n",
       "      <td>None</td>\n",
       "      <td>LightGBM/T5</td>\n",
       "      <td>{'learning_rate': 0.1000260297171191, 'feature_fraction': 0.8694162793303375, 'min_data_in_leaf': 48, 'num_leaves': 53}</td>\n",
       "      <td>0.994306</td>\n",
       "      <td>0.994288</td>\n",
       "      <td>0.994306</td>\n",
       "      <td>0.994235</td>\n",
       "      <td>LightGBM</td>\n",
       "    </tr>\n",
       "    <tr>\n",
       "      <th>1</th>\n",
       "      <td>2000</td>\n",
       "      <td>True</td>\n",
       "      <td>None</td>\n",
       "      <td>LightGBMXT/T1</td>\n",
       "      <td>{'learning_rate': 0.05, 'extra_trees': True, 'feature_fraction': 1.0, 'min_data_in_leaf': 20, 'num_leaves': 31}</td>\n",
       "      <td>0.994306</td>\n",
       "      <td>0.994299</td>\n",
       "      <td>0.994306</td>\n",
       "      <td>0.994237</td>\n",
       "      <td>LightGBM</td>\n",
       "    </tr>\n",
       "  </tbody>\n",
       "</table>\n",
       "</div>"
      ],
      "text/plain": [
       "   window_size  filter_applied resampling_tech          model  \\\n",
       "0         2000            True            None    LightGBM/T5   \n",
       "1         2000            True            None  LightGBMXT/T1   \n",
       "\n",
       "                                                                                                           hyperparameters  \\\n",
       "0  {'learning_rate': 0.1000260297171191, 'feature_fraction': 0.8694162793303375, 'min_data_in_leaf': 48, 'num_leaves': 53}   \n",
       "1          {'learning_rate': 0.05, 'extra_trees': True, 'feature_fraction': 1.0, 'min_data_in_leaf': 20, 'num_leaves': 31}   \n",
       "\n",
       "   accuracy  precision_weighted  recall_weighted  f1_weighted algorithm  \n",
       "0  0.994306            0.994288         0.994306     0.994235  LightGBM  \n",
       "1  0.994306            0.994299         0.994306     0.994237  LightGBM  "
      ]
     },
     "execution_count": 62,
     "metadata": {},
     "output_type": "execute_result"
    }
   ],
   "source": [
    "model_without_resampling2.head(2)"
   ]
  },
  {
   "cell_type": "markdown",
   "id": "3367f570",
   "metadata": {},
   "source": [
    "**Cálculo do intervalo de confiança**"
   ]
  },
  {
   "cell_type": "code",
   "execution_count": 152,
   "id": "d6e41d92",
   "metadata": {},
   "outputs": [
    {
     "name": "stdout",
     "output_type": "stream",
     "text": [
      "Intervalo de confiança(0.993257530227932, 0.995142469772068)\n"
     ]
    }
   ],
   "source": [
    "z = 1.96\n",
    "accuracy = 0.9942\n",
    "n = len(X_test2)\n",
    "interval = z * np.sqrt((accuracy * (1 - accuracy)) / n)\n",
    "print(f\"Intervalo de confiança{(accuracy-interval, accuracy+interval)}\")"
   ]
  },
  {
   "cell_type": "code",
   "execution_count": 63,
   "id": "e3374e66",
   "metadata": {},
   "outputs": [
    {
     "data": {
      "text/plain": [
       "LightGBM           11\n",
       "NeuralNetFastAI     5\n",
       "NeuralNetTorch      5\n",
       "CatBoost            3\n",
       "XGBoost             2\n",
       "RandomForest        2\n",
       "ExtraTrees          2\n",
       "KNeighbors          2\n",
       "Name: algorithm, dtype: int64"
      ]
     },
     "execution_count": 63,
     "metadata": {},
     "output_type": "execute_result"
    }
   ],
   "source": [
    "model_without_resampling2['algorithm'].value_counts()"
   ]
  },
  {
   "cell_type": "code",
   "execution_count": 64,
   "id": "cff5071e",
   "metadata": {},
   "outputs": [
    {
     "data": {
      "text/plain": [
       "32"
      ]
     },
     "execution_count": 64,
     "metadata": {},
     "output_type": "execute_result"
    }
   ],
   "source": [
    "model_without_resampling2['algorithm'].value_counts().sum()"
   ]
  },
  {
   "cell_type": "markdown",
   "id": "5d69d28e",
   "metadata": {},
   "source": [
    "Para evitar perda dos dados"
   ]
  },
  {
   "cell_type": "code",
   "execution_count": 65,
   "id": "9f5fccf8",
   "metadata": {},
   "outputs": [],
   "source": [
    "model_without_resampling2.to_csv('model_without_resampling2.csv', index=False)"
   ]
  },
  {
   "cell_type": "markdown",
   "id": "ab937b10",
   "metadata": {},
   "source": [
    "**Junção dos modelos**"
   ]
  },
  {
   "cell_type": "code",
   "execution_count": 66,
   "id": "2fb4e2b9",
   "metadata": {},
   "outputs": [],
   "source": [
    "hyperparameters_all_models = pd.concat([hyperparameters_all_models, model_without_resampling2])"
   ]
  },
  {
   "cell_type": "code",
   "execution_count": 67,
   "id": "3de56bec",
   "metadata": {},
   "outputs": [],
   "source": [
    "hyperparameters_all_models = hyperparameters_all_models.sort_values(by='accuracy', ascending=False)"
   ]
  },
  {
   "cell_type": "code",
   "execution_count": 68,
   "id": "c632a5a4",
   "metadata": {},
   "outputs": [],
   "source": [
    "hyperparameters_all_models = hyperparameters_all_models.reset_index(drop=True)"
   ]
  },
  {
   "cell_type": "code",
   "execution_count": 69,
   "id": "74e33ae9",
   "metadata": {},
   "outputs": [
    {
     "data": {
      "text/html": [
       "<div>\n",
       "<style scoped>\n",
       "    .dataframe tbody tr th:only-of-type {\n",
       "        vertical-align: middle;\n",
       "    }\n",
       "\n",
       "    .dataframe tbody tr th {\n",
       "        vertical-align: top;\n",
       "    }\n",
       "\n",
       "    .dataframe thead th {\n",
       "        text-align: right;\n",
       "    }\n",
       "</style>\n",
       "<table border=\"1\" class=\"dataframe\">\n",
       "  <thead>\n",
       "    <tr style=\"text-align: right;\">\n",
       "      <th></th>\n",
       "      <th>window_size</th>\n",
       "      <th>filter_applied</th>\n",
       "      <th>resampling_tech</th>\n",
       "      <th>model</th>\n",
       "      <th>hyperparameters</th>\n",
       "      <th>accuracy</th>\n",
       "      <th>precision_weighted</th>\n",
       "      <th>recall_weighted</th>\n",
       "      <th>f1_weighted</th>\n",
       "      <th>algorithm</th>\n",
       "    </tr>\n",
       "  </thead>\n",
       "  <tbody>\n",
       "    <tr>\n",
       "      <th>0</th>\n",
       "      <td>2000</td>\n",
       "      <td>True</td>\n",
       "      <td>None</td>\n",
       "      <td>LightGBM/T5</td>\n",
       "      <td>{'learning_rate': 0.1000260297171191, 'feature_fraction': 0.8694162793303375, 'min_data_in_leaf': 48, 'num_leaves': 53}</td>\n",
       "      <td>0.994306</td>\n",
       "      <td>0.994288</td>\n",
       "      <td>0.994306</td>\n",
       "      <td>0.994235</td>\n",
       "      <td>LightGBM</td>\n",
       "    </tr>\n",
       "    <tr>\n",
       "      <th>1</th>\n",
       "      <td>2000</td>\n",
       "      <td>True</td>\n",
       "      <td>None</td>\n",
       "      <td>LightGBMXT/T1</td>\n",
       "      <td>{'learning_rate': 0.05, 'extra_trees': True, 'feature_fraction': 1.0, 'min_data_in_leaf': 20, 'num_leaves': 31}</td>\n",
       "      <td>0.994306</td>\n",
       "      <td>0.994299</td>\n",
       "      <td>0.994306</td>\n",
       "      <td>0.994237</td>\n",
       "      <td>LightGBM</td>\n",
       "    </tr>\n",
       "    <tr>\n",
       "      <th>2</th>\n",
       "      <td>2000</td>\n",
       "      <td>True</td>\n",
       "      <td>None</td>\n",
       "      <td>LightGBMXT/T2</td>\n",
       "      <td>{'learning_rate': 0.06994332504138302, 'extra_trees': True, 'feature_fraction': 0.8872033759818312, 'min_data_in_leaf': 5, 'num_leaves': 83}</td>\n",
       "      <td>0.994266</td>\n",
       "      <td>0.994259</td>\n",
       "      <td>0.994266</td>\n",
       "      <td>0.994198</td>\n",
       "      <td>LightGBM</td>\n",
       "    </tr>\n",
       "    <tr>\n",
       "      <th>3</th>\n",
       "      <td>2000</td>\n",
       "      <td>True</td>\n",
       "      <td>None</td>\n",
       "      <td>LightGBM/T1</td>\n",
       "      <td>{'learning_rate': 0.05, 'feature_fraction': 1.0, 'min_data_in_leaf': 20, 'num_leaves': 31}</td>\n",
       "      <td>0.994146</td>\n",
       "      <td>0.994128</td>\n",
       "      <td>0.994146</td>\n",
       "      <td>0.994078</td>\n",
       "      <td>LightGBM</td>\n",
       "    </tr>\n",
       "    <tr>\n",
       "      <th>4</th>\n",
       "      <td>2000</td>\n",
       "      <td>True</td>\n",
       "      <td>None</td>\n",
       "      <td>LightGBMXT/T3</td>\n",
       "      <td>{'learning_rate': 0.049883446878335284, 'extra_trees': True, 'feature_fraction': 0.9618129346960314, 'min_data_in_leaf': 52, 'num_leaves': 52}</td>\n",
       "      <td>0.993985</td>\n",
       "      <td>0.993970</td>\n",
       "      <td>0.993985</td>\n",
       "      <td>0.993917</td>\n",
       "      <td>LightGBM</td>\n",
       "    </tr>\n",
       "  </tbody>\n",
       "</table>\n",
       "</div>"
      ],
      "text/plain": [
       "   window_size  filter_applied resampling_tech          model  \\\n",
       "0         2000            True            None    LightGBM/T5   \n",
       "1         2000            True            None  LightGBMXT/T1   \n",
       "2         2000            True            None  LightGBMXT/T2   \n",
       "3         2000            True            None    LightGBM/T1   \n",
       "4         2000            True            None  LightGBMXT/T3   \n",
       "\n",
       "                                                                                                                                  hyperparameters  \\\n",
       "0                         {'learning_rate': 0.1000260297171191, 'feature_fraction': 0.8694162793303375, 'min_data_in_leaf': 48, 'num_leaves': 53}   \n",
       "1                                 {'learning_rate': 0.05, 'extra_trees': True, 'feature_fraction': 1.0, 'min_data_in_leaf': 20, 'num_leaves': 31}   \n",
       "2    {'learning_rate': 0.06994332504138302, 'extra_trees': True, 'feature_fraction': 0.8872033759818312, 'min_data_in_leaf': 5, 'num_leaves': 83}   \n",
       "3                                                      {'learning_rate': 0.05, 'feature_fraction': 1.0, 'min_data_in_leaf': 20, 'num_leaves': 31}   \n",
       "4  {'learning_rate': 0.049883446878335284, 'extra_trees': True, 'feature_fraction': 0.9618129346960314, 'min_data_in_leaf': 52, 'num_leaves': 52}   \n",
       "\n",
       "   accuracy  precision_weighted  recall_weighted  f1_weighted algorithm  \n",
       "0  0.994306            0.994288         0.994306     0.994235  LightGBM  \n",
       "1  0.994306            0.994299         0.994306     0.994237  LightGBM  \n",
       "2  0.994266            0.994259         0.994266     0.994198  LightGBM  \n",
       "3  0.994146            0.994128         0.994146     0.994078  LightGBM  \n",
       "4  0.993985            0.993970         0.993985     0.993917  LightGBM  "
      ]
     },
     "execution_count": 69,
     "metadata": {},
     "output_type": "execute_result"
    }
   ],
   "source": [
    "hyperparameters_all_models.head()"
   ]
  },
  {
   "cell_type": "markdown",
   "id": "7b836d9b",
   "metadata": {},
   "source": [
    "### AutoML com técnica de reamostragem SMOTE"
   ]
  },
  {
   "cell_type": "code",
   "execution_count": 70,
   "id": "6394a183",
   "metadata": {},
   "outputs": [],
   "source": [
    "# Aplicar SMOTE apenas no conjunto de treinamento\n",
    "smote2 = SMOTE(sampling_strategy='auto')"
   ]
  },
  {
   "cell_type": "code",
   "execution_count": 71,
   "id": "00ff33f5",
   "metadata": {},
   "outputs": [
    {
     "name": "stdout",
     "output_type": "stream",
     "text": [
      "Distribuição de classes sem a reamostragem:  Counter({0: 56111, 1: 6040, 2: 5426, 4: 5335, 3: 1903})\n"
     ]
    }
   ],
   "source": [
    "print(\"Distribuição de classes sem a reamostragem: \", Counter(y_train2))"
   ]
  },
  {
   "cell_type": "code",
   "execution_count": 72,
   "id": "d42d35b6",
   "metadata": {},
   "outputs": [
    {
     "name": "stdout",
     "output_type": "stream",
     "text": [
      "CPU times: user 33.8 s, sys: 4.42 s, total: 38.2 s\n",
      "Wall time: 17.2 s\n"
     ]
    }
   ],
   "source": [
    "%%time\n",
    "X_resampled_smote2, y_resampled_smote2 = smote2.fit_resample(X_train2, y_train2)"
   ]
  },
  {
   "cell_type": "code",
   "execution_count": 73,
   "id": "7275f3fd",
   "metadata": {},
   "outputs": [
    {
     "name": "stdout",
     "output_type": "stream",
     "text": [
      "Distribuição de classes após a reamostragem:  Counter({4: 56111, 0: 56111, 2: 56111, 1: 56111, 3: 56111})\n"
     ]
    }
   ],
   "source": [
    "print(\"Distribuição de classes após a reamostragem: \", Counter(y_resampled_smote2))"
   ]
  },
  {
   "cell_type": "code",
   "execution_count": 74,
   "id": "c4cf476e",
   "metadata": {},
   "outputs": [
    {
     "data": {
      "text/html": [
       "<div>\n",
       "<style scoped>\n",
       "    .dataframe tbody tr th:only-of-type {\n",
       "        vertical-align: middle;\n",
       "    }\n",
       "\n",
       "    .dataframe tbody tr th {\n",
       "        vertical-align: top;\n",
       "    }\n",
       "\n",
       "    .dataframe thead th {\n",
       "        text-align: right;\n",
       "    }\n",
       "</style>\n",
       "<table border=\"1\" class=\"dataframe\">\n",
       "  <thead>\n",
       "    <tr style=\"text-align: right;\">\n",
       "      <th></th>\n",
       "      <th>0</th>\n",
       "      <th>1</th>\n",
       "      <th>2</th>\n",
       "      <th>3</th>\n",
       "      <th>4</th>\n",
       "      <th>5</th>\n",
       "      <th>6</th>\n",
       "      <th>7</th>\n",
       "      <th>8</th>\n",
       "      <th>9</th>\n",
       "      <th>...</th>\n",
       "      <th>1991</th>\n",
       "      <th>1992</th>\n",
       "      <th>1993</th>\n",
       "      <th>1994</th>\n",
       "      <th>1995</th>\n",
       "      <th>1996</th>\n",
       "      <th>1997</th>\n",
       "      <th>1998</th>\n",
       "      <th>1999</th>\n",
       "      <th>label</th>\n",
       "    </tr>\n",
       "  </thead>\n",
       "  <tbody>\n",
       "    <tr>\n",
       "      <th>0</th>\n",
       "      <td>-0.434222</td>\n",
       "      <td>-0.434585</td>\n",
       "      <td>-0.435710</td>\n",
       "      <td>-0.436447</td>\n",
       "      <td>-0.437179</td>\n",
       "      <td>-0.436757</td>\n",
       "      <td>-0.435564</td>\n",
       "      <td>-0.434366</td>\n",
       "      <td>-0.432397</td>\n",
       "      <td>-0.431190</td>\n",
       "      <td>...</td>\n",
       "      <td>-0.319199</td>\n",
       "      <td>-0.324999</td>\n",
       "      <td>-0.327344</td>\n",
       "      <td>-0.328915</td>\n",
       "      <td>-0.331245</td>\n",
       "      <td>-0.332036</td>\n",
       "      <td>-0.330520</td>\n",
       "      <td>-0.326314</td>\n",
       "      <td>-0.320185</td>\n",
       "      <td>4</td>\n",
       "    </tr>\n",
       "    <tr>\n",
       "      <th>1</th>\n",
       "      <td>-0.158962</td>\n",
       "      <td>-0.158999</td>\n",
       "      <td>-0.160543</td>\n",
       "      <td>-0.165858</td>\n",
       "      <td>-0.173435</td>\n",
       "      <td>-0.182519</td>\n",
       "      <td>-0.190847</td>\n",
       "      <td>-0.195025</td>\n",
       "      <td>-0.192036</td>\n",
       "      <td>-0.178860</td>\n",
       "      <td>...</td>\n",
       "      <td>0.723021</td>\n",
       "      <td>0.781442</td>\n",
       "      <td>0.847032</td>\n",
       "      <td>0.913755</td>\n",
       "      <td>0.974445</td>\n",
       "      <td>1.028348</td>\n",
       "      <td>1.075463</td>\n",
       "      <td>1.113528</td>\n",
       "      <td>1.138015</td>\n",
       "      <td>0</td>\n",
       "    </tr>\n",
       "    <tr>\n",
       "      <th>2</th>\n",
       "      <td>1.197179</td>\n",
       "      <td>1.288934</td>\n",
       "      <td>1.377502</td>\n",
       "      <td>1.462881</td>\n",
       "      <td>1.544115</td>\n",
       "      <td>1.619606</td>\n",
       "      <td>1.687758</td>\n",
       "      <td>1.748572</td>\n",
       "      <td>1.802047</td>\n",
       "      <td>1.845948</td>\n",
       "      <td>...</td>\n",
       "      <td>-0.449014</td>\n",
       "      <td>-0.427503</td>\n",
       "      <td>-0.406965</td>\n",
       "      <td>-0.385806</td>\n",
       "      <td>-0.365302</td>\n",
       "      <td>-0.344176</td>\n",
       "      <td>-0.323386</td>\n",
       "      <td>-0.302613</td>\n",
       "      <td>-0.282176</td>\n",
       "      <td>0</td>\n",
       "    </tr>\n",
       "    <tr>\n",
       "      <th>3</th>\n",
       "      <td>-0.295335</td>\n",
       "      <td>-0.339569</td>\n",
       "      <td>-0.381166</td>\n",
       "      <td>-0.418616</td>\n",
       "      <td>-0.449656</td>\n",
       "      <td>-0.475796</td>\n",
       "      <td>-0.495525</td>\n",
       "      <td>-0.514880</td>\n",
       "      <td>-0.536501</td>\n",
       "      <td>-0.563405</td>\n",
       "      <td>...</td>\n",
       "      <td>-0.496680</td>\n",
       "      <td>-0.393084</td>\n",
       "      <td>-0.269501</td>\n",
       "      <td>-0.138379</td>\n",
       "      <td>-0.018577</td>\n",
       "      <td>0.075193</td>\n",
       "      <td>0.133125</td>\n",
       "      <td>0.151824</td>\n",
       "      <td>0.131667</td>\n",
       "      <td>0</td>\n",
       "    </tr>\n",
       "    <tr>\n",
       "      <th>4</th>\n",
       "      <td>0.527236</td>\n",
       "      <td>0.548620</td>\n",
       "      <td>0.556048</td>\n",
       "      <td>0.551574</td>\n",
       "      <td>0.538071</td>\n",
       "      <td>0.518823</td>\n",
       "      <td>0.495883</td>\n",
       "      <td>0.470482</td>\n",
       "      <td>0.440158</td>\n",
       "      <td>0.402448</td>\n",
       "      <td>...</td>\n",
       "      <td>-0.664026</td>\n",
       "      <td>-0.650069</td>\n",
       "      <td>-0.639383</td>\n",
       "      <td>-0.630737</td>\n",
       "      <td>-0.624953</td>\n",
       "      <td>-0.622029</td>\n",
       "      <td>-0.618272</td>\n",
       "      <td>-0.611630</td>\n",
       "      <td>-0.599638</td>\n",
       "      <td>0</td>\n",
       "    </tr>\n",
       "  </tbody>\n",
       "</table>\n",
       "<p>5 rows × 2001 columns</p>\n",
       "</div>"
      ],
      "text/plain": [
       "          0         1         2         3         4         5         6  \\\n",
       "0 -0.434222 -0.434585 -0.435710 -0.436447 -0.437179 -0.436757 -0.435564   \n",
       "1 -0.158962 -0.158999 -0.160543 -0.165858 -0.173435 -0.182519 -0.190847   \n",
       "2  1.197179  1.288934  1.377502  1.462881  1.544115  1.619606  1.687758   \n",
       "3 -0.295335 -0.339569 -0.381166 -0.418616 -0.449656 -0.475796 -0.495525   \n",
       "4  0.527236  0.548620  0.556048  0.551574  0.538071  0.518823  0.495883   \n",
       "\n",
       "          7         8         9  ...      1991      1992      1993      1994  \\\n",
       "0 -0.434366 -0.432397 -0.431190  ... -0.319199 -0.324999 -0.327344 -0.328915   \n",
       "1 -0.195025 -0.192036 -0.178860  ...  0.723021  0.781442  0.847032  0.913755   \n",
       "2  1.748572  1.802047  1.845948  ... -0.449014 -0.427503 -0.406965 -0.385806   \n",
       "3 -0.514880 -0.536501 -0.563405  ... -0.496680 -0.393084 -0.269501 -0.138379   \n",
       "4  0.470482  0.440158  0.402448  ... -0.664026 -0.650069 -0.639383 -0.630737   \n",
       "\n",
       "       1995      1996      1997      1998      1999  label  \n",
       "0 -0.331245 -0.332036 -0.330520 -0.326314 -0.320185      4  \n",
       "1  0.974445  1.028348  1.075463  1.113528  1.138015      0  \n",
       "2 -0.365302 -0.344176 -0.323386 -0.302613 -0.282176      0  \n",
       "3 -0.018577  0.075193  0.133125  0.151824  0.131667      0  \n",
       "4 -0.624953 -0.622029 -0.618272 -0.611630 -0.599638      0  \n",
       "\n",
       "[5 rows x 2001 columns]"
      ]
     },
     "execution_count": 74,
     "metadata": {},
     "output_type": "execute_result"
    }
   ],
   "source": [
    "resampled_smote2 = X_resampled_smote2.join(y_resampled_smote2)\n",
    "resampled_smote2.head()"
   ]
  },
  {
   "cell_type": "code",
   "execution_count": 75,
   "id": "6d5ca27b",
   "metadata": {},
   "outputs": [
    {
     "data": {
      "text/html": [],
      "text/plain": [
       "<IPython.core.display.HTML object>"
      ]
     },
     "metadata": {},
     "output_type": "display_data"
    },
    {
     "name": "stderr",
     "output_type": "stream",
     "text": [
      "Fitted model: NeuralNetTorch/8af21cab ...\n",
      "\t0.9996\t = Validation score   (accuracy)\n",
      "\t1117.84s\t = Training   runtime\n",
      "\t2.95s\t = Validation runtime\n",
      "Fitted model: NeuralNetTorch/019800f0 ...\n",
      "\t0.9995\t = Validation score   (accuracy)\n",
      "\t1979.56s\t = Training   runtime\n",
      "\t0.36s\t = Validation runtime\n",
      "Fitting model: LightGBMLarge ... Training model for up to 1989.38s of the 19413.1s of remaining time.\n",
      "\tWarning: Potentially not enough memory to safely train model. Estimated to require 36.311 GB out of 45.439 GB available memory (88.791%)... (90.000% of avail memory is the max safe size)\n",
      "\tTo avoid this warning, specify the model hyperparameter \"ag.max_memory_usage_ratio\" to a larger value (currently 1.0, set to >=1.12 to avoid the warning)\n",
      "\t\tTo set the same value for all models, do the following when calling predictor.fit: `predictor.fit(..., ag_args_fit={\"ag.max_memory_usage_ratio\": VALUE})`\n",
      "\t\tSetting \"ag.max_memory_usage_ratio\" to values above 1 may result in out-of-memory errors. You may consider using a machine with more memory as a safer alternative.\n",
      "\t0.9993\t = Validation score   (accuracy)\n",
      "\t1367.05s\t = Training   runtime\n",
      "\t0.22s\t = Validation runtime\n",
      "Fitting model: WeightedEnsemble_L2 ... Training model for up to 2873.55s of the 18039.86s of remaining time.\n",
      "\t0.9998\t = Validation score   (accuracy)\n",
      "\t0.94s\t = Training   runtime\n",
      "\t0.0s\t = Validation runtime\n",
      "AutoGluon training complete, total runtime = 10768.93s ... Best model: \"WeightedEnsemble_L2\"\n",
      "TabularPredictor saved. To load, use: predictor = TabularPredictor.load(\"AutogluonModels/ag-20231129_100514/\")\n"
     ]
    },
    {
     "name": "stdout",
     "output_type": "stream",
     "text": [
      "CPU times: user 15h 2min 5s, sys: 18min 14s, total: 15h 20min 19s\n",
      "Wall time: 2h 59min 28s\n"
     ]
    }
   ],
   "source": [
    "%%time\n",
    "smote_resampling_training2 = TabularPredictor(label='label').fit(resampled_smote2, time_limit=28800,\n",
    "                                                                 hyperparameter_tune_kwargs = {'num_trials': 5, 'scheduler' : 'local', 'searcher': 'auto'})"
   ]
  },
  {
   "cell_type": "markdown",
   "id": "d4136069",
   "metadata": {},
   "source": [
    "**Dataframe de hiperparâmetros**\n",
    "\n",
    "A função ``autogluon_models_df`` trata as informações dos modelos gerados pelo TabularPredictor e retorna um dataframe com um ranking de acurácia dos modelos e facilita o processo de seleção/visualização dos hiperparâmetros de cada modelo. O datafame contém as seguintes informações: a segmentação usada, se o filtro foi aplicado, a técnica de reamostragem, o nome do modelo, os hiperparâmetros do modelo e acurácia. Nesse notebook executamos os modelos com a segmentação dos dados com uma janela de 180."
   ]
  },
  {
   "cell_type": "code",
   "execution_count": 76,
   "id": "88ff463c",
   "metadata": {},
   "outputs": [
    {
     "name": "stdout",
     "output_type": "stream",
     "text": [
      "CPU times: user 45.3 s, sys: 2.69 s, total: 48 s\n",
      "Wall time: 21.5 s\n"
     ]
    }
   ],
   "source": [
    "%%time\n",
    "models_with_smote2 = autogluon_models_df(window=window_size,\n",
    "                                        filter_applied=True, \n",
    "                                        resampling_tech='smote',\n",
    "                                        predictor_model=smote_resampling_training2,\n",
    "                                        test_data_=test_data2)"
   ]
  },
  {
   "cell_type": "markdown",
   "id": "ab9564d4",
   "metadata": {},
   "source": [
    "**Ranking dos modelos com a técnica de reamostragem SMOTE e com filtro**"
   ]
  },
  {
   "cell_type": "code",
   "execution_count": 77,
   "id": "91878059",
   "metadata": {},
   "outputs": [
    {
     "data": {
      "text/html": [
       "<div>\n",
       "<style scoped>\n",
       "    .dataframe tbody tr th:only-of-type {\n",
       "        vertical-align: middle;\n",
       "    }\n",
       "\n",
       "    .dataframe tbody tr th {\n",
       "        vertical-align: top;\n",
       "    }\n",
       "\n",
       "    .dataframe thead th {\n",
       "        text-align: right;\n",
       "    }\n",
       "</style>\n",
       "<table border=\"1\" class=\"dataframe\">\n",
       "  <thead>\n",
       "    <tr style=\"text-align: right;\">\n",
       "      <th></th>\n",
       "      <th>window_size</th>\n",
       "      <th>filter_applied</th>\n",
       "      <th>resampling_tech</th>\n",
       "      <th>model</th>\n",
       "      <th>hyperparameters</th>\n",
       "      <th>accuracy</th>\n",
       "      <th>precision_weighted</th>\n",
       "      <th>recall_weighted</th>\n",
       "      <th>f1_weighted</th>\n",
       "      <th>algorithm</th>\n",
       "    </tr>\n",
       "  </thead>\n",
       "  <tbody>\n",
       "    <tr>\n",
       "      <th>0</th>\n",
       "      <td>2000</td>\n",
       "      <td>True</td>\n",
       "      <td>smote</td>\n",
       "      <td>RandomForestGini</td>\n",
       "      <td>{'n_estimators': 300, 'max_leaf_nodes': 15000, 'n_jobs': -1, 'random_state': 0, 'bootstrap': True, 'criterion': 'gini'}</td>\n",
       "      <td>0.993665</td>\n",
       "      <td>0.993631</td>\n",
       "      <td>0.993665</td>\n",
       "      <td>0.993639</td>\n",
       "      <td>RandomForest</td>\n",
       "    </tr>\n",
       "    <tr>\n",
       "      <th>1</th>\n",
       "      <td>2000</td>\n",
       "      <td>True</td>\n",
       "      <td>smote</td>\n",
       "      <td>XGBoost/T1</td>\n",
       "      <td>{'n_estimators': 10000, 'learning_rate': 0.1, 'n_jobs': -1, 'proc.max_category_levels': 100, 'objective': 'multi:softmax', 'booster': 'gbtree', 'num_class': 5, 'max_depth': 6, 'min_child_weight': 1, 'colsample_bytree': 1.0}</td>\n",
       "      <td>0.993264</td>\n",
       "      <td>0.993274</td>\n",
       "      <td>0.993264</td>\n",
       "      <td>0.993268</td>\n",
       "      <td>XGBoost</td>\n",
       "    </tr>\n",
       "  </tbody>\n",
       "</table>\n",
       "</div>"
      ],
      "text/plain": [
       "   window_size  filter_applied resampling_tech             model  \\\n",
       "0         2000            True           smote  RandomForestGini   \n",
       "1         2000            True           smote        XGBoost/T1   \n",
       "\n",
       "                                                                                                                                                                                                                   hyperparameters  \\\n",
       "0                                                                                                          {'n_estimators': 300, 'max_leaf_nodes': 15000, 'n_jobs': -1, 'random_state': 0, 'bootstrap': True, 'criterion': 'gini'}   \n",
       "1  {'n_estimators': 10000, 'learning_rate': 0.1, 'n_jobs': -1, 'proc.max_category_levels': 100, 'objective': 'multi:softmax', 'booster': 'gbtree', 'num_class': 5, 'max_depth': 6, 'min_child_weight': 1, 'colsample_bytree': 1.0}   \n",
       "\n",
       "   accuracy  precision_weighted  recall_weighted  f1_weighted     algorithm  \n",
       "0  0.993665            0.993631         0.993665     0.993639  RandomForest  \n",
       "1  0.993264            0.993274         0.993264     0.993268       XGBoost  "
      ]
     },
     "execution_count": 77,
     "metadata": {},
     "output_type": "execute_result"
    }
   ],
   "source": [
    "models_with_smote2.head(2)"
   ]
  },
  {
   "cell_type": "markdown",
   "id": "e2020ebc",
   "metadata": {},
   "source": [
    "**Cálculo do intervalo de confiança**"
   ]
  },
  {
   "cell_type": "code",
   "execution_count": 147,
   "id": "82e878c0",
   "metadata": {},
   "outputs": [
    {
     "name": "stdout",
     "output_type": "stream",
     "text": [
      "Intervalo de confiança(0.9926102800326063, 0.9945897199673938)\n"
     ]
    }
   ],
   "source": [
    "z = 1.96\n",
    "accuracy = 0.9936\n",
    "n = len(X_test2)\n",
    "interval = z * np.sqrt((accuracy * (1 - accuracy)) / n)\n",
    "print(f\"Intervalo de confiança{(accuracy-interval, accuracy+interval)}\")"
   ]
  },
  {
   "cell_type": "code",
   "execution_count": 78,
   "id": "6b6e9b93",
   "metadata": {},
   "outputs": [
    {
     "data": {
      "text/plain": [
       "RandomForest      2\n",
       "ExtraTrees        2\n",
       "NeuralNetTorch    2\n",
       "XGBoost           1\n",
       "LightGBM          1\n",
       "CatBoost          1\n",
       "Name: algorithm, dtype: int64"
      ]
     },
     "execution_count": 78,
     "metadata": {},
     "output_type": "execute_result"
    }
   ],
   "source": [
    "models_with_smote2['algorithm'].value_counts()"
   ]
  },
  {
   "cell_type": "code",
   "execution_count": 79,
   "id": "d1f69b57",
   "metadata": {},
   "outputs": [
    {
     "data": {
      "text/plain": [
       "9"
      ]
     },
     "execution_count": 79,
     "metadata": {},
     "output_type": "execute_result"
    }
   ],
   "source": [
    "models_with_smote2['algorithm'].value_counts().sum()"
   ]
  },
  {
   "cell_type": "markdown",
   "id": "de57cae6",
   "metadata": {},
   "source": [
    "Para evitar perda dos dados"
   ]
  },
  {
   "cell_type": "code",
   "execution_count": 80,
   "id": "4a08e42f",
   "metadata": {},
   "outputs": [],
   "source": [
    "models_with_smote2.to_csv('models_with_smote2.csv', index=False)"
   ]
  },
  {
   "cell_type": "markdown",
   "id": "6726916d",
   "metadata": {},
   "source": [
    "**Junção dos modelos**"
   ]
  },
  {
   "cell_type": "code",
   "execution_count": 81,
   "id": "3b646773",
   "metadata": {},
   "outputs": [],
   "source": [
    "hyperparameters_all_models = pd.concat([hyperparameters_all_models, models_with_smote2])"
   ]
  },
  {
   "cell_type": "code",
   "execution_count": 82,
   "id": "0563bed8",
   "metadata": {},
   "outputs": [],
   "source": [
    "hyperparameters_all_models = hyperparameters_all_models.sort_values(by='accuracy', ascending=False)"
   ]
  },
  {
   "cell_type": "code",
   "execution_count": 83,
   "id": "f68ddd0f",
   "metadata": {},
   "outputs": [],
   "source": [
    "hyperparameters_all_models = hyperparameters_all_models.reset_index(drop=True)"
   ]
  },
  {
   "cell_type": "code",
   "execution_count": 84,
   "id": "3c90d665",
   "metadata": {},
   "outputs": [
    {
     "data": {
      "text/html": [
       "<div>\n",
       "<style scoped>\n",
       "    .dataframe tbody tr th:only-of-type {\n",
       "        vertical-align: middle;\n",
       "    }\n",
       "\n",
       "    .dataframe tbody tr th {\n",
       "        vertical-align: top;\n",
       "    }\n",
       "\n",
       "    .dataframe thead th {\n",
       "        text-align: right;\n",
       "    }\n",
       "</style>\n",
       "<table border=\"1\" class=\"dataframe\">\n",
       "  <thead>\n",
       "    <tr style=\"text-align: right;\">\n",
       "      <th></th>\n",
       "      <th>window_size</th>\n",
       "      <th>filter_applied</th>\n",
       "      <th>resampling_tech</th>\n",
       "      <th>model</th>\n",
       "      <th>hyperparameters</th>\n",
       "      <th>accuracy</th>\n",
       "      <th>precision_weighted</th>\n",
       "      <th>recall_weighted</th>\n",
       "      <th>f1_weighted</th>\n",
       "      <th>algorithm</th>\n",
       "    </tr>\n",
       "  </thead>\n",
       "  <tbody>\n",
       "    <tr>\n",
       "      <th>0</th>\n",
       "      <td>2000</td>\n",
       "      <td>True</td>\n",
       "      <td>None</td>\n",
       "      <td>LightGBM/T5</td>\n",
       "      <td>{'learning_rate': 0.1000260297171191, 'feature_fraction': 0.8694162793303375, 'min_data_in_leaf': 48, 'num_leaves': 53}</td>\n",
       "      <td>0.994306</td>\n",
       "      <td>0.994288</td>\n",
       "      <td>0.994306</td>\n",
       "      <td>0.994235</td>\n",
       "      <td>LightGBM</td>\n",
       "    </tr>\n",
       "    <tr>\n",
       "      <th>1</th>\n",
       "      <td>2000</td>\n",
       "      <td>True</td>\n",
       "      <td>None</td>\n",
       "      <td>LightGBMXT/T1</td>\n",
       "      <td>{'learning_rate': 0.05, 'extra_trees': True, 'feature_fraction': 1.0, 'min_data_in_leaf': 20, 'num_leaves': 31}</td>\n",
       "      <td>0.994306</td>\n",
       "      <td>0.994299</td>\n",
       "      <td>0.994306</td>\n",
       "      <td>0.994237</td>\n",
       "      <td>LightGBM</td>\n",
       "    </tr>\n",
       "    <tr>\n",
       "      <th>2</th>\n",
       "      <td>2000</td>\n",
       "      <td>True</td>\n",
       "      <td>None</td>\n",
       "      <td>LightGBMXT/T2</td>\n",
       "      <td>{'learning_rate': 0.06994332504138302, 'extra_trees': True, 'feature_fraction': 0.8872033759818312, 'min_data_in_leaf': 5, 'num_leaves': 83}</td>\n",
       "      <td>0.994266</td>\n",
       "      <td>0.994259</td>\n",
       "      <td>0.994266</td>\n",
       "      <td>0.994198</td>\n",
       "      <td>LightGBM</td>\n",
       "    </tr>\n",
       "    <tr>\n",
       "      <th>3</th>\n",
       "      <td>2000</td>\n",
       "      <td>True</td>\n",
       "      <td>None</td>\n",
       "      <td>LightGBM/T1</td>\n",
       "      <td>{'learning_rate': 0.05, 'feature_fraction': 1.0, 'min_data_in_leaf': 20, 'num_leaves': 31}</td>\n",
       "      <td>0.994146</td>\n",
       "      <td>0.994128</td>\n",
       "      <td>0.994146</td>\n",
       "      <td>0.994078</td>\n",
       "      <td>LightGBM</td>\n",
       "    </tr>\n",
       "    <tr>\n",
       "      <th>4</th>\n",
       "      <td>2000</td>\n",
       "      <td>True</td>\n",
       "      <td>None</td>\n",
       "      <td>LightGBMXT/T3</td>\n",
       "      <td>{'learning_rate': 0.049883446878335284, 'extra_trees': True, 'feature_fraction': 0.9618129346960314, 'min_data_in_leaf': 52, 'num_leaves': 52}</td>\n",
       "      <td>0.993985</td>\n",
       "      <td>0.993970</td>\n",
       "      <td>0.993985</td>\n",
       "      <td>0.993917</td>\n",
       "      <td>LightGBM</td>\n",
       "    </tr>\n",
       "  </tbody>\n",
       "</table>\n",
       "</div>"
      ],
      "text/plain": [
       "   window_size  filter_applied resampling_tech          model  \\\n",
       "0         2000            True            None    LightGBM/T5   \n",
       "1         2000            True            None  LightGBMXT/T1   \n",
       "2         2000            True            None  LightGBMXT/T2   \n",
       "3         2000            True            None    LightGBM/T1   \n",
       "4         2000            True            None  LightGBMXT/T3   \n",
       "\n",
       "                                                                                                                                  hyperparameters  \\\n",
       "0                         {'learning_rate': 0.1000260297171191, 'feature_fraction': 0.8694162793303375, 'min_data_in_leaf': 48, 'num_leaves': 53}   \n",
       "1                                 {'learning_rate': 0.05, 'extra_trees': True, 'feature_fraction': 1.0, 'min_data_in_leaf': 20, 'num_leaves': 31}   \n",
       "2    {'learning_rate': 0.06994332504138302, 'extra_trees': True, 'feature_fraction': 0.8872033759818312, 'min_data_in_leaf': 5, 'num_leaves': 83}   \n",
       "3                                                      {'learning_rate': 0.05, 'feature_fraction': 1.0, 'min_data_in_leaf': 20, 'num_leaves': 31}   \n",
       "4  {'learning_rate': 0.049883446878335284, 'extra_trees': True, 'feature_fraction': 0.9618129346960314, 'min_data_in_leaf': 52, 'num_leaves': 52}   \n",
       "\n",
       "   accuracy  precision_weighted  recall_weighted  f1_weighted algorithm  \n",
       "0  0.994306            0.994288         0.994306     0.994235  LightGBM  \n",
       "1  0.994306            0.994299         0.994306     0.994237  LightGBM  \n",
       "2  0.994266            0.994259         0.994266     0.994198  LightGBM  \n",
       "3  0.994146            0.994128         0.994146     0.994078  LightGBM  \n",
       "4  0.993985            0.993970         0.993985     0.993917  LightGBM  "
      ]
     },
     "execution_count": 84,
     "metadata": {},
     "output_type": "execute_result"
    }
   ],
   "source": [
    "hyperparameters_all_models.head()"
   ]
  },
  {
   "cell_type": "markdown",
   "id": "48305bf6",
   "metadata": {},
   "source": [
    "### AutoML com técnica de reamostragem ADASYN"
   ]
  },
  {
   "cell_type": "code",
   "execution_count": 85,
   "id": "cec3d78b",
   "metadata": {},
   "outputs": [
    {
     "name": "stdout",
     "output_type": "stream",
     "text": [
      "Distribuição de classes sem a reamostragem:  Counter({0: 56111, 1: 6040, 2: 5426, 4: 5335, 3: 1903})\n"
     ]
    }
   ],
   "source": [
    "print(\"Distribuição de classes sem a reamostragem: \", Counter(y_train2))"
   ]
  },
  {
   "cell_type": "code",
   "execution_count": 86,
   "id": "76fa31a4",
   "metadata": {},
   "outputs": [],
   "source": [
    "adasyn2 = ADASYN(sampling_strategy='minority', random_state=42)\n",
    "X_resampled_adasyn2, y_resampled_adasyn2 = adasyn.fit_resample(X_train2, y_train2)"
   ]
  },
  {
   "cell_type": "code",
   "execution_count": 87,
   "id": "d9efe28b",
   "metadata": {},
   "outputs": [
    {
     "name": "stdout",
     "output_type": "stream",
     "text": [
      "Distribuição de classes após a reamostragem:  Counter({3: 56215, 0: 56111, 1: 6040, 2: 5426, 4: 5335})\n"
     ]
    }
   ],
   "source": [
    "print(\"Distribuição de classes após a reamostragem: \", Counter(y_resampled_adasyn2))"
   ]
  },
  {
   "cell_type": "code",
   "execution_count": 88,
   "id": "49480350",
   "metadata": {},
   "outputs": [],
   "source": [
    "resampled_adasyn2 = X_resampled_adasyn2.join(y_resampled_adasyn2)"
   ]
  },
  {
   "cell_type": "code",
   "execution_count": 89,
   "id": "478180cf",
   "metadata": {},
   "outputs": [
    {
     "data": {
      "text/html": [],
      "text/plain": [
       "<IPython.core.display.HTML object>"
      ]
     },
     "metadata": {},
     "output_type": "display_data"
    },
    {
     "name": "stderr",
     "output_type": "stream",
     "text": [
      "2023-11-29 15:40:13,106\tERROR trial_runner.py:1062 -- Trial 25287f76: Error processing event.\n",
      "ray.tune.error._TuneNoNextExecutorEventError: Traceback (most recent call last):\n",
      "  File \"/home/jupyter-luana@alu.ufc.br/.local/lib/python3.9/site-packages/ray/tune/execution/ray_trial_executor.py\", line 1276, in get_next_executor_event\n",
      "    future_result = ray.get(ready_future)\n",
      "  File \"/home/jupyter-luana@alu.ufc.br/.local/lib/python3.9/site-packages/ray/_private/client_mode_hook.py\", line 105, in wrapper\n",
      "    return func(*args, **kwargs)\n",
      "  File \"/home/jupyter-luana@alu.ufc.br/.local/lib/python3.9/site-packages/ray/_private/worker.py\", line 2382, in get\n",
      "    raise value\n",
      "ray.exceptions.OutOfMemoryError: Task was killed due to the node running low on memory.\n",
      "Memory on the node (IP: 10.102.21.240, ID: 074bbfb73096c29403d0deb5346edcca93f5fb8c54df75850b3d9c75) where the task (actor ID: e83a9c95278cb2ba9ec4e6a701000000, name=ImplicitFunc.__init__, pid=486787, memory used=6.12GB) was running was 90.55GB / 94.20GB (0.961184), which exceeds the memory usage threshold of 0.95. Ray killed this worker (ID: 002738ad5ef8bd4bf60bfa5541caf33b61c85724ce03d0e57c70ad19) because it was the most recently scheduled task; to see more information about memory usage on this node, use `ray logs raylet.out -ip 10.102.21.240`. To see the logs of the worker, use `ray logs worker-002738ad5ef8bd4bf60bfa5541caf33b61c85724ce03d0e57c70ad19*out -ip 10.102.21.240. Top 10 memory users:\n",
      "PID\tMEM(GB)\tCOMMAND\n",
      "461128\t45.64\t/opt/tljh/user/bin/python -m ipykernel_launcher -f /home/jupyter-luana@alu.ufc.br/.local/share/jupyt...\n",
      "486784\t9.51\tray::ImplicitFunc.train\n",
      "486783\t8.61\tray::ImplicitFunc.train\n",
      "486786\t7.49\tray::ImplicitFunc.train\n",
      "486785\t7.37\tray::ImplicitFunc.train\n",
      "486787\t6.12\tray::ImplicitFunc.train\n",
      "320596\t0.12\t/opt/tljh/user/bin/python /opt/tljh/user/bin/jupyterhub-singleuser --port=42525\n",
      "461345\t0.11\t/home/jupyter-luana@alu.ufc.br/.local/lib/python3.9/site-packages/ray/core/src/ray/gcs/gcs_server --...\n",
      "461453\t0.10\t/home/jupyter-luana@alu.ufc.br/.local/lib/python3.9/site-packages/ray/core/src/ray/raylet/raylet --r...\n",
      "461494\t0.07\t/opt/tljh/user/bin/python -u /home/jupyter-luana@alu.ufc.br/.local/lib/python3.9/site-packages/ray/d...\n",
      "Refer to the documentation on how to address the out of memory issue: https://docs.ray.io/en/latest/ray-core/scheduling/ray-oom-prevention.html. Consider provisioning more memory on this node or reducing task parallelism by requesting more CPUs per task. Set max_restarts and max_task_retries to enable retry when the task crashes due to OOM. To adjust the kill threshold, set the environment variable `RAY_memory_usage_threshold` when starting Ray. To disable worker killing, set the environment variable `RAY_memory_monitor_refresh_ms` to zero.\n",
      "\n",
      "2023-11-29 15:40:13,109\tERROR ray_trial_executor.py:930 -- An exception occurred when trying to stop the Ray actor:Traceback (most recent call last):\n",
      "  File \"/home/jupyter-luana@alu.ufc.br/.local/lib/python3.9/site-packages/ray/tune/execution/ray_trial_executor.py\", line 921, in _resolve_stop_event\n",
      "    ray.get(future, timeout=timeout)\n",
      "  File \"/home/jupyter-luana@alu.ufc.br/.local/lib/python3.9/site-packages/ray/_private/client_mode_hook.py\", line 105, in wrapper\n",
      "    return func(*args, **kwargs)\n",
      "  File \"/home/jupyter-luana@alu.ufc.br/.local/lib/python3.9/site-packages/ray/_private/worker.py\", line 2382, in get\n",
      "    raise value\n",
      "ray.exceptions.OutOfMemoryError: Task was killed due to the node running low on memory.\n",
      "Memory on the node (IP: 10.102.21.240, ID: 074bbfb73096c29403d0deb5346edcca93f5fb8c54df75850b3d9c75) where the task (actor ID: e83a9c95278cb2ba9ec4e6a701000000, name=ImplicitFunc.__init__, pid=486787, memory used=6.12GB) was running was 90.55GB / 94.20GB (0.961184), which exceeds the memory usage threshold of 0.95. Ray killed this worker (ID: 002738ad5ef8bd4bf60bfa5541caf33b61c85724ce03d0e57c70ad19) because it was the most recently scheduled task; to see more information about memory usage on this node, use `ray logs raylet.out -ip 10.102.21.240`. To see the logs of the worker, use `ray logs worker-002738ad5ef8bd4bf60bfa5541caf33b61c85724ce03d0e57c70ad19*out -ip 10.102.21.240. Top 10 memory users:\n",
      "PID\tMEM(GB)\tCOMMAND\n",
      "461128\t45.64\t/opt/tljh/user/bin/python -m ipykernel_launcher -f /home/jupyter-luana@alu.ufc.br/.local/share/jupyt...\n",
      "486784\t9.51\tray::ImplicitFunc.train\n",
      "486783\t8.61\tray::ImplicitFunc.train\n",
      "486786\t7.49\tray::ImplicitFunc.train\n",
      "486785\t7.37\tray::ImplicitFunc.train\n",
      "486787\t6.12\tray::ImplicitFunc.train\n",
      "320596\t0.12\t/opt/tljh/user/bin/python /opt/tljh/user/bin/jupyterhub-singleuser --port=42525\n",
      "461345\t0.11\t/home/jupyter-luana@alu.ufc.br/.local/lib/python3.9/site-packages/ray/core/src/ray/gcs/gcs_server --...\n",
      "461453\t0.10\t/home/jupyter-luana@alu.ufc.br/.local/lib/python3.9/site-packages/ray/core/src/ray/raylet/raylet --r...\n",
      "461494\t0.07\t/opt/tljh/user/bin/python -u /home/jupyter-luana@alu.ufc.br/.local/lib/python3.9/site-packages/ray/d...\n",
      "Refer to the documentation on how to address the out of memory issue: https://docs.ray.io/en/latest/ray-core/scheduling/ray-oom-prevention.html. Consider provisioning more memory on this node or reducing task parallelism by requesting more CPUs per task. Set max_restarts and max_task_retries to enable retry when the task crashes due to OOM. To adjust the kill threshold, set the environment variable `RAY_memory_usage_threshold` when starting Ray. To disable worker killing, set the environment variable `RAY_memory_monitor_refresh_ms` to zero.\n",
      "\n",
      "2023-11-29 15:40:38,334\tERROR trial_runner.py:1062 -- Trial 04b276f5: Error processing event.\n",
      "ray.tune.error._TuneNoNextExecutorEventError: Traceback (most recent call last):\n",
      "  File \"/home/jupyter-luana@alu.ufc.br/.local/lib/python3.9/site-packages/ray/tune/execution/ray_trial_executor.py\", line 1276, in get_next_executor_event\n",
      "    future_result = ray.get(ready_future)\n",
      "  File \"/home/jupyter-luana@alu.ufc.br/.local/lib/python3.9/site-packages/ray/_private/client_mode_hook.py\", line 105, in wrapper\n",
      "    return func(*args, **kwargs)\n",
      "  File \"/home/jupyter-luana@alu.ufc.br/.local/lib/python3.9/site-packages/ray/_private/worker.py\", line 2382, in get\n",
      "    raise value\n",
      "ray.exceptions.OutOfMemoryError: Task was killed due to the node running low on memory.\n",
      "Memory on the node (IP: 10.102.21.240, ID: 074bbfb73096c29403d0deb5346edcca93f5fb8c54df75850b3d9c75) where the task (actor ID: 85e5adf12c8d7c9793b4dcd801000000, name=ImplicitFunc.__init__, pid=486786, memory used=7.52GB) was running was 89.51GB / 94.20GB (0.950128), which exceeds the memory usage threshold of 0.95. Ray killed this worker (ID: 784713701daf284a6120414f09997d34f3c89de12653bcc6699ae961) because it was the most recently scheduled task; to see more information about memory usage on this node, use `ray logs raylet.out -ip 10.102.21.240`. To see the logs of the worker, use `ray logs worker-784713701daf284a6120414f09997d34f3c89de12653bcc6699ae961*out -ip 10.102.21.240. Top 10 memory users:\n",
      "PID\tMEM(GB)\tCOMMAND\n",
      "461128\t45.65\t/opt/tljh/user/bin/python -m ipykernel_launcher -f /home/jupyter-luana@alu.ufc.br/.local/share/jupyt...\n",
      "486784\t11.40\tray::ImplicitFunc.train\n",
      "486783\t11.01\tray::ImplicitFunc.train\n",
      "486785\t7.61\tray::ImplicitFunc.train\n",
      "486786\t7.52\tray::ImplicitFunc.train\n",
      "320596\t0.12\t/opt/tljh/user/bin/python /opt/tljh/user/bin/jupyterhub-singleuser --port=42525\n",
      "461345\t0.11\t/home/jupyter-luana@alu.ufc.br/.local/lib/python3.9/site-packages/ray/core/src/ray/gcs/gcs_server --...\n",
      "461453\t0.10\t/home/jupyter-luana@alu.ufc.br/.local/lib/python3.9/site-packages/ray/core/src/ray/raylet/raylet --r...\n",
      "461494\t0.07\t/opt/tljh/user/bin/python -u /home/jupyter-luana@alu.ufc.br/.local/lib/python3.9/site-packages/ray/d...\n",
      "461393\t0.06\t/opt/tljh/user/bin/python /home/jupyter-luana@alu.ufc.br/.local/lib/python3.9/site-packages/ray/dash...\n",
      "Refer to the documentation on how to address the out of memory issue: https://docs.ray.io/en/latest/ray-core/scheduling/ray-oom-prevention.html. Consider provisioning more memory on this node or reducing task parallelism by requesting more CPUs per task. Set max_restarts and max_task_retries to enable retry when the task crashes due to OOM. To adjust the kill threshold, set the environment variable `RAY_memory_usage_threshold` when starting Ray. To disable worker killing, set the environment variable `RAY_memory_monitor_refresh_ms` to zero.\n",
      "\n",
      "2023-11-29 15:48:41,635\tERROR tune.py:794 -- Trials did not complete: [04b276f5, 25287f76]\n",
      "Fitted model: NeuralNetTorch/1a5f21f9 ...\n",
      "\t0.9982\t = Validation score   (accuracy)\n",
      "\t507.37s\t = Training   runtime\n",
      "\t2.77s\t = Validation runtime\n",
      "Fitted model: NeuralNetTorch/e06d0ade ...\n",
      "\t0.989\t = Validation score   (accuracy)\n",
      "\t397.69s\t = Training   runtime\n",
      "\t2.93s\t = Validation runtime\n",
      "Fitted model: NeuralNetTorch/13b50236 ...\n",
      "\t0.9732\t = Validation score   (accuracy)\n",
      "\t543.82s\t = Training   runtime\n",
      "\t2.94s\t = Validation runtime\n",
      "Fitting model: LightGBMLarge ... Training model for up to 1991.56s of the 18996.91s of remaining time.\n",
      "\t0.996\t = Validation score   (accuracy)\n",
      "\t788.21s\t = Training   runtime\n",
      "\t0.18s\t = Validation runtime\n",
      "Fitting model: WeightedEnsemble_L2 ... Training model for up to 2876.7s of the 18194.32s of remaining time.\n",
      "\t0.9994\t = Validation score   (accuracy)\n",
      "\t1.71s\t = Training   runtime\n",
      "\t0.0s\t = Validation runtime\n",
      "AutoGluon training complete, total runtime = 10611.04s ... Best model: \"WeightedEnsemble_L2\"\n",
      "TabularPredictor saved. To load, use: predictor = TabularPredictor.load(\"AutogluonModels/ag-20231129_130515/\")\n"
     ]
    },
    {
     "name": "stdout",
     "output_type": "stream",
     "text": [
      "CPU times: user 15h 33min 5s, sys: 22min 41s, total: 15h 55min 47s\n",
      "Wall time: 2h 56min 51s\n"
     ]
    }
   ],
   "source": [
    "%%time\n",
    "adasyn_resampling_training2 = TabularPredictor(label='label').fit(resampled_adasyn2, time_limit=28800,\n",
    "                                                                  hyperparameter_tune_kwargs = {'num_trials': 5, 'scheduler' : 'local', 'searcher': 'auto'})"
   ]
  },
  {
   "cell_type": "markdown",
   "id": "202d9704",
   "metadata": {},
   "source": [
    "**Dataframe de hiperparâmetros**\n",
    "\n",
    "A função ``autogluon_models_df`` trata as informações dos modelos gerados pelo TabularPredictor e retorna um dataframe com um ranking de acurácia dos modelos e facilita o processo de seleção/visualização dos hiperparâmetros de cada modelo. O datafame contém as seguintes informações: a segmentação usada, se o filtro foi aplicado, a técnica de reamostragem, o nome do modelo, os hiperparâmetros do modelo e acurácia. Nesse notebook executamos os modelos com a segmentação dos dados com uma janela de 180."
   ]
  },
  {
   "cell_type": "code",
   "execution_count": 90,
   "id": "27e98880",
   "metadata": {},
   "outputs": [
    {
     "name": "stdout",
     "output_type": "stream",
     "text": [
      "CPU times: user 2min, sys: 6.2 s, total: 2min 6s\n",
      "Wall time: 1min 1s\n"
     ]
    }
   ],
   "source": [
    "%%time\n",
    "models_with_adasyn2 = autogluon_models_df(window=window_size,\n",
    "                                        filter_applied=True, \n",
    "                                        resampling_tech='adasyn',\n",
    "                                        predictor_model=adasyn_resampling_training2,\n",
    "                                        test_data_=test_data2)"
   ]
  },
  {
   "cell_type": "code",
   "execution_count": 153,
   "id": "d536f068",
   "metadata": {},
   "outputs": [
    {
     "data": {
      "text/plain": [
       "['NeuralNetFastAI/c0aee8c0',\n",
       " 'NeuralNetFastAI/3107cb28',\n",
       " 'NeuralNetFastAI/95df2851',\n",
       " 'NeuralNetFastAI/aa31cf95',\n",
       " 'NeuralNetFastAI/10bd4af3',\n",
       " 'LightGBMXT/T1',\n",
       " 'LightGBMXT/T2',\n",
       " 'LightGBMXT/T3',\n",
       " 'LightGBM/T1',\n",
       " 'LightGBM/T2',\n",
       " 'LightGBM/T3',\n",
       " 'RandomForestGini',\n",
       " 'RandomForestEntr',\n",
       " 'CatBoost/T1',\n",
       " 'ExtraTreesGini',\n",
       " 'ExtraTreesEntr',\n",
       " 'XGBoost/T1',\n",
       " 'XGBoost/T2',\n",
       " 'NeuralNetTorch/1a5f21f9',\n",
       " 'NeuralNetTorch/e06d0ade',\n",
       " 'NeuralNetTorch/13b50236',\n",
       " 'LightGBMLarge',\n",
       " 'WeightedEnsemble_L2']"
      ]
     },
     "execution_count": 153,
     "metadata": {},
     "output_type": "execute_result"
    }
   ],
   "source": [
    "adasyn_resampling_training2.get_model_names()"
   ]
  },
  {
   "cell_type": "code",
   "execution_count": 156,
   "id": "f881f6b4",
   "metadata": {},
   "outputs": [],
   "source": [
    "y_pred_lua = adasyn_resampling_training2.predict(data=X_test2, model='LightGBMXT/T1')"
   ]
  },
  {
   "cell_type": "code",
   "execution_count": 157,
   "id": "5880964c",
   "metadata": {},
   "outputs": [
    {
     "name": "stdout",
     "output_type": "stream",
     "text": [
      "              precision    recall  f1-score   support\n",
      "\n",
      "           0     0.9951    0.9977    0.9964     18704\n",
      "           1     0.9980    0.9950    0.9965      2013\n",
      "           2     0.9989    0.9950    0.9970      1809\n",
      "           3     0.9270    0.9416    0.9343       634\n",
      "           4     0.9960    0.9702    0.9829      1779\n",
      "\n",
      "    accuracy                         0.9939     24939\n",
      "   macro avg     0.9830    0.9799    0.9814     24939\n",
      "weighted avg     0.9939    0.9939    0.9939     24939\n",
      "\n"
     ]
    }
   ],
   "source": [
    "print(classification_report(y_test, y_pred_lua, digits=4))"
   ]
  },
  {
   "cell_type": "markdown",
   "id": "7143d5f3",
   "metadata": {},
   "source": [
    "**Ranking dos modelos com a técnica de reamostragem SMOTE e com filtro**"
   ]
  },
  {
   "cell_type": "code",
   "execution_count": 91,
   "id": "cb68eeb7",
   "metadata": {},
   "outputs": [
    {
     "data": {
      "text/html": [
       "<div>\n",
       "<style scoped>\n",
       "    .dataframe tbody tr th:only-of-type {\n",
       "        vertical-align: middle;\n",
       "    }\n",
       "\n",
       "    .dataframe tbody tr th {\n",
       "        vertical-align: top;\n",
       "    }\n",
       "\n",
       "    .dataframe thead th {\n",
       "        text-align: right;\n",
       "    }\n",
       "</style>\n",
       "<table border=\"1\" class=\"dataframe\">\n",
       "  <thead>\n",
       "    <tr style=\"text-align: right;\">\n",
       "      <th></th>\n",
       "      <th>window_size</th>\n",
       "      <th>filter_applied</th>\n",
       "      <th>resampling_tech</th>\n",
       "      <th>model</th>\n",
       "      <th>hyperparameters</th>\n",
       "      <th>accuracy</th>\n",
       "      <th>precision_weighted</th>\n",
       "      <th>recall_weighted</th>\n",
       "      <th>f1_weighted</th>\n",
       "      <th>algorithm</th>\n",
       "    </tr>\n",
       "  </thead>\n",
       "  <tbody>\n",
       "    <tr>\n",
       "      <th>0</th>\n",
       "      <td>2000</td>\n",
       "      <td>True</td>\n",
       "      <td>adasyn</td>\n",
       "      <td>LightGBMXT/T1</td>\n",
       "      <td>{'learning_rate': 0.05, 'extra_trees': True, 'feature_fraction': 1.0, 'min_data_in_leaf': 20, 'num_leaves': 31}</td>\n",
       "      <td>0.993905</td>\n",
       "      <td>0.993936</td>\n",
       "      <td>0.993905</td>\n",
       "      <td>0.993905</td>\n",
       "      <td>LightGBM</td>\n",
       "    </tr>\n",
       "    <tr>\n",
       "      <th>1</th>\n",
       "      <td>2000</td>\n",
       "      <td>True</td>\n",
       "      <td>adasyn</td>\n",
       "      <td>LightGBMXT/T3</td>\n",
       "      <td>{'learning_rate': 0.049883446878335284, 'extra_trees': True, 'feature_fraction': 0.9618129346960314, 'min_data_in_leaf': 52, 'num_leaves': 52}</td>\n",
       "      <td>0.993264</td>\n",
       "      <td>0.993297</td>\n",
       "      <td>0.993264</td>\n",
       "      <td>0.993266</td>\n",
       "      <td>LightGBM</td>\n",
       "    </tr>\n",
       "  </tbody>\n",
       "</table>\n",
       "</div>"
      ],
      "text/plain": [
       "   window_size  filter_applied resampling_tech          model  \\\n",
       "0         2000            True          adasyn  LightGBMXT/T1   \n",
       "1         2000            True          adasyn  LightGBMXT/T3   \n",
       "\n",
       "                                                                                                                                  hyperparameters  \\\n",
       "0                                 {'learning_rate': 0.05, 'extra_trees': True, 'feature_fraction': 1.0, 'min_data_in_leaf': 20, 'num_leaves': 31}   \n",
       "1  {'learning_rate': 0.049883446878335284, 'extra_trees': True, 'feature_fraction': 0.9618129346960314, 'min_data_in_leaf': 52, 'num_leaves': 52}   \n",
       "\n",
       "   accuracy  precision_weighted  recall_weighted  f1_weighted algorithm  \n",
       "0  0.993905            0.993936         0.993905     0.993905  LightGBM  \n",
       "1  0.993264            0.993297         0.993264     0.993266  LightGBM  "
      ]
     },
     "execution_count": 91,
     "metadata": {},
     "output_type": "execute_result"
    }
   ],
   "source": [
    "models_with_adasyn2.head(2)"
   ]
  },
  {
   "cell_type": "markdown",
   "id": "1d7ad93b",
   "metadata": {},
   "source": [
    "**Cálculo do intervalo de confiança**"
   ]
  },
  {
   "cell_type": "code",
   "execution_count": 146,
   "id": "105dd6b0",
   "metadata": {},
   "outputs": [
    {
     "name": "stdout",
     "output_type": "stream",
     "text": [
      "Intervalo de confiança(0.9929336091338661, 0.9948663908661339)\n"
     ]
    }
   ],
   "source": [
    "z = 1.96\n",
    "accuracy = 0.9939\n",
    "n = len(X_test2)\n",
    "interval = z * np.sqrt((accuracy * (1 - accuracy)) / n)\n",
    "print(f\"Intervalo de confiança{(accuracy-interval, accuracy+interval)}\")"
   ]
  },
  {
   "cell_type": "code",
   "execution_count": 92,
   "id": "fbca4f7c",
   "metadata": {},
   "outputs": [
    {
     "data": {
      "text/plain": [
       "LightGBM           7\n",
       "NeuralNetFastAI    5\n",
       "NeuralNetTorch     3\n",
       "XGBoost            2\n",
       "RandomForest       2\n",
       "ExtraTrees         2\n",
       "CatBoost           1\n",
       "Name: algorithm, dtype: int64"
      ]
     },
     "execution_count": 92,
     "metadata": {},
     "output_type": "execute_result"
    }
   ],
   "source": [
    "models_with_adasyn2['algorithm'].value_counts()"
   ]
  },
  {
   "cell_type": "code",
   "execution_count": 93,
   "id": "07683521",
   "metadata": {},
   "outputs": [
    {
     "data": {
      "text/plain": [
       "22"
      ]
     },
     "execution_count": 93,
     "metadata": {},
     "output_type": "execute_result"
    }
   ],
   "source": [
    "models_with_adasyn2['algorithm'].value_counts().sum()"
   ]
  },
  {
   "cell_type": "markdown",
   "id": "9083e7f5",
   "metadata": {},
   "source": [
    "Para evitar perda dos dados"
   ]
  },
  {
   "cell_type": "code",
   "execution_count": 94,
   "id": "7566cd57",
   "metadata": {},
   "outputs": [],
   "source": [
    "models_with_adasyn2.to_csv('models_with_adasyn2.csv', index=False)"
   ]
  },
  {
   "cell_type": "markdown",
   "id": "fedbb292",
   "metadata": {},
   "source": [
    "**Junção dos modelos**"
   ]
  },
  {
   "cell_type": "code",
   "execution_count": 95,
   "id": "8b15102d",
   "metadata": {},
   "outputs": [],
   "source": [
    "hyperparameters_all_models = pd.concat([hyperparameters_all_models, models_with_adasyn2])"
   ]
  },
  {
   "cell_type": "code",
   "execution_count": 96,
   "id": "3a6f667f",
   "metadata": {},
   "outputs": [],
   "source": [
    "hyperparameters_all_models = hyperparameters_all_models.sort_values(by='accuracy', ascending=False)"
   ]
  },
  {
   "cell_type": "code",
   "execution_count": 97,
   "id": "4bfad02c",
   "metadata": {},
   "outputs": [],
   "source": [
    "hyperparameters_all_models = hyperparameters_all_models.reset_index(drop=True)"
   ]
  },
  {
   "cell_type": "code",
   "execution_count": 98,
   "id": "f2911a1d",
   "metadata": {},
   "outputs": [
    {
     "data": {
      "text/html": [
       "<div>\n",
       "<style scoped>\n",
       "    .dataframe tbody tr th:only-of-type {\n",
       "        vertical-align: middle;\n",
       "    }\n",
       "\n",
       "    .dataframe tbody tr th {\n",
       "        vertical-align: top;\n",
       "    }\n",
       "\n",
       "    .dataframe thead th {\n",
       "        text-align: right;\n",
       "    }\n",
       "</style>\n",
       "<table border=\"1\" class=\"dataframe\">\n",
       "  <thead>\n",
       "    <tr style=\"text-align: right;\">\n",
       "      <th></th>\n",
       "      <th>window_size</th>\n",
       "      <th>filter_applied</th>\n",
       "      <th>resampling_tech</th>\n",
       "      <th>model</th>\n",
       "      <th>hyperparameters</th>\n",
       "      <th>accuracy</th>\n",
       "      <th>precision_weighted</th>\n",
       "      <th>recall_weighted</th>\n",
       "      <th>f1_weighted</th>\n",
       "      <th>algorithm</th>\n",
       "    </tr>\n",
       "  </thead>\n",
       "  <tbody>\n",
       "    <tr>\n",
       "      <th>0</th>\n",
       "      <td>2000</td>\n",
       "      <td>True</td>\n",
       "      <td>None</td>\n",
       "      <td>LightGBM/T5</td>\n",
       "      <td>{'learning_rate': 0.1000260297171191, 'feature_fraction': 0.8694162793303375, 'min_data_in_leaf': 48, 'num_leaves': 53}</td>\n",
       "      <td>0.994306</td>\n",
       "      <td>0.994288</td>\n",
       "      <td>0.994306</td>\n",
       "      <td>0.994235</td>\n",
       "      <td>LightGBM</td>\n",
       "    </tr>\n",
       "    <tr>\n",
       "      <th>1</th>\n",
       "      <td>2000</td>\n",
       "      <td>True</td>\n",
       "      <td>None</td>\n",
       "      <td>LightGBMXT/T1</td>\n",
       "      <td>{'learning_rate': 0.05, 'extra_trees': True, 'feature_fraction': 1.0, 'min_data_in_leaf': 20, 'num_leaves': 31}</td>\n",
       "      <td>0.994306</td>\n",
       "      <td>0.994299</td>\n",
       "      <td>0.994306</td>\n",
       "      <td>0.994237</td>\n",
       "      <td>LightGBM</td>\n",
       "    </tr>\n",
       "    <tr>\n",
       "      <th>2</th>\n",
       "      <td>2000</td>\n",
       "      <td>True</td>\n",
       "      <td>None</td>\n",
       "      <td>LightGBMXT/T2</td>\n",
       "      <td>{'learning_rate': 0.06994332504138302, 'extra_trees': True, 'feature_fraction': 0.8872033759818312, 'min_data_in_leaf': 5, 'num_leaves': 83}</td>\n",
       "      <td>0.994266</td>\n",
       "      <td>0.994259</td>\n",
       "      <td>0.994266</td>\n",
       "      <td>0.994198</td>\n",
       "      <td>LightGBM</td>\n",
       "    </tr>\n",
       "    <tr>\n",
       "      <th>3</th>\n",
       "      <td>2000</td>\n",
       "      <td>True</td>\n",
       "      <td>None</td>\n",
       "      <td>LightGBM/T1</td>\n",
       "      <td>{'learning_rate': 0.05, 'feature_fraction': 1.0, 'min_data_in_leaf': 20, 'num_leaves': 31}</td>\n",
       "      <td>0.994146</td>\n",
       "      <td>0.994128</td>\n",
       "      <td>0.994146</td>\n",
       "      <td>0.994078</td>\n",
       "      <td>LightGBM</td>\n",
       "    </tr>\n",
       "    <tr>\n",
       "      <th>4</th>\n",
       "      <td>2000</td>\n",
       "      <td>True</td>\n",
       "      <td>None</td>\n",
       "      <td>LightGBMXT/T3</td>\n",
       "      <td>{'learning_rate': 0.049883446878335284, 'extra_trees': True, 'feature_fraction': 0.9618129346960314, 'min_data_in_leaf': 52, 'num_leaves': 52}</td>\n",
       "      <td>0.993985</td>\n",
       "      <td>0.993970</td>\n",
       "      <td>0.993985</td>\n",
       "      <td>0.993917</td>\n",
       "      <td>LightGBM</td>\n",
       "    </tr>\n",
       "  </tbody>\n",
       "</table>\n",
       "</div>"
      ],
      "text/plain": [
       "   window_size  filter_applied resampling_tech          model  \\\n",
       "0         2000            True            None    LightGBM/T5   \n",
       "1         2000            True            None  LightGBMXT/T1   \n",
       "2         2000            True            None  LightGBMXT/T2   \n",
       "3         2000            True            None    LightGBM/T1   \n",
       "4         2000            True            None  LightGBMXT/T3   \n",
       "\n",
       "                                                                                                                                  hyperparameters  \\\n",
       "0                         {'learning_rate': 0.1000260297171191, 'feature_fraction': 0.8694162793303375, 'min_data_in_leaf': 48, 'num_leaves': 53}   \n",
       "1                                 {'learning_rate': 0.05, 'extra_trees': True, 'feature_fraction': 1.0, 'min_data_in_leaf': 20, 'num_leaves': 31}   \n",
       "2    {'learning_rate': 0.06994332504138302, 'extra_trees': True, 'feature_fraction': 0.8872033759818312, 'min_data_in_leaf': 5, 'num_leaves': 83}   \n",
       "3                                                      {'learning_rate': 0.05, 'feature_fraction': 1.0, 'min_data_in_leaf': 20, 'num_leaves': 31}   \n",
       "4  {'learning_rate': 0.049883446878335284, 'extra_trees': True, 'feature_fraction': 0.9618129346960314, 'min_data_in_leaf': 52, 'num_leaves': 52}   \n",
       "\n",
       "   accuracy  precision_weighted  recall_weighted  f1_weighted algorithm  \n",
       "0  0.994306            0.994288         0.994306     0.994235  LightGBM  \n",
       "1  0.994306            0.994299         0.994306     0.994237  LightGBM  \n",
       "2  0.994266            0.994259         0.994266     0.994198  LightGBM  \n",
       "3  0.994146            0.994128         0.994146     0.994078  LightGBM  \n",
       "4  0.993985            0.993970         0.993985     0.993917  LightGBM  "
      ]
     },
     "execution_count": 98,
     "metadata": {},
     "output_type": "execute_result"
    }
   ],
   "source": [
    "hyperparameters_all_models.head()"
   ]
  },
  {
   "cell_type": "code",
   "execution_count": 131,
   "id": "01e8b58d",
   "metadata": {},
   "outputs": [],
   "source": [
    "hyperparameters_all_models.to_csv('all_models-vfinal_seg2000_5classes.csv', index=False)"
   ]
  },
  {
   "cell_type": "markdown",
   "id": "d36eb69c",
   "metadata": {},
   "source": [
    "## Análise dos modelos"
   ]
  },
  {
   "cell_type": "code",
   "execution_count": 99,
   "id": "1f71e34d",
   "metadata": {},
   "outputs": [
    {
     "data": {
      "text/plain": [
       "LightGBM           32\n",
       "NeuralNetTorch     24\n",
       "NeuralNetFastAI    22\n",
       "RandomForest       12\n",
       "ExtraTrees         12\n",
       "XGBoost             8\n",
       "CatBoost            8\n",
       "KNeighbors          4\n",
       "Name: algorithm, dtype: int64"
      ]
     },
     "execution_count": 99,
     "metadata": {},
     "output_type": "execute_result"
    }
   ],
   "source": [
    "hyperparameters_all_models.algorithm.value_counts()"
   ]
  },
  {
   "cell_type": "markdown",
   "id": "394243da",
   "metadata": {},
   "source": [
    "**Melhores modelos por algoritmo**"
   ]
  },
  {
   "cell_type": "code",
   "execution_count": 100,
   "id": "cafaf6bf",
   "metadata": {},
   "outputs": [
    {
     "data": {
      "text/plain": [
       "0           LightGBM\n",
       "1           LightGBM\n",
       "2           LightGBM\n",
       "3           LightGBM\n",
       "4           LightGBM\n",
       "5           LightGBM\n",
       "6    NeuralNetFastAI\n",
       "7           LightGBM\n",
       "8           LightGBM\n",
       "9       RandomForest\n",
       "Name: algorithm, dtype: object"
      ]
     },
     "execution_count": 100,
     "metadata": {},
     "output_type": "execute_result"
    }
   ],
   "source": [
    "hyperparameters_all_models['algorithm'].head(10)"
   ]
  },
  {
   "cell_type": "code",
   "execution_count": 101,
   "id": "8712672d",
   "metadata": {},
   "outputs": [
    {
     "data": {
      "text/html": [
       "<div>\n",
       "<style scoped>\n",
       "    .dataframe tbody tr th:only-of-type {\n",
       "        vertical-align: middle;\n",
       "    }\n",
       "\n",
       "    .dataframe tbody tr th {\n",
       "        vertical-align: top;\n",
       "    }\n",
       "\n",
       "    .dataframe thead th {\n",
       "        text-align: right;\n",
       "    }\n",
       "</style>\n",
       "<table border=\"1\" class=\"dataframe\">\n",
       "  <thead>\n",
       "    <tr style=\"text-align: right;\">\n",
       "      <th></th>\n",
       "      <th>window_size</th>\n",
       "      <th>filter_applied</th>\n",
       "      <th>resampling_tech</th>\n",
       "      <th>model</th>\n",
       "      <th>hyperparameters</th>\n",
       "      <th>accuracy</th>\n",
       "      <th>precision_weighted</th>\n",
       "      <th>recall_weighted</th>\n",
       "      <th>f1_weighted</th>\n",
       "      <th>algorithm</th>\n",
       "    </tr>\n",
       "  </thead>\n",
       "  <tbody>\n",
       "  </tbody>\n",
       "</table>\n",
       "</div>"
      ],
      "text/plain": [
       "Empty DataFrame\n",
       "Columns: [window_size, filter_applied, resampling_tech, model, hyperparameters, accuracy, precision_weighted, recall_weighted, f1_weighted, algorithm]\n",
       "Index: []"
      ]
     },
     "execution_count": 101,
     "metadata": {},
     "output_type": "execute_result"
    }
   ],
   "source": [
    "hyperparameters_all_models[hyperparameters_all_models['algorithm'] == 'KNN']"
   ]
  },
  {
   "cell_type": "markdown",
   "id": "8bd19da3",
   "metadata": {},
   "source": [
    "**Melhores modelos por algoritmo**"
   ]
  },
  {
   "cell_type": "code",
   "execution_count": 119,
   "id": "df869ec4",
   "metadata": {},
   "outputs": [],
   "source": [
    "all_algorithms = ['LightGBM', 'RandomForest', 'NeuralNetTorch', 'NeuralNetFastAI', 'XGBoost',\n",
    "                      'ExtraTrees', 'CatBoost', 'KNeighbors']\n",
    "best_models = pd.DataFrame()\n",
    "for i in all_algorithms:\n",
    "    new_model = hyperparameters_all_models[hyperparameters_all_models['algorithm'] == i].head(1)\n",
    "    best_models = pd.concat([best_models, new_model], ignore_index=True)"
   ]
  },
  {
   "cell_type": "code",
   "execution_count": 120,
   "id": "e3e49102",
   "metadata": {},
   "outputs": [],
   "source": [
    "best_models = best_models.sort_values(by='accuracy', ascending=False)"
   ]
  },
  {
   "cell_type": "code",
   "execution_count": 121,
   "id": "c351189e",
   "metadata": {},
   "outputs": [],
   "source": [
    "best_models = best_models.reset_index(drop=True)"
   ]
  },
  {
   "cell_type": "code",
   "execution_count": 132,
   "id": "62ca136f",
   "metadata": {},
   "outputs": [],
   "source": [
    "best_models.to_csv('best_models-vfinal_seg2000_5classes.csv', index=False)"
   ]
  },
  {
   "cell_type": "code",
   "execution_count": 122,
   "id": "842fd2b1",
   "metadata": {},
   "outputs": [
    {
     "data": {
      "text/plain": [
       "(8, 10)"
      ]
     },
     "execution_count": 122,
     "metadata": {},
     "output_type": "execute_result"
    }
   ],
   "source": [
    "best_models.shape"
   ]
  },
  {
   "cell_type": "code",
   "execution_count": 123,
   "id": "5b4fd953",
   "metadata": {},
   "outputs": [
    {
     "data": {
      "text/html": [
       "<div>\n",
       "<style scoped>\n",
       "    .dataframe tbody tr th:only-of-type {\n",
       "        vertical-align: middle;\n",
       "    }\n",
       "\n",
       "    .dataframe tbody tr th {\n",
       "        vertical-align: top;\n",
       "    }\n",
       "\n",
       "    .dataframe thead th {\n",
       "        text-align: right;\n",
       "    }\n",
       "</style>\n",
       "<table border=\"1\" class=\"dataframe\">\n",
       "  <thead>\n",
       "    <tr style=\"text-align: right;\">\n",
       "      <th></th>\n",
       "      <th>window_size</th>\n",
       "      <th>filter_applied</th>\n",
       "      <th>resampling_tech</th>\n",
       "      <th>model</th>\n",
       "      <th>hyperparameters</th>\n",
       "      <th>accuracy</th>\n",
       "      <th>precision_weighted</th>\n",
       "      <th>recall_weighted</th>\n",
       "      <th>f1_weighted</th>\n",
       "      <th>algorithm</th>\n",
       "    </tr>\n",
       "  </thead>\n",
       "  <tbody>\n",
       "    <tr>\n",
       "      <th>0</th>\n",
       "      <td>2000</td>\n",
       "      <td>True</td>\n",
       "      <td>None</td>\n",
       "      <td>LightGBM/T5</td>\n",
       "      <td>{'learning_rate': 0.1000260297171191, 'feature_fraction': 0.8694162793303375, 'min_data_in_leaf': 48, 'num_leaves': 53}</td>\n",
       "      <td>0.994306</td>\n",
       "      <td>0.994288</td>\n",
       "      <td>0.994306</td>\n",
       "      <td>0.994235</td>\n",
       "      <td>LightGBM</td>\n",
       "    </tr>\n",
       "    <tr>\n",
       "      <th>1</th>\n",
       "      <td>2000</td>\n",
       "      <td>True</td>\n",
       "      <td>None</td>\n",
       "      <td>NeuralNetFastAI/d0104c43</td>\n",
       "      <td>{'layers': None, 'emb_drop': 0.1, 'ps': 0.1, 'bs': 256, 'lr': 0.01, 'epochs': 30, 'early.stopping.min_delta': 0.0001, 'early.stopping.patience': 20, 'smoothing': 0.0}</td>\n",
       "      <td>0.993905</td>\n",
       "      <td>0.993862</td>\n",
       "      <td>0.993905</td>\n",
       "      <td>0.993874</td>\n",
       "      <td>NeuralNetFastAI</td>\n",
       "    </tr>\n",
       "    <tr>\n",
       "      <th>2</th>\n",
       "      <td>2000</td>\n",
       "      <td>True</td>\n",
       "      <td>smote</td>\n",
       "      <td>RandomForestGini</td>\n",
       "      <td>{'n_estimators': 300, 'max_leaf_nodes': 15000, 'n_jobs': -1, 'random_state': 0, 'bootstrap': True, 'criterion': 'gini'}</td>\n",
       "      <td>0.993665</td>\n",
       "      <td>0.993631</td>\n",
       "      <td>0.993665</td>\n",
       "      <td>0.993639</td>\n",
       "      <td>RandomForest</td>\n",
       "    </tr>\n",
       "    <tr>\n",
       "      <th>3</th>\n",
       "      <td>2000</td>\n",
       "      <td>True</td>\n",
       "      <td>smote</td>\n",
       "      <td>XGBoost/T1</td>\n",
       "      <td>{'n_estimators': 10000, 'learning_rate': 0.1, 'n_jobs': -1, 'proc.max_category_levels': 100, 'objective': 'multi:softmax', 'booster': 'gbtree', 'num_class': 5, 'max_depth': 6, 'min_child_weight': 1, 'colsample_bytree': 1.0}</td>\n",
       "      <td>0.993264</td>\n",
       "      <td>0.993274</td>\n",
       "      <td>0.993264</td>\n",
       "      <td>0.993268</td>\n",
       "      <td>XGBoost</td>\n",
       "    </tr>\n",
       "    <tr>\n",
       "      <th>4</th>\n",
       "      <td>2000</td>\n",
       "      <td>True</td>\n",
       "      <td>smote</td>\n",
       "      <td>ExtraTreesGini</td>\n",
       "      <td>{'n_estimators': 300, 'max_leaf_nodes': 15000, 'n_jobs': -1, 'random_state': 0, 'bootstrap': True, 'criterion': 'gini'}</td>\n",
       "      <td>0.992983</td>\n",
       "      <td>0.992938</td>\n",
       "      <td>0.992983</td>\n",
       "      <td>0.992908</td>\n",
       "      <td>ExtraTrees</td>\n",
       "    </tr>\n",
       "    <tr>\n",
       "      <th>5</th>\n",
       "      <td>2000</td>\n",
       "      <td>True</td>\n",
       "      <td>None</td>\n",
       "      <td>NeuralNetTorch/948df250</td>\n",
       "      <td>{'num_epochs': 500, 'epochs_wo_improve': 20, 'activation': 'elu', 'embedding_size_factor': 0.7, 'embed_exponent': 0.56, 'max_embedding_dim': 100, 'y_range': None, 'y_range_extend': 0.05, 'dropout_prob': 0.4, 'optimizer': 'adam', 'learning_rate': 0.0019467042477653053, 'weight_decay': 6.795426853175024e-05, 'proc.embed_min_categories': 10, 'proc.impute_strategy': 'median', 'proc.max_category_levels': 300, 'proc.skew_threshold': 0.99, 'use_ngram_features': False, 'num_layers': 2, 'hidden_size': 128, 'max_batch_size': 512, 'use_batchnorm': True, 'loss_function': 'auto'}</td>\n",
       "      <td>0.992863</td>\n",
       "      <td>0.992800</td>\n",
       "      <td>0.992863</td>\n",
       "      <td>0.992810</td>\n",
       "      <td>NeuralNetTorch</td>\n",
       "    </tr>\n",
       "    <tr>\n",
       "      <th>6</th>\n",
       "      <td>2000</td>\n",
       "      <td>True</td>\n",
       "      <td>adasyn</td>\n",
       "      <td>CatBoost/T1</td>\n",
       "      <td>{'iterations': 10000, 'learning_rate': 0.05, 'random_seed': 0, 'allow_writing_files': False, 'eval_metric': 'Accuracy', 'depth': 6, 'l2_leaf_reg': 3}</td>\n",
       "      <td>0.990697</td>\n",
       "      <td>0.991039</td>\n",
       "      <td>0.990697</td>\n",
       "      <td>0.990803</td>\n",
       "      <td>CatBoost</td>\n",
       "    </tr>\n",
       "    <tr>\n",
       "      <th>7</th>\n",
       "      <td>2000</td>\n",
       "      <td>True</td>\n",
       "      <td>None</td>\n",
       "      <td>KNeighborsDist</td>\n",
       "      <td>{'weights': 'distance'}</td>\n",
       "      <td>0.960022</td>\n",
       "      <td>0.960721</td>\n",
       "      <td>0.960022</td>\n",
       "      <td>0.959400</td>\n",
       "      <td>KNeighbors</td>\n",
       "    </tr>\n",
       "  </tbody>\n",
       "</table>\n",
       "</div>"
      ],
      "text/plain": [
       "   window_size  filter_applied resampling_tech                     model  \\\n",
       "0         2000            True            None               LightGBM/T5   \n",
       "1         2000            True            None  NeuralNetFastAI/d0104c43   \n",
       "2         2000            True           smote          RandomForestGini   \n",
       "3         2000            True           smote                XGBoost/T1   \n",
       "4         2000            True           smote            ExtraTreesGini   \n",
       "5         2000            True            None   NeuralNetTorch/948df250   \n",
       "6         2000            True          adasyn               CatBoost/T1   \n",
       "7         2000            True            None            KNeighborsDist   \n",
       "\n",
       "                                                                                                                                                                                                                                                                                                                                                                                                                                                                                                                                                                                 hyperparameters  \\\n",
       "0                                                                                                                                                                                                                                                                                                                                                                                                                                                                        {'learning_rate': 0.1000260297171191, 'feature_fraction': 0.8694162793303375, 'min_data_in_leaf': 48, 'num_leaves': 53}   \n",
       "1                                                                                                                                                                                                                                                                                                                                                                                                                         {'layers': None, 'emb_drop': 0.1, 'ps': 0.1, 'bs': 256, 'lr': 0.01, 'epochs': 30, 'early.stopping.min_delta': 0.0001, 'early.stopping.patience': 20, 'smoothing': 0.0}   \n",
       "2                                                                                                                                                                                                                                                                                                                                                                                                                                                                        {'n_estimators': 300, 'max_leaf_nodes': 15000, 'n_jobs': -1, 'random_state': 0, 'bootstrap': True, 'criterion': 'gini'}   \n",
       "3                                                                                                                                                                                                                                                                                                                                                                {'n_estimators': 10000, 'learning_rate': 0.1, 'n_jobs': -1, 'proc.max_category_levels': 100, 'objective': 'multi:softmax', 'booster': 'gbtree', 'num_class': 5, 'max_depth': 6, 'min_child_weight': 1, 'colsample_bytree': 1.0}   \n",
       "4                                                                                                                                                                                                                                                                                                                                                                                                                                                                        {'n_estimators': 300, 'max_leaf_nodes': 15000, 'n_jobs': -1, 'random_state': 0, 'bootstrap': True, 'criterion': 'gini'}   \n",
       "5  {'num_epochs': 500, 'epochs_wo_improve': 20, 'activation': 'elu', 'embedding_size_factor': 0.7, 'embed_exponent': 0.56, 'max_embedding_dim': 100, 'y_range': None, 'y_range_extend': 0.05, 'dropout_prob': 0.4, 'optimizer': 'adam', 'learning_rate': 0.0019467042477653053, 'weight_decay': 6.795426853175024e-05, 'proc.embed_min_categories': 10, 'proc.impute_strategy': 'median', 'proc.max_category_levels': 300, 'proc.skew_threshold': 0.99, 'use_ngram_features': False, 'num_layers': 2, 'hidden_size': 128, 'max_batch_size': 512, 'use_batchnorm': True, 'loss_function': 'auto'}   \n",
       "6                                                                                                                                                                                                                                                                                                                                                                                                                                          {'iterations': 10000, 'learning_rate': 0.05, 'random_seed': 0, 'allow_writing_files': False, 'eval_metric': 'Accuracy', 'depth': 6, 'l2_leaf_reg': 3}   \n",
       "7                                                                                                                                                                                                                                                                                                                                                                                                                                                                                                                                                                        {'weights': 'distance'}   \n",
       "\n",
       "   accuracy  precision_weighted  recall_weighted  f1_weighted        algorithm  \n",
       "0  0.994306            0.994288         0.994306     0.994235         LightGBM  \n",
       "1  0.993905            0.993862         0.993905     0.993874  NeuralNetFastAI  \n",
       "2  0.993665            0.993631         0.993665     0.993639     RandomForest  \n",
       "3  0.993264            0.993274         0.993264     0.993268          XGBoost  \n",
       "4  0.992983            0.992938         0.992983     0.992908       ExtraTrees  \n",
       "5  0.992863            0.992800         0.992863     0.992810   NeuralNetTorch  \n",
       "6  0.990697            0.991039         0.990697     0.990803         CatBoost  \n",
       "7  0.960022            0.960721         0.960022     0.959400       KNeighbors  "
      ]
     },
     "execution_count": 123,
     "metadata": {},
     "output_type": "execute_result"
    }
   ],
   "source": [
    "best_models"
   ]
  },
  {
   "cell_type": "markdown",
   "id": "e3ab7dcd",
   "metadata": {},
   "source": [
    "## Conclusão"
   ]
  },
  {
   "cell_type": "code",
   "execution_count": 124,
   "id": "14a06c46",
   "metadata": {},
   "outputs": [
    {
     "data": {
      "text/plain": [
       "(122, 10)"
      ]
     },
     "execution_count": 124,
     "metadata": {},
     "output_type": "execute_result"
    }
   ],
   "source": [
    "hyperparameters_all_models.shape"
   ]
  },
  {
   "cell_type": "code",
   "execution_count": 125,
   "id": "02102c6d",
   "metadata": {},
   "outputs": [
    {
     "data": {
      "text/html": [
       "<div>\n",
       "<style scoped>\n",
       "    .dataframe tbody tr th:only-of-type {\n",
       "        vertical-align: middle;\n",
       "    }\n",
       "\n",
       "    .dataframe tbody tr th {\n",
       "        vertical-align: top;\n",
       "    }\n",
       "\n",
       "    .dataframe thead th {\n",
       "        text-align: right;\n",
       "    }\n",
       "</style>\n",
       "<table border=\"1\" class=\"dataframe\">\n",
       "  <thead>\n",
       "    <tr style=\"text-align: right;\">\n",
       "      <th></th>\n",
       "      <th>window_size</th>\n",
       "      <th>filter_applied</th>\n",
       "      <th>resampling_tech</th>\n",
       "      <th>model</th>\n",
       "      <th>hyperparameters</th>\n",
       "      <th>accuracy</th>\n",
       "      <th>precision_weighted</th>\n",
       "      <th>recall_weighted</th>\n",
       "      <th>f1_weighted</th>\n",
       "      <th>algorithm</th>\n",
       "    </tr>\n",
       "  </thead>\n",
       "  <tbody>\n",
       "    <tr>\n",
       "      <th>0</th>\n",
       "      <td>2000</td>\n",
       "      <td>True</td>\n",
       "      <td>None</td>\n",
       "      <td>LightGBM/T5</td>\n",
       "      <td>{'learning_rate': 0.1000260297171191, 'feature_fraction': 0.8694162793303375, 'min_data_in_leaf': 48, 'num_leaves': 53}</td>\n",
       "      <td>0.994306</td>\n",
       "      <td>0.994288</td>\n",
       "      <td>0.994306</td>\n",
       "      <td>0.994235</td>\n",
       "      <td>LightGBM</td>\n",
       "    </tr>\n",
       "    <tr>\n",
       "      <th>1</th>\n",
       "      <td>2000</td>\n",
       "      <td>True</td>\n",
       "      <td>None</td>\n",
       "      <td>LightGBMXT/T1</td>\n",
       "      <td>{'learning_rate': 0.05, 'extra_trees': True, 'feature_fraction': 1.0, 'min_data_in_leaf': 20, 'num_leaves': 31}</td>\n",
       "      <td>0.994306</td>\n",
       "      <td>0.994299</td>\n",
       "      <td>0.994306</td>\n",
       "      <td>0.994237</td>\n",
       "      <td>LightGBM</td>\n",
       "    </tr>\n",
       "    <tr>\n",
       "      <th>2</th>\n",
       "      <td>2000</td>\n",
       "      <td>True</td>\n",
       "      <td>None</td>\n",
       "      <td>LightGBMXT/T2</td>\n",
       "      <td>{'learning_rate': 0.06994332504138302, 'extra_trees': True, 'feature_fraction': 0.8872033759818312, 'min_data_in_leaf': 5, 'num_leaves': 83}</td>\n",
       "      <td>0.994266</td>\n",
       "      <td>0.994259</td>\n",
       "      <td>0.994266</td>\n",
       "      <td>0.994198</td>\n",
       "      <td>LightGBM</td>\n",
       "    </tr>\n",
       "    <tr>\n",
       "      <th>3</th>\n",
       "      <td>2000</td>\n",
       "      <td>True</td>\n",
       "      <td>None</td>\n",
       "      <td>LightGBM/T1</td>\n",
       "      <td>{'learning_rate': 0.05, 'feature_fraction': 1.0, 'min_data_in_leaf': 20, 'num_leaves': 31}</td>\n",
       "      <td>0.994146</td>\n",
       "      <td>0.994128</td>\n",
       "      <td>0.994146</td>\n",
       "      <td>0.994078</td>\n",
       "      <td>LightGBM</td>\n",
       "    </tr>\n",
       "    <tr>\n",
       "      <th>4</th>\n",
       "      <td>2000</td>\n",
       "      <td>True</td>\n",
       "      <td>None</td>\n",
       "      <td>LightGBMXT/T3</td>\n",
       "      <td>{'learning_rate': 0.049883446878335284, 'extra_trees': True, 'feature_fraction': 0.9618129346960314, 'min_data_in_leaf': 52, 'num_leaves': 52}</td>\n",
       "      <td>0.993985</td>\n",
       "      <td>0.993970</td>\n",
       "      <td>0.993985</td>\n",
       "      <td>0.993917</td>\n",
       "      <td>LightGBM</td>\n",
       "    </tr>\n",
       "    <tr>\n",
       "      <th>5</th>\n",
       "      <td>2000</td>\n",
       "      <td>True</td>\n",
       "      <td>adasyn</td>\n",
       "      <td>LightGBMXT/T1</td>\n",
       "      <td>{'learning_rate': 0.05, 'extra_trees': True, 'feature_fraction': 1.0, 'min_data_in_leaf': 20, 'num_leaves': 31}</td>\n",
       "      <td>0.993905</td>\n",
       "      <td>0.993936</td>\n",
       "      <td>0.993905</td>\n",
       "      <td>0.993905</td>\n",
       "      <td>LightGBM</td>\n",
       "    </tr>\n",
       "    <tr>\n",
       "      <th>6</th>\n",
       "      <td>2000</td>\n",
       "      <td>True</td>\n",
       "      <td>None</td>\n",
       "      <td>NeuralNetFastAI/d0104c43</td>\n",
       "      <td>{'layers': None, 'emb_drop': 0.1, 'ps': 0.1, 'bs': 256, 'lr': 0.01, 'epochs': 30, 'early.stopping.min_delta': 0.0001, 'early.stopping.patience': 20, 'smoothing': 0.0}</td>\n",
       "      <td>0.993905</td>\n",
       "      <td>0.993862</td>\n",
       "      <td>0.993905</td>\n",
       "      <td>0.993874</td>\n",
       "      <td>NeuralNetFastAI</td>\n",
       "    </tr>\n",
       "    <tr>\n",
       "      <th>7</th>\n",
       "      <td>2000</td>\n",
       "      <td>True</td>\n",
       "      <td>None</td>\n",
       "      <td>LightGBM/T3</td>\n",
       "      <td>{'learning_rate': 0.049883446878335284, 'feature_fraction': 0.9618129346960314, 'min_data_in_leaf': 52, 'num_leaves': 52}</td>\n",
       "      <td>0.993865</td>\n",
       "      <td>0.993851</td>\n",
       "      <td>0.993865</td>\n",
       "      <td>0.993784</td>\n",
       "      <td>LightGBM</td>\n",
       "    </tr>\n",
       "    <tr>\n",
       "      <th>8</th>\n",
       "      <td>2000</td>\n",
       "      <td>True</td>\n",
       "      <td>None</td>\n",
       "      <td>LightGBMXT/T5</td>\n",
       "      <td>{'learning_rate': 0.1000260297171191, 'extra_trees': True, 'feature_fraction': 0.8694162793303375, 'min_data_in_leaf': 48, 'num_leaves': 53}</td>\n",
       "      <td>0.993705</td>\n",
       "      <td>0.993682</td>\n",
       "      <td>0.993705</td>\n",
       "      <td>0.993629</td>\n",
       "      <td>LightGBM</td>\n",
       "    </tr>\n",
       "    <tr>\n",
       "      <th>9</th>\n",
       "      <td>2000</td>\n",
       "      <td>True</td>\n",
       "      <td>smote</td>\n",
       "      <td>RandomForestGini</td>\n",
       "      <td>{'n_estimators': 300, 'max_leaf_nodes': 15000, 'n_jobs': -1, 'random_state': 0, 'bootstrap': True, 'criterion': 'gini'}</td>\n",
       "      <td>0.993665</td>\n",
       "      <td>0.993631</td>\n",
       "      <td>0.993665</td>\n",
       "      <td>0.993639</td>\n",
       "      <td>RandomForest</td>\n",
       "    </tr>\n",
       "  </tbody>\n",
       "</table>\n",
       "</div>"
      ],
      "text/plain": [
       "   window_size  filter_applied resampling_tech                     model  \\\n",
       "0         2000            True            None               LightGBM/T5   \n",
       "1         2000            True            None             LightGBMXT/T1   \n",
       "2         2000            True            None             LightGBMXT/T2   \n",
       "3         2000            True            None               LightGBM/T1   \n",
       "4         2000            True            None             LightGBMXT/T3   \n",
       "5         2000            True          adasyn             LightGBMXT/T1   \n",
       "6         2000            True            None  NeuralNetFastAI/d0104c43   \n",
       "7         2000            True            None               LightGBM/T3   \n",
       "8         2000            True            None             LightGBMXT/T5   \n",
       "9         2000            True           smote          RandomForestGini   \n",
       "\n",
       "                                                                                                                                                          hyperparameters  \\\n",
       "0                                                 {'learning_rate': 0.1000260297171191, 'feature_fraction': 0.8694162793303375, 'min_data_in_leaf': 48, 'num_leaves': 53}   \n",
       "1                                                         {'learning_rate': 0.05, 'extra_trees': True, 'feature_fraction': 1.0, 'min_data_in_leaf': 20, 'num_leaves': 31}   \n",
       "2                            {'learning_rate': 0.06994332504138302, 'extra_trees': True, 'feature_fraction': 0.8872033759818312, 'min_data_in_leaf': 5, 'num_leaves': 83}   \n",
       "3                                                                              {'learning_rate': 0.05, 'feature_fraction': 1.0, 'min_data_in_leaf': 20, 'num_leaves': 31}   \n",
       "4                          {'learning_rate': 0.049883446878335284, 'extra_trees': True, 'feature_fraction': 0.9618129346960314, 'min_data_in_leaf': 52, 'num_leaves': 52}   \n",
       "5                                                         {'learning_rate': 0.05, 'extra_trees': True, 'feature_fraction': 1.0, 'min_data_in_leaf': 20, 'num_leaves': 31}   \n",
       "6  {'layers': None, 'emb_drop': 0.1, 'ps': 0.1, 'bs': 256, 'lr': 0.01, 'epochs': 30, 'early.stopping.min_delta': 0.0001, 'early.stopping.patience': 20, 'smoothing': 0.0}   \n",
       "7                                               {'learning_rate': 0.049883446878335284, 'feature_fraction': 0.9618129346960314, 'min_data_in_leaf': 52, 'num_leaves': 52}   \n",
       "8                            {'learning_rate': 0.1000260297171191, 'extra_trees': True, 'feature_fraction': 0.8694162793303375, 'min_data_in_leaf': 48, 'num_leaves': 53}   \n",
       "9                                                 {'n_estimators': 300, 'max_leaf_nodes': 15000, 'n_jobs': -1, 'random_state': 0, 'bootstrap': True, 'criterion': 'gini'}   \n",
       "\n",
       "   accuracy  precision_weighted  recall_weighted  f1_weighted        algorithm  \n",
       "0  0.994306            0.994288         0.994306     0.994235         LightGBM  \n",
       "1  0.994306            0.994299         0.994306     0.994237         LightGBM  \n",
       "2  0.994266            0.994259         0.994266     0.994198         LightGBM  \n",
       "3  0.994146            0.994128         0.994146     0.994078         LightGBM  \n",
       "4  0.993985            0.993970         0.993985     0.993917         LightGBM  \n",
       "5  0.993905            0.993936         0.993905     0.993905         LightGBM  \n",
       "6  0.993905            0.993862         0.993905     0.993874  NeuralNetFastAI  \n",
       "7  0.993865            0.993851         0.993865     0.993784         LightGBM  \n",
       "8  0.993705            0.993682         0.993705     0.993629         LightGBM  \n",
       "9  0.993665            0.993631         0.993665     0.993639     RandomForest  "
      ]
     },
     "execution_count": 125,
     "metadata": {},
     "output_type": "execute_result"
    }
   ],
   "source": [
    "hyperparameters_all_models.head(10)"
   ]
  },
  {
   "cell_type": "code",
   "execution_count": 126,
   "id": "ece7d494",
   "metadata": {},
   "outputs": [
    {
     "data": {
      "text/plain": [
       "1"
      ]
     },
     "execution_count": 126,
     "metadata": {},
     "output_type": "execute_result"
    }
   ],
   "source": [
    "(hyperparameters_all_models.head(10).algorithm == 'NeuralNetFastAI').sum()"
   ]
  },
  {
   "cell_type": "code",
   "execution_count": 127,
   "id": "25c88e0c",
   "metadata": {},
   "outputs": [
    {
     "data": {
      "text/plain": [
       "8"
      ]
     },
     "execution_count": 127,
     "metadata": {},
     "output_type": "execute_result"
    }
   ],
   "source": [
    "(hyperparameters_all_models.head(10).algorithm == 'LightGBM').sum()"
   ]
  },
  {
   "cell_type": "code",
   "execution_count": 128,
   "id": "337ddf51",
   "metadata": {},
   "outputs": [
    {
     "data": {
      "text/plain": [
       "0           LightGBM\n",
       "1           LightGBM\n",
       "2           LightGBM\n",
       "3           LightGBM\n",
       "4           LightGBM\n",
       "5           LightGBM\n",
       "6    NeuralNetFastAI\n",
       "7           LightGBM\n",
       "8           LightGBM\n",
       "9       RandomForest\n",
       "Name: algorithm, dtype: object"
      ]
     },
     "execution_count": 128,
     "metadata": {},
     "output_type": "execute_result"
    }
   ],
   "source": [
    "hyperparameters_all_models.head(10).algorithm"
   ]
  },
  {
   "cell_type": "code",
   "execution_count": 129,
   "id": "63f850ad",
   "metadata": {},
   "outputs": [
    {
     "data": {
      "text/plain": [
       "8"
      ]
     },
     "execution_count": 129,
     "metadata": {},
     "output_type": "execute_result"
    }
   ],
   "source": [
    "best_models.filter_applied.sum()"
   ]
  },
  {
   "cell_type": "code",
   "execution_count": 130,
   "id": "844453e3",
   "metadata": {},
   "outputs": [
    {
     "data": {
      "text/plain": [
       "smote     3\n",
       "adasyn    1\n",
       "Name: resampling_tech, dtype: int64"
      ]
     },
     "execution_count": 130,
     "metadata": {},
     "output_type": "execute_result"
    }
   ],
   "source": [
    "best_models.resampling_tech.value_counts()"
   ]
  },
  {
   "cell_type": "code",
   "execution_count": null,
   "id": "1850b6f9",
   "metadata": {},
   "outputs": [],
   "source": []
  }
 ],
 "metadata": {
  "kernelspec": {
   "display_name": "Python 3 (ipykernel)",
   "language": "python",
   "name": "python3"
  },
  "language_info": {
   "codemirror_mode": {
    "name": "ipython",
    "version": 3
   },
   "file_extension": ".py",
   "mimetype": "text/x-python",
   "name": "python",
   "nbconvert_exporter": "python",
   "pygments_lexer": "ipython3",
   "version": "3.9.7"
  }
 },
 "nbformat": 4,
 "nbformat_minor": 5
}
