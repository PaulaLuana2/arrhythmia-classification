{
 "cells": [
  {
   "cell_type": "code",
   "execution_count": 1,
   "id": "458e484c",
   "metadata": {},
   "outputs": [],
   "source": [
    "#para apagar diretório de modelos quando for gerar novos modelos\n",
    "#import shutil\n",
    "#diretorio_a_apagar = './backup'\n",
    "#shutil.rmtree(diretorio_a_apagar)"
   ]
  },
  {
   "cell_type": "code",
   "execution_count": 2,
   "id": "309f8593",
   "metadata": {},
   "outputs": [],
   "source": [
    "#para executar esse projeto é necessário ter a seguintes libs instaladas\n",
    "#pip install pandas\n",
    "#pip install scipy\n",
    "#pip install autogluon\n",
    "#pip install opendatasets --upgrade\n",
    "#pip install -U imbalanced-learn\n",
    "#pip install neurokit2"
   ]
  },
  {
   "cell_type": "code",
   "execution_count": 3,
   "id": "d8f607ad",
   "metadata": {},
   "outputs": [],
   "source": [
    "#libs \"básicas\"\n",
    "import os\n",
    "import csv\n",
    "import numpy as np\n",
    "import pandas as pd\n",
    "import neurokit2 as nk\n",
    "from scipy import stats\n",
    "import matplotlib.pyplot as plt\n",
    "\n",
    "#libs que auxiliam os modelos\n",
    "from collections import Counter\n",
    "from imblearn.over_sampling import SMOTE\n",
    "from imblearn.over_sampling import ADASYN\n",
    "from autogluon.tabular import TabularPredictor\n",
    "from sklearn.model_selection import train_test_split\n",
    "from sklearn.metrics import classification_report\n",
    "\n",
    "#lib para importar base de dados\n",
    "import opendatasets as od"
   ]
  },
  {
   "cell_type": "markdown",
   "id": "5089cef7",
   "metadata": {},
   "source": [
    "A base de dados é oficialmente compartilhada pela [PhysioNet](https://www.physionet.org/content/mitdb/1.0.0/), porém, executando a linha a seguir, a mesma base de dados é obtida através da plataforma kaggle com auxílio da biblioteca opendatasets."
   ]
  },
  {
   "cell_type": "code",
   "execution_count": 4,
   "id": "30ebebc2",
   "metadata": {},
   "outputs": [
    {
     "name": "stdout",
     "output_type": "stream",
     "text": [
      "Skipping, found downloaded files in \"./mitbit-arrhythmia-database\" (use force=True to force download)\n"
     ]
    }
   ],
   "source": [
    "od.download(\"https://www.kaggle.com/datasets/taejoongyoon/mitbit-arrhythmia-database?datasetId=52320&sortBy=voteCount\")"
   ]
  },
  {
   "cell_type": "markdown",
   "id": "ee413176",
   "metadata": {},
   "source": [
    "## Pré processamento\n",
    "Iremos analisar os modelos com dados sem remoção de ruído e com remoção de ruído"
   ]
  },
  {
   "cell_type": "markdown",
   "id": "8b2c3599",
   "metadata": {},
   "source": [
    "#### Variáveis auxiliares"
   ]
  },
  {
   "cell_type": "code",
   "execution_count": 5,
   "id": "8c0436aa",
   "metadata": {},
   "outputs": [],
   "source": [
    "path = './mitbit-arrhythmia-database/mitbih_database/'\n",
    "window_size = 180\n",
    "maximum_counting = 10000\n",
    "\n",
    "classes = ['N','L','R','A','V']\n",
    "n_classes = len(classes)\n",
    "count_classes = {elemento: 0 for elemento in classes}\n",
    "\n",
    "X = list()\n",
    "y = list()"
   ]
  },
  {
   "cell_type": "code",
   "execution_count": 6,
   "id": "cf42e58f",
   "metadata": {},
   "outputs": [],
   "source": [
    "description_beats = {'N':'Batida normal', 'L':'Batida de bloqueio de ramo esquerdo',\n",
    "                     'R':'Batida de bloqueio de ramo direito','A':'Batimento atrial prematuro',\n",
    "                     'a':'Batimento atrial prematuro aberrado','J':'Batimento prematuro nodal (juncional)',\n",
    "                     'S':'Batimento supraventricular prematuro ou ectópico (atrial ou nodal)',\n",
    "                     'V':'Contração ventricular prematura','F':'Fusão de batimento ventricular e normal',\n",
    "                     'e':'Batida de escape atrial','j':'Batida de escape nodal (juncional)',\n",
    "                     'E':'Batida de escape ventricular','/':'Batida ritmada',\n",
    "                     'f':'Fusão de batida ritmada e normal','Q': 'Batida inclassificável'}"
   ]
  },
  {
   "cell_type": "markdown",
   "id": "7226cf99",
   "metadata": {},
   "source": [
    "#### Preparo dos arquivos"
   ]
  },
  {
   "cell_type": "code",
   "execution_count": 7,
   "id": "7579d0d0",
   "metadata": {},
   "outputs": [],
   "source": [
    "# Leitura dos arquivos\n",
    "filenames = next(os.walk(path))[2]\n",
    "\n",
    "# Para separar e salvar os arquivos em csv e txt\n",
    "records = list()\n",
    "annotations = list()\n",
    "filenames.sort()"
   ]
  },
  {
   "cell_type": "code",
   "execution_count": 8,
   "id": "dfabb96a",
   "metadata": {},
   "outputs": [],
   "source": [
    "# Definindo nomes de arquivos e anotações\n",
    "for f in filenames:\n",
    "    filename, file_extension = os.path.splitext(f)\n",
    "    \n",
    "    # *.csv\n",
    "    if(file_extension == '.csv'):\n",
    "        records.append(path + filename + file_extension)\n",
    "\n",
    "    # *.txt\n",
    "    else:\n",
    "        annotations.append(path + filename + file_extension)"
   ]
  },
  {
   "cell_type": "code",
   "execution_count": 9,
   "id": "f7e38b7c",
   "metadata": {},
   "outputs": [
    {
     "data": {
      "text/plain": [
       "(48, 48)"
      ]
     },
     "execution_count": 9,
     "metadata": {},
     "output_type": "execute_result"
    }
   ],
   "source": [
    "len(records), len(annotations)"
   ]
  },
  {
   "cell_type": "markdown",
   "id": "1b2241f4",
   "metadata": {},
   "source": [
    "#### Extração dos dados e pré processamento sem remoção de rúido"
   ]
  },
  {
   "cell_type": "code",
   "execution_count": 10,
   "id": "c33f0090",
   "metadata": {},
   "outputs": [
    {
     "name": "stdout",
     "output_type": "stream",
     "text": [
      "(100012, 360) (100012,)\n",
      "CPU times: user 19.9 s, sys: 705 ms, total: 20.6 s\n",
      "Wall time: 20.6 s\n"
     ]
    }
   ],
   "source": [
    "%%time\n",
    "# Registros\n",
    "X_with_noise = list() #x contém os valores do sinais\n",
    "y_with_noise = list() #y para os rótulos\n",
    "z_with_noise = list() #z indica o índice do registro\n",
    "\n",
    "for r in range(0,len(records)):\n",
    "    signals = []\n",
    "\n",
    "    with open(records[r], 'rt') as csvfile:\n",
    "        spamreader = csv.reader(csvfile, delimiter=',', quotechar='|') # ler arquivo csv\n",
    "        next(spamreader) # ignora header\n",
    "        for row in spamreader:\n",
    "            signals.append(int(row[1]))\n",
    "                \n",
    "    # Normalizando os dados: https://www.investopedia.com/terms/z/zscore.asp\n",
    "    signals = stats.zscore(signals)\n",
    "    \n",
    "    \n",
    "    with open(annotations[r], 'r') as fileID:\n",
    "        lines = fileID.readlines()[1:] # 0 índice é o cabeçalho do gráfico, ignora o header\n",
    "\n",
    "        for line in lines:\n",
    "            row = list(filter(lambda item: item != '', line.split(' ')))\n",
    "            time, sample, arrhythmia_type = row[0:3]\n",
    "            pos = int(sample)\n",
    "\n",
    "            if(arrhythmia_type in classes): # Verificar se é uma classe válida\n",
    "                # Contar a quantidade de dados de cada classe\n",
    "                arrhythmia_index = classes.index(arrhythmia_type)\n",
    "                count_classes[arrhythmia_type] += 1\n",
    "                \n",
    "                # pos é o momento que foi feita a analise.\n",
    "                if(window_size <= pos and (pos + window_size) < len(signals)):\n",
    "                    # pega uma janela de tempo onde o pos fica no meio\n",
    "                    beat = signals[pos-window_size:pos+window_size]\n",
    "        \n",
    "                    X_with_noise.append(beat)\n",
    "                    y_with_noise.append(arrhythmia_index)\n",
    "                    z_with_noise.append(os.path.splitext(os.path.basename(records[r]))[0])\n",
    "\n",
    "print(np.shape(X_with_noise), np.shape(y_with_noise))"
   ]
  },
  {
   "cell_type": "markdown",
   "id": "42461ab9",
   "metadata": {},
   "source": [
    "Utilizamos a coluna ``record_id`` afim de facilitar consultas relacionadas a qual registro pertence cada linha em casos de dúvidas, mas a coluna não é utilizada nos modelos."
   ]
  },
  {
   "cell_type": "code",
   "execution_count": 11,
   "id": "14bdf7e0",
   "metadata": {},
   "outputs": [
    {
     "data": {
      "text/html": [
       "<div>\n",
       "<style scoped>\n",
       "    .dataframe tbody tr th:only-of-type {\n",
       "        vertical-align: middle;\n",
       "    }\n",
       "\n",
       "    .dataframe tbody tr th {\n",
       "        vertical-align: top;\n",
       "    }\n",
       "\n",
       "    .dataframe thead th {\n",
       "        text-align: right;\n",
       "    }\n",
       "</style>\n",
       "<table border=\"1\" class=\"dataframe\">\n",
       "  <thead>\n",
       "    <tr style=\"text-align: right;\">\n",
       "      <th></th>\n",
       "      <th>0</th>\n",
       "      <th>1</th>\n",
       "      <th>2</th>\n",
       "      <th>3</th>\n",
       "      <th>4</th>\n",
       "      <th>5</th>\n",
       "      <th>6</th>\n",
       "      <th>7</th>\n",
       "      <th>8</th>\n",
       "      <th>9</th>\n",
       "      <th>...</th>\n",
       "      <th>352</th>\n",
       "      <th>353</th>\n",
       "      <th>354</th>\n",
       "      <th>355</th>\n",
       "      <th>356</th>\n",
       "      <th>357</th>\n",
       "      <th>358</th>\n",
       "      <th>359</th>\n",
       "      <th>label</th>\n",
       "      <th>record_id</th>\n",
       "    </tr>\n",
       "  </thead>\n",
       "  <tbody>\n",
       "    <tr>\n",
       "      <th>0</th>\n",
       "      <td>-0.148556</td>\n",
       "      <td>-0.174436</td>\n",
       "      <td>-0.045036</td>\n",
       "      <td>0.032603</td>\n",
       "      <td>0.032603</td>\n",
       "      <td>0.084363</td>\n",
       "      <td>0.058483</td>\n",
       "      <td>0.084363</td>\n",
       "      <td>0.110243</td>\n",
       "      <td>0.162003</td>\n",
       "      <td>...</td>\n",
       "      <td>-0.122676</td>\n",
       "      <td>-0.122676</td>\n",
       "      <td>-0.200316</td>\n",
       "      <td>-0.200316</td>\n",
       "      <td>-0.200316</td>\n",
       "      <td>-0.070916</td>\n",
       "      <td>-0.122676</td>\n",
       "      <td>-0.148556</td>\n",
       "      <td>0</td>\n",
       "      <td>100</td>\n",
       "    </tr>\n",
       "    <tr>\n",
       "      <th>1</th>\n",
       "      <td>-0.329716</td>\n",
       "      <td>-0.303836</td>\n",
       "      <td>-0.277956</td>\n",
       "      <td>-0.303836</td>\n",
       "      <td>-0.174436</td>\n",
       "      <td>-0.096796</td>\n",
       "      <td>-0.045036</td>\n",
       "      <td>-0.070916</td>\n",
       "      <td>-0.122676</td>\n",
       "      <td>-0.122676</td>\n",
       "      <td>...</td>\n",
       "      <td>-0.329716</td>\n",
       "      <td>-0.277956</td>\n",
       "      <td>-0.303836</td>\n",
       "      <td>-0.277956</td>\n",
       "      <td>-0.303836</td>\n",
       "      <td>-0.381476</td>\n",
       "      <td>-0.329716</td>\n",
       "      <td>-0.303836</td>\n",
       "      <td>0</td>\n",
       "      <td>100</td>\n",
       "    </tr>\n",
       "    <tr>\n",
       "      <th>2</th>\n",
       "      <td>-0.433236</td>\n",
       "      <td>-0.355596</td>\n",
       "      <td>-0.277956</td>\n",
       "      <td>-0.174436</td>\n",
       "      <td>-0.148556</td>\n",
       "      <td>-0.122676</td>\n",
       "      <td>-0.148556</td>\n",
       "      <td>-0.148556</td>\n",
       "      <td>-0.096796</td>\n",
       "      <td>-0.070916</td>\n",
       "      <td>...</td>\n",
       "      <td>-0.148556</td>\n",
       "      <td>-0.122676</td>\n",
       "      <td>-0.148556</td>\n",
       "      <td>-0.174436</td>\n",
       "      <td>-0.148556</td>\n",
       "      <td>-0.070916</td>\n",
       "      <td>-0.174436</td>\n",
       "      <td>-0.174436</td>\n",
       "      <td>0</td>\n",
       "      <td>100</td>\n",
       "    </tr>\n",
       "    <tr>\n",
       "      <th>3</th>\n",
       "      <td>-0.070916</td>\n",
       "      <td>-0.045036</td>\n",
       "      <td>-0.070916</td>\n",
       "      <td>-0.096796</td>\n",
       "      <td>-0.045036</td>\n",
       "      <td>0.058483</td>\n",
       "      <td>0.110243</td>\n",
       "      <td>0.032603</td>\n",
       "      <td>0.058483</td>\n",
       "      <td>0.110243</td>\n",
       "      <td>...</td>\n",
       "      <td>-0.122676</td>\n",
       "      <td>-0.070916</td>\n",
       "      <td>-0.045036</td>\n",
       "      <td>-0.096796</td>\n",
       "      <td>-0.148556</td>\n",
       "      <td>-0.252076</td>\n",
       "      <td>-0.200316</td>\n",
       "      <td>-0.174436</td>\n",
       "      <td>0</td>\n",
       "      <td>100</td>\n",
       "    </tr>\n",
       "    <tr>\n",
       "      <th>4</th>\n",
       "      <td>-0.614396</td>\n",
       "      <td>-0.588516</td>\n",
       "      <td>-0.510876</td>\n",
       "      <td>-0.381476</td>\n",
       "      <td>-0.329716</td>\n",
       "      <td>-0.303836</td>\n",
       "      <td>-0.303836</td>\n",
       "      <td>-0.303836</td>\n",
       "      <td>-0.200316</td>\n",
       "      <td>-0.122676</td>\n",
       "      <td>...</td>\n",
       "      <td>-0.019156</td>\n",
       "      <td>-0.019156</td>\n",
       "      <td>-0.122676</td>\n",
       "      <td>-0.148556</td>\n",
       "      <td>-0.122676</td>\n",
       "      <td>-0.070916</td>\n",
       "      <td>-0.096796</td>\n",
       "      <td>-0.096796</td>\n",
       "      <td>0</td>\n",
       "      <td>100</td>\n",
       "    </tr>\n",
       "  </tbody>\n",
       "</table>\n",
       "<p>5 rows × 362 columns</p>\n",
       "</div>"
      ],
      "text/plain": [
       "          0         1         2         3         4         5         6  \\\n",
       "0 -0.148556 -0.174436 -0.045036  0.032603  0.032603  0.084363  0.058483   \n",
       "1 -0.329716 -0.303836 -0.277956 -0.303836 -0.174436 -0.096796 -0.045036   \n",
       "2 -0.433236 -0.355596 -0.277956 -0.174436 -0.148556 -0.122676 -0.148556   \n",
       "3 -0.070916 -0.045036 -0.070916 -0.096796 -0.045036  0.058483  0.110243   \n",
       "4 -0.614396 -0.588516 -0.510876 -0.381476 -0.329716 -0.303836 -0.303836   \n",
       "\n",
       "          7         8         9  ...       352       353       354       355  \\\n",
       "0  0.084363  0.110243  0.162003  ... -0.122676 -0.122676 -0.200316 -0.200316   \n",
       "1 -0.070916 -0.122676 -0.122676  ... -0.329716 -0.277956 -0.303836 -0.277956   \n",
       "2 -0.148556 -0.096796 -0.070916  ... -0.148556 -0.122676 -0.148556 -0.174436   \n",
       "3  0.032603  0.058483  0.110243  ... -0.122676 -0.070916 -0.045036 -0.096796   \n",
       "4 -0.303836 -0.200316 -0.122676  ... -0.019156 -0.019156 -0.122676 -0.148556   \n",
       "\n",
       "        356       357       358       359  label  record_id  \n",
       "0 -0.200316 -0.070916 -0.122676 -0.148556      0        100  \n",
       "1 -0.303836 -0.381476 -0.329716 -0.303836      0        100  \n",
       "2 -0.148556 -0.070916 -0.174436 -0.174436      0        100  \n",
       "3 -0.148556 -0.252076 -0.200316 -0.174436      0        100  \n",
       "4 -0.122676 -0.070916 -0.096796 -0.096796      0        100  \n",
       "\n",
       "[5 rows x 362 columns]"
      ]
     },
     "execution_count": 11,
     "metadata": {},
     "output_type": "execute_result"
    }
   ],
   "source": [
    "noisy_database = pd.DataFrame(data=X_with_noise)\n",
    "noisy_database['label'] = y_with_noise\n",
    "noisy_database['record_id'] = z_with_noise\n",
    "noisy_database.head()"
   ]
  },
  {
   "cell_type": "code",
   "execution_count": 12,
   "id": "922927a6",
   "metadata": {},
   "outputs": [
    {
     "data": {
      "text/plain": [
       "(100012, 362)"
      ]
     },
     "execution_count": 12,
     "metadata": {},
     "output_type": "execute_result"
    }
   ],
   "source": [
    "noisy_database.shape"
   ]
  },
  {
   "cell_type": "code",
   "execution_count": 13,
   "id": "c608235b",
   "metadata": {},
   "outputs": [
    {
     "data": {
      "text/plain": [
       "0    75011\n",
       "1     8071\n",
       "2     7255\n",
       "4     7129\n",
       "3     2546\n",
       "Name: label, dtype: int64"
      ]
     },
     "execution_count": 13,
     "metadata": {},
     "output_type": "execute_result"
    }
   ],
   "source": [
    "noisy_database['label'].value_counts()"
   ]
  },
  {
   "cell_type": "markdown",
   "id": "840644cc",
   "metadata": {},
   "source": [
    "#### Extração dos dados e pré processamento com remoção de rúido"
   ]
  },
  {
   "cell_type": "markdown",
   "id": "58dd9dc6",
   "metadata": {},
   "source": [
    "O parâmetro de taxa de amostragem (sampling rate) ideal pode depender da frequência de amostragem original dos seus dados. O ideal é que a taxa de amostragem seja preservada durante todo o processamento para evitar perda de informações importantes."
   ]
  },
  {
   "cell_type": "code",
   "execution_count": 14,
   "id": "1930282f",
   "metadata": {},
   "outputs": [],
   "source": [
    "def denoise(ecg): \n",
    "    #sampling_rate ( int ) – A frequência de amostragem do sinal (em Hz, ou seja, amostras/segundo).\n",
    "    data = nk.ecg_clean(ecg, sampling_rate=360, method=\"neurokit\")     \n",
    "    return data"
   ]
  },
  {
   "cell_type": "code",
   "execution_count": 15,
   "id": "68652666",
   "metadata": {},
   "outputs": [
    {
     "name": "stdout",
     "output_type": "stream",
     "text": [
      "(100012, 360) (100012,)\n",
      "CPU times: user 19.4 s, sys: 632 ms, total: 20 s\n",
      "Wall time: 20 s\n"
     ]
    }
   ],
   "source": [
    "%%time\n",
    "# Registros\n",
    "X = list() #x contém os valores do sinais\n",
    "y = list() #y para os rótulos\n",
    "Z = list() #z indica o índice do registro\n",
    "\n",
    "for r in range(0,len(records)):\n",
    "    signals = []\n",
    "\n",
    "    with open(records[r], 'rt') as csvfile:\n",
    "        spamreader = csv.reader(csvfile, delimiter=',', quotechar='|') # ler arquivo csv\n",
    "        next(spamreader) # ignora header\n",
    "        for row in spamreader:\n",
    "            signals.append(int(row[1]))\n",
    "            \n",
    "    signals = denoise(signals)\n",
    "    \n",
    "    # Normalizando os dados: https://www.investopedia.com/terms/z/zscore.asp\n",
    "    signals = stats.zscore(signals)\n",
    "    \n",
    "    \n",
    "    with open(annotations[r], 'r') as fileID:\n",
    "        lines = fileID.readlines()[1:] # 0 índice é o cabeçalho do gráfico, ignora o header\n",
    "\n",
    "        for line in lines:\n",
    "            row = list(filter(lambda item: item != '', line.split(' ')))\n",
    "            time, sample, arrhythmia_type = row[0:3]\n",
    "            pos = int(sample)\n",
    "\n",
    "            if(arrhythmia_type in classes): # Verificar se é uma classe válida\n",
    "                # Contar a quantidade de dados de cada classe\n",
    "                arrhythmia_index = classes.index(arrhythmia_type)\n",
    "                count_classes[arrhythmia_type] += 1\n",
    "                \n",
    "                # pos é o momento que foi feita a analise.\n",
    "                if(window_size <= pos and (pos + window_size) < len(signals)):\n",
    "                    # pega uma janela de tempo onde o pos fica no meio\n",
    "                    beat = signals[pos-window_size:pos+window_size]\n",
    "        \n",
    "                    X.append(beat)\n",
    "                    y.append(arrhythmia_index)\n",
    "                    Z.append(os.path.splitext(os.path.basename(records[r]))[0])\n",
    "\n",
    "print(np.shape(X), np.shape(y))"
   ]
  },
  {
   "cell_type": "code",
   "execution_count": 16,
   "id": "24465b96",
   "metadata": {},
   "outputs": [
    {
     "data": {
      "text/html": [
       "<div>\n",
       "<style scoped>\n",
       "    .dataframe tbody tr th:only-of-type {\n",
       "        vertical-align: middle;\n",
       "    }\n",
       "\n",
       "    .dataframe tbody tr th {\n",
       "        vertical-align: top;\n",
       "    }\n",
       "\n",
       "    .dataframe thead th {\n",
       "        text-align: right;\n",
       "    }\n",
       "</style>\n",
       "<table border=\"1\" class=\"dataframe\">\n",
       "  <thead>\n",
       "    <tr style=\"text-align: right;\">\n",
       "      <th></th>\n",
       "      <th>0</th>\n",
       "      <th>1</th>\n",
       "      <th>2</th>\n",
       "      <th>3</th>\n",
       "      <th>4</th>\n",
       "      <th>5</th>\n",
       "      <th>6</th>\n",
       "      <th>7</th>\n",
       "      <th>8</th>\n",
       "      <th>9</th>\n",
       "      <th>...</th>\n",
       "      <th>352</th>\n",
       "      <th>353</th>\n",
       "      <th>354</th>\n",
       "      <th>355</th>\n",
       "      <th>356</th>\n",
       "      <th>357</th>\n",
       "      <th>358</th>\n",
       "      <th>359</th>\n",
       "      <th>label</th>\n",
       "      <th>record_id</th>\n",
       "    </tr>\n",
       "  </thead>\n",
       "  <tbody>\n",
       "    <tr>\n",
       "      <th>0</th>\n",
       "      <td>-0.360519</td>\n",
       "      <td>-0.319990</td>\n",
       "      <td>-0.275334</td>\n",
       "      <td>-0.232754</td>\n",
       "      <td>-0.191561</td>\n",
       "      <td>-0.147619</td>\n",
       "      <td>-0.102996</td>\n",
       "      <td>-0.058381</td>\n",
       "      <td>-0.015153</td>\n",
       "      <td>0.025999</td>\n",
       "      <td>...</td>\n",
       "      <td>-0.016707</td>\n",
       "      <td>-0.015152</td>\n",
       "      <td>-0.014977</td>\n",
       "      <td>-0.013427</td>\n",
       "      <td>-0.010500</td>\n",
       "      <td>-0.006197</td>\n",
       "      <td>-0.006722</td>\n",
       "      <td>-0.008627</td>\n",
       "      <td>0</td>\n",
       "      <td>100</td>\n",
       "    </tr>\n",
       "    <tr>\n",
       "      <th>1</th>\n",
       "      <td>-0.347760</td>\n",
       "      <td>-0.272265</td>\n",
       "      <td>-0.202976</td>\n",
       "      <td>-0.140584</td>\n",
       "      <td>-0.081642</td>\n",
       "      <td>-0.032352</td>\n",
       "      <td>0.008663</td>\n",
       "      <td>0.040714</td>\n",
       "      <td>0.065870</td>\n",
       "      <td>0.087576</td>\n",
       "      <td>...</td>\n",
       "      <td>-0.200547</td>\n",
       "      <td>-0.204075</td>\n",
       "      <td>-0.206914</td>\n",
       "      <td>-0.205619</td>\n",
       "      <td>-0.202256</td>\n",
       "      <td>-0.197516</td>\n",
       "      <td>-0.189329</td>\n",
       "      <td>-0.179076</td>\n",
       "      <td>0</td>\n",
       "      <td>100</td>\n",
       "    </tr>\n",
       "    <tr>\n",
       "      <th>2</th>\n",
       "      <td>-0.304913</td>\n",
       "      <td>-0.242247</td>\n",
       "      <td>-0.178891</td>\n",
       "      <td>-0.118982</td>\n",
       "      <td>-0.065966</td>\n",
       "      <td>-0.019842</td>\n",
       "      <td>0.019389</td>\n",
       "      <td>0.053796</td>\n",
       "      <td>0.084756</td>\n",
       "      <td>0.112269</td>\n",
       "      <td>...</td>\n",
       "      <td>-0.028826</td>\n",
       "      <td>-0.022611</td>\n",
       "      <td>-0.019841</td>\n",
       "      <td>-0.022584</td>\n",
       "      <td>-0.029461</td>\n",
       "      <td>-0.039095</td>\n",
       "      <td>-0.054930</td>\n",
       "      <td>-0.071454</td>\n",
       "      <td>0</td>\n",
       "      <td>100</td>\n",
       "    </tr>\n",
       "    <tr>\n",
       "      <th>3</th>\n",
       "      <td>-0.001562</td>\n",
       "      <td>0.043882</td>\n",
       "      <td>0.084502</td>\n",
       "      <td>0.123744</td>\n",
       "      <td>0.162298</td>\n",
       "      <td>0.197407</td>\n",
       "      <td>0.228382</td>\n",
       "      <td>0.253154</td>\n",
       "      <td>0.276549</td>\n",
       "      <td>0.297188</td>\n",
       "      <td>...</td>\n",
       "      <td>0.016617</td>\n",
       "      <td>0.015064</td>\n",
       "      <td>0.010063</td>\n",
       "      <td>0.002304</td>\n",
       "      <td>-0.006148</td>\n",
       "      <td>-0.015980</td>\n",
       "      <td>-0.019611</td>\n",
       "      <td>-0.018420</td>\n",
       "      <td>0</td>\n",
       "      <td>100</td>\n",
       "    </tr>\n",
       "    <tr>\n",
       "      <th>4</th>\n",
       "      <td>-0.531150</td>\n",
       "      <td>-0.482258</td>\n",
       "      <td>-0.426476</td>\n",
       "      <td>-0.366560</td>\n",
       "      <td>-0.306646</td>\n",
       "      <td>-0.246045</td>\n",
       "      <td>-0.184756</td>\n",
       "      <td>-0.123468</td>\n",
       "      <td>-0.062872</td>\n",
       "      <td>-0.007791</td>\n",
       "      <td>...</td>\n",
       "      <td>-0.036881</td>\n",
       "      <td>-0.042875</td>\n",
       "      <td>-0.053003</td>\n",
       "      <td>-0.061751</td>\n",
       "      <td>-0.069119</td>\n",
       "      <td>-0.075795</td>\n",
       "      <td>-0.083159</td>\n",
       "      <td>-0.087765</td>\n",
       "      <td>0</td>\n",
       "      <td>100</td>\n",
       "    </tr>\n",
       "  </tbody>\n",
       "</table>\n",
       "<p>5 rows × 362 columns</p>\n",
       "</div>"
      ],
      "text/plain": [
       "          0         1         2         3         4         5         6  \\\n",
       "0 -0.360519 -0.319990 -0.275334 -0.232754 -0.191561 -0.147619 -0.102996   \n",
       "1 -0.347760 -0.272265 -0.202976 -0.140584 -0.081642 -0.032352  0.008663   \n",
       "2 -0.304913 -0.242247 -0.178891 -0.118982 -0.065966 -0.019842  0.019389   \n",
       "3 -0.001562  0.043882  0.084502  0.123744  0.162298  0.197407  0.228382   \n",
       "4 -0.531150 -0.482258 -0.426476 -0.366560 -0.306646 -0.246045 -0.184756   \n",
       "\n",
       "          7         8         9  ...       352       353       354       355  \\\n",
       "0 -0.058381 -0.015153  0.025999  ... -0.016707 -0.015152 -0.014977 -0.013427   \n",
       "1  0.040714  0.065870  0.087576  ... -0.200547 -0.204075 -0.206914 -0.205619   \n",
       "2  0.053796  0.084756  0.112269  ... -0.028826 -0.022611 -0.019841 -0.022584   \n",
       "3  0.253154  0.276549  0.297188  ...  0.016617  0.015064  0.010063  0.002304   \n",
       "4 -0.123468 -0.062872 -0.007791  ... -0.036881 -0.042875 -0.053003 -0.061751   \n",
       "\n",
       "        356       357       358       359  label  record_id  \n",
       "0 -0.010500 -0.006197 -0.006722 -0.008627      0        100  \n",
       "1 -0.202256 -0.197516 -0.189329 -0.179076      0        100  \n",
       "2 -0.029461 -0.039095 -0.054930 -0.071454      0        100  \n",
       "3 -0.006148 -0.015980 -0.019611 -0.018420      0        100  \n",
       "4 -0.069119 -0.075795 -0.083159 -0.087765      0        100  \n",
       "\n",
       "[5 rows x 362 columns]"
      ]
     },
     "execution_count": 16,
     "metadata": {},
     "output_type": "execute_result"
    }
   ],
   "source": [
    "database = pd.DataFrame(data=X)\n",
    "database['label'] = y\n",
    "database['record_id'] = Z\n",
    "database.head()"
   ]
  },
  {
   "cell_type": "markdown",
   "id": "339e9cee",
   "metadata": {},
   "source": [
    "**Comparação dos tipos de batidas com e sem ruído**"
   ]
  },
  {
   "cell_type": "markdown",
   "id": "6c92e17a",
   "metadata": {},
   "source": [
    "### Análise dos dados\n",
    "Nessa análise não importa se a base de dados é ``noisy_database`` ou ``database`` porque estamos analisando a quantidade de classes e não a qualidade do sinal."
   ]
  },
  {
   "cell_type": "code",
   "execution_count": 17,
   "id": "b376f6e5",
   "metadata": {},
   "outputs": [
    {
     "data": {
      "text/plain": [
       "float64    360\n",
       "int64        1\n",
       "object       1\n",
       "dtype: int64"
      ]
     },
     "execution_count": 17,
     "metadata": {},
     "output_type": "execute_result"
    }
   ],
   "source": [
    "database.dtypes.value_counts()"
   ]
  },
  {
   "cell_type": "code",
   "execution_count": 18,
   "id": "9b2fd14a",
   "metadata": {},
   "outputs": [
    {
     "data": {
      "text/plain": [
       "0    75011\n",
       "1     8071\n",
       "2     7255\n",
       "4     7129\n",
       "3     2546\n",
       "Name: label, dtype: int64"
      ]
     },
     "execution_count": 18,
     "metadata": {},
     "output_type": "execute_result"
    }
   ],
   "source": [
    "database['label'].value_counts()"
   ]
  },
  {
   "cell_type": "code",
   "execution_count": 19,
   "id": "0ba16638",
   "metadata": {},
   "outputs": [
    {
     "data": {
      "image/png": "[encoded data removed]",
      "text/plain": [
       "<Figure size 640x480 with 1 Axes>"
      ]
     },
     "metadata": {},
     "output_type": "display_data"
    }
   ],
   "source": [
    "database['label'].hist();"
   ]
  },
  {
   "cell_type": "markdown",
   "id": "ee398409",
   "metadata": {},
   "source": [
    "## AutoML com sinais ruidosos"
   ]
  },
  {
   "cell_type": "code",
   "execution_count": 20,
   "id": "10025aaf",
   "metadata": {},
   "outputs": [
    {
     "data": {
      "text/plain": [
       "((75009, 361), (25003, 361))"
      ]
     },
     "execution_count": 20,
     "metadata": {},
     "output_type": "execute_result"
    }
   ],
   "source": [
    "#removendo a coluna record_id pois ela não é necessária nas classificações \n",
    "noisy_database2 = noisy_database.iloc[:, :-1]\n",
    "train_data, test_data = train_test_split(noisy_database2, random_state=42, stratify=noisy_database2.label)\n",
    "train_data.shape, test_data.shape "
   ]
  },
  {
   "cell_type": "code",
   "execution_count": 21,
   "id": "dde4dca1",
   "metadata": {},
   "outputs": [
    {
     "data": {
      "text/plain": [
       "((75009, 360), (25003, 360), (75009,), (25003,))"
      ]
     },
     "execution_count": 21,
     "metadata": {},
     "output_type": "execute_result"
    }
   ],
   "source": [
    "X_train, y_train = train_data.iloc[:,:-1], train_data['label']\n",
    "X_test, y_test = test_data.iloc[:,:-1], test_data['label']\n",
    "X_train.shape, X_test.shape, y_train.shape, y_test.shape"
   ]
  },
  {
   "cell_type": "code",
   "execution_count": 22,
   "id": "1d1d3ada",
   "metadata": {},
   "outputs": [
    {
     "data": {
      "text/html": [],
      "text/plain": [
       "<IPython.core.display.HTML object>"
      ]
     },
     "metadata": {},
     "output_type": "display_data"
    },
    {
     "name": "stderr",
     "output_type": "stream",
     "text": [
      "Fitted model: NeuralNetTorch/76268bfd ...\n",
      "\t0.9952\t = Validation score   (accuracy)\n",
      "\t180.47s\t = Training   runtime\n",
      "\t0.24s\t = Validation runtime\n",
      "Fitted model: NeuralNetTorch/c9d1cdda ...\n",
      "\t0.9874\t = Validation score   (accuracy)\n",
      "\t847.69s\t = Training   runtime\n",
      "\t0.75s\t = Validation runtime\n",
      "Fitted model: NeuralNetTorch/6eeb88c7 ...\n",
      "\t0.996\t = Validation score   (accuracy)\n",
      "\t254.3s\t = Training   runtime\n",
      "\t0.2s\t = Validation runtime\n",
      "Fitted model: NeuralNetTorch/efae2fdb ...\n",
      "\t0.9946\t = Validation score   (accuracy)\n",
      "\t169.36s\t = Training   runtime\n",
      "\t0.34s\t = Validation runtime\n",
      "Fitted model: NeuralNetTorch/bffdccfa ...\n",
      "\t0.996\t = Validation score   (accuracy)\n",
      "\t228.66s\t = Training   runtime\n",
      "\t0.05s\t = Validation runtime\n",
      "Fitting model: LightGBMLarge ... Training model for up to 1993.7s of the 24408.46s of remaining time.\n",
      "\t0.9902\t = Validation score   (accuracy)\n",
      "\t168.66s\t = Training   runtime\n",
      "\t0.32s\t = Validation runtime\n",
      "Fitting model: WeightedEnsemble_L2 ... Training model for up to 2879.79s of the 24230.72s of remaining time.\n",
      "\t0.997\t = Validation score   (accuracy)\n",
      "\t2.01s\t = Training   runtime\n",
      "\t0.0s\t = Validation runtime\n",
      "AutoGluon training complete, total runtime = 4571.74s ... Best model: \"WeightedEnsemble_L2\"\n",
      "TabularPredictor saved. To load, use: predictor = TabularPredictor.load(\"AutogluonModels/ag-20231129_172420/\")\n"
     ]
    },
    {
     "name": "stdout",
     "output_type": "stream",
     "text": [
      "CPU times: user 6h 4s, sys: 1min 47s, total: 6h 1min 51s\n",
      "Wall time: 1h 16min 11s\n"
     ]
    }
   ],
   "source": [
    "%%time\n",
    "predictor = TabularPredictor(label='label').fit(train_data, time_limit=28800, hyperparameter_tune_kwargs = \n",
    "                                                {'num_trials': 5, 'scheduler' : 'local', 'searcher': 'auto'})"
   ]
  },
  {
   "cell_type": "code",
   "execution_count": 131,
   "id": "e3313e33",
   "metadata": {},
   "outputs": [],
   "source": [
    "y_pred_best = predictor.predict(data=X_test, model='NeuralNetFastAI/37546213')"
   ]
  },
  {
   "cell_type": "code",
   "execution_count": 132,
   "id": "aae46fa3",
   "metadata": {},
   "outputs": [
    {
     "name": "stdout",
     "output_type": "stream",
     "text": [
      "              precision    recall  f1-score   support\n",
      "\n",
      "           0     0.9954    0.9979    0.9966     18753\n",
      "           1     0.9975    0.9970    0.9973      2018\n",
      "           2     0.9978    0.9989    0.9983      1814\n",
      "           3     0.9615    0.9041    0.9319       636\n",
      "           4     0.9881    0.9826    0.9854      1782\n",
      "\n",
      "    accuracy                         0.9944     25003\n",
      "   macro avg     0.9881    0.9761    0.9819     25003\n",
      "weighted avg     0.9943    0.9944    0.9943     25003\n",
      "\n"
     ]
    }
   ],
   "source": [
    "print(classification_report(y_test, y_pred_best, digits=4))"
   ]
  },
  {
   "cell_type": "markdown",
   "id": "da7926ec",
   "metadata": {},
   "source": [
    "### Dataframe de hiperparâmetros"
   ]
  },
  {
   "cell_type": "markdown",
   "id": "48292b0d",
   "metadata": {},
   "source": [
    "Iremos usar 3 métodos para os modelos do AutoGluon, o primeiro sem reamostragem, o segundo utilizando a técnica de reamostragem SMOTE e o terceiro a técnica de reamostragem ADASYN. Por isso, para auxiliar o acesso dos hiperparâmetros utilizaremos um dataframe."
   ]
  },
  {
   "cell_type": "markdown",
   "id": "2e6b3b64",
   "metadata": {},
   "source": [
    "A função ``autogluon_models_df`` trata as informações dos modelos gerados pelo TabularPredictor e retorna um dataframe com um ranking de acurácia dos modelos e facilita o processo de seleção/visualização dos hiperparâmetros de cada modelo. O datafame contém as seguintes informações: a segmentação usada, se o filtro foi aplicado, a técnica de reamostragem, o nome do modelo, os hiperparâmetros do modelo e acurácia. Nesse notebook executamos os modelos com a segmentação dos dados com uma janela de 180."
   ]
  },
  {
   "cell_type": "code",
   "execution_count": 23,
   "id": "bd47b6e2",
   "metadata": {},
   "outputs": [],
   "source": [
    "def autogluon_models_df(window, filter_applied, resampling_tech, predictor_model, test_data_):\n",
    "    leaderboard = predictor_model.leaderboard(test_data_, silent=True, extra_metrics=['accuracy','precision_weighted','recall_weighted', 'f1_weighted'])\n",
    "    all_models = predictor_model.get_model_names()\n",
    "    predictor_information = predictor_model.info()\n",
    "    autogluon_accuracy = []\n",
    "    autogluon_precision = []\n",
    "    autogluon_f1 = []\n",
    "    autogluon_recall = []\n",
    "    autogluon_hyperparameters = []\n",
    "    autogluon_algorithms = [] \n",
    "    for model in all_models:\n",
    "        if model != 'WeightedEnsemble_L2':\n",
    "            autogluon_algorithms.append(model)\n",
    "            accuracy = (leaderboard.accuracy[leaderboard['model'] == model]).values[0]\n",
    "            precision_weighted = (leaderboard.precision_weighted[leaderboard['model'] == model]).values[0]\n",
    "            recall_weighted = (leaderboard.recall_weighted[leaderboard['model'] == model]).values[0]\n",
    "            f1_weighted = (leaderboard.f1_weighted[leaderboard['model'] == model]).values[0]\n",
    "            \n",
    "            autogluon_accuracy.append(accuracy)\n",
    "            autogluon_precision.append(precision_weighted)\n",
    "            autogluon_recall.append(recall_weighted)\n",
    "            autogluon_f1.append(f1_weighted)\n",
    "            \n",
    "            autogluon_hyperparameters.append(predictor_information[\"model_info\"][model][\"hyperparameters\"])\n",
    "            \n",
    "    window_size_list = [window*2]*len(autogluon_algorithms)\n",
    "    filter_applied_list = [filter_applied]*len(autogluon_algorithms)\n",
    "    resampling_tech_list = [resampling_tech]*len(autogluon_algorithms)\n",
    "        \n",
    "    \n",
    "    autogluon_args = list(zip(window_size_list, filter_applied_list, resampling_tech_list, \n",
    "                              autogluon_algorithms, autogluon_hyperparameters, autogluon_accuracy,\n",
    "                             autogluon_precision, autogluon_recall, autogluon_f1))    \n",
    "    \n",
    "    hyperparameters = pd.DataFrame(autogluon_args, columns=['window_size','filter_applied','resampling_tech',\n",
    "                                                            'model','hyperparameters','accuracy',\n",
    "                                                            'precision_weighted','recall_weighted', 'f1_weighted'])\n",
    "    \n",
    "    hyperparameters = hyperparameters.sort_values(by='accuracy', ascending=False)\n",
    "    hyperparameters = hyperparameters.reset_index(drop=True)\n",
    "    \n",
    "    #agrupamento por algoritmos\n",
    "    hyperparameters['algorithm'] = ''\n",
    "    all_algorithms = ['LightGBM', 'RandomForest', 'NeuralNetTorch', 'NeuralNetFastAI', 'XGBoost',\n",
    "                      'ExtraTrees', 'CatBoost', 'KNeighbors']\n",
    "    \n",
    "    hyperparameters.loc[hyperparameters['model'].str.contains('LightGBM'), 'algorithm'] = 'LightGBM'\n",
    "    hyperparameters.loc[hyperparameters['model'].str.contains('RandomForest'), 'algorithm'] = 'RandomForest'\n",
    "    hyperparameters.loc[hyperparameters['model'].str.contains('NeuralNetTorch'), 'algorithm'] = 'NeuralNetTorch'\n",
    "    hyperparameters.loc[hyperparameters['model'].str.contains('NeuralNetFastAI'), 'algorithm'] = 'NeuralNetFastAI'\n",
    "    hyperparameters.loc[hyperparameters['model'].str.contains('XGBoost'), 'algorithm'] = 'XGBoost'\n",
    "    hyperparameters.loc[hyperparameters['model'].str.contains('ExtraTrees'), 'algorithm'] = 'ExtraTrees'\n",
    "    hyperparameters.loc[hyperparameters['model'].str.contains('CatBoost'), 'algorithm'] = 'CatBoost'\n",
    "    hyperparameters.loc[hyperparameters['model'].str.contains('KNeighbors'), 'algorithm'] = 'KNeighbors'\n",
    "    \n",
    "    return hyperparameters"
   ]
  },
  {
   "cell_type": "code",
   "execution_count": 24,
   "id": "26b006d0",
   "metadata": {},
   "outputs": [
    {
     "name": "stderr",
     "output_type": "stream",
     "text": [
      "/home/jupyter-luana@alu.ufc.br/.local/lib/python3.9/site-packages/sklearn/metrics/_classification.py:1344: UndefinedMetricWarning: Precision is ill-defined and being set to 0.0 in labels with no predicted samples. Use `zero_division` parameter to control this behavior.\n",
      "  _warn_prf(average, modifier, msg_start, len(result))\n",
      "/home/jupyter-luana@alu.ufc.br/.local/lib/python3.9/site-packages/sklearn/metrics/_classification.py:1344: UndefinedMetricWarning: Precision is ill-defined and being set to 0.0 in labels with no predicted samples. Use `zero_division` parameter to control this behavior.\n",
      "  _warn_prf(average, modifier, msg_start, len(result))\n"
     ]
    },
    {
     "name": "stdout",
     "output_type": "stream",
     "text": [
      "CPU times: user 4min 38s, sys: 2.65 s, total: 4min 41s\n",
      "Wall time: 46.4 s\n"
     ]
    }
   ],
   "source": [
    "%%time\n",
    "model_without_resampling = autogluon_models_df(window=window_size,\n",
    "                                               filter_applied=False, \n",
    "                                               resampling_tech=None,\n",
    "                                               predictor_model=predictor,\n",
    "                                               test_data_=test_data)"
   ]
  },
  {
   "cell_type": "markdown",
   "id": "fe8f5d95",
   "metadata": {},
   "source": [
    "**Ranking dos modelos sem reamostragem e sem filtro**"
   ]
  },
  {
   "cell_type": "code",
   "execution_count": 25,
   "id": "4c5ea85d",
   "metadata": {},
   "outputs": [
    {
     "data": {
      "text/html": [
       "<div>\n",
       "<style scoped>\n",
       "    .dataframe tbody tr th:only-of-type {\n",
       "        vertical-align: middle;\n",
       "    }\n",
       "\n",
       "    .dataframe tbody tr th {\n",
       "        vertical-align: top;\n",
       "    }\n",
       "\n",
       "    .dataframe thead th {\n",
       "        text-align: right;\n",
       "    }\n",
       "</style>\n",
       "<table border=\"1\" class=\"dataframe\">\n",
       "  <thead>\n",
       "    <tr style=\"text-align: right;\">\n",
       "      <th></th>\n",
       "      <th>window_size</th>\n",
       "      <th>filter_applied</th>\n",
       "      <th>resampling_tech</th>\n",
       "      <th>model</th>\n",
       "      <th>hyperparameters</th>\n",
       "      <th>accuracy</th>\n",
       "      <th>precision_weighted</th>\n",
       "      <th>recall_weighted</th>\n",
       "      <th>f1_weighted</th>\n",
       "      <th>algorithm</th>\n",
       "    </tr>\n",
       "  </thead>\n",
       "  <tbody>\n",
       "    <tr>\n",
       "      <th>0</th>\n",
       "      <td>360</td>\n",
       "      <td>False</td>\n",
       "      <td>None</td>\n",
       "      <td>NeuralNetFastAI/37546213</td>\n",
       "      <td>{'layers': None, 'emb_drop': 0.1, 'ps': 0.1, 'bs': 256, 'lr': 0.01, 'epochs': 30, 'early.stopping.min_delta': 0.0001, 'early.stopping.patience': 20, 'smoothing': 0.0}</td>\n",
       "      <td>0.994401</td>\n",
       "      <td>0.994346</td>\n",
       "      <td>0.994401</td>\n",
       "      <td>0.994349</td>\n",
       "      <td>NeuralNetFastAI</td>\n",
       "    </tr>\n",
       "    <tr>\n",
       "      <th>1</th>\n",
       "      <td>360</td>\n",
       "      <td>False</td>\n",
       "      <td>None</td>\n",
       "      <td>NeuralNetTorch/bffdccfa</td>\n",
       "      <td>{'num_epochs': 500, 'epochs_wo_improve': 20, 'activation': 'relu', 'embedding_size_factor': 1.3, 'embed_exponent': 0.56, 'max_embedding_dim': 100, 'y_range': None, 'y_range_extend': 0.05, 'dropout_prob': 0.4, 'optimizer': 'adam', 'learning_rate': 0.0029705977874861754, 'weight_decay': 3.366954449760058e-11, 'proc.embed_min_categories': 3, 'proc.impute_strategy': 'most_frequent', 'proc.max_category_levels': 10, 'proc.skew_threshold': 10.0, 'use_ngram_features': False, 'num_layers': 3, 'hidden_size': 128, 'max_batch_size': 512, 'use_batchnorm': True, 'loss_function': 'auto'}</td>\n",
       "      <td>0.993681</td>\n",
       "      <td>0.993616</td>\n",
       "      <td>0.993681</td>\n",
       "      <td>0.993585</td>\n",
       "      <td>NeuralNetTorch</td>\n",
       "    </tr>\n",
       "  </tbody>\n",
       "</table>\n",
       "</div>"
      ],
      "text/plain": [
       "   window_size  filter_applied resampling_tech                     model  \\\n",
       "0          360           False            None  NeuralNetFastAI/37546213   \n",
       "1          360           False            None   NeuralNetTorch/bffdccfa   \n",
       "\n",
       "                                                                                                                                                                                                                                                                                                                                                                                                                                                                                                                                                                                       hyperparameters  \\\n",
       "0                                                                                                                                                                                                                                                                                                                                                                                                                               {'layers': None, 'emb_drop': 0.1, 'ps': 0.1, 'bs': 256, 'lr': 0.01, 'epochs': 30, 'early.stopping.min_delta': 0.0001, 'early.stopping.patience': 20, 'smoothing': 0.0}   \n",
       "1  {'num_epochs': 500, 'epochs_wo_improve': 20, 'activation': 'relu', 'embedding_size_factor': 1.3, 'embed_exponent': 0.56, 'max_embedding_dim': 100, 'y_range': None, 'y_range_extend': 0.05, 'dropout_prob': 0.4, 'optimizer': 'adam', 'learning_rate': 0.0029705977874861754, 'weight_decay': 3.366954449760058e-11, 'proc.embed_min_categories': 3, 'proc.impute_strategy': 'most_frequent', 'proc.max_category_levels': 10, 'proc.skew_threshold': 10.0, 'use_ngram_features': False, 'num_layers': 3, 'hidden_size': 128, 'max_batch_size': 512, 'use_batchnorm': True, 'loss_function': 'auto'}   \n",
       "\n",
       "   accuracy  precision_weighted  recall_weighted  f1_weighted        algorithm  \n",
       "0  0.994401            0.994346         0.994401     0.994349  NeuralNetFastAI  \n",
       "1  0.993681            0.993616         0.993681     0.993585   NeuralNetTorch  "
      ]
     },
     "execution_count": 25,
     "metadata": {},
     "output_type": "execute_result"
    }
   ],
   "source": [
    "model_without_resampling.head(2)"
   ]
  },
  {
   "cell_type": "markdown",
   "id": "c734a423",
   "metadata": {},
   "source": [
    "**Cálculo do intervalo de confiança**"
   ]
  },
  {
   "cell_type": "code",
   "execution_count": 133,
   "id": "5f2b581b",
   "metadata": {},
   "outputs": [
    {
     "name": "stdout",
     "output_type": "stream",
     "text": [
      "Intervalo de confiança(0.993419836619828, 0.995278163380172)\n"
     ]
    }
   ],
   "source": [
    "z = 1.96\n",
    "f1 = 0.994349\n",
    "n = len(X_test)\n",
    "interval = z * np.sqrt((f1 * (1 - f1)) / n)\n",
    "print(f\"Intervalo de confiança{(f1-interval, f1+interval)}\")"
   ]
  },
  {
   "cell_type": "code",
   "execution_count": 26,
   "id": "341be807",
   "metadata": {},
   "outputs": [
    {
     "data": {
      "text/plain": [
       "LightGBM           11\n",
       "NeuralNetFastAI     5\n",
       "NeuralNetTorch      5\n",
       "XGBoost             5\n",
       "CatBoost            3\n",
       "KNeighbors          2\n",
       "RandomForest        2\n",
       "ExtraTrees          2\n",
       "Name: algorithm, dtype: int64"
      ]
     },
     "execution_count": 26,
     "metadata": {},
     "output_type": "execute_result"
    }
   ],
   "source": [
    "model_without_resampling['algorithm'].value_counts()"
   ]
  },
  {
   "cell_type": "code",
   "execution_count": 27,
   "id": "b64daf89",
   "metadata": {},
   "outputs": [
    {
     "data": {
      "text/plain": [
       "35"
      ]
     },
     "execution_count": 27,
     "metadata": {},
     "output_type": "execute_result"
    }
   ],
   "source": [
    "model_without_resampling['algorithm'].value_counts().sum()"
   ]
  },
  {
   "cell_type": "markdown",
   "id": "7279ef5f",
   "metadata": {},
   "source": [
    "Para evitar perda dos dados"
   ]
  },
  {
   "cell_type": "code",
   "execution_count": 28,
   "id": "7cb86e9e",
   "metadata": {},
   "outputs": [],
   "source": [
    "model_without_resampling.to_csv('model_without_resampling.csv', index=False)"
   ]
  },
  {
   "cell_type": "markdown",
   "id": "f648f33c",
   "metadata": {},
   "source": [
    "### AutoML com técnica de reamostragem SMOTE"
   ]
  },
  {
   "cell_type": "code",
   "execution_count": 29,
   "id": "f72529de",
   "metadata": {},
   "outputs": [],
   "source": [
    "# Aplicar SMOTE apenas no conjunto de treinamento\n",
    "smote = SMOTE(sampling_strategy='auto')"
   ]
  },
  {
   "cell_type": "code",
   "execution_count": 30,
   "id": "859b38db",
   "metadata": {},
   "outputs": [
    {
     "name": "stdout",
     "output_type": "stream",
     "text": [
      "Distribuição de classes sem a reamostragem:  Counter({0: 56258, 1: 6053, 2: 5441, 4: 5347, 3: 1910})\n"
     ]
    }
   ],
   "source": [
    "print(\"Distribuição de classes sem a reamostragem: \", Counter(y_train))"
   ]
  },
  {
   "cell_type": "code",
   "execution_count": 31,
   "id": "870bcf3f",
   "metadata": {},
   "outputs": [
    {
     "name": "stdout",
     "output_type": "stream",
     "text": [
      "CPU times: user 8.33 s, sys: 682 ms, total: 9.01 s\n",
      "Wall time: 3.07 s\n"
     ]
    }
   ],
   "source": [
    "%%time\n",
    "X_resampled_smote, y_resampled_smote = smote.fit_resample(X_train, y_train)"
   ]
  },
  {
   "cell_type": "code",
   "execution_count": 32,
   "id": "4eaf5ec9",
   "metadata": {},
   "outputs": [
    {
     "name": "stdout",
     "output_type": "stream",
     "text": [
      "Distribuição de classes após a reamostragem:  Counter({1: 56258, 0: 56258, 4: 56258, 2: 56258, 3: 56258})\n"
     ]
    }
   ],
   "source": [
    "print(\"Distribuição de classes após a reamostragem: \", Counter(y_resampled_smote))"
   ]
  },
  {
   "cell_type": "code",
   "execution_count": 33,
   "id": "2f29fe55",
   "metadata": {},
   "outputs": [
    {
     "data": {
      "text/html": [
       "<div>\n",
       "<style scoped>\n",
       "    .dataframe tbody tr th:only-of-type {\n",
       "        vertical-align: middle;\n",
       "    }\n",
       "\n",
       "    .dataframe tbody tr th {\n",
       "        vertical-align: top;\n",
       "    }\n",
       "\n",
       "    .dataframe thead th {\n",
       "        text-align: right;\n",
       "    }\n",
       "</style>\n",
       "<table border=\"1\" class=\"dataframe\">\n",
       "  <thead>\n",
       "    <tr style=\"text-align: right;\">\n",
       "      <th></th>\n",
       "      <th>0</th>\n",
       "      <th>1</th>\n",
       "      <th>2</th>\n",
       "      <th>3</th>\n",
       "      <th>4</th>\n",
       "      <th>5</th>\n",
       "      <th>6</th>\n",
       "      <th>7</th>\n",
       "      <th>8</th>\n",
       "      <th>9</th>\n",
       "      <th>...</th>\n",
       "      <th>351</th>\n",
       "      <th>352</th>\n",
       "      <th>353</th>\n",
       "      <th>354</th>\n",
       "      <th>355</th>\n",
       "      <th>356</th>\n",
       "      <th>357</th>\n",
       "      <th>358</th>\n",
       "      <th>359</th>\n",
       "      <th>label</th>\n",
       "    </tr>\n",
       "  </thead>\n",
       "  <tbody>\n",
       "    <tr>\n",
       "      <th>0</th>\n",
       "      <td>0.098172</td>\n",
       "      <td>0.087535</td>\n",
       "      <td>0.034351</td>\n",
       "      <td>0.044988</td>\n",
       "      <td>0.044988</td>\n",
       "      <td>0.076899</td>\n",
       "      <td>0.098172</td>\n",
       "      <td>0.087535</td>\n",
       "      <td>0.066262</td>\n",
       "      <td>0.044988</td>\n",
       "      <td>...</td>\n",
       "      <td>-0.997419</td>\n",
       "      <td>-1.093150</td>\n",
       "      <td>-1.188882</td>\n",
       "      <td>-1.220792</td>\n",
       "      <td>-1.199518</td>\n",
       "      <td>-1.125061</td>\n",
       "      <td>-1.018693</td>\n",
       "      <td>-0.869777</td>\n",
       "      <td>-0.805956</td>\n",
       "      <td>1</td>\n",
       "    </tr>\n",
       "    <tr>\n",
       "      <th>1</th>\n",
       "      <td>-0.308763</td>\n",
       "      <td>-0.323578</td>\n",
       "      <td>-0.353210</td>\n",
       "      <td>-0.382842</td>\n",
       "      <td>-0.412473</td>\n",
       "      <td>-0.456921</td>\n",
       "      <td>-0.397657</td>\n",
       "      <td>-0.353210</td>\n",
       "      <td>-0.293947</td>\n",
       "      <td>-0.249499</td>\n",
       "      <td>...</td>\n",
       "      <td>-0.575447</td>\n",
       "      <td>-0.575447</td>\n",
       "      <td>-0.545815</td>\n",
       "      <td>-0.531000</td>\n",
       "      <td>-0.486552</td>\n",
       "      <td>-0.501368</td>\n",
       "      <td>-0.412473</td>\n",
       "      <td>-0.368026</td>\n",
       "      <td>-0.308763</td>\n",
       "      <td>0</td>\n",
       "    </tr>\n",
       "    <tr>\n",
       "      <th>2</th>\n",
       "      <td>-0.352679</td>\n",
       "      <td>-0.362016</td>\n",
       "      <td>-0.390028</td>\n",
       "      <td>-0.390028</td>\n",
       "      <td>-0.380691</td>\n",
       "      <td>-0.334004</td>\n",
       "      <td>-0.315330</td>\n",
       "      <td>-0.324667</td>\n",
       "      <td>-0.315330</td>\n",
       "      <td>-0.334004</td>\n",
       "      <td>...</td>\n",
       "      <td>-0.418040</td>\n",
       "      <td>-0.427378</td>\n",
       "      <td>-0.455390</td>\n",
       "      <td>-0.427378</td>\n",
       "      <td>-0.390028</td>\n",
       "      <td>-0.380691</td>\n",
       "      <td>-0.371354</td>\n",
       "      <td>-0.380691</td>\n",
       "      <td>-0.390028</td>\n",
       "      <td>4</td>\n",
       "    </tr>\n",
       "    <tr>\n",
       "      <th>3</th>\n",
       "      <td>0.083793</td>\n",
       "      <td>0.052694</td>\n",
       "      <td>0.021596</td>\n",
       "      <td>-0.030236</td>\n",
       "      <td>-0.061334</td>\n",
       "      <td>-0.061334</td>\n",
       "      <td>-0.071701</td>\n",
       "      <td>-0.082067</td>\n",
       "      <td>-0.061334</td>\n",
       "      <td>-0.071701</td>\n",
       "      <td>...</td>\n",
       "      <td>-0.403420</td>\n",
       "      <td>-0.631478</td>\n",
       "      <td>-0.797337</td>\n",
       "      <td>-0.755872</td>\n",
       "      <td>-0.631478</td>\n",
       "      <td>-0.475984</td>\n",
       "      <td>-0.403420</td>\n",
       "      <td>-0.403420</td>\n",
       "      <td>-0.507083</td>\n",
       "      <td>0</td>\n",
       "    </tr>\n",
       "    <tr>\n",
       "      <th>4</th>\n",
       "      <td>-0.489525</td>\n",
       "      <td>-0.560440</td>\n",
       "      <td>-0.542711</td>\n",
       "      <td>-0.507254</td>\n",
       "      <td>-0.436340</td>\n",
       "      <td>-0.489525</td>\n",
       "      <td>-0.507254</td>\n",
       "      <td>-0.578168</td>\n",
       "      <td>-0.560440</td>\n",
       "      <td>-0.418611</td>\n",
       "      <td>...</td>\n",
       "      <td>-0.613625</td>\n",
       "      <td>-0.560440</td>\n",
       "      <td>-0.542711</td>\n",
       "      <td>-0.613625</td>\n",
       "      <td>-0.631354</td>\n",
       "      <td>-0.666811</td>\n",
       "      <td>-0.631354</td>\n",
       "      <td>-0.560440</td>\n",
       "      <td>-0.578168</td>\n",
       "      <td>4</td>\n",
       "    </tr>\n",
       "  </tbody>\n",
       "</table>\n",
       "<p>5 rows × 361 columns</p>\n",
       "</div>"
      ],
      "text/plain": [
       "          0         1         2         3         4         5         6  \\\n",
       "0  0.098172  0.087535  0.034351  0.044988  0.044988  0.076899  0.098172   \n",
       "1 -0.308763 -0.323578 -0.353210 -0.382842 -0.412473 -0.456921 -0.397657   \n",
       "2 -0.352679 -0.362016 -0.390028 -0.390028 -0.380691 -0.334004 -0.315330   \n",
       "3  0.083793  0.052694  0.021596 -0.030236 -0.061334 -0.061334 -0.071701   \n",
       "4 -0.489525 -0.560440 -0.542711 -0.507254 -0.436340 -0.489525 -0.507254   \n",
       "\n",
       "          7         8         9  ...       351       352       353       354  \\\n",
       "0  0.087535  0.066262  0.044988  ... -0.997419 -1.093150 -1.188882 -1.220792   \n",
       "1 -0.353210 -0.293947 -0.249499  ... -0.575447 -0.575447 -0.545815 -0.531000   \n",
       "2 -0.324667 -0.315330 -0.334004  ... -0.418040 -0.427378 -0.455390 -0.427378   \n",
       "3 -0.082067 -0.061334 -0.071701  ... -0.403420 -0.631478 -0.797337 -0.755872   \n",
       "4 -0.578168 -0.560440 -0.418611  ... -0.613625 -0.560440 -0.542711 -0.613625   \n",
       "\n",
       "        355       356       357       358       359  label  \n",
       "0 -1.199518 -1.125061 -1.018693 -0.869777 -0.805956      1  \n",
       "1 -0.486552 -0.501368 -0.412473 -0.368026 -0.308763      0  \n",
       "2 -0.390028 -0.380691 -0.371354 -0.380691 -0.390028      4  \n",
       "3 -0.631478 -0.475984 -0.403420 -0.403420 -0.507083      0  \n",
       "4 -0.631354 -0.666811 -0.631354 -0.560440 -0.578168      4  \n",
       "\n",
       "[5 rows x 361 columns]"
      ]
     },
     "execution_count": 33,
     "metadata": {},
     "output_type": "execute_result"
    }
   ],
   "source": [
    "resampled_smote = X_resampled_smote.join(y_resampled_smote)\n",
    "resampled_smote.head()"
   ]
  },
  {
   "cell_type": "code",
   "execution_count": 34,
   "id": "c0c7e69a",
   "metadata": {},
   "outputs": [
    {
     "data": {
      "text/html": [],
      "text/plain": [
       "<IPython.core.display.HTML object>"
      ]
     },
     "metadata": {},
     "output_type": "display_data"
    },
    {
     "name": "stderr",
     "output_type": "stream",
     "text": [
      "Fitted model: NeuralNetTorch/3b871330 ...\n",
      "\t0.9991\t = Validation score   (accuracy)\n",
      "\t337.18s\t = Training   runtime\n",
      "\t0.2s\t = Validation runtime\n",
      "Fitted model: NeuralNetTorch/9479b6a1 ...\n",
      "\t0.9996\t = Validation score   (accuracy)\n",
      "\t795.01s\t = Training   runtime\n",
      "\t0.24s\t = Validation runtime\n",
      "Fitted model: NeuralNetTorch/2a5b3c24 ...\n",
      "\t0.9876\t = Validation score   (accuracy)\n",
      "\t341.41s\t = Training   runtime\n",
      "\t0.2s\t = Validation runtime\n",
      "Fitted model: NeuralNetTorch/21a95341 ...\n",
      "\t0.9495\t = Validation score   (accuracy)\n",
      "\t311.84s\t = Training   runtime\n",
      "\t0.63s\t = Validation runtime\n",
      "Fitted model: NeuralNetTorch/c03202e3 ...\n",
      "\t0.9572\t = Validation score   (accuracy)\n",
      "\t680.18s\t = Training   runtime\n",
      "\t0.4s\t = Validation runtime\n",
      "Fitting model: LightGBMLarge ... Training model for up to 1993.17s of the 18244.76s of remaining time.\n",
      "\t0.9993\t = Validation score   (accuracy)\n",
      "\t488.16s\t = Training   runtime\n",
      "\t0.27s\t = Validation runtime\n",
      "Fitting model: WeightedEnsemble_L2 ... Training model for up to 2879.02s of the 17733.28s of remaining time.\n",
      "\t0.9998\t = Validation score   (accuracy)\n",
      "\t2.34s\t = Training   runtime\n",
      "\t0.0s\t = Validation runtime\n",
      "AutoGluon training complete, total runtime = 11070.59s ... Best model: \"WeightedEnsemble_L2\"\n",
      "TabularPredictor saved. To load, use: predictor = TabularPredictor.load(\"AutogluonModels/ag-20231129_184122/\")\n"
     ]
    },
    {
     "name": "stdout",
     "output_type": "stream",
     "text": [
      "CPU times: user 17h 56min 16s, sys: 4min 5s, total: 18h 22s\n",
      "Wall time: 3h 4min 30s\n"
     ]
    }
   ],
   "source": [
    "%%time\n",
    "smote_resampling_training = TabularPredictor(label='label').fit(resampled_smote, time_limit=28800, \n",
    "                                                                hyperparameter_tune_kwargs = {'num_trials': 5, 'scheduler' : 'local', 'searcher': 'auto'})"
   ]
  },
  {
   "cell_type": "markdown",
   "id": "8f44b58a",
   "metadata": {},
   "source": [
    "**Dataframe de hiperparâmetros**\n",
    "\n",
    "A função ``autogluon_models_df`` trata as informações dos modelos gerados pelo TabularPredictor e retorna um dataframe com um ranking de acurácia dos modelos e facilita o processo de seleção/visualização dos hiperparâmetros de cada modelo. O datafame contém as seguintes informações: a segmentação usada, se o filtro foi aplicado, a técnica de reamostragem, o nome do modelo, os hiperparâmetros do modelo e acurácia. Nesse notebook executamos os modelos com a segmentação dos dados com uma janela de 180."
   ]
  },
  {
   "cell_type": "code",
   "execution_count": 35,
   "id": "adc19831",
   "metadata": {},
   "outputs": [
    {
     "name": "stdout",
     "output_type": "stream",
     "text": [
      "CPU times: user 13min 50s, sys: 4.69 s, total: 13min 54s\n",
      "Wall time: 1min 44s\n"
     ]
    }
   ],
   "source": [
    "%%time\n",
    "models_with_smote = autogluon_models_df(window=window_size,\n",
    "                                        filter_applied=False, \n",
    "                                        resampling_tech='smote',\n",
    "                                        predictor_model=smote_resampling_training,\n",
    "                                        test_data_=test_data)"
   ]
  },
  {
   "cell_type": "markdown",
   "id": "424eaab0",
   "metadata": {},
   "source": [
    "**Ranking dos modelos com a técnica de reamostragem SMOTE e sem filtro**"
   ]
  },
  {
   "cell_type": "code",
   "execution_count": 36,
   "id": "0fc360f7",
   "metadata": {},
   "outputs": [
    {
     "data": {
      "text/html": [
       "<div>\n",
       "<style scoped>\n",
       "    .dataframe tbody tr th:only-of-type {\n",
       "        vertical-align: middle;\n",
       "    }\n",
       "\n",
       "    .dataframe tbody tr th {\n",
       "        vertical-align: top;\n",
       "    }\n",
       "\n",
       "    .dataframe thead th {\n",
       "        text-align: right;\n",
       "    }\n",
       "</style>\n",
       "<table border=\"1\" class=\"dataframe\">\n",
       "  <thead>\n",
       "    <tr style=\"text-align: right;\">\n",
       "      <th></th>\n",
       "      <th>window_size</th>\n",
       "      <th>filter_applied</th>\n",
       "      <th>resampling_tech</th>\n",
       "      <th>model</th>\n",
       "      <th>hyperparameters</th>\n",
       "      <th>accuracy</th>\n",
       "      <th>precision_weighted</th>\n",
       "      <th>recall_weighted</th>\n",
       "      <th>f1_weighted</th>\n",
       "      <th>algorithm</th>\n",
       "    </tr>\n",
       "  </thead>\n",
       "  <tbody>\n",
       "    <tr>\n",
       "      <th>0</th>\n",
       "      <td>360</td>\n",
       "      <td>False</td>\n",
       "      <td>smote</td>\n",
       "      <td>NeuralNetTorch/9479b6a1</td>\n",
       "      <td>{'num_epochs': 500, 'epochs_wo_improve': 20, 'activation': 'relu', 'embedding_size_factor': 1.1, 'embed_exponent': 0.56, 'max_embedding_dim': 100, 'y_range': None, 'y_range_extend': 0.05, 'dropout_prob': 0.3, 'optimizer': 'adam', 'learning_rate': 0.0002743558076081783, 'weight_decay': 5.0044368612174e-08, 'proc.embed_min_categories': 1000, 'proc.impute_strategy': 'mean', 'proc.max_category_levels': 10000, 'proc.skew_threshold': 0.9, 'use_ngram_features': False, 'num_layers': 2, 'hidden_size': 512, 'max_batch_size': 512, 'use_batchnorm': True, 'loss_function': 'auto'}</td>\n",
       "      <td>0.993361</td>\n",
       "      <td>0.993375</td>\n",
       "      <td>0.993361</td>\n",
       "      <td>0.993367</td>\n",
       "      <td>NeuralNetTorch</td>\n",
       "    </tr>\n",
       "    <tr>\n",
       "      <th>1</th>\n",
       "      <td>360</td>\n",
       "      <td>False</td>\n",
       "      <td>smote</td>\n",
       "      <td>NeuralNetFastAI/3e815706</td>\n",
       "      <td>{'layers': None, 'emb_drop': 0.1, 'ps': 0.1, 'bs': 256, 'lr': 0.01, 'epochs': 30, 'early.stopping.min_delta': 0.0001, 'early.stopping.patience': 20, 'smoothing': 0.0}</td>\n",
       "      <td>0.992681</td>\n",
       "      <td>0.992806</td>\n",
       "      <td>0.992681</td>\n",
       "      <td>0.992730</td>\n",
       "      <td>NeuralNetFastAI</td>\n",
       "    </tr>\n",
       "  </tbody>\n",
       "</table>\n",
       "</div>"
      ],
      "text/plain": [
       "   window_size  filter_applied resampling_tech                     model  \\\n",
       "0          360           False           smote   NeuralNetTorch/9479b6a1   \n",
       "1          360           False           smote  NeuralNetFastAI/3e815706   \n",
       "\n",
       "                                                                                                                                                                                                                                                                                                                                                                                                                                                                                                                                                                                 hyperparameters  \\\n",
       "0  {'num_epochs': 500, 'epochs_wo_improve': 20, 'activation': 'relu', 'embedding_size_factor': 1.1, 'embed_exponent': 0.56, 'max_embedding_dim': 100, 'y_range': None, 'y_range_extend': 0.05, 'dropout_prob': 0.3, 'optimizer': 'adam', 'learning_rate': 0.0002743558076081783, 'weight_decay': 5.0044368612174e-08, 'proc.embed_min_categories': 1000, 'proc.impute_strategy': 'mean', 'proc.max_category_levels': 10000, 'proc.skew_threshold': 0.9, 'use_ngram_features': False, 'num_layers': 2, 'hidden_size': 512, 'max_batch_size': 512, 'use_batchnorm': True, 'loss_function': 'auto'}   \n",
       "1                                                                                                                                                                                                                                                                                                                                                                                                                         {'layers': None, 'emb_drop': 0.1, 'ps': 0.1, 'bs': 256, 'lr': 0.01, 'epochs': 30, 'early.stopping.min_delta': 0.0001, 'early.stopping.patience': 20, 'smoothing': 0.0}   \n",
       "\n",
       "   accuracy  precision_weighted  recall_weighted  f1_weighted        algorithm  \n",
       "0  0.993361            0.993375         0.993361     0.993367   NeuralNetTorch  \n",
       "1  0.992681            0.992806         0.992681     0.992730  NeuralNetFastAI  "
      ]
     },
     "execution_count": 36,
     "metadata": {},
     "output_type": "execute_result"
    }
   ],
   "source": [
    "models_with_smote.head(2)"
   ]
  },
  {
   "cell_type": "markdown",
   "id": "5eb5fe93",
   "metadata": {},
   "source": [
    "**Cálculo do intervalo de confiança**"
   ]
  },
  {
   "cell_type": "code",
   "execution_count": 134,
   "id": "aabd3bb4",
   "metadata": {},
   "outputs": [
    {
     "name": "stdout",
     "output_type": "stream",
     "text": [
      "Intervalo de confiança(0.9923608334530273, 0.9943731665469727)\n"
     ]
    }
   ],
   "source": [
    "z = 1.96\n",
    "f1 = 0.993367\n",
    "n = len(X_test)\n",
    "interval = z * np.sqrt((f1 * (1 - f1)) / n)\n",
    "print(f\"Intervalo de confiança{(f1-interval, f1+interval)}\")"
   ]
  },
  {
   "cell_type": "code",
   "execution_count": 37,
   "id": "c0740f5b",
   "metadata": {},
   "outputs": [
    {
     "data": {
      "text/plain": [
       "LightGBM           9\n",
       "NeuralNetTorch     5\n",
       "NeuralNetFastAI    5\n",
       "XGBoost            4\n",
       "ExtraTrees         2\n",
       "RandomForest       2\n",
       "KNeighbors         2\n",
       "CatBoost           1\n",
       "Name: algorithm, dtype: int64"
      ]
     },
     "execution_count": 37,
     "metadata": {},
     "output_type": "execute_result"
    }
   ],
   "source": [
    "models_with_smote['algorithm'].value_counts()"
   ]
  },
  {
   "cell_type": "code",
   "execution_count": 38,
   "id": "f8e32177",
   "metadata": {},
   "outputs": [
    {
     "data": {
      "text/plain": [
       "30"
      ]
     },
     "execution_count": 38,
     "metadata": {},
     "output_type": "execute_result"
    }
   ],
   "source": [
    "models_with_smote['algorithm'].value_counts().sum()"
   ]
  },
  {
   "cell_type": "markdown",
   "id": "7a6f6de3",
   "metadata": {},
   "source": [
    "Para evitar perda dos dados"
   ]
  },
  {
   "cell_type": "code",
   "execution_count": 39,
   "id": "a49b873f",
   "metadata": {},
   "outputs": [],
   "source": [
    "models_with_smote.to_csv('models_with_smote.csv', index=False)"
   ]
  },
  {
   "cell_type": "markdown",
   "id": "cb5b23c9",
   "metadata": {},
   "source": [
    "**Junção dos modelos**"
   ]
  },
  {
   "cell_type": "code",
   "execution_count": 40,
   "id": "42a1f2e7",
   "metadata": {},
   "outputs": [],
   "source": [
    "hyperparameters_all_models = pd.concat([models_with_smote, model_without_resampling])"
   ]
  },
  {
   "cell_type": "code",
   "execution_count": 41,
   "id": "73c67164",
   "metadata": {},
   "outputs": [],
   "source": [
    "hyperparameters_all_models = hyperparameters_all_models.sort_values(by='accuracy', ascending=False)"
   ]
  },
  {
   "cell_type": "code",
   "execution_count": 42,
   "id": "50d79536",
   "metadata": {},
   "outputs": [],
   "source": [
    "hyperparameters_all_models = hyperparameters_all_models.reset_index(drop=True)"
   ]
  },
  {
   "cell_type": "code",
   "execution_count": 43,
   "id": "357af66d",
   "metadata": {},
   "outputs": [
    {
     "data": {
      "text/html": [
       "<div>\n",
       "<style scoped>\n",
       "    .dataframe tbody tr th:only-of-type {\n",
       "        vertical-align: middle;\n",
       "    }\n",
       "\n",
       "    .dataframe tbody tr th {\n",
       "        vertical-align: top;\n",
       "    }\n",
       "\n",
       "    .dataframe thead th {\n",
       "        text-align: right;\n",
       "    }\n",
       "</style>\n",
       "<table border=\"1\" class=\"dataframe\">\n",
       "  <thead>\n",
       "    <tr style=\"text-align: right;\">\n",
       "      <th></th>\n",
       "      <th>window_size</th>\n",
       "      <th>filter_applied</th>\n",
       "      <th>resampling_tech</th>\n",
       "      <th>model</th>\n",
       "      <th>hyperparameters</th>\n",
       "      <th>accuracy</th>\n",
       "      <th>precision_weighted</th>\n",
       "      <th>recall_weighted</th>\n",
       "      <th>f1_weighted</th>\n",
       "      <th>algorithm</th>\n",
       "    </tr>\n",
       "  </thead>\n",
       "  <tbody>\n",
       "    <tr>\n",
       "      <th>0</th>\n",
       "      <td>360</td>\n",
       "      <td>False</td>\n",
       "      <td>None</td>\n",
       "      <td>NeuralNetFastAI/37546213</td>\n",
       "      <td>{'layers': None, 'emb_drop': 0.1, 'ps': 0.1, 'bs': 256, 'lr': 0.01, 'epochs': 30, 'early.stopping.min_delta': 0.0001, 'early.stopping.patience': 20, 'smoothing': 0.0}</td>\n",
       "      <td>0.994401</td>\n",
       "      <td>0.994346</td>\n",
       "      <td>0.994401</td>\n",
       "      <td>0.994349</td>\n",
       "      <td>NeuralNetFastAI</td>\n",
       "    </tr>\n",
       "    <tr>\n",
       "      <th>1</th>\n",
       "      <td>360</td>\n",
       "      <td>False</td>\n",
       "      <td>None</td>\n",
       "      <td>NeuralNetTorch/bffdccfa</td>\n",
       "      <td>{'num_epochs': 500, 'epochs_wo_improve': 20, 'activation': 'relu', 'embedding_size_factor': 1.3, 'embed_exponent': 0.56, 'max_embedding_dim': 100, 'y_range': None, 'y_range_extend': 0.05, 'dropout_prob': 0.4, 'optimizer': 'adam', 'learning_rate': 0.0029705977874861754, 'weight_decay': 3.366954449760058e-11, 'proc.embed_min_categories': 3, 'proc.impute_strategy': 'most_frequent', 'proc.max_category_levels': 10, 'proc.skew_threshold': 10.0, 'use_ngram_features': False, 'num_layers': 3, 'hidden_size': 128, 'max_batch_size': 512, 'use_batchnorm': True, 'loss_function': 'auto'}</td>\n",
       "      <td>0.993681</td>\n",
       "      <td>0.993616</td>\n",
       "      <td>0.993681</td>\n",
       "      <td>0.993585</td>\n",
       "      <td>NeuralNetTorch</td>\n",
       "    </tr>\n",
       "  </tbody>\n",
       "</table>\n",
       "</div>"
      ],
      "text/plain": [
       "   window_size  filter_applied resampling_tech                     model  \\\n",
       "0          360           False            None  NeuralNetFastAI/37546213   \n",
       "1          360           False            None   NeuralNetTorch/bffdccfa   \n",
       "\n",
       "                                                                                                                                                                                                                                                                                                                                                                                                                                                                                                                                                                                       hyperparameters  \\\n",
       "0                                                                                                                                                                                                                                                                                                                                                                                                                               {'layers': None, 'emb_drop': 0.1, 'ps': 0.1, 'bs': 256, 'lr': 0.01, 'epochs': 30, 'early.stopping.min_delta': 0.0001, 'early.stopping.patience': 20, 'smoothing': 0.0}   \n",
       "1  {'num_epochs': 500, 'epochs_wo_improve': 20, 'activation': 'relu', 'embedding_size_factor': 1.3, 'embed_exponent': 0.56, 'max_embedding_dim': 100, 'y_range': None, 'y_range_extend': 0.05, 'dropout_prob': 0.4, 'optimizer': 'adam', 'learning_rate': 0.0029705977874861754, 'weight_decay': 3.366954449760058e-11, 'proc.embed_min_categories': 3, 'proc.impute_strategy': 'most_frequent', 'proc.max_category_levels': 10, 'proc.skew_threshold': 10.0, 'use_ngram_features': False, 'num_layers': 3, 'hidden_size': 128, 'max_batch_size': 512, 'use_batchnorm': True, 'loss_function': 'auto'}   \n",
       "\n",
       "   accuracy  precision_weighted  recall_weighted  f1_weighted        algorithm  \n",
       "0  0.994401            0.994346         0.994401     0.994349  NeuralNetFastAI  \n",
       "1  0.993681            0.993616         0.993681     0.993585   NeuralNetTorch  "
      ]
     },
     "execution_count": 43,
     "metadata": {},
     "output_type": "execute_result"
    }
   ],
   "source": [
    "hyperparameters_all_models.head(2)"
   ]
  },
  {
   "cell_type": "markdown",
   "id": "b509080b",
   "metadata": {},
   "source": [
    "### AutoML com técnica de reamostragem ADASYN"
   ]
  },
  {
   "cell_type": "code",
   "execution_count": 44,
   "id": "609663c8",
   "metadata": {},
   "outputs": [
    {
     "name": "stdout",
     "output_type": "stream",
     "text": [
      "Distribuição de classes sem a reamostragem:  Counter({0: 56258, 1: 6053, 2: 5441, 4: 5347, 3: 1910})\n"
     ]
    }
   ],
   "source": [
    "print(\"Distribuição de classes sem a reamostragem: \", Counter(y_train))"
   ]
  },
  {
   "cell_type": "code",
   "execution_count": 45,
   "id": "b941caa2",
   "metadata": {},
   "outputs": [],
   "source": [
    "adasyn = ADASYN(sampling_strategy='minority', random_state=42)\n",
    "X_resampled_adasyn, y_resampled_adasyn = adasyn.fit_resample(X_train, y_train)"
   ]
  },
  {
   "cell_type": "code",
   "execution_count": 46,
   "id": "6e05d445",
   "metadata": {},
   "outputs": [
    {
     "name": "stdout",
     "output_type": "stream",
     "text": [
      "Distribuição de classes após a reamostragem:  Counter({0: 56258, 3: 56201, 1: 6053, 2: 5441, 4: 5347})\n"
     ]
    }
   ],
   "source": [
    "print(\"Distribuição de classes após a reamostragem: \", Counter(y_resampled_adasyn))"
   ]
  },
  {
   "cell_type": "code",
   "execution_count": 47,
   "id": "cf9ff815",
   "metadata": {},
   "outputs": [],
   "source": [
    "resampled_adasyn = X_resampled_adasyn.join(y_resampled_adasyn)"
   ]
  },
  {
   "cell_type": "code",
   "execution_count": 48,
   "id": "56c9099a",
   "metadata": {},
   "outputs": [
    {
     "data": {
      "text/html": [],
      "text/plain": [
       "<IPython.core.display.HTML object>"
      ]
     },
     "metadata": {},
     "output_type": "display_data"
    },
    {
     "name": "stderr",
     "output_type": "stream",
     "text": [
      "Fitted model: NeuralNetTorch/4e205784 ...\n",
      "\t0.9982\t = Validation score   (accuracy)\n",
      "\t258.03s\t = Training   runtime\n",
      "\t0.36s\t = Validation runtime\n",
      "Fitted model: NeuralNetTorch/62ab1405 ...\n",
      "\t0.9572\t = Validation score   (accuracy)\n",
      "\t149.02s\t = Training   runtime\n",
      "\t0.64s\t = Validation runtime\n",
      "Fitted model: NeuralNetTorch/9bd14f75 ...\n",
      "\t0.9956\t = Validation score   (accuracy)\n",
      "\t600.2s\t = Training   runtime\n",
      "\t0.47s\t = Validation runtime\n",
      "Fitted model: NeuralNetTorch/df1c8cee ...\n",
      "\t0.9932\t = Validation score   (accuracy)\n",
      "\t1974.14s\t = Training   runtime\n",
      "\t2.43s\t = Validation runtime\n",
      "Fitted model: NeuralNetTorch/5e2d32b0 ...\n",
      "\t0.9988\t = Validation score   (accuracy)\n",
      "\t451.47s\t = Training   runtime\n",
      "\t0.29s\t = Validation runtime\n",
      "Fitting model: LightGBMLarge ... Training model for up to 1993.54s of the 20933.44s of remaining time.\n",
      "\t0.9974\t = Validation score   (accuracy)\n",
      "\t328.5s\t = Training   runtime\n",
      "\t0.37s\t = Validation runtime\n",
      "Fitting model: WeightedEnsemble_L2 ... Training model for up to 2879.55s of the 20585.96s of remaining time.\n",
      "\t0.9996\t = Validation score   (accuracy)\n",
      "\t2.08s\t = Training   runtime\n",
      "\t0.0s\t = Validation runtime\n",
      "AutoGluon training complete, total runtime = 8216.85s ... Best model: \"WeightedEnsemble_L2\"\n",
      "TabularPredictor saved. To load, use: predictor = TabularPredictor.load(\"AutogluonModels/ag-20231129_214738/\")\n"
     ]
    },
    {
     "name": "stdout",
     "output_type": "stream",
     "text": [
      "CPU times: user 10h 16min 20s, sys: 2min 48s, total: 10h 19min 8s\n",
      "Wall time: 2h 16min 56s\n"
     ]
    }
   ],
   "source": [
    "%%time\n",
    "adasyn_resampling_training = TabularPredictor(label='label').fit(resampled_adasyn, time_limit=28800,\n",
    "                                                                 hyperparameter_tune_kwargs = {'num_trials': 5, 'scheduler' : 'local', 'searcher': 'auto'})"
   ]
  },
  {
   "cell_type": "markdown",
   "id": "98a8187a",
   "metadata": {},
   "source": [
    "**Dataframe de hiperparâmetros**\n",
    "\n",
    "A função ``autogluon_models_df`` trata as informações dos modelos gerados pelo TabularPredictor e retorna um dataframe com um ranking de acurácia dos modelos e facilita o processo de seleção/visualização dos hiperparâmetros de cada modelo. O datafame contém as seguintes informações: a segmentação usada, se o filtro foi aplicado, a técnica de reamostragem, o nome do modelo, os hiperparâmetros do modelo e acurácia. Nesse notebook executamos os modelos com a segmentação dos dados com uma janela de 180."
   ]
  },
  {
   "cell_type": "code",
   "execution_count": 49,
   "id": "cc29c753",
   "metadata": {},
   "outputs": [
    {
     "name": "stderr",
     "output_type": "stream",
     "text": [
      "/home/jupyter-luana@alu.ufc.br/.local/lib/python3.9/site-packages/sklearn/metrics/_classification.py:1344: UndefinedMetricWarning: Precision is ill-defined and being set to 0.0 in labels with no predicted samples. Use `zero_division` parameter to control this behavior.\n",
      "  _warn_prf(average, modifier, msg_start, len(result))\n"
     ]
    },
    {
     "name": "stdout",
     "output_type": "stream",
     "text": [
      "CPU times: user 9min 44s, sys: 3.9 s, total: 9min 47s\n",
      "Wall time: 1min 31s\n"
     ]
    }
   ],
   "source": [
    "%%time\n",
    "models_with_adasyn = autogluon_models_df(window=window_size,\n",
    "                                        filter_applied=False, \n",
    "                                        resampling_tech='adasyn',\n",
    "                                        predictor_model=adasyn_resampling_training,\n",
    "                                        test_data_=test_data)"
   ]
  },
  {
   "cell_type": "markdown",
   "id": "0535e587",
   "metadata": {},
   "source": [
    "**Ranking dos modelos com a técnica de reamostragem ADASYN e sem filtro**"
   ]
  },
  {
   "cell_type": "code",
   "execution_count": 50,
   "id": "34f22a3c",
   "metadata": {},
   "outputs": [
    {
     "data": {
      "text/html": [
       "<div>\n",
       "<style scoped>\n",
       "    .dataframe tbody tr th:only-of-type {\n",
       "        vertical-align: middle;\n",
       "    }\n",
       "\n",
       "    .dataframe tbody tr th {\n",
       "        vertical-align: top;\n",
       "    }\n",
       "\n",
       "    .dataframe thead th {\n",
       "        text-align: right;\n",
       "    }\n",
       "</style>\n",
       "<table border=\"1\" class=\"dataframe\">\n",
       "  <thead>\n",
       "    <tr style=\"text-align: right;\">\n",
       "      <th></th>\n",
       "      <th>window_size</th>\n",
       "      <th>filter_applied</th>\n",
       "      <th>resampling_tech</th>\n",
       "      <th>model</th>\n",
       "      <th>hyperparameters</th>\n",
       "      <th>accuracy</th>\n",
       "      <th>precision_weighted</th>\n",
       "      <th>recall_weighted</th>\n",
       "      <th>f1_weighted</th>\n",
       "      <th>algorithm</th>\n",
       "    </tr>\n",
       "  </thead>\n",
       "  <tbody>\n",
       "    <tr>\n",
       "      <th>0</th>\n",
       "      <td>360</td>\n",
       "      <td>False</td>\n",
       "      <td>adasyn</td>\n",
       "      <td>NeuralNetFastAI/36f55ba9</td>\n",
       "      <td>{'layers': None, 'emb_drop': 0.1, 'ps': 0.1, 'bs': 256, 'lr': 0.01, 'epochs': 30, 'early.stopping.min_delta': 0.0001, 'early.stopping.patience': 20, 'smoothing': 0.0}</td>\n",
       "      <td>0.993961</td>\n",
       "      <td>0.993959</td>\n",
       "      <td>0.993961</td>\n",
       "      <td>0.993959</td>\n",
       "      <td>NeuralNetFastAI</td>\n",
       "    </tr>\n",
       "    <tr>\n",
       "      <th>1</th>\n",
       "      <td>360</td>\n",
       "      <td>False</td>\n",
       "      <td>adasyn</td>\n",
       "      <td>NeuralNetTorch/4e205784</td>\n",
       "      <td>{'num_epochs': 500, 'epochs_wo_improve': 20, 'activation': 'relu', 'embedding_size_factor': 1.0, 'embed_exponent': 0.56, 'max_embedding_dim': 100, 'y_range': None, 'y_range_extend': 0.05, 'dropout_prob': 0.1, 'optimizer': 'adam', 'learning_rate': 0.0003, 'weight_decay': 1e-06, 'proc.embed_min_categories': 4, 'proc.impute_strategy': 'median', 'proc.max_category_levels': 100, 'proc.skew_threshold': 0.99, 'use_ngram_features': False, 'num_layers': 2, 'hidden_size': 128, 'max_batch_size': 512, 'use_batchnorm': False, 'loss_function': 'auto'}</td>\n",
       "      <td>0.992881</td>\n",
       "      <td>0.992908</td>\n",
       "      <td>0.992881</td>\n",
       "      <td>0.992893</td>\n",
       "      <td>NeuralNetTorch</td>\n",
       "    </tr>\n",
       "  </tbody>\n",
       "</table>\n",
       "</div>"
      ],
      "text/plain": [
       "   window_size  filter_applied resampling_tech                     model  \\\n",
       "0          360           False          adasyn  NeuralNetFastAI/36f55ba9   \n",
       "1          360           False          adasyn   NeuralNetTorch/4e205784   \n",
       "\n",
       "                                                                                                                                                                                                                                                                                                                                                                                                                                                                                                                                                   hyperparameters  \\\n",
       "0                                                                                                                                                                                                                                                                                                                                                                                           {'layers': None, 'emb_drop': 0.1, 'ps': 0.1, 'bs': 256, 'lr': 0.01, 'epochs': 30, 'early.stopping.min_delta': 0.0001, 'early.stopping.patience': 20, 'smoothing': 0.0}   \n",
       "1  {'num_epochs': 500, 'epochs_wo_improve': 20, 'activation': 'relu', 'embedding_size_factor': 1.0, 'embed_exponent': 0.56, 'max_embedding_dim': 100, 'y_range': None, 'y_range_extend': 0.05, 'dropout_prob': 0.1, 'optimizer': 'adam', 'learning_rate': 0.0003, 'weight_decay': 1e-06, 'proc.embed_min_categories': 4, 'proc.impute_strategy': 'median', 'proc.max_category_levels': 100, 'proc.skew_threshold': 0.99, 'use_ngram_features': False, 'num_layers': 2, 'hidden_size': 128, 'max_batch_size': 512, 'use_batchnorm': False, 'loss_function': 'auto'}   \n",
       "\n",
       "   accuracy  precision_weighted  recall_weighted  f1_weighted        algorithm  \n",
       "0  0.993961            0.993959         0.993961     0.993959  NeuralNetFastAI  \n",
       "1  0.992881            0.992908         0.992881     0.992893   NeuralNetTorch  "
      ]
     },
     "execution_count": 50,
     "metadata": {},
     "output_type": "execute_result"
    }
   ],
   "source": [
    "models_with_adasyn.head(2)"
   ]
  },
  {
   "cell_type": "markdown",
   "id": "46da2237",
   "metadata": {},
   "source": [
    "**Cálculo do intervalo de confiança**"
   ]
  },
  {
   "cell_type": "code",
   "execution_count": 135,
   "id": "983f6e74",
   "metadata": {},
   "outputs": [
    {
     "name": "stdout",
     "output_type": "stream",
     "text": [
      "Intervalo de confiança(0.9929984971363329, 0.9949195028636671)\n"
     ]
    }
   ],
   "source": [
    "z = 1.96\n",
    "f1 = 0.993959\n",
    "n = len(X_test)\n",
    "interval = z * np.sqrt((f1 * (1 - f1)) / n)\n",
    "print(f\"Intervalo de confiança{(f1-interval, f1+interval)}\")"
   ]
  },
  {
   "cell_type": "code",
   "execution_count": 51,
   "id": "75bfb155",
   "metadata": {},
   "outputs": [
    {
     "data": {
      "text/plain": [
       "LightGBM           10\n",
       "NeuralNetFastAI     5\n",
       "NeuralNetTorch      5\n",
       "XGBoost             5\n",
       "ExtraTrees          2\n",
       "RandomForest        2\n",
       "KNeighbors          2\n",
       "CatBoost            1\n",
       "Name: algorithm, dtype: int64"
      ]
     },
     "execution_count": 51,
     "metadata": {},
     "output_type": "execute_result"
    }
   ],
   "source": [
    "models_with_adasyn['algorithm'].value_counts()"
   ]
  },
  {
   "cell_type": "code",
   "execution_count": 52,
   "id": "d2c9947c",
   "metadata": {},
   "outputs": [
    {
     "data": {
      "text/plain": [
       "32"
      ]
     },
     "execution_count": 52,
     "metadata": {},
     "output_type": "execute_result"
    }
   ],
   "source": [
    "models_with_adasyn['algorithm'].value_counts().sum()"
   ]
  },
  {
   "cell_type": "markdown",
   "id": "c7644d11",
   "metadata": {},
   "source": [
    "Para evitar perda dos dados"
   ]
  },
  {
   "cell_type": "code",
   "execution_count": 53,
   "id": "666f1071",
   "metadata": {},
   "outputs": [],
   "source": [
    "models_with_adasyn.to_csv('models_with_adasyn.csv', index=False)"
   ]
  },
  {
   "cell_type": "markdown",
   "id": "69dd6a38",
   "metadata": {},
   "source": [
    "**Junção dos modelos**"
   ]
  },
  {
   "cell_type": "code",
   "execution_count": 54,
   "id": "d36f7c82",
   "metadata": {},
   "outputs": [],
   "source": [
    "hyperparameters_all_models = pd.concat([hyperparameters_all_models, models_with_adasyn])"
   ]
  },
  {
   "cell_type": "code",
   "execution_count": 55,
   "id": "f89036f9",
   "metadata": {},
   "outputs": [],
   "source": [
    "hyperparameters_all_models = hyperparameters_all_models.sort_values(by='accuracy', ascending=False)"
   ]
  },
  {
   "cell_type": "code",
   "execution_count": 56,
   "id": "7cef40b8",
   "metadata": {},
   "outputs": [],
   "source": [
    "hyperparameters_all_models = hyperparameters_all_models.reset_index(drop=True)"
   ]
  },
  {
   "cell_type": "code",
   "execution_count": 57,
   "id": "923fa9af",
   "metadata": {},
   "outputs": [
    {
     "data": {
      "text/html": [
       "<div>\n",
       "<style scoped>\n",
       "    .dataframe tbody tr th:only-of-type {\n",
       "        vertical-align: middle;\n",
       "    }\n",
       "\n",
       "    .dataframe tbody tr th {\n",
       "        vertical-align: top;\n",
       "    }\n",
       "\n",
       "    .dataframe thead th {\n",
       "        text-align: right;\n",
       "    }\n",
       "</style>\n",
       "<table border=\"1\" class=\"dataframe\">\n",
       "  <thead>\n",
       "    <tr style=\"text-align: right;\">\n",
       "      <th></th>\n",
       "      <th>window_size</th>\n",
       "      <th>filter_applied</th>\n",
       "      <th>resampling_tech</th>\n",
       "      <th>model</th>\n",
       "      <th>hyperparameters</th>\n",
       "      <th>accuracy</th>\n",
       "      <th>precision_weighted</th>\n",
       "      <th>recall_weighted</th>\n",
       "      <th>f1_weighted</th>\n",
       "      <th>algorithm</th>\n",
       "    </tr>\n",
       "  </thead>\n",
       "  <tbody>\n",
       "    <tr>\n",
       "      <th>0</th>\n",
       "      <td>360</td>\n",
       "      <td>False</td>\n",
       "      <td>None</td>\n",
       "      <td>NeuralNetFastAI/37546213</td>\n",
       "      <td>{'layers': None, 'emb_drop': 0.1, 'ps': 0.1, 'bs': 256, 'lr': 0.01, 'epochs': 30, 'early.stopping.min_delta': 0.0001, 'early.stopping.patience': 20, 'smoothing': 0.0}</td>\n",
       "      <td>0.994401</td>\n",
       "      <td>0.994346</td>\n",
       "      <td>0.994401</td>\n",
       "      <td>0.994349</td>\n",
       "      <td>NeuralNetFastAI</td>\n",
       "    </tr>\n",
       "    <tr>\n",
       "      <th>1</th>\n",
       "      <td>360</td>\n",
       "      <td>False</td>\n",
       "      <td>adasyn</td>\n",
       "      <td>NeuralNetFastAI/36f55ba9</td>\n",
       "      <td>{'layers': None, 'emb_drop': 0.1, 'ps': 0.1, 'bs': 256, 'lr': 0.01, 'epochs': 30, 'early.stopping.min_delta': 0.0001, 'early.stopping.patience': 20, 'smoothing': 0.0}</td>\n",
       "      <td>0.993961</td>\n",
       "      <td>0.993959</td>\n",
       "      <td>0.993961</td>\n",
       "      <td>0.993959</td>\n",
       "      <td>NeuralNetFastAI</td>\n",
       "    </tr>\n",
       "    <tr>\n",
       "      <th>2</th>\n",
       "      <td>360</td>\n",
       "      <td>False</td>\n",
       "      <td>None</td>\n",
       "      <td>NeuralNetTorch/bffdccfa</td>\n",
       "      <td>{'num_epochs': 500, 'epochs_wo_improve': 20, 'activation': 'relu', 'embedding_size_factor': 1.3, 'embed_exponent': 0.56, 'max_embedding_dim': 100, 'y_range': None, 'y_range_extend': 0.05, 'dropout_prob': 0.4, 'optimizer': 'adam', 'learning_rate': 0.0029705977874861754, 'weight_decay': 3.366954449760058e-11, 'proc.embed_min_categories': 3, 'proc.impute_strategy': 'most_frequent', 'proc.max_category_levels': 10, 'proc.skew_threshold': 10.0, 'use_ngram_features': False, 'num_layers': 3, 'hidden_size': 128, 'max_batch_size': 512, 'use_batchnorm': True, 'loss_function': 'auto'}</td>\n",
       "      <td>0.993681</td>\n",
       "      <td>0.993616</td>\n",
       "      <td>0.993681</td>\n",
       "      <td>0.993585</td>\n",
       "      <td>NeuralNetTorch</td>\n",
       "    </tr>\n",
       "    <tr>\n",
       "      <th>3</th>\n",
       "      <td>360</td>\n",
       "      <td>False</td>\n",
       "      <td>None</td>\n",
       "      <td>NeuralNetFastAI/99b3623d</td>\n",
       "      <td>{'layers': (200, 100), 'emb_drop': 0.13265846715063284, 'ps': 0.08147640949298857, 'bs': 256, 'lr': 0.0005375243850685625, 'epochs': 28, 'early.stopping.min_delta': 0.0001, 'early.stopping.patience': 20, 'smoothing': 0.0}</td>\n",
       "      <td>0.993441</td>\n",
       "      <td>0.993368</td>\n",
       "      <td>0.993441</td>\n",
       "      <td>0.993353</td>\n",
       "      <td>NeuralNetFastAI</td>\n",
       "    </tr>\n",
       "    <tr>\n",
       "      <th>4</th>\n",
       "      <td>360</td>\n",
       "      <td>False</td>\n",
       "      <td>smote</td>\n",
       "      <td>NeuralNetTorch/9479b6a1</td>\n",
       "      <td>{'num_epochs': 500, 'epochs_wo_improve': 20, 'activation': 'relu', 'embedding_size_factor': 1.1, 'embed_exponent': 0.56, 'max_embedding_dim': 100, 'y_range': None, 'y_range_extend': 0.05, 'dropout_prob': 0.3, 'optimizer': 'adam', 'learning_rate': 0.0002743558076081783, 'weight_decay': 5.0044368612174e-08, 'proc.embed_min_categories': 1000, 'proc.impute_strategy': 'mean', 'proc.max_category_levels': 10000, 'proc.skew_threshold': 0.9, 'use_ngram_features': False, 'num_layers': 2, 'hidden_size': 512, 'max_batch_size': 512, 'use_batchnorm': True, 'loss_function': 'auto'}</td>\n",
       "      <td>0.993361</td>\n",
       "      <td>0.993375</td>\n",
       "      <td>0.993361</td>\n",
       "      <td>0.993367</td>\n",
       "      <td>NeuralNetTorch</td>\n",
       "    </tr>\n",
       "  </tbody>\n",
       "</table>\n",
       "</div>"
      ],
      "text/plain": [
       "   window_size  filter_applied resampling_tech                     model  \\\n",
       "0          360           False            None  NeuralNetFastAI/37546213   \n",
       "1          360           False          adasyn  NeuralNetFastAI/36f55ba9   \n",
       "2          360           False            None   NeuralNetTorch/bffdccfa   \n",
       "3          360           False            None  NeuralNetFastAI/99b3623d   \n",
       "4          360           False           smote   NeuralNetTorch/9479b6a1   \n",
       "\n",
       "                                                                                                                                                                                                                                                                                                                                                                                                                                                                                                                                                                                       hyperparameters  \\\n",
       "0                                                                                                                                                                                                                                                                                                                                                                                                                               {'layers': None, 'emb_drop': 0.1, 'ps': 0.1, 'bs': 256, 'lr': 0.01, 'epochs': 30, 'early.stopping.min_delta': 0.0001, 'early.stopping.patience': 20, 'smoothing': 0.0}   \n",
       "1                                                                                                                                                                                                                                                                                                                                                                                                                               {'layers': None, 'emb_drop': 0.1, 'ps': 0.1, 'bs': 256, 'lr': 0.01, 'epochs': 30, 'early.stopping.min_delta': 0.0001, 'early.stopping.patience': 20, 'smoothing': 0.0}   \n",
       "2  {'num_epochs': 500, 'epochs_wo_improve': 20, 'activation': 'relu', 'embedding_size_factor': 1.3, 'embed_exponent': 0.56, 'max_embedding_dim': 100, 'y_range': None, 'y_range_extend': 0.05, 'dropout_prob': 0.4, 'optimizer': 'adam', 'learning_rate': 0.0029705977874861754, 'weight_decay': 3.366954449760058e-11, 'proc.embed_min_categories': 3, 'proc.impute_strategy': 'most_frequent', 'proc.max_category_levels': 10, 'proc.skew_threshold': 10.0, 'use_ngram_features': False, 'num_layers': 3, 'hidden_size': 128, 'max_batch_size': 512, 'use_batchnorm': True, 'loss_function': 'auto'}   \n",
       "3                                                                                                                                                                                                                                                                                                                                                                        {'layers': (200, 100), 'emb_drop': 0.13265846715063284, 'ps': 0.08147640949298857, 'bs': 256, 'lr': 0.0005375243850685625, 'epochs': 28, 'early.stopping.min_delta': 0.0001, 'early.stopping.patience': 20, 'smoothing': 0.0}   \n",
       "4        {'num_epochs': 500, 'epochs_wo_improve': 20, 'activation': 'relu', 'embedding_size_factor': 1.1, 'embed_exponent': 0.56, 'max_embedding_dim': 100, 'y_range': None, 'y_range_extend': 0.05, 'dropout_prob': 0.3, 'optimizer': 'adam', 'learning_rate': 0.0002743558076081783, 'weight_decay': 5.0044368612174e-08, 'proc.embed_min_categories': 1000, 'proc.impute_strategy': 'mean', 'proc.max_category_levels': 10000, 'proc.skew_threshold': 0.9, 'use_ngram_features': False, 'num_layers': 2, 'hidden_size': 512, 'max_batch_size': 512, 'use_batchnorm': True, 'loss_function': 'auto'}   \n",
       "\n",
       "   accuracy  precision_weighted  recall_weighted  f1_weighted        algorithm  \n",
       "0  0.994401            0.994346         0.994401     0.994349  NeuralNetFastAI  \n",
       "1  0.993961            0.993959         0.993961     0.993959  NeuralNetFastAI  \n",
       "2  0.993681            0.993616         0.993681     0.993585   NeuralNetTorch  \n",
       "3  0.993441            0.993368         0.993441     0.993353  NeuralNetFastAI  \n",
       "4  0.993361            0.993375         0.993361     0.993367   NeuralNetTorch  "
      ]
     },
     "execution_count": 57,
     "metadata": {},
     "output_type": "execute_result"
    }
   ],
   "source": [
    "hyperparameters_all_models.head()"
   ]
  },
  {
   "cell_type": "markdown",
   "id": "3d493c2b",
   "metadata": {},
   "source": [
    "## AutoML com redução de ruído"
   ]
  },
  {
   "cell_type": "code",
   "execution_count": 58,
   "id": "267daad7",
   "metadata": {},
   "outputs": [
    {
     "data": {
      "text/plain": [
       "((75009, 361), (25003, 361))"
      ]
     },
     "execution_count": 58,
     "metadata": {},
     "output_type": "execute_result"
    }
   ],
   "source": [
    "#removendo a coluna record_id pois ela não é necessária nas classificações \n",
    "database2 = database.iloc[:, :-1]\n",
    "train_data2, test_data2 = train_test_split(database2, random_state=42, stratify=database2.label)\n",
    "train_data2.shape, test_data2.shape "
   ]
  },
  {
   "cell_type": "code",
   "execution_count": 59,
   "id": "7fd7f13b",
   "metadata": {},
   "outputs": [
    {
     "data": {
      "text/plain": [
       "((75009, 360), (25003, 360), (75009,), (25003,))"
      ]
     },
     "execution_count": 59,
     "metadata": {},
     "output_type": "execute_result"
    }
   ],
   "source": [
    "X_train2, y_train2 = train_data2.iloc[:,:-1], train_data2['label']\n",
    "X_test2, y_test2 = test_data2.iloc[:,:-1], test_data2['label']\n",
    "X_train2.shape, X_test2.shape, y_train2.shape, y_test2.shape"
   ]
  },
  {
   "cell_type": "code",
   "execution_count": 60,
   "id": "96b35384",
   "metadata": {},
   "outputs": [
    {
     "data": {
      "text/html": [],
      "text/plain": [
       "<IPython.core.display.HTML object>"
      ]
     },
     "metadata": {},
     "output_type": "display_data"
    },
    {
     "name": "stderr",
     "output_type": "stream",
     "text": [
      "Fitted model: NeuralNetTorch/ac8e762a ...\n",
      "\t0.9944\t = Validation score   (accuracy)\n",
      "\t93.3s\t = Training   runtime\n",
      "\t0.39s\t = Validation runtime\n",
      "Fitted model: NeuralNetTorch/73ba7075 ...\n",
      "\t0.995\t = Validation score   (accuracy)\n",
      "\t177.58s\t = Training   runtime\n",
      "\t0.06s\t = Validation runtime\n",
      "Fitted model: NeuralNetTorch/ab2c5eab ...\n",
      "\t0.75\t = Validation score   (accuracy)\n",
      "\t94.98s\t = Training   runtime\n",
      "\t0.35s\t = Validation runtime\n",
      "Fitted model: NeuralNetTorch/c0ac1750 ...\n",
      "\t0.9918\t = Validation score   (accuracy)\n",
      "\t344.4s\t = Training   runtime\n",
      "\t0.4s\t = Validation runtime\n",
      "Fitted model: NeuralNetTorch/6c499a84 ...\n",
      "\t0.9946\t = Validation score   (accuracy)\n",
      "\t205.73s\t = Training   runtime\n",
      "\t0.29s\t = Validation runtime\n",
      "Fitting model: LightGBMLarge ... Training model for up to 1993.64s of the 25246.47s of remaining time.\n",
      "\t0.9936\t = Validation score   (accuracy)\n",
      "\t127.85s\t = Training   runtime\n",
      "\t0.27s\t = Validation runtime\n",
      "Fitting model: WeightedEnsemble_L2 ... Training model for up to 2879.7s of the 25110.12s of remaining time.\n",
      "\t0.9964\t = Validation score   (accuracy)\n",
      "\t2.02s\t = Training   runtime\n",
      "\t0.0s\t = Validation runtime\n",
      "AutoGluon training complete, total runtime = 3692.34s ... Best model: \"WeightedEnsemble_L2\"\n",
      "TabularPredictor saved. To load, use: predictor = TabularPredictor.load(\"AutogluonModels/ag-20231130_000608/\")\n"
     ]
    },
    {
     "name": "stdout",
     "output_type": "stream",
     "text": [
      "CPU times: user 5h 42min 48s, sys: 1min 14s, total: 5h 44min 2s\n",
      "Wall time: 1h 1min 32s\n"
     ]
    }
   ],
   "source": [
    "%%time\n",
    "predictor2 = TabularPredictor(label='label').fit(train_data2, time_limit=28800, hyperparameter_tune_kwargs = \n",
    "                                                {'num_trials': 5, 'scheduler' : 'local', 'searcher': 'auto'})"
   ]
  },
  {
   "cell_type": "markdown",
   "id": "c25e76f6",
   "metadata": {},
   "source": [
    "**Dataframe de hiperparâmetros**\n",
    "\n",
    "A função ``autogluon_models_df`` trata as informações dos modelos gerados pelo TabularPredictor e retorna um dataframe com um ranking de acurácia dos modelos e facilita o processo de seleção/visualização dos hiperparâmetros de cada modelo. O datafame contém as seguintes informações: a segmentação usada, se o filtro foi aplicado, a técnica de reamostragem, o nome do modelo, os hiperparâmetros do modelo e acurácia. Nesse notebook executamos os modelos com a segmentação dos dados com uma janela de 180."
   ]
  },
  {
   "cell_type": "code",
   "execution_count": 61,
   "id": "777213ad",
   "metadata": {},
   "outputs": [
    {
     "name": "stderr",
     "output_type": "stream",
     "text": [
      "/home/jupyter-luana@alu.ufc.br/.local/lib/python3.9/site-packages/sklearn/metrics/_classification.py:1344: UndefinedMetricWarning: Precision is ill-defined and being set to 0.0 in labels with no predicted samples. Use `zero_division` parameter to control this behavior.\n",
      "  _warn_prf(average, modifier, msg_start, len(result))\n",
      "/home/jupyter-luana@alu.ufc.br/.local/lib/python3.9/site-packages/sklearn/metrics/_classification.py:1344: UndefinedMetricWarning: Precision is ill-defined and being set to 0.0 in labels with no predicted samples. Use `zero_division` parameter to control this behavior.\n",
      "  _warn_prf(average, modifier, msg_start, len(result))\n",
      "/home/jupyter-luana@alu.ufc.br/.local/lib/python3.9/site-packages/sklearn/metrics/_classification.py:1344: UndefinedMetricWarning: Precision is ill-defined and being set to 0.0 in labels with no predicted samples. Use `zero_division` parameter to control this behavior.\n",
      "  _warn_prf(average, modifier, msg_start, len(result))\n"
     ]
    },
    {
     "name": "stdout",
     "output_type": "stream",
     "text": [
      "CPU times: user 4min 15s, sys: 2.45 s, total: 4min 18s\n",
      "Wall time: 44 s\n"
     ]
    }
   ],
   "source": [
    "%%time\n",
    "model_without_resampling2 = autogluon_models_df(window=window_size,\n",
    "                                        filter_applied=True, \n",
    "                                        resampling_tech=None,\n",
    "                                        predictor_model=predictor2,\n",
    "                                        test_data_=test_data2)"
   ]
  },
  {
   "cell_type": "markdown",
   "id": "8511da94",
   "metadata": {},
   "source": [
    "**Ranking dos modelos com a técnica de reamostragem ADASYN e sem filtro**"
   ]
  },
  {
   "cell_type": "code",
   "execution_count": 62,
   "id": "7d3cf901",
   "metadata": {},
   "outputs": [
    {
     "data": {
      "text/html": [
       "<div>\n",
       "<style scoped>\n",
       "    .dataframe tbody tr th:only-of-type {\n",
       "        vertical-align: middle;\n",
       "    }\n",
       "\n",
       "    .dataframe tbody tr th {\n",
       "        vertical-align: top;\n",
       "    }\n",
       "\n",
       "    .dataframe thead th {\n",
       "        text-align: right;\n",
       "    }\n",
       "</style>\n",
       "<table border=\"1\" class=\"dataframe\">\n",
       "  <thead>\n",
       "    <tr style=\"text-align: right;\">\n",
       "      <th></th>\n",
       "      <th>window_size</th>\n",
       "      <th>filter_applied</th>\n",
       "      <th>resampling_tech</th>\n",
       "      <th>model</th>\n",
       "      <th>hyperparameters</th>\n",
       "      <th>accuracy</th>\n",
       "      <th>precision_weighted</th>\n",
       "      <th>recall_weighted</th>\n",
       "      <th>f1_weighted</th>\n",
       "      <th>algorithm</th>\n",
       "    </tr>\n",
       "  </thead>\n",
       "  <tbody>\n",
       "    <tr>\n",
       "      <th>0</th>\n",
       "      <td>360</td>\n",
       "      <td>True</td>\n",
       "      <td>None</td>\n",
       "      <td>LightGBMXT/T1</td>\n",
       "      <td>{'learning_rate': 0.05, 'extra_trees': True, 'feature_fraction': 1.0, 'min_data_in_leaf': 20, 'num_leaves': 31}</td>\n",
       "      <td>0.994081</td>\n",
       "      <td>0.994048</td>\n",
       "      <td>0.994081</td>\n",
       "      <td>0.993997</td>\n",
       "      <td>LightGBM</td>\n",
       "    </tr>\n",
       "    <tr>\n",
       "      <th>1</th>\n",
       "      <td>360</td>\n",
       "      <td>True</td>\n",
       "      <td>None</td>\n",
       "      <td>LightGBMXT/T3</td>\n",
       "      <td>{'learning_rate': 0.049883446878335284, 'extra_trees': True, 'feature_fraction': 0.9618129346960314, 'min_data_in_leaf': 52, 'num_leaves': 52}</td>\n",
       "      <td>0.994041</td>\n",
       "      <td>0.994006</td>\n",
       "      <td>0.994041</td>\n",
       "      <td>0.993966</td>\n",
       "      <td>LightGBM</td>\n",
       "    </tr>\n",
       "  </tbody>\n",
       "</table>\n",
       "</div>"
      ],
      "text/plain": [
       "   window_size  filter_applied resampling_tech          model  \\\n",
       "0          360            True            None  LightGBMXT/T1   \n",
       "1          360            True            None  LightGBMXT/T3   \n",
       "\n",
       "                                                                                                                                  hyperparameters  \\\n",
       "0                                 {'learning_rate': 0.05, 'extra_trees': True, 'feature_fraction': 1.0, 'min_data_in_leaf': 20, 'num_leaves': 31}   \n",
       "1  {'learning_rate': 0.049883446878335284, 'extra_trees': True, 'feature_fraction': 0.9618129346960314, 'min_data_in_leaf': 52, 'num_leaves': 52}   \n",
       "\n",
       "   accuracy  precision_weighted  recall_weighted  f1_weighted algorithm  \n",
       "0  0.994081            0.994048         0.994081     0.993997  LightGBM  \n",
       "1  0.994041            0.994006         0.994041     0.993966  LightGBM  "
      ]
     },
     "execution_count": 62,
     "metadata": {},
     "output_type": "execute_result"
    }
   ],
   "source": [
    "model_without_resampling2.head(2)"
   ]
  },
  {
   "cell_type": "markdown",
   "id": "81c83048",
   "metadata": {},
   "source": [
    "**Cálculo do intervalo de confiança**"
   ]
  },
  {
   "cell_type": "code",
   "execution_count": 136,
   "id": "a028c5a8",
   "metadata": {},
   "outputs": [
    {
     "name": "stdout",
     "output_type": "stream",
     "text": [
      "Intervalo de confiança(0.9930395045488315, 0.9949544954511685)\n"
     ]
    }
   ],
   "source": [
    "z = 1.96\n",
    "f1 = 0.993997\n",
    "n = len(X_test2)\n",
    "interval = z * np.sqrt((f1 * (1 - f1)) / n)\n",
    "print(f\"Intervalo de confiança{(f1-interval, f1+interval)}\")"
   ]
  },
  {
   "cell_type": "code",
   "execution_count": 63,
   "id": "e3374e66",
   "metadata": {},
   "outputs": [
    {
     "data": {
      "text/plain": [
       "LightGBM           11\n",
       "NeuralNetFastAI     5\n",
       "NeuralNetTorch      5\n",
       "XGBoost             5\n",
       "CatBoost            3\n",
       "KNeighbors          2\n",
       "ExtraTrees          2\n",
       "RandomForest        2\n",
       "Name: algorithm, dtype: int64"
      ]
     },
     "execution_count": 63,
     "metadata": {},
     "output_type": "execute_result"
    }
   ],
   "source": [
    "model_without_resampling2['algorithm'].value_counts()"
   ]
  },
  {
   "cell_type": "code",
   "execution_count": 64,
   "id": "cff5071e",
   "metadata": {},
   "outputs": [
    {
     "data": {
      "text/plain": [
       "35"
      ]
     },
     "execution_count": 64,
     "metadata": {},
     "output_type": "execute_result"
    }
   ],
   "source": [
    "model_without_resampling2['algorithm'].value_counts().sum()"
   ]
  },
  {
   "cell_type": "markdown",
   "id": "5d69d28e",
   "metadata": {},
   "source": [
    "Para evitar perda dos dados"
   ]
  },
  {
   "cell_type": "code",
   "execution_count": 65,
   "id": "9f5fccf8",
   "metadata": {},
   "outputs": [],
   "source": [
    "model_without_resampling2.to_csv('model_without_resampling2.csv', index=False)"
   ]
  },
  {
   "cell_type": "markdown",
   "id": "ab937b10",
   "metadata": {},
   "source": [
    "**Junção dos modelos**"
   ]
  },
  {
   "cell_type": "code",
   "execution_count": 66,
   "id": "2fb4e2b9",
   "metadata": {},
   "outputs": [],
   "source": [
    "hyperparameters_all_models = pd.concat([hyperparameters_all_models, model_without_resampling2])"
   ]
  },
  {
   "cell_type": "code",
   "execution_count": 67,
   "id": "3de56bec",
   "metadata": {},
   "outputs": [],
   "source": [
    "hyperparameters_all_models = hyperparameters_all_models.sort_values(by='accuracy', ascending=False)"
   ]
  },
  {
   "cell_type": "code",
   "execution_count": 68,
   "id": "c632a5a4",
   "metadata": {},
   "outputs": [],
   "source": [
    "hyperparameters_all_models = hyperparameters_all_models.reset_index(drop=True)"
   ]
  },
  {
   "cell_type": "code",
   "execution_count": 69,
   "id": "74e33ae9",
   "metadata": {},
   "outputs": [
    {
     "data": {
      "text/html": [
       "<div>\n",
       "<style scoped>\n",
       "    .dataframe tbody tr th:only-of-type {\n",
       "        vertical-align: middle;\n",
       "    }\n",
       "\n",
       "    .dataframe tbody tr th {\n",
       "        vertical-align: top;\n",
       "    }\n",
       "\n",
       "    .dataframe thead th {\n",
       "        text-align: right;\n",
       "    }\n",
       "</style>\n",
       "<table border=\"1\" class=\"dataframe\">\n",
       "  <thead>\n",
       "    <tr style=\"text-align: right;\">\n",
       "      <th></th>\n",
       "      <th>window_size</th>\n",
       "      <th>filter_applied</th>\n",
       "      <th>resampling_tech</th>\n",
       "      <th>model</th>\n",
       "      <th>hyperparameters</th>\n",
       "      <th>accuracy</th>\n",
       "      <th>precision_weighted</th>\n",
       "      <th>recall_weighted</th>\n",
       "      <th>f1_weighted</th>\n",
       "      <th>algorithm</th>\n",
       "    </tr>\n",
       "  </thead>\n",
       "  <tbody>\n",
       "    <tr>\n",
       "      <th>0</th>\n",
       "      <td>360</td>\n",
       "      <td>False</td>\n",
       "      <td>None</td>\n",
       "      <td>NeuralNetFastAI/37546213</td>\n",
       "      <td>{'layers': None, 'emb_drop': 0.1, 'ps': 0.1, 'bs': 256, 'lr': 0.01, 'epochs': 30, 'early.stopping.min_delta': 0.0001, 'early.stopping.patience': 20, 'smoothing': 0.0}</td>\n",
       "      <td>0.994401</td>\n",
       "      <td>0.994346</td>\n",
       "      <td>0.994401</td>\n",
       "      <td>0.994349</td>\n",
       "      <td>NeuralNetFastAI</td>\n",
       "    </tr>\n",
       "    <tr>\n",
       "      <th>1</th>\n",
       "      <td>360</td>\n",
       "      <td>True</td>\n",
       "      <td>None</td>\n",
       "      <td>LightGBMXT/T1</td>\n",
       "      <td>{'learning_rate': 0.05, 'extra_trees': True, 'feature_fraction': 1.0, 'min_data_in_leaf': 20, 'num_leaves': 31}</td>\n",
       "      <td>0.994081</td>\n",
       "      <td>0.994048</td>\n",
       "      <td>0.994081</td>\n",
       "      <td>0.993997</td>\n",
       "      <td>LightGBM</td>\n",
       "    </tr>\n",
       "    <tr>\n",
       "      <th>2</th>\n",
       "      <td>360</td>\n",
       "      <td>True</td>\n",
       "      <td>None</td>\n",
       "      <td>LightGBMXT/T3</td>\n",
       "      <td>{'learning_rate': 0.049883446878335284, 'extra_trees': True, 'feature_fraction': 0.9618129346960314, 'min_data_in_leaf': 52, 'num_leaves': 52}</td>\n",
       "      <td>0.994041</td>\n",
       "      <td>0.994006</td>\n",
       "      <td>0.994041</td>\n",
       "      <td>0.993966</td>\n",
       "      <td>LightGBM</td>\n",
       "    </tr>\n",
       "    <tr>\n",
       "      <th>3</th>\n",
       "      <td>360</td>\n",
       "      <td>False</td>\n",
       "      <td>adasyn</td>\n",
       "      <td>NeuralNetFastAI/36f55ba9</td>\n",
       "      <td>{'layers': None, 'emb_drop': 0.1, 'ps': 0.1, 'bs': 256, 'lr': 0.01, 'epochs': 30, 'early.stopping.min_delta': 0.0001, 'early.stopping.patience': 20, 'smoothing': 0.0}</td>\n",
       "      <td>0.993961</td>\n",
       "      <td>0.993959</td>\n",
       "      <td>0.993961</td>\n",
       "      <td>0.993959</td>\n",
       "      <td>NeuralNetFastAI</td>\n",
       "    </tr>\n",
       "    <tr>\n",
       "      <th>4</th>\n",
       "      <td>360</td>\n",
       "      <td>True</td>\n",
       "      <td>None</td>\n",
       "      <td>LightGBMXT/T5</td>\n",
       "      <td>{'learning_rate': 0.1000260297171191, 'extra_trees': True, 'feature_fraction': 0.8694162793303375, 'min_data_in_leaf': 48, 'num_leaves': 53}</td>\n",
       "      <td>0.993801</td>\n",
       "      <td>0.993770</td>\n",
       "      <td>0.993801</td>\n",
       "      <td>0.993706</td>\n",
       "      <td>LightGBM</td>\n",
       "    </tr>\n",
       "  </tbody>\n",
       "</table>\n",
       "</div>"
      ],
      "text/plain": [
       "   window_size  filter_applied resampling_tech                     model  \\\n",
       "0          360           False            None  NeuralNetFastAI/37546213   \n",
       "1          360            True            None             LightGBMXT/T1   \n",
       "2          360            True            None             LightGBMXT/T3   \n",
       "3          360           False          adasyn  NeuralNetFastAI/36f55ba9   \n",
       "4          360            True            None             LightGBMXT/T5   \n",
       "\n",
       "                                                                                                                                                          hyperparameters  \\\n",
       "0  {'layers': None, 'emb_drop': 0.1, 'ps': 0.1, 'bs': 256, 'lr': 0.01, 'epochs': 30, 'early.stopping.min_delta': 0.0001, 'early.stopping.patience': 20, 'smoothing': 0.0}   \n",
       "1                                                         {'learning_rate': 0.05, 'extra_trees': True, 'feature_fraction': 1.0, 'min_data_in_leaf': 20, 'num_leaves': 31}   \n",
       "2                          {'learning_rate': 0.049883446878335284, 'extra_trees': True, 'feature_fraction': 0.9618129346960314, 'min_data_in_leaf': 52, 'num_leaves': 52}   \n",
       "3  {'layers': None, 'emb_drop': 0.1, 'ps': 0.1, 'bs': 256, 'lr': 0.01, 'epochs': 30, 'early.stopping.min_delta': 0.0001, 'early.stopping.patience': 20, 'smoothing': 0.0}   \n",
       "4                            {'learning_rate': 0.1000260297171191, 'extra_trees': True, 'feature_fraction': 0.8694162793303375, 'min_data_in_leaf': 48, 'num_leaves': 53}   \n",
       "\n",
       "   accuracy  precision_weighted  recall_weighted  f1_weighted        algorithm  \n",
       "0  0.994401            0.994346         0.994401     0.994349  NeuralNetFastAI  \n",
       "1  0.994081            0.994048         0.994081     0.993997         LightGBM  \n",
       "2  0.994041            0.994006         0.994041     0.993966         LightGBM  \n",
       "3  0.993961            0.993959         0.993961     0.993959  NeuralNetFastAI  \n",
       "4  0.993801            0.993770         0.993801     0.993706         LightGBM  "
      ]
     },
     "execution_count": 69,
     "metadata": {},
     "output_type": "execute_result"
    }
   ],
   "source": [
    "hyperparameters_all_models.head()"
   ]
  },
  {
   "cell_type": "markdown",
   "id": "7b836d9b",
   "metadata": {},
   "source": [
    "### AutoML com técnica de reamostragem SMOTE"
   ]
  },
  {
   "cell_type": "code",
   "execution_count": 70,
   "id": "6394a183",
   "metadata": {},
   "outputs": [],
   "source": [
    "# Aplicar SMOTE apenas no conjunto de treinamento\n",
    "smote2 = SMOTE(sampling_strategy='auto')"
   ]
  },
  {
   "cell_type": "code",
   "execution_count": 71,
   "id": "00ff33f5",
   "metadata": {},
   "outputs": [
    {
     "name": "stdout",
     "output_type": "stream",
     "text": [
      "Distribuição de classes sem a reamostragem:  Counter({0: 56258, 1: 6053, 2: 5441, 4: 5347, 3: 1910})\n"
     ]
    }
   ],
   "source": [
    "print(\"Distribuição de classes sem a reamostragem: \", Counter(y_train2))"
   ]
  },
  {
   "cell_type": "code",
   "execution_count": 72,
   "id": "d42d35b6",
   "metadata": {},
   "outputs": [
    {
     "name": "stdout",
     "output_type": "stream",
     "text": [
      "CPU times: user 7.85 s, sys: 782 ms, total: 8.64 s\n",
      "Wall time: 3.07 s\n"
     ]
    }
   ],
   "source": [
    "%%time\n",
    "X_resampled_smote2, y_resampled_smote2 = smote2.fit_resample(X_train2, y_train2)"
   ]
  },
  {
   "cell_type": "code",
   "execution_count": 73,
   "id": "7275f3fd",
   "metadata": {},
   "outputs": [
    {
     "name": "stdout",
     "output_type": "stream",
     "text": [
      "Distribuição de classes após a reamostragem:  Counter({1: 56258, 0: 56258, 4: 56258, 2: 56258, 3: 56258})\n"
     ]
    }
   ],
   "source": [
    "print(\"Distribuição de classes após a reamostragem: \", Counter(y_resampled_smote2))"
   ]
  },
  {
   "cell_type": "code",
   "execution_count": 74,
   "id": "c4cf476e",
   "metadata": {},
   "outputs": [
    {
     "data": {
      "text/html": [
       "<div>\n",
       "<style scoped>\n",
       "    .dataframe tbody tr th:only-of-type {\n",
       "        vertical-align: middle;\n",
       "    }\n",
       "\n",
       "    .dataframe tbody tr th {\n",
       "        vertical-align: top;\n",
       "    }\n",
       "\n",
       "    .dataframe thead th {\n",
       "        text-align: right;\n",
       "    }\n",
       "</style>\n",
       "<table border=\"1\" class=\"dataframe\">\n",
       "  <thead>\n",
       "    <tr style=\"text-align: right;\">\n",
       "      <th></th>\n",
       "      <th>0</th>\n",
       "      <th>1</th>\n",
       "      <th>2</th>\n",
       "      <th>3</th>\n",
       "      <th>4</th>\n",
       "      <th>5</th>\n",
       "      <th>6</th>\n",
       "      <th>7</th>\n",
       "      <th>8</th>\n",
       "      <th>9</th>\n",
       "      <th>...</th>\n",
       "      <th>351</th>\n",
       "      <th>352</th>\n",
       "      <th>353</th>\n",
       "      <th>354</th>\n",
       "      <th>355</th>\n",
       "      <th>356</th>\n",
       "      <th>357</th>\n",
       "      <th>358</th>\n",
       "      <th>359</th>\n",
       "      <th>label</th>\n",
       "    </tr>\n",
       "  </thead>\n",
       "  <tbody>\n",
       "    <tr>\n",
       "      <th>0</th>\n",
       "      <td>0.008124</td>\n",
       "      <td>0.015677</td>\n",
       "      <td>0.020455</td>\n",
       "      <td>0.024539</td>\n",
       "      <td>0.026541</td>\n",
       "      <td>0.027155</td>\n",
       "      <td>0.027535</td>\n",
       "      <td>0.026990</td>\n",
       "      <td>0.026212</td>\n",
       "      <td>0.025200</td>\n",
       "      <td>...</td>\n",
       "      <td>-1.155663</td>\n",
       "      <td>-1.206291</td>\n",
       "      <td>-1.239591</td>\n",
       "      <td>-1.252329</td>\n",
       "      <td>-1.246351</td>\n",
       "      <td>-1.225124</td>\n",
       "      <td>-1.194193</td>\n",
       "      <td>-1.159795</td>\n",
       "      <td>-1.129093</td>\n",
       "      <td>1</td>\n",
       "    </tr>\n",
       "    <tr>\n",
       "      <th>1</th>\n",
       "      <td>-0.736922</td>\n",
       "      <td>-0.749586</td>\n",
       "      <td>-0.761418</td>\n",
       "      <td>-0.768311</td>\n",
       "      <td>-0.769856</td>\n",
       "      <td>-0.763590</td>\n",
       "      <td>-0.746639</td>\n",
       "      <td>-0.723108</td>\n",
       "      <td>-0.695870</td>\n",
       "      <td>-0.669032</td>\n",
       "      <td>...</td>\n",
       "      <td>-0.055097</td>\n",
       "      <td>-0.044900</td>\n",
       "      <td>-0.025687</td>\n",
       "      <td>0.000077</td>\n",
       "      <td>0.033625</td>\n",
       "      <td>0.071672</td>\n",
       "      <td>0.114629</td>\n",
       "      <td>0.158390</td>\n",
       "      <td>0.201314</td>\n",
       "      <td>0</td>\n",
       "    </tr>\n",
       "    <tr>\n",
       "      <th>2</th>\n",
       "      <td>-0.436176</td>\n",
       "      <td>-0.485041</td>\n",
       "      <td>-0.521780</td>\n",
       "      <td>-0.544266</td>\n",
       "      <td>-0.553989</td>\n",
       "      <td>-0.554136</td>\n",
       "      <td>-0.550021</td>\n",
       "      <td>-0.545684</td>\n",
       "      <td>-0.543463</td>\n",
       "      <td>-0.544207</td>\n",
       "      <td>...</td>\n",
       "      <td>-0.127656</td>\n",
       "      <td>-0.126182</td>\n",
       "      <td>-0.123452</td>\n",
       "      <td>-0.117977</td>\n",
       "      <td>-0.111670</td>\n",
       "      <td>-0.106659</td>\n",
       "      <td>-0.104004</td>\n",
       "      <td>-0.104345</td>\n",
       "      <td>-0.106617</td>\n",
       "      <td>4</td>\n",
       "    </tr>\n",
       "    <tr>\n",
       "      <th>3</th>\n",
       "      <td>-0.552203</td>\n",
       "      <td>-0.573895</td>\n",
       "      <td>-0.598598</td>\n",
       "      <td>-0.622541</td>\n",
       "      <td>-0.642208</td>\n",
       "      <td>-0.657600</td>\n",
       "      <td>-0.668714</td>\n",
       "      <td>-0.674548</td>\n",
       "      <td>-0.672337</td>\n",
       "      <td>-0.662332</td>\n",
       "      <td>...</td>\n",
       "      <td>-0.324201</td>\n",
       "      <td>-0.350999</td>\n",
       "      <td>-0.363740</td>\n",
       "      <td>-0.360916</td>\n",
       "      <td>-0.353081</td>\n",
       "      <td>-0.352292</td>\n",
       "      <td>-0.366089</td>\n",
       "      <td>-0.394972</td>\n",
       "      <td>-0.437185</td>\n",
       "      <td>0</td>\n",
       "    </tr>\n",
       "    <tr>\n",
       "      <th>4</th>\n",
       "      <td>-0.606583</td>\n",
       "      <td>-0.605663</td>\n",
       "      <td>-0.603877</td>\n",
       "      <td>-0.599932</td>\n",
       "      <td>-0.595120</td>\n",
       "      <td>-0.593321</td>\n",
       "      <td>-0.590655</td>\n",
       "      <td>-0.587123</td>\n",
       "      <td>-0.579708</td>\n",
       "      <td>-0.569271</td>\n",
       "      <td>...</td>\n",
       "      <td>-0.463468</td>\n",
       "      <td>-0.481132</td>\n",
       "      <td>-0.497076</td>\n",
       "      <td>-0.512162</td>\n",
       "      <td>-0.524666</td>\n",
       "      <td>-0.532865</td>\n",
       "      <td>-0.536328</td>\n",
       "      <td>-0.536778</td>\n",
       "      <td>-0.538095</td>\n",
       "      <td>4</td>\n",
       "    </tr>\n",
       "  </tbody>\n",
       "</table>\n",
       "<p>5 rows × 361 columns</p>\n",
       "</div>"
      ],
      "text/plain": [
       "          0         1         2         3         4         5         6  \\\n",
       "0  0.008124  0.015677  0.020455  0.024539  0.026541  0.027155  0.027535   \n",
       "1 -0.736922 -0.749586 -0.761418 -0.768311 -0.769856 -0.763590 -0.746639   \n",
       "2 -0.436176 -0.485041 -0.521780 -0.544266 -0.553989 -0.554136 -0.550021   \n",
       "3 -0.552203 -0.573895 -0.598598 -0.622541 -0.642208 -0.657600 -0.668714   \n",
       "4 -0.606583 -0.605663 -0.603877 -0.599932 -0.595120 -0.593321 -0.590655   \n",
       "\n",
       "          7         8         9  ...       351       352       353       354  \\\n",
       "0  0.026990  0.026212  0.025200  ... -1.155663 -1.206291 -1.239591 -1.252329   \n",
       "1 -0.723108 -0.695870 -0.669032  ... -0.055097 -0.044900 -0.025687  0.000077   \n",
       "2 -0.545684 -0.543463 -0.544207  ... -0.127656 -0.126182 -0.123452 -0.117977   \n",
       "3 -0.674548 -0.672337 -0.662332  ... -0.324201 -0.350999 -0.363740 -0.360916   \n",
       "4 -0.587123 -0.579708 -0.569271  ... -0.463468 -0.481132 -0.497076 -0.512162   \n",
       "\n",
       "        355       356       357       358       359  label  \n",
       "0 -1.246351 -1.225124 -1.194193 -1.159795 -1.129093      1  \n",
       "1  0.033625  0.071672  0.114629  0.158390  0.201314      0  \n",
       "2 -0.111670 -0.106659 -0.104004 -0.104345 -0.106617      4  \n",
       "3 -0.353081 -0.352292 -0.366089 -0.394972 -0.437185      0  \n",
       "4 -0.524666 -0.532865 -0.536328 -0.536778 -0.538095      4  \n",
       "\n",
       "[5 rows x 361 columns]"
      ]
     },
     "execution_count": 74,
     "metadata": {},
     "output_type": "execute_result"
    }
   ],
   "source": [
    "resampled_smote2 = X_resampled_smote2.join(y_resampled_smote2)\n",
    "resampled_smote2.head()"
   ]
  },
  {
   "cell_type": "code",
   "execution_count": 75,
   "id": "6d5ca27b",
   "metadata": {},
   "outputs": [
    {
     "data": {
      "text/html": [],
      "text/plain": [
       "<IPython.core.display.HTML object>"
      ]
     },
     "metadata": {},
     "output_type": "display_data"
    },
    {
     "name": "stderr",
     "output_type": "stream",
     "text": [
      "Fitted model: NeuralNetTorch/6a55c9e2 ...\n",
      "\t0.9996\t = Validation score   (accuracy)\n",
      "\t370.07s\t = Training   runtime\n",
      "\t0.34s\t = Validation runtime\n",
      "Fitted model: NeuralNetTorch/4e63d377 ...\n",
      "\t0.9915\t = Validation score   (accuracy)\n",
      "\t385.55s\t = Training   runtime\n",
      "\t0.35s\t = Validation runtime\n",
      "Fitted model: NeuralNetTorch/dadba6f3 ...\n",
      "\t0.9993\t = Validation score   (accuracy)\n",
      "\t502.34s\t = Training   runtime\n",
      "\t0.35s\t = Validation runtime\n",
      "Fitted model: NeuralNetTorch/75a74c83 ...\n",
      "\t0.9991\t = Validation score   (accuracy)\n",
      "\t764.38s\t = Training   runtime\n",
      "\t0.35s\t = Validation runtime\n",
      "Fitted model: NeuralNetTorch/fdbf045e ...\n",
      "\t0.9758\t = Validation score   (accuracy)\n",
      "\t516.17s\t = Training   runtime\n",
      "\t0.68s\t = Validation runtime\n",
      "Fitting model: LightGBMLarge ... Training model for up to 1993.09s of the 18548.66s of remaining time.\n",
      "\t0.9993\t = Validation score   (accuracy)\n",
      "\t299.55s\t = Training   runtime\n",
      "\t0.17s\t = Validation runtime\n",
      "Fitting model: WeightedEnsemble_L2 ... Training model for up to 2878.91s of the 18227.18s of remaining time.\n",
      "\t0.9998\t = Validation score   (accuracy)\n",
      "\t2.31s\t = Training   runtime\n",
      "\t0.0s\t = Validation runtime\n",
      "AutoGluon training complete, total runtime = 10576.65s ... Best model: \"WeightedEnsemble_L2\"\n",
      "TabularPredictor saved. To load, use: predictor = TabularPredictor.load(\"AutogluonModels/ag-20231130_010828/\")\n"
     ]
    },
    {
     "name": "stdout",
     "output_type": "stream",
     "text": [
      "CPU times: user 16h 27min 16s, sys: 3min 38s, total: 16h 30min 54s\n",
      "Wall time: 2h 56min 16s\n"
     ]
    }
   ],
   "source": [
    "%%time\n",
    "smote_resampling_training2 = TabularPredictor(label='label').fit(resampled_smote2, time_limit=28800,\n",
    "                                                                 hyperparameter_tune_kwargs = {'num_trials': 5, 'scheduler' : 'local', 'searcher': 'auto'})"
   ]
  },
  {
   "cell_type": "markdown",
   "id": "d4136069",
   "metadata": {},
   "source": [
    "**Dataframe de hiperparâmetros**\n",
    "\n",
    "A função ``autogluon_models_df`` trata as informações dos modelos gerados pelo TabularPredictor e retorna um dataframe com um ranking de acurácia dos modelos e facilita o processo de seleção/visualização dos hiperparâmetros de cada modelo. O datafame contém as seguintes informações: a segmentação usada, se o filtro foi aplicado, a técnica de reamostragem, o nome do modelo, os hiperparâmetros do modelo e acurácia. Nesse notebook executamos os modelos com a segmentação dos dados com uma janela de 180."
   ]
  },
  {
   "cell_type": "code",
   "execution_count": 76,
   "id": "88ff463c",
   "metadata": {},
   "outputs": [
    {
     "name": "stdout",
     "output_type": "stream",
     "text": [
      "CPU times: user 13min 9s, sys: 4.57 s, total: 13min 14s\n",
      "Wall time: 1min 40s\n"
     ]
    }
   ],
   "source": [
    "%%time\n",
    "models_with_smote2 = autogluon_models_df(window=window_size,\n",
    "                                        filter_applied=True, \n",
    "                                        resampling_tech='smote',\n",
    "                                        predictor_model=smote_resampling_training2,\n",
    "                                        test_data_=test_data2)"
   ]
  },
  {
   "cell_type": "markdown",
   "id": "ab9564d4",
   "metadata": {},
   "source": [
    "**Ranking dos modelos com a técnica de reamostragem SMOTE e com filtro**"
   ]
  },
  {
   "cell_type": "code",
   "execution_count": 77,
   "id": "91878059",
   "metadata": {},
   "outputs": [
    {
     "data": {
      "text/html": [
       "<div>\n",
       "<style scoped>\n",
       "    .dataframe tbody tr th:only-of-type {\n",
       "        vertical-align: middle;\n",
       "    }\n",
       "\n",
       "    .dataframe tbody tr th {\n",
       "        vertical-align: top;\n",
       "    }\n",
       "\n",
       "    .dataframe thead th {\n",
       "        text-align: right;\n",
       "    }\n",
       "</style>\n",
       "<table border=\"1\" class=\"dataframe\">\n",
       "  <thead>\n",
       "    <tr style=\"text-align: right;\">\n",
       "      <th></th>\n",
       "      <th>window_size</th>\n",
       "      <th>filter_applied</th>\n",
       "      <th>resampling_tech</th>\n",
       "      <th>model</th>\n",
       "      <th>hyperparameters</th>\n",
       "      <th>accuracy</th>\n",
       "      <th>precision_weighted</th>\n",
       "      <th>recall_weighted</th>\n",
       "      <th>f1_weighted</th>\n",
       "      <th>algorithm</th>\n",
       "    </tr>\n",
       "  </thead>\n",
       "  <tbody>\n",
       "    <tr>\n",
       "      <th>0</th>\n",
       "      <td>360</td>\n",
       "      <td>True</td>\n",
       "      <td>smote</td>\n",
       "      <td>NeuralNetFastAI/5bd0550d</td>\n",
       "      <td>{'layers': None, 'emb_drop': 0.1, 'ps': 0.1, 'bs': 256, 'lr': 0.01, 'epochs': 30, 'early.stopping.min_delta': 0.0001, 'early.stopping.patience': 20, 'smoothing': 0.0}</td>\n",
       "      <td>0.994081</td>\n",
       "      <td>0.994118</td>\n",
       "      <td>0.994081</td>\n",
       "      <td>0.994097</td>\n",
       "      <td>NeuralNetFastAI</td>\n",
       "    </tr>\n",
       "    <tr>\n",
       "      <th>1</th>\n",
       "      <td>360</td>\n",
       "      <td>True</td>\n",
       "      <td>smote</td>\n",
       "      <td>LightGBM/T5</td>\n",
       "      <td>{'learning_rate': 0.1000260297171191, 'feature_fraction': 0.8694162793303375, 'min_data_in_leaf': 48, 'num_leaves': 53}</td>\n",
       "      <td>0.993801</td>\n",
       "      <td>0.993804</td>\n",
       "      <td>0.993801</td>\n",
       "      <td>0.993802</td>\n",
       "      <td>LightGBM</td>\n",
       "    </tr>\n",
       "  </tbody>\n",
       "</table>\n",
       "</div>"
      ],
      "text/plain": [
       "   window_size  filter_applied resampling_tech                     model  \\\n",
       "0          360            True           smote  NeuralNetFastAI/5bd0550d   \n",
       "1          360            True           smote               LightGBM/T5   \n",
       "\n",
       "                                                                                                                                                          hyperparameters  \\\n",
       "0  {'layers': None, 'emb_drop': 0.1, 'ps': 0.1, 'bs': 256, 'lr': 0.01, 'epochs': 30, 'early.stopping.min_delta': 0.0001, 'early.stopping.patience': 20, 'smoothing': 0.0}   \n",
       "1                                                 {'learning_rate': 0.1000260297171191, 'feature_fraction': 0.8694162793303375, 'min_data_in_leaf': 48, 'num_leaves': 53}   \n",
       "\n",
       "   accuracy  precision_weighted  recall_weighted  f1_weighted        algorithm  \n",
       "0  0.994081            0.994118         0.994081     0.994097  NeuralNetFastAI  \n",
       "1  0.993801            0.993804         0.993801     0.993802         LightGBM  "
      ]
     },
     "execution_count": 77,
     "metadata": {},
     "output_type": "execute_result"
    }
   ],
   "source": [
    "models_with_smote2.head(2)"
   ]
  },
  {
   "cell_type": "markdown",
   "id": "a75d242d",
   "metadata": {},
   "source": [
    "**Cálculo do intervalo de confiança**"
   ]
  },
  {
   "cell_type": "code",
   "execution_count": 137,
   "id": "7cdb4a49",
   "metadata": {},
   "outputs": [
    {
     "name": "stdout",
     "output_type": "stream",
     "text": [
      "Intervalo de confiança(0.9931474654228719, 0.9950465345771281)\n"
     ]
    }
   ],
   "source": [
    "z = 1.96\n",
    "f1 = 0.994097\n",
    "n = len(X_test2)\n",
    "interval = z * np.sqrt((f1 * (1 - f1)) / n)\n",
    "print(f\"Intervalo de confiança{(f1-interval, f1+interval)}\")"
   ]
  },
  {
   "cell_type": "code",
   "execution_count": 78,
   "id": "6b6e9b93",
   "metadata": {},
   "outputs": [
    {
     "data": {
      "text/plain": [
       "LightGBM           11\n",
       "NeuralNetFastAI     5\n",
       "NeuralNetTorch      5\n",
       "XGBoost             4\n",
       "CatBoost            3\n",
       "ExtraTrees          2\n",
       "RandomForest        2\n",
       "KNeighbors          2\n",
       "Name: algorithm, dtype: int64"
      ]
     },
     "execution_count": 78,
     "metadata": {},
     "output_type": "execute_result"
    }
   ],
   "source": [
    "models_with_smote2['algorithm'].value_counts()"
   ]
  },
  {
   "cell_type": "code",
   "execution_count": 79,
   "id": "d1f69b57",
   "metadata": {},
   "outputs": [
    {
     "data": {
      "text/plain": [
       "34"
      ]
     },
     "execution_count": 79,
     "metadata": {},
     "output_type": "execute_result"
    }
   ],
   "source": [
    "models_with_smote2['algorithm'].value_counts().sum()"
   ]
  },
  {
   "cell_type": "markdown",
   "id": "de57cae6",
   "metadata": {},
   "source": [
    "Para evitar perda dos dados"
   ]
  },
  {
   "cell_type": "code",
   "execution_count": 80,
   "id": "4a08e42f",
   "metadata": {},
   "outputs": [],
   "source": [
    "models_with_smote2.to_csv('models_with_smote2.csv', index=False)"
   ]
  },
  {
   "cell_type": "markdown",
   "id": "6726916d",
   "metadata": {},
   "source": [
    "**Junção dos modelos**"
   ]
  },
  {
   "cell_type": "code",
   "execution_count": 81,
   "id": "3b646773",
   "metadata": {},
   "outputs": [],
   "source": [
    "hyperparameters_all_models = pd.concat([hyperparameters_all_models, models_with_smote2])"
   ]
  },
  {
   "cell_type": "code",
   "execution_count": 82,
   "id": "0563bed8",
   "metadata": {},
   "outputs": [],
   "source": [
    "hyperparameters_all_models = hyperparameters_all_models.sort_values(by='accuracy', ascending=False)"
   ]
  },
  {
   "cell_type": "code",
   "execution_count": 83,
   "id": "f68ddd0f",
   "metadata": {},
   "outputs": [],
   "source": [
    "hyperparameters_all_models = hyperparameters_all_models.reset_index(drop=True)"
   ]
  },
  {
   "cell_type": "code",
   "execution_count": 84,
   "id": "3c90d665",
   "metadata": {},
   "outputs": [
    {
     "data": {
      "text/html": [
       "<div>\n",
       "<style scoped>\n",
       "    .dataframe tbody tr th:only-of-type {\n",
       "        vertical-align: middle;\n",
       "    }\n",
       "\n",
       "    .dataframe tbody tr th {\n",
       "        vertical-align: top;\n",
       "    }\n",
       "\n",
       "    .dataframe thead th {\n",
       "        text-align: right;\n",
       "    }\n",
       "</style>\n",
       "<table border=\"1\" class=\"dataframe\">\n",
       "  <thead>\n",
       "    <tr style=\"text-align: right;\">\n",
       "      <th></th>\n",
       "      <th>window_size</th>\n",
       "      <th>filter_applied</th>\n",
       "      <th>resampling_tech</th>\n",
       "      <th>model</th>\n",
       "      <th>hyperparameters</th>\n",
       "      <th>accuracy</th>\n",
       "      <th>precision_weighted</th>\n",
       "      <th>recall_weighted</th>\n",
       "      <th>f1_weighted</th>\n",
       "      <th>algorithm</th>\n",
       "    </tr>\n",
       "  </thead>\n",
       "  <tbody>\n",
       "    <tr>\n",
       "      <th>0</th>\n",
       "      <td>360</td>\n",
       "      <td>False</td>\n",
       "      <td>None</td>\n",
       "      <td>NeuralNetFastAI/37546213</td>\n",
       "      <td>{'layers': None, 'emb_drop': 0.1, 'ps': 0.1, 'bs': 256, 'lr': 0.01, 'epochs': 30, 'early.stopping.min_delta': 0.0001, 'early.stopping.patience': 20, 'smoothing': 0.0}</td>\n",
       "      <td>0.994401</td>\n",
       "      <td>0.994346</td>\n",
       "      <td>0.994401</td>\n",
       "      <td>0.994349</td>\n",
       "      <td>NeuralNetFastAI</td>\n",
       "    </tr>\n",
       "    <tr>\n",
       "      <th>1</th>\n",
       "      <td>360</td>\n",
       "      <td>True</td>\n",
       "      <td>smote</td>\n",
       "      <td>NeuralNetFastAI/5bd0550d</td>\n",
       "      <td>{'layers': None, 'emb_drop': 0.1, 'ps': 0.1, 'bs': 256, 'lr': 0.01, 'epochs': 30, 'early.stopping.min_delta': 0.0001, 'early.stopping.patience': 20, 'smoothing': 0.0}</td>\n",
       "      <td>0.994081</td>\n",
       "      <td>0.994118</td>\n",
       "      <td>0.994081</td>\n",
       "      <td>0.994097</td>\n",
       "      <td>NeuralNetFastAI</td>\n",
       "    </tr>\n",
       "    <tr>\n",
       "      <th>2</th>\n",
       "      <td>360</td>\n",
       "      <td>True</td>\n",
       "      <td>None</td>\n",
       "      <td>LightGBMXT/T1</td>\n",
       "      <td>{'learning_rate': 0.05, 'extra_trees': True, 'feature_fraction': 1.0, 'min_data_in_leaf': 20, 'num_leaves': 31}</td>\n",
       "      <td>0.994081</td>\n",
       "      <td>0.994048</td>\n",
       "      <td>0.994081</td>\n",
       "      <td>0.993997</td>\n",
       "      <td>LightGBM</td>\n",
       "    </tr>\n",
       "    <tr>\n",
       "      <th>3</th>\n",
       "      <td>360</td>\n",
       "      <td>True</td>\n",
       "      <td>None</td>\n",
       "      <td>LightGBMXT/T3</td>\n",
       "      <td>{'learning_rate': 0.049883446878335284, 'extra_trees': True, 'feature_fraction': 0.9618129346960314, 'min_data_in_leaf': 52, 'num_leaves': 52}</td>\n",
       "      <td>0.994041</td>\n",
       "      <td>0.994006</td>\n",
       "      <td>0.994041</td>\n",
       "      <td>0.993966</td>\n",
       "      <td>LightGBM</td>\n",
       "    </tr>\n",
       "    <tr>\n",
       "      <th>4</th>\n",
       "      <td>360</td>\n",
       "      <td>False</td>\n",
       "      <td>adasyn</td>\n",
       "      <td>NeuralNetFastAI/36f55ba9</td>\n",
       "      <td>{'layers': None, 'emb_drop': 0.1, 'ps': 0.1, 'bs': 256, 'lr': 0.01, 'epochs': 30, 'early.stopping.min_delta': 0.0001, 'early.stopping.patience': 20, 'smoothing': 0.0}</td>\n",
       "      <td>0.993961</td>\n",
       "      <td>0.993959</td>\n",
       "      <td>0.993961</td>\n",
       "      <td>0.993959</td>\n",
       "      <td>NeuralNetFastAI</td>\n",
       "    </tr>\n",
       "  </tbody>\n",
       "</table>\n",
       "</div>"
      ],
      "text/plain": [
       "   window_size  filter_applied resampling_tech                     model  \\\n",
       "0          360           False            None  NeuralNetFastAI/37546213   \n",
       "1          360            True           smote  NeuralNetFastAI/5bd0550d   \n",
       "2          360            True            None             LightGBMXT/T1   \n",
       "3          360            True            None             LightGBMXT/T3   \n",
       "4          360           False          adasyn  NeuralNetFastAI/36f55ba9   \n",
       "\n",
       "                                                                                                                                                          hyperparameters  \\\n",
       "0  {'layers': None, 'emb_drop': 0.1, 'ps': 0.1, 'bs': 256, 'lr': 0.01, 'epochs': 30, 'early.stopping.min_delta': 0.0001, 'early.stopping.patience': 20, 'smoothing': 0.0}   \n",
       "1  {'layers': None, 'emb_drop': 0.1, 'ps': 0.1, 'bs': 256, 'lr': 0.01, 'epochs': 30, 'early.stopping.min_delta': 0.0001, 'early.stopping.patience': 20, 'smoothing': 0.0}   \n",
       "2                                                         {'learning_rate': 0.05, 'extra_trees': True, 'feature_fraction': 1.0, 'min_data_in_leaf': 20, 'num_leaves': 31}   \n",
       "3                          {'learning_rate': 0.049883446878335284, 'extra_trees': True, 'feature_fraction': 0.9618129346960314, 'min_data_in_leaf': 52, 'num_leaves': 52}   \n",
       "4  {'layers': None, 'emb_drop': 0.1, 'ps': 0.1, 'bs': 256, 'lr': 0.01, 'epochs': 30, 'early.stopping.min_delta': 0.0001, 'early.stopping.patience': 20, 'smoothing': 0.0}   \n",
       "\n",
       "   accuracy  precision_weighted  recall_weighted  f1_weighted        algorithm  \n",
       "0  0.994401            0.994346         0.994401     0.994349  NeuralNetFastAI  \n",
       "1  0.994081            0.994118         0.994081     0.994097  NeuralNetFastAI  \n",
       "2  0.994081            0.994048         0.994081     0.993997         LightGBM  \n",
       "3  0.994041            0.994006         0.994041     0.993966         LightGBM  \n",
       "4  0.993961            0.993959         0.993961     0.993959  NeuralNetFastAI  "
      ]
     },
     "execution_count": 84,
     "metadata": {},
     "output_type": "execute_result"
    }
   ],
   "source": [
    "hyperparameters_all_models.head()"
   ]
  },
  {
   "cell_type": "markdown",
   "id": "48305bf6",
   "metadata": {},
   "source": [
    "### AutoML com técnica de reamostragem ADASYN"
   ]
  },
  {
   "cell_type": "code",
   "execution_count": 85,
   "id": "cec3d78b",
   "metadata": {},
   "outputs": [
    {
     "name": "stdout",
     "output_type": "stream",
     "text": [
      "Distribuição de classes sem a reamostragem:  Counter({0: 56258, 1: 6053, 2: 5441, 4: 5347, 3: 1910})\n"
     ]
    }
   ],
   "source": [
    "print(\"Distribuição de classes sem a reamostragem: \", Counter(y_train2))"
   ]
  },
  {
   "cell_type": "code",
   "execution_count": 86,
   "id": "76fa31a4",
   "metadata": {},
   "outputs": [],
   "source": [
    "adasyn2 = ADASYN(sampling_strategy='minority', random_state=42)\n",
    "X_resampled_adasyn2, y_resampled_adasyn2 = adasyn.fit_resample(X_train2, y_train2)"
   ]
  },
  {
   "cell_type": "code",
   "execution_count": 87,
   "id": "d9efe28b",
   "metadata": {},
   "outputs": [
    {
     "name": "stdout",
     "output_type": "stream",
     "text": [
      "Distribuição de classes após a reamostragem:  Counter({3: 56288, 0: 56258, 1: 6053, 2: 5441, 4: 5347})\n"
     ]
    }
   ],
   "source": [
    "print(\"Distribuição de classes após a reamostragem: \", Counter(y_resampled_adasyn2))"
   ]
  },
  {
   "cell_type": "code",
   "execution_count": 88,
   "id": "49480350",
   "metadata": {},
   "outputs": [],
   "source": [
    "resampled_adasyn2 = X_resampled_adasyn2.join(y_resampled_adasyn2)"
   ]
  },
  {
   "cell_type": "code",
   "execution_count": 89,
   "id": "478180cf",
   "metadata": {},
   "outputs": [
    {
     "data": {
      "text/html": [],
      "text/plain": [
       "<IPython.core.display.HTML object>"
      ]
     },
     "metadata": {},
     "output_type": "display_data"
    },
    {
     "name": "stderr",
     "output_type": "stream",
     "text": [
      "Fitted model: NeuralNetTorch/d7c80f6d ...\n",
      "\t0.9982\t = Validation score   (accuracy)\n",
      "\t189.49s\t = Training   runtime\n",
      "\t0.38s\t = Validation runtime\n",
      "Fitted model: NeuralNetTorch/a931bff5 ...\n",
      "\t0.989\t = Validation score   (accuracy)\n",
      "\t203.67s\t = Training   runtime\n",
      "\t0.63s\t = Validation runtime\n",
      "Fitted model: NeuralNetTorch/20fcf9f7 ...\n",
      "\t0.988\t = Validation score   (accuracy)\n",
      "\t232.47s\t = Training   runtime\n",
      "\t0.5s\t = Validation runtime\n",
      "Fitted model: NeuralNetTorch/3099c3c7 ...\n",
      "\t0.9848\t = Validation score   (accuracy)\n",
      "\t282.99s\t = Training   runtime\n",
      "\t0.33s\t = Validation runtime\n",
      "Fitted model: NeuralNetTorch/1f192d46 ...\n",
      "\t0.9942\t = Validation score   (accuracy)\n",
      "\t525.88s\t = Training   runtime\n",
      "\t0.51s\t = Validation runtime\n",
      "Fitting model: LightGBMLarge ... Training model for up to 1993.49s of the 22454.46s of remaining time.\n",
      "\t0.997\t = Validation score   (accuracy)\n",
      "\t225.53s\t = Training   runtime\n",
      "\t0.23s\t = Validation runtime\n",
      "Fitting model: WeightedEnsemble_L2 ... Training model for up to 2879.49s of the 22214.28s of remaining time.\n",
      "\t0.999\t = Validation score   (accuracy)\n",
      "\t2.08s\t = Training   runtime\n",
      "\t0.0s\t = Validation runtime\n",
      "AutoGluon training complete, total runtime = 6588.52s ... Best model: \"WeightedEnsemble_L2\"\n",
      "TabularPredictor saved. To load, use: predictor = TabularPredictor.load(\"AutogluonModels/ag-20231130_040626/\")\n"
     ]
    },
    {
     "name": "stdout",
     "output_type": "stream",
     "text": [
      "CPU times: user 10h 13min 25s, sys: 2min 21s, total: 10h 15min 47s\n",
      "Wall time: 1h 49min 48s\n"
     ]
    }
   ],
   "source": [
    "%%time\n",
    "adasyn_resampling_training2 = TabularPredictor(label='label').fit(resampled_adasyn2, time_limit=28800,\n",
    "                                                                  hyperparameter_tune_kwargs = {'num_trials': 5, 'scheduler' : 'local', 'searcher': 'auto'})"
   ]
  },
  {
   "cell_type": "markdown",
   "id": "202d9704",
   "metadata": {},
   "source": [
    "**Dataframe de hiperparâmetros**\n",
    "\n",
    "A função ``autogluon_models_df`` trata as informações dos modelos gerados pelo TabularPredictor e retorna um dataframe com um ranking de acurácia dos modelos e facilita o processo de seleção/visualização dos hiperparâmetros de cada modelo. O datafame contém as seguintes informações: a segmentação usada, se o filtro foi aplicado, a técnica de reamostragem, o nome do modelo, os hiperparâmetros do modelo e acurácia. Nesse notebook executamos os modelos com a segmentação dos dados com uma janela de 180."
   ]
  },
  {
   "cell_type": "code",
   "execution_count": 90,
   "id": "27e98880",
   "metadata": {},
   "outputs": [
    {
     "name": "stdout",
     "output_type": "stream",
     "text": [
      "CPU times: user 7min 41s, sys: 3.32 s, total: 7min 44s\n",
      "Wall time: 1min 12s\n"
     ]
    }
   ],
   "source": [
    "%%time\n",
    "models_with_adasyn2 = autogluon_models_df(window=window_size,\n",
    "                                        filter_applied=True, \n",
    "                                        resampling_tech='adasyn',\n",
    "                                        predictor_model=adasyn_resampling_training2,\n",
    "                                        test_data_=test_data2)"
   ]
  },
  {
   "cell_type": "markdown",
   "id": "7143d5f3",
   "metadata": {},
   "source": [
    "**Ranking dos modelos com a técnica de reamostragem SMOTE e com filtro**"
   ]
  },
  {
   "cell_type": "code",
   "execution_count": 91,
   "id": "cb68eeb7",
   "metadata": {},
   "outputs": [
    {
     "data": {
      "text/html": [
       "<div>\n",
       "<style scoped>\n",
       "    .dataframe tbody tr th:only-of-type {\n",
       "        vertical-align: middle;\n",
       "    }\n",
       "\n",
       "    .dataframe tbody tr th {\n",
       "        vertical-align: top;\n",
       "    }\n",
       "\n",
       "    .dataframe thead th {\n",
       "        text-align: right;\n",
       "    }\n",
       "</style>\n",
       "<table border=\"1\" class=\"dataframe\">\n",
       "  <thead>\n",
       "    <tr style=\"text-align: right;\">\n",
       "      <th></th>\n",
       "      <th>window_size</th>\n",
       "      <th>filter_applied</th>\n",
       "      <th>resampling_tech</th>\n",
       "      <th>model</th>\n",
       "      <th>hyperparameters</th>\n",
       "      <th>accuracy</th>\n",
       "      <th>precision_weighted</th>\n",
       "      <th>recall_weighted</th>\n",
       "      <th>f1_weighted</th>\n",
       "      <th>algorithm</th>\n",
       "    </tr>\n",
       "  </thead>\n",
       "  <tbody>\n",
       "    <tr>\n",
       "      <th>0</th>\n",
       "      <td>360</td>\n",
       "      <td>True</td>\n",
       "      <td>adasyn</td>\n",
       "      <td>NeuralNetFastAI/7317054f</td>\n",
       "      <td>{'layers': None, 'emb_drop': 0.1, 'ps': 0.1, 'bs': 256, 'lr': 0.01, 'epochs': 30, 'early.stopping.min_delta': 0.0001, 'early.stopping.patience': 20, 'smoothing': 0.0}</td>\n",
       "      <td>0.993961</td>\n",
       "      <td>0.994008</td>\n",
       "      <td>0.993961</td>\n",
       "      <td>0.993979</td>\n",
       "      <td>NeuralNetFastAI</td>\n",
       "    </tr>\n",
       "    <tr>\n",
       "      <th>1</th>\n",
       "      <td>360</td>\n",
       "      <td>True</td>\n",
       "      <td>adasyn</td>\n",
       "      <td>LightGBMXT/T5</td>\n",
       "      <td>{'learning_rate': 0.1000260297171191, 'extra_trees': True, 'feature_fraction': 0.8694162793303375, 'min_data_in_leaf': 48, 'num_leaves': 53}</td>\n",
       "      <td>0.993881</td>\n",
       "      <td>0.993902</td>\n",
       "      <td>0.993881</td>\n",
       "      <td>0.993887</td>\n",
       "      <td>LightGBM</td>\n",
       "    </tr>\n",
       "  </tbody>\n",
       "</table>\n",
       "</div>"
      ],
      "text/plain": [
       "   window_size  filter_applied resampling_tech                     model  \\\n",
       "0          360            True          adasyn  NeuralNetFastAI/7317054f   \n",
       "1          360            True          adasyn             LightGBMXT/T5   \n",
       "\n",
       "                                                                                                                                                          hyperparameters  \\\n",
       "0  {'layers': None, 'emb_drop': 0.1, 'ps': 0.1, 'bs': 256, 'lr': 0.01, 'epochs': 30, 'early.stopping.min_delta': 0.0001, 'early.stopping.patience': 20, 'smoothing': 0.0}   \n",
       "1                            {'learning_rate': 0.1000260297171191, 'extra_trees': True, 'feature_fraction': 0.8694162793303375, 'min_data_in_leaf': 48, 'num_leaves': 53}   \n",
       "\n",
       "   accuracy  precision_weighted  recall_weighted  f1_weighted        algorithm  \n",
       "0  0.993961            0.994008         0.993961     0.993979  NeuralNetFastAI  \n",
       "1  0.993881            0.993902         0.993881     0.993887         LightGBM  "
      ]
     },
     "execution_count": 91,
     "metadata": {},
     "output_type": "execute_result"
    }
   ],
   "source": [
    "models_with_adasyn2.head(2)"
   ]
  },
  {
   "cell_type": "markdown",
   "id": "922c157a",
   "metadata": {},
   "source": [
    "**Cálculo do intervalo de confiança**"
   ]
  },
  {
   "cell_type": "code",
   "execution_count": 138,
   "id": "a1ec37a6",
   "metadata": {},
   "outputs": [
    {
     "name": "stdout",
     "output_type": "stream",
     "text": [
      "Intervalo de confiança(0.9930200787804425, 0.9949379212195574)\n"
     ]
    }
   ],
   "source": [
    "z = 1.96\n",
    "f1 = 0.993979\n",
    "n = len(X_test2)\n",
    "interval = z * np.sqrt((f1 * (1 - f1)) / n)\n",
    "print(f\"Intervalo de confiança{(f1-interval, f1+interval)}\")"
   ]
  },
  {
   "cell_type": "code",
   "execution_count": 92,
   "id": "fbca4f7c",
   "metadata": {},
   "outputs": [
    {
     "data": {
      "text/plain": [
       "LightGBM           11\n",
       "NeuralNetFastAI     5\n",
       "NeuralNetTorch      5\n",
       "XGBoost             5\n",
       "CatBoost            3\n",
       "ExtraTrees          2\n",
       "RandomForest        2\n",
       "KNeighbors          2\n",
       "Name: algorithm, dtype: int64"
      ]
     },
     "execution_count": 92,
     "metadata": {},
     "output_type": "execute_result"
    }
   ],
   "source": [
    "models_with_adasyn2['algorithm'].value_counts()"
   ]
  },
  {
   "cell_type": "code",
   "execution_count": 93,
   "id": "07683521",
   "metadata": {},
   "outputs": [
    {
     "data": {
      "text/plain": [
       "35"
      ]
     },
     "execution_count": 93,
     "metadata": {},
     "output_type": "execute_result"
    }
   ],
   "source": [
    "models_with_adasyn2['algorithm'].value_counts().sum()"
   ]
  },
  {
   "cell_type": "markdown",
   "id": "9083e7f5",
   "metadata": {},
   "source": [
    "Para evitar perda dos dados"
   ]
  },
  {
   "cell_type": "code",
   "execution_count": 94,
   "id": "7566cd57",
   "metadata": {},
   "outputs": [],
   "source": [
    "models_with_adasyn2.to_csv('models_with_adasyn2.csv', index=False)"
   ]
  },
  {
   "cell_type": "markdown",
   "id": "fedbb292",
   "metadata": {},
   "source": [
    "**Junção dos modelos**"
   ]
  },
  {
   "cell_type": "code",
   "execution_count": 95,
   "id": "8b15102d",
   "metadata": {},
   "outputs": [],
   "source": [
    "hyperparameters_all_models = pd.concat([hyperparameters_all_models, models_with_adasyn2])"
   ]
  },
  {
   "cell_type": "code",
   "execution_count": 96,
   "id": "3a6f667f",
   "metadata": {},
   "outputs": [],
   "source": [
    "hyperparameters_all_models = hyperparameters_all_models.sort_values(by='accuracy', ascending=False)"
   ]
  },
  {
   "cell_type": "code",
   "execution_count": 97,
   "id": "4bfad02c",
   "metadata": {},
   "outputs": [],
   "source": [
    "hyperparameters_all_models = hyperparameters_all_models.reset_index(drop=True)"
   ]
  },
  {
   "cell_type": "code",
   "execution_count": 98,
   "id": "f2911a1d",
   "metadata": {},
   "outputs": [
    {
     "data": {
      "text/html": [
       "<div>\n",
       "<style scoped>\n",
       "    .dataframe tbody tr th:only-of-type {\n",
       "        vertical-align: middle;\n",
       "    }\n",
       "\n",
       "    .dataframe tbody tr th {\n",
       "        vertical-align: top;\n",
       "    }\n",
       "\n",
       "    .dataframe thead th {\n",
       "        text-align: right;\n",
       "    }\n",
       "</style>\n",
       "<table border=\"1\" class=\"dataframe\">\n",
       "  <thead>\n",
       "    <tr style=\"text-align: right;\">\n",
       "      <th></th>\n",
       "      <th>window_size</th>\n",
       "      <th>filter_applied</th>\n",
       "      <th>resampling_tech</th>\n",
       "      <th>model</th>\n",
       "      <th>hyperparameters</th>\n",
       "      <th>accuracy</th>\n",
       "      <th>precision_weighted</th>\n",
       "      <th>recall_weighted</th>\n",
       "      <th>f1_weighted</th>\n",
       "      <th>algorithm</th>\n",
       "    </tr>\n",
       "  </thead>\n",
       "  <tbody>\n",
       "    <tr>\n",
       "      <th>0</th>\n",
       "      <td>360</td>\n",
       "      <td>False</td>\n",
       "      <td>None</td>\n",
       "      <td>NeuralNetFastAI/37546213</td>\n",
       "      <td>{'layers': None, 'emb_drop': 0.1, 'ps': 0.1, 'bs': 256, 'lr': 0.01, 'epochs': 30, 'early.stopping.min_delta': 0.0001, 'early.stopping.patience': 20, 'smoothing': 0.0}</td>\n",
       "      <td>0.994401</td>\n",
       "      <td>0.994346</td>\n",
       "      <td>0.994401</td>\n",
       "      <td>0.994349</td>\n",
       "      <td>NeuralNetFastAI</td>\n",
       "    </tr>\n",
       "    <tr>\n",
       "      <th>1</th>\n",
       "      <td>360</td>\n",
       "      <td>True</td>\n",
       "      <td>None</td>\n",
       "      <td>LightGBMXT/T1</td>\n",
       "      <td>{'learning_rate': 0.05, 'extra_trees': True, 'feature_fraction': 1.0, 'min_data_in_leaf': 20, 'num_leaves': 31}</td>\n",
       "      <td>0.994081</td>\n",
       "      <td>0.994048</td>\n",
       "      <td>0.994081</td>\n",
       "      <td>0.993997</td>\n",
       "      <td>LightGBM</td>\n",
       "    </tr>\n",
       "    <tr>\n",
       "      <th>2</th>\n",
       "      <td>360</td>\n",
       "      <td>True</td>\n",
       "      <td>smote</td>\n",
       "      <td>NeuralNetFastAI/5bd0550d</td>\n",
       "      <td>{'layers': None, 'emb_drop': 0.1, 'ps': 0.1, 'bs': 256, 'lr': 0.01, 'epochs': 30, 'early.stopping.min_delta': 0.0001, 'early.stopping.patience': 20, 'smoothing': 0.0}</td>\n",
       "      <td>0.994081</td>\n",
       "      <td>0.994118</td>\n",
       "      <td>0.994081</td>\n",
       "      <td>0.994097</td>\n",
       "      <td>NeuralNetFastAI</td>\n",
       "    </tr>\n",
       "    <tr>\n",
       "      <th>3</th>\n",
       "      <td>360</td>\n",
       "      <td>True</td>\n",
       "      <td>None</td>\n",
       "      <td>LightGBMXT/T3</td>\n",
       "      <td>{'learning_rate': 0.049883446878335284, 'extra_trees': True, 'feature_fraction': 0.9618129346960314, 'min_data_in_leaf': 52, 'num_leaves': 52}</td>\n",
       "      <td>0.994041</td>\n",
       "      <td>0.994006</td>\n",
       "      <td>0.994041</td>\n",
       "      <td>0.993966</td>\n",
       "      <td>LightGBM</td>\n",
       "    </tr>\n",
       "    <tr>\n",
       "      <th>4</th>\n",
       "      <td>360</td>\n",
       "      <td>True</td>\n",
       "      <td>adasyn</td>\n",
       "      <td>NeuralNetFastAI/7317054f</td>\n",
       "      <td>{'layers': None, 'emb_drop': 0.1, 'ps': 0.1, 'bs': 256, 'lr': 0.01, 'epochs': 30, 'early.stopping.min_delta': 0.0001, 'early.stopping.patience': 20, 'smoothing': 0.0}</td>\n",
       "      <td>0.993961</td>\n",
       "      <td>0.994008</td>\n",
       "      <td>0.993961</td>\n",
       "      <td>0.993979</td>\n",
       "      <td>NeuralNetFastAI</td>\n",
       "    </tr>\n",
       "  </tbody>\n",
       "</table>\n",
       "</div>"
      ],
      "text/plain": [
       "   window_size  filter_applied resampling_tech                     model  \\\n",
       "0          360           False            None  NeuralNetFastAI/37546213   \n",
       "1          360            True            None             LightGBMXT/T1   \n",
       "2          360            True           smote  NeuralNetFastAI/5bd0550d   \n",
       "3          360            True            None             LightGBMXT/T3   \n",
       "4          360            True          adasyn  NeuralNetFastAI/7317054f   \n",
       "\n",
       "                                                                                                                                                          hyperparameters  \\\n",
       "0  {'layers': None, 'emb_drop': 0.1, 'ps': 0.1, 'bs': 256, 'lr': 0.01, 'epochs': 30, 'early.stopping.min_delta': 0.0001, 'early.stopping.patience': 20, 'smoothing': 0.0}   \n",
       "1                                                         {'learning_rate': 0.05, 'extra_trees': True, 'feature_fraction': 1.0, 'min_data_in_leaf': 20, 'num_leaves': 31}   \n",
       "2  {'layers': None, 'emb_drop': 0.1, 'ps': 0.1, 'bs': 256, 'lr': 0.01, 'epochs': 30, 'early.stopping.min_delta': 0.0001, 'early.stopping.patience': 20, 'smoothing': 0.0}   \n",
       "3                          {'learning_rate': 0.049883446878335284, 'extra_trees': True, 'feature_fraction': 0.9618129346960314, 'min_data_in_leaf': 52, 'num_leaves': 52}   \n",
       "4  {'layers': None, 'emb_drop': 0.1, 'ps': 0.1, 'bs': 256, 'lr': 0.01, 'epochs': 30, 'early.stopping.min_delta': 0.0001, 'early.stopping.patience': 20, 'smoothing': 0.0}   \n",
       "\n",
       "   accuracy  precision_weighted  recall_weighted  f1_weighted        algorithm  \n",
       "0  0.994401            0.994346         0.994401     0.994349  NeuralNetFastAI  \n",
       "1  0.994081            0.994048         0.994081     0.993997         LightGBM  \n",
       "2  0.994081            0.994118         0.994081     0.994097  NeuralNetFastAI  \n",
       "3  0.994041            0.994006         0.994041     0.993966         LightGBM  \n",
       "4  0.993961            0.994008         0.993961     0.993979  NeuralNetFastAI  "
      ]
     },
     "execution_count": 98,
     "metadata": {},
     "output_type": "execute_result"
    }
   ],
   "source": [
    "hyperparameters_all_models.head()"
   ]
  },
  {
   "cell_type": "code",
   "execution_count": 127,
   "id": "b663625d",
   "metadata": {},
   "outputs": [],
   "source": [
    "hyperparameters_all_models.to_csv('all_models-vfinal_seg360_5classes.csv', index=False)"
   ]
  },
  {
   "cell_type": "markdown",
   "id": "d36eb69c",
   "metadata": {},
   "source": [
    "## Análise dos modelos"
   ]
  },
  {
   "cell_type": "code",
   "execution_count": 99,
   "id": "1f71e34d",
   "metadata": {},
   "outputs": [
    {
     "data": {
      "text/plain": [
       "LightGBM           63\n",
       "NeuralNetFastAI    30\n",
       "NeuralNetTorch     30\n",
       "XGBoost            28\n",
       "CatBoost           14\n",
       "ExtraTrees         12\n",
       "RandomForest       12\n",
       "KNeighbors         12\n",
       "Name: algorithm, dtype: int64"
      ]
     },
     "execution_count": 99,
     "metadata": {},
     "output_type": "execute_result"
    }
   ],
   "source": [
    "hyperparameters_all_models.algorithm.value_counts()"
   ]
  },
  {
   "cell_type": "markdown",
   "id": "394243da",
   "metadata": {},
   "source": [
    "**Melhores modelos por algoritmo**"
   ]
  },
  {
   "cell_type": "code",
   "execution_count": 100,
   "id": "cafaf6bf",
   "metadata": {},
   "outputs": [
    {
     "data": {
      "text/plain": [
       "0    NeuralNetFastAI\n",
       "1           LightGBM\n",
       "2    NeuralNetFastAI\n",
       "3           LightGBM\n",
       "4    NeuralNetFastAI\n",
       "5    NeuralNetFastAI\n",
       "6           LightGBM\n",
       "7           LightGBM\n",
       "8           LightGBM\n",
       "9         ExtraTrees\n",
       "Name: algorithm, dtype: object"
      ]
     },
     "execution_count": 100,
     "metadata": {},
     "output_type": "execute_result"
    }
   ],
   "source": [
    "hyperparameters_all_models['algorithm'].head(10)"
   ]
  },
  {
   "cell_type": "markdown",
   "id": "8bd19da3",
   "metadata": {},
   "source": [
    "**Melhores modelos por algoritmo**"
   ]
  },
  {
   "cell_type": "code",
   "execution_count": 115,
   "id": "df869ec4",
   "metadata": {},
   "outputs": [],
   "source": [
    "all_algorithms = ['LightGBM', 'RandomForest', 'NeuralNetTorch', 'NeuralNetFastAI', 'XGBoost',\n",
    "                      'ExtraTrees', 'CatBoost', 'KNeighbors']\n",
    "best_models = pd.DataFrame()\n",
    "for i in all_algorithms:\n",
    "    new_model = hyperparameters_all_models[hyperparameters_all_models['algorithm'] == i].head(1)\n",
    "    best_models = pd.concat([best_models, new_model], ignore_index=True)"
   ]
  },
  {
   "cell_type": "code",
   "execution_count": 116,
   "id": "e3e49102",
   "metadata": {},
   "outputs": [],
   "source": [
    "best_models = best_models.sort_values(by='accuracy', ascending=False)"
   ]
  },
  {
   "cell_type": "code",
   "execution_count": 117,
   "id": "c351189e",
   "metadata": {},
   "outputs": [],
   "source": [
    "best_models = best_models.reset_index(drop=True)"
   ]
  },
  {
   "cell_type": "code",
   "execution_count": 128,
   "id": "74c079ba",
   "metadata": {},
   "outputs": [],
   "source": [
    "best_models.to_csv('best_models-vfinal_seg360_5classes.csv', index=False)"
   ]
  },
  {
   "cell_type": "code",
   "execution_count": 118,
   "id": "842fd2b1",
   "metadata": {},
   "outputs": [
    {
     "data": {
      "text/plain": [
       "(8, 10)"
      ]
     },
     "execution_count": 118,
     "metadata": {},
     "output_type": "execute_result"
    }
   ],
   "source": [
    "best_models.shape"
   ]
  },
  {
   "cell_type": "code",
   "execution_count": 119,
   "id": "5b4fd953",
   "metadata": {},
   "outputs": [
    {
     "data": {
      "text/html": [
       "<div>\n",
       "<style scoped>\n",
       "    .dataframe tbody tr th:only-of-type {\n",
       "        vertical-align: middle;\n",
       "    }\n",
       "\n",
       "    .dataframe tbody tr th {\n",
       "        vertical-align: top;\n",
       "    }\n",
       "\n",
       "    .dataframe thead th {\n",
       "        text-align: right;\n",
       "    }\n",
       "</style>\n",
       "<table border=\"1\" class=\"dataframe\">\n",
       "  <thead>\n",
       "    <tr style=\"text-align: right;\">\n",
       "      <th></th>\n",
       "      <th>window_size</th>\n",
       "      <th>filter_applied</th>\n",
       "      <th>resampling_tech</th>\n",
       "      <th>model</th>\n",
       "      <th>hyperparameters</th>\n",
       "      <th>accuracy</th>\n",
       "      <th>precision_weighted</th>\n",
       "      <th>recall_weighted</th>\n",
       "      <th>f1_weighted</th>\n",
       "      <th>algorithm</th>\n",
       "    </tr>\n",
       "  </thead>\n",
       "  <tbody>\n",
       "    <tr>\n",
       "      <th>0</th>\n",
       "      <td>360</td>\n",
       "      <td>False</td>\n",
       "      <td>None</td>\n",
       "      <td>NeuralNetFastAI/37546213</td>\n",
       "      <td>{'layers': None, 'emb_drop': 0.1, 'ps': 0.1, 'bs': 256, 'lr': 0.01, 'epochs': 30, 'early.stopping.min_delta': 0.0001, 'early.stopping.patience': 20, 'smoothing': 0.0}</td>\n",
       "      <td>0.994401</td>\n",
       "      <td>0.994346</td>\n",
       "      <td>0.994401</td>\n",
       "      <td>0.994349</td>\n",
       "      <td>NeuralNetFastAI</td>\n",
       "    </tr>\n",
       "    <tr>\n",
       "      <th>1</th>\n",
       "      <td>360</td>\n",
       "      <td>True</td>\n",
       "      <td>None</td>\n",
       "      <td>LightGBMXT/T1</td>\n",
       "      <td>{'learning_rate': 0.05, 'extra_trees': True, 'feature_fraction': 1.0, 'min_data_in_leaf': 20, 'num_leaves': 31}</td>\n",
       "      <td>0.994081</td>\n",
       "      <td>0.994048</td>\n",
       "      <td>0.994081</td>\n",
       "      <td>0.993997</td>\n",
       "      <td>LightGBM</td>\n",
       "    </tr>\n",
       "    <tr>\n",
       "      <th>2</th>\n",
       "      <td>360</td>\n",
       "      <td>True</td>\n",
       "      <td>smote</td>\n",
       "      <td>ExtraTreesEntr</td>\n",
       "      <td>{'n_estimators': 300, 'max_leaf_nodes': 15000, 'n_jobs': -1, 'random_state': 0, 'bootstrap': True, 'criterion': 'entropy'}</td>\n",
       "      <td>0.993721</td>\n",
       "      <td>0.993705</td>\n",
       "      <td>0.993721</td>\n",
       "      <td>0.993710</td>\n",
       "      <td>ExtraTrees</td>\n",
       "    </tr>\n",
       "    <tr>\n",
       "      <th>3</th>\n",
       "      <td>360</td>\n",
       "      <td>False</td>\n",
       "      <td>None</td>\n",
       "      <td>NeuralNetTorch/bffdccfa</td>\n",
       "      <td>{'num_epochs': 500, 'epochs_wo_improve': 20, 'activation': 'relu', 'embedding_size_factor': 1.3, 'embed_exponent': 0.56, 'max_embedding_dim': 100, 'y_range': None, 'y_range_extend': 0.05, 'dropout_prob': 0.4, 'optimizer': 'adam', 'learning_rate': 0.0029705977874861754, 'weight_decay': 3.366954449760058e-11, 'proc.embed_min_categories': 3, 'proc.impute_strategy': 'most_frequent', 'proc.max_category_levels': 10, 'proc.skew_threshold': 10.0, 'use_ngram_features': False, 'num_layers': 3, 'hidden_size': 128, 'max_batch_size': 512, 'use_batchnorm': True, 'loss_function': 'auto'}</td>\n",
       "      <td>0.993681</td>\n",
       "      <td>0.993616</td>\n",
       "      <td>0.993681</td>\n",
       "      <td>0.993585</td>\n",
       "      <td>NeuralNetTorch</td>\n",
       "    </tr>\n",
       "    <tr>\n",
       "      <th>4</th>\n",
       "      <td>360</td>\n",
       "      <td>True</td>\n",
       "      <td>smote</td>\n",
       "      <td>XGBoost/T2</td>\n",
       "      <td>{'n_estimators': 10000, 'learning_rate': 0.06994332504138302, 'n_jobs': -1, 'proc.max_category_levels': 100, 'objective': 'multi:softmax', 'booster': 'gbtree', 'num_class': 5, 'max_depth': 6, 'min_child_weight': 4, 'colsample_bytree': 0.7744067519636624}</td>\n",
       "      <td>0.993321</td>\n",
       "      <td>0.993382</td>\n",
       "      <td>0.993321</td>\n",
       "      <td>0.993346</td>\n",
       "      <td>XGBoost</td>\n",
       "    </tr>\n",
       "    <tr>\n",
       "      <th>5</th>\n",
       "      <td>360</td>\n",
       "      <td>True</td>\n",
       "      <td>smote</td>\n",
       "      <td>RandomForestEntr</td>\n",
       "      <td>{'n_estimators': 300, 'max_leaf_nodes': 15000, 'n_jobs': -1, 'random_state': 0, 'bootstrap': True, 'criterion': 'entropy'}</td>\n",
       "      <td>0.993281</td>\n",
       "      <td>0.993260</td>\n",
       "      <td>0.993281</td>\n",
       "      <td>0.993267</td>\n",
       "      <td>RandomForest</td>\n",
       "    </tr>\n",
       "    <tr>\n",
       "      <th>6</th>\n",
       "      <td>360</td>\n",
       "      <td>True</td>\n",
       "      <td>None</td>\n",
       "      <td>CatBoost/T3</td>\n",
       "      <td>{'iterations': 10000, 'learning_rate': 0.02386109712430462, 'random_seed': 0, 'allow_writing_files': False, 'eval_metric': 'Accuracy', 'depth': 8, 'l2_leaf_reg': 3.1795327319875875}</td>\n",
       "      <td>0.991641</td>\n",
       "      <td>0.991590</td>\n",
       "      <td>0.991641</td>\n",
       "      <td>0.991486</td>\n",
       "      <td>CatBoost</td>\n",
       "    </tr>\n",
       "    <tr>\n",
       "      <th>7</th>\n",
       "      <td>360</td>\n",
       "      <td>True</td>\n",
       "      <td>None</td>\n",
       "      <td>KNeighborsDist</td>\n",
       "      <td>{'weights': 'distance'}</td>\n",
       "      <td>0.991041</td>\n",
       "      <td>0.990924</td>\n",
       "      <td>0.991041</td>\n",
       "      <td>0.990890</td>\n",
       "      <td>KNeighbors</td>\n",
       "    </tr>\n",
       "  </tbody>\n",
       "</table>\n",
       "</div>"
      ],
      "text/plain": [
       "   window_size  filter_applied resampling_tech                     model  \\\n",
       "0          360           False            None  NeuralNetFastAI/37546213   \n",
       "1          360            True            None             LightGBMXT/T1   \n",
       "2          360            True           smote            ExtraTreesEntr   \n",
       "3          360           False            None   NeuralNetTorch/bffdccfa   \n",
       "4          360            True           smote                XGBoost/T2   \n",
       "5          360            True           smote          RandomForestEntr   \n",
       "6          360            True            None               CatBoost/T3   \n",
       "7          360            True            None            KNeighborsDist   \n",
       "\n",
       "                                                                                                                                                                                                                                                                                                                                                                                                                                                                                                                                                                                       hyperparameters  \\\n",
       "0                                                                                                                                                                                                                                                                                                                                                                                                                               {'layers': None, 'emb_drop': 0.1, 'ps': 0.1, 'bs': 256, 'lr': 0.01, 'epochs': 30, 'early.stopping.min_delta': 0.0001, 'early.stopping.patience': 20, 'smoothing': 0.0}   \n",
       "1                                                                                                                                                                                                                                                                                                                                                                                                                                                                                      {'learning_rate': 0.05, 'extra_trees': True, 'feature_fraction': 1.0, 'min_data_in_leaf': 20, 'num_leaves': 31}   \n",
       "2                                                                                                                                                                                                                                                                                                                                                                                                                                                                           {'n_estimators': 300, 'max_leaf_nodes': 15000, 'n_jobs': -1, 'random_state': 0, 'bootstrap': True, 'criterion': 'entropy'}   \n",
       "3  {'num_epochs': 500, 'epochs_wo_improve': 20, 'activation': 'relu', 'embedding_size_factor': 1.3, 'embed_exponent': 0.56, 'max_embedding_dim': 100, 'y_range': None, 'y_range_extend': 0.05, 'dropout_prob': 0.4, 'optimizer': 'adam', 'learning_rate': 0.0029705977874861754, 'weight_decay': 3.366954449760058e-11, 'proc.embed_min_categories': 3, 'proc.impute_strategy': 'most_frequent', 'proc.max_category_levels': 10, 'proc.skew_threshold': 10.0, 'use_ngram_features': False, 'num_layers': 3, 'hidden_size': 128, 'max_batch_size': 512, 'use_batchnorm': True, 'loss_function': 'auto'}   \n",
       "4                                                                                                                                                                                                                                                                                                                                       {'n_estimators': 10000, 'learning_rate': 0.06994332504138302, 'n_jobs': -1, 'proc.max_category_levels': 100, 'objective': 'multi:softmax', 'booster': 'gbtree', 'num_class': 5, 'max_depth': 6, 'min_child_weight': 4, 'colsample_bytree': 0.7744067519636624}   \n",
       "5                                                                                                                                                                                                                                                                                                                                                                                                                                                                           {'n_estimators': 300, 'max_leaf_nodes': 15000, 'n_jobs': -1, 'random_state': 0, 'bootstrap': True, 'criterion': 'entropy'}   \n",
       "6                                                                                                                                                                                                                                                                                                                                                                                                                {'iterations': 10000, 'learning_rate': 0.02386109712430462, 'random_seed': 0, 'allow_writing_files': False, 'eval_metric': 'Accuracy', 'depth': 8, 'l2_leaf_reg': 3.1795327319875875}   \n",
       "7                                                                                                                                                                                                                                                                                                                                                                                                                                                                                                                                                                              {'weights': 'distance'}   \n",
       "\n",
       "   accuracy  precision_weighted  recall_weighted  f1_weighted        algorithm  \n",
       "0  0.994401            0.994346         0.994401     0.994349  NeuralNetFastAI  \n",
       "1  0.994081            0.994048         0.994081     0.993997         LightGBM  \n",
       "2  0.993721            0.993705         0.993721     0.993710       ExtraTrees  \n",
       "3  0.993681            0.993616         0.993681     0.993585   NeuralNetTorch  \n",
       "4  0.993321            0.993382         0.993321     0.993346          XGBoost  \n",
       "5  0.993281            0.993260         0.993281     0.993267     RandomForest  \n",
       "6  0.991641            0.991590         0.991641     0.991486         CatBoost  \n",
       "7  0.991041            0.990924         0.991041     0.990890       KNeighbors  "
      ]
     },
     "execution_count": 119,
     "metadata": {},
     "output_type": "execute_result"
    }
   ],
   "source": [
    "best_models"
   ]
  },
  {
   "cell_type": "markdown",
   "id": "e3ab7dcd",
   "metadata": {},
   "source": [
    "## Conclusão"
   ]
  },
  {
   "cell_type": "code",
   "execution_count": 120,
   "id": "14a06c46",
   "metadata": {},
   "outputs": [
    {
     "data": {
      "text/plain": [
       "(201, 10)"
      ]
     },
     "execution_count": 120,
     "metadata": {},
     "output_type": "execute_result"
    }
   ],
   "source": [
    "hyperparameters_all_models.shape"
   ]
  },
  {
   "cell_type": "code",
   "execution_count": 121,
   "id": "02102c6d",
   "metadata": {},
   "outputs": [
    {
     "data": {
      "text/html": [
       "<div>\n",
       "<style scoped>\n",
       "    .dataframe tbody tr th:only-of-type {\n",
       "        vertical-align: middle;\n",
       "    }\n",
       "\n",
       "    .dataframe tbody tr th {\n",
       "        vertical-align: top;\n",
       "    }\n",
       "\n",
       "    .dataframe thead th {\n",
       "        text-align: right;\n",
       "    }\n",
       "</style>\n",
       "<table border=\"1\" class=\"dataframe\">\n",
       "  <thead>\n",
       "    <tr style=\"text-align: right;\">\n",
       "      <th></th>\n",
       "      <th>window_size</th>\n",
       "      <th>filter_applied</th>\n",
       "      <th>resampling_tech</th>\n",
       "      <th>model</th>\n",
       "      <th>hyperparameters</th>\n",
       "      <th>accuracy</th>\n",
       "      <th>precision_weighted</th>\n",
       "      <th>recall_weighted</th>\n",
       "      <th>f1_weighted</th>\n",
       "      <th>algorithm</th>\n",
       "    </tr>\n",
       "  </thead>\n",
       "  <tbody>\n",
       "    <tr>\n",
       "      <th>0</th>\n",
       "      <td>360</td>\n",
       "      <td>False</td>\n",
       "      <td>None</td>\n",
       "      <td>NeuralNetFastAI/37546213</td>\n",
       "      <td>{'layers': None, 'emb_drop': 0.1, 'ps': 0.1, 'bs': 256, 'lr': 0.01, 'epochs': 30, 'early.stopping.min_delta': 0.0001, 'early.stopping.patience': 20, 'smoothing': 0.0}</td>\n",
       "      <td>0.994401</td>\n",
       "      <td>0.994346</td>\n",
       "      <td>0.994401</td>\n",
       "      <td>0.994349</td>\n",
       "      <td>NeuralNetFastAI</td>\n",
       "    </tr>\n",
       "    <tr>\n",
       "      <th>1</th>\n",
       "      <td>360</td>\n",
       "      <td>True</td>\n",
       "      <td>None</td>\n",
       "      <td>LightGBMXT/T1</td>\n",
       "      <td>{'learning_rate': 0.05, 'extra_trees': True, 'feature_fraction': 1.0, 'min_data_in_leaf': 20, 'num_leaves': 31}</td>\n",
       "      <td>0.994081</td>\n",
       "      <td>0.994048</td>\n",
       "      <td>0.994081</td>\n",
       "      <td>0.993997</td>\n",
       "      <td>LightGBM</td>\n",
       "    </tr>\n",
       "    <tr>\n",
       "      <th>2</th>\n",
       "      <td>360</td>\n",
       "      <td>True</td>\n",
       "      <td>smote</td>\n",
       "      <td>NeuralNetFastAI/5bd0550d</td>\n",
       "      <td>{'layers': None, 'emb_drop': 0.1, 'ps': 0.1, 'bs': 256, 'lr': 0.01, 'epochs': 30, 'early.stopping.min_delta': 0.0001, 'early.stopping.patience': 20, 'smoothing': 0.0}</td>\n",
       "      <td>0.994081</td>\n",
       "      <td>0.994118</td>\n",
       "      <td>0.994081</td>\n",
       "      <td>0.994097</td>\n",
       "      <td>NeuralNetFastAI</td>\n",
       "    </tr>\n",
       "    <tr>\n",
       "      <th>3</th>\n",
       "      <td>360</td>\n",
       "      <td>True</td>\n",
       "      <td>None</td>\n",
       "      <td>LightGBMXT/T3</td>\n",
       "      <td>{'learning_rate': 0.049883446878335284, 'extra_trees': True, 'feature_fraction': 0.9618129346960314, 'min_data_in_leaf': 52, 'num_leaves': 52}</td>\n",
       "      <td>0.994041</td>\n",
       "      <td>0.994006</td>\n",
       "      <td>0.994041</td>\n",
       "      <td>0.993966</td>\n",
       "      <td>LightGBM</td>\n",
       "    </tr>\n",
       "    <tr>\n",
       "      <th>4</th>\n",
       "      <td>360</td>\n",
       "      <td>True</td>\n",
       "      <td>adasyn</td>\n",
       "      <td>NeuralNetFastAI/7317054f</td>\n",
       "      <td>{'layers': None, 'emb_drop': 0.1, 'ps': 0.1, 'bs': 256, 'lr': 0.01, 'epochs': 30, 'early.stopping.min_delta': 0.0001, 'early.stopping.patience': 20, 'smoothing': 0.0}</td>\n",
       "      <td>0.993961</td>\n",
       "      <td>0.994008</td>\n",
       "      <td>0.993961</td>\n",
       "      <td>0.993979</td>\n",
       "      <td>NeuralNetFastAI</td>\n",
       "    </tr>\n",
       "    <tr>\n",
       "      <th>5</th>\n",
       "      <td>360</td>\n",
       "      <td>False</td>\n",
       "      <td>adasyn</td>\n",
       "      <td>NeuralNetFastAI/36f55ba9</td>\n",
       "      <td>{'layers': None, 'emb_drop': 0.1, 'ps': 0.1, 'bs': 256, 'lr': 0.01, 'epochs': 30, 'early.stopping.min_delta': 0.0001, 'early.stopping.patience': 20, 'smoothing': 0.0}</td>\n",
       "      <td>0.993961</td>\n",
       "      <td>0.993959</td>\n",
       "      <td>0.993961</td>\n",
       "      <td>0.993959</td>\n",
       "      <td>NeuralNetFastAI</td>\n",
       "    </tr>\n",
       "    <tr>\n",
       "      <th>6</th>\n",
       "      <td>360</td>\n",
       "      <td>True</td>\n",
       "      <td>adasyn</td>\n",
       "      <td>LightGBMXT/T5</td>\n",
       "      <td>{'learning_rate': 0.1000260297171191, 'extra_trees': True, 'feature_fraction': 0.8694162793303375, 'min_data_in_leaf': 48, 'num_leaves': 53}</td>\n",
       "      <td>0.993881</td>\n",
       "      <td>0.993902</td>\n",
       "      <td>0.993881</td>\n",
       "      <td>0.993887</td>\n",
       "      <td>LightGBM</td>\n",
       "    </tr>\n",
       "    <tr>\n",
       "      <th>7</th>\n",
       "      <td>360</td>\n",
       "      <td>True</td>\n",
       "      <td>None</td>\n",
       "      <td>LightGBMXT/T5</td>\n",
       "      <td>{'learning_rate': 0.1000260297171191, 'extra_trees': True, 'feature_fraction': 0.8694162793303375, 'min_data_in_leaf': 48, 'num_leaves': 53}</td>\n",
       "      <td>0.993801</td>\n",
       "      <td>0.993770</td>\n",
       "      <td>0.993801</td>\n",
       "      <td>0.993706</td>\n",
       "      <td>LightGBM</td>\n",
       "    </tr>\n",
       "    <tr>\n",
       "      <th>8</th>\n",
       "      <td>360</td>\n",
       "      <td>True</td>\n",
       "      <td>smote</td>\n",
       "      <td>LightGBM/T5</td>\n",
       "      <td>{'learning_rate': 0.1000260297171191, 'feature_fraction': 0.8694162793303375, 'min_data_in_leaf': 48, 'num_leaves': 53}</td>\n",
       "      <td>0.993801</td>\n",
       "      <td>0.993804</td>\n",
       "      <td>0.993801</td>\n",
       "      <td>0.993802</td>\n",
       "      <td>LightGBM</td>\n",
       "    </tr>\n",
       "    <tr>\n",
       "      <th>9</th>\n",
       "      <td>360</td>\n",
       "      <td>True</td>\n",
       "      <td>smote</td>\n",
       "      <td>ExtraTreesEntr</td>\n",
       "      <td>{'n_estimators': 300, 'max_leaf_nodes': 15000, 'n_jobs': -1, 'random_state': 0, 'bootstrap': True, 'criterion': 'entropy'}</td>\n",
       "      <td>0.993721</td>\n",
       "      <td>0.993705</td>\n",
       "      <td>0.993721</td>\n",
       "      <td>0.993710</td>\n",
       "      <td>ExtraTrees</td>\n",
       "    </tr>\n",
       "  </tbody>\n",
       "</table>\n",
       "</div>"
      ],
      "text/plain": [
       "   window_size  filter_applied resampling_tech                     model  \\\n",
       "0          360           False            None  NeuralNetFastAI/37546213   \n",
       "1          360            True            None             LightGBMXT/T1   \n",
       "2          360            True           smote  NeuralNetFastAI/5bd0550d   \n",
       "3          360            True            None             LightGBMXT/T3   \n",
       "4          360            True          adasyn  NeuralNetFastAI/7317054f   \n",
       "5          360           False          adasyn  NeuralNetFastAI/36f55ba9   \n",
       "6          360            True          adasyn             LightGBMXT/T5   \n",
       "7          360            True            None             LightGBMXT/T5   \n",
       "8          360            True           smote               LightGBM/T5   \n",
       "9          360            True           smote            ExtraTreesEntr   \n",
       "\n",
       "                                                                                                                                                          hyperparameters  \\\n",
       "0  {'layers': None, 'emb_drop': 0.1, 'ps': 0.1, 'bs': 256, 'lr': 0.01, 'epochs': 30, 'early.stopping.min_delta': 0.0001, 'early.stopping.patience': 20, 'smoothing': 0.0}   \n",
       "1                                                         {'learning_rate': 0.05, 'extra_trees': True, 'feature_fraction': 1.0, 'min_data_in_leaf': 20, 'num_leaves': 31}   \n",
       "2  {'layers': None, 'emb_drop': 0.1, 'ps': 0.1, 'bs': 256, 'lr': 0.01, 'epochs': 30, 'early.stopping.min_delta': 0.0001, 'early.stopping.patience': 20, 'smoothing': 0.0}   \n",
       "3                          {'learning_rate': 0.049883446878335284, 'extra_trees': True, 'feature_fraction': 0.9618129346960314, 'min_data_in_leaf': 52, 'num_leaves': 52}   \n",
       "4  {'layers': None, 'emb_drop': 0.1, 'ps': 0.1, 'bs': 256, 'lr': 0.01, 'epochs': 30, 'early.stopping.min_delta': 0.0001, 'early.stopping.patience': 20, 'smoothing': 0.0}   \n",
       "5  {'layers': None, 'emb_drop': 0.1, 'ps': 0.1, 'bs': 256, 'lr': 0.01, 'epochs': 30, 'early.stopping.min_delta': 0.0001, 'early.stopping.patience': 20, 'smoothing': 0.0}   \n",
       "6                            {'learning_rate': 0.1000260297171191, 'extra_trees': True, 'feature_fraction': 0.8694162793303375, 'min_data_in_leaf': 48, 'num_leaves': 53}   \n",
       "7                            {'learning_rate': 0.1000260297171191, 'extra_trees': True, 'feature_fraction': 0.8694162793303375, 'min_data_in_leaf': 48, 'num_leaves': 53}   \n",
       "8                                                 {'learning_rate': 0.1000260297171191, 'feature_fraction': 0.8694162793303375, 'min_data_in_leaf': 48, 'num_leaves': 53}   \n",
       "9                                              {'n_estimators': 300, 'max_leaf_nodes': 15000, 'n_jobs': -1, 'random_state': 0, 'bootstrap': True, 'criterion': 'entropy'}   \n",
       "\n",
       "   accuracy  precision_weighted  recall_weighted  f1_weighted        algorithm  \n",
       "0  0.994401            0.994346         0.994401     0.994349  NeuralNetFastAI  \n",
       "1  0.994081            0.994048         0.994081     0.993997         LightGBM  \n",
       "2  0.994081            0.994118         0.994081     0.994097  NeuralNetFastAI  \n",
       "3  0.994041            0.994006         0.994041     0.993966         LightGBM  \n",
       "4  0.993961            0.994008         0.993961     0.993979  NeuralNetFastAI  \n",
       "5  0.993961            0.993959         0.993961     0.993959  NeuralNetFastAI  \n",
       "6  0.993881            0.993902         0.993881     0.993887         LightGBM  \n",
       "7  0.993801            0.993770         0.993801     0.993706         LightGBM  \n",
       "8  0.993801            0.993804         0.993801     0.993802         LightGBM  \n",
       "9  0.993721            0.993705         0.993721     0.993710       ExtraTrees  "
      ]
     },
     "execution_count": 121,
     "metadata": {},
     "output_type": "execute_result"
    }
   ],
   "source": [
    "hyperparameters_all_models.head(10)"
   ]
  },
  {
   "cell_type": "code",
   "execution_count": 122,
   "id": "ece7d494",
   "metadata": {},
   "outputs": [
    {
     "data": {
      "text/plain": [
       "4"
      ]
     },
     "execution_count": 122,
     "metadata": {},
     "output_type": "execute_result"
    }
   ],
   "source": [
    "(hyperparameters_all_models.head(10).algorithm == 'NeuralNetFastAI').sum()"
   ]
  },
  {
   "cell_type": "code",
   "execution_count": 123,
   "id": "25c88e0c",
   "metadata": {},
   "outputs": [
    {
     "data": {
      "text/plain": [
       "5"
      ]
     },
     "execution_count": 123,
     "metadata": {},
     "output_type": "execute_result"
    }
   ],
   "source": [
    "(hyperparameters_all_models.head(10).algorithm == 'LightGBM').sum()"
   ]
  },
  {
   "cell_type": "code",
   "execution_count": 124,
   "id": "337ddf51",
   "metadata": {},
   "outputs": [
    {
     "data": {
      "text/plain": [
       "0    NeuralNetFastAI\n",
       "1           LightGBM\n",
       "2    NeuralNetFastAI\n",
       "3           LightGBM\n",
       "4    NeuralNetFastAI\n",
       "5    NeuralNetFastAI\n",
       "6           LightGBM\n",
       "7           LightGBM\n",
       "8           LightGBM\n",
       "9         ExtraTrees\n",
       "Name: algorithm, dtype: object"
      ]
     },
     "execution_count": 124,
     "metadata": {},
     "output_type": "execute_result"
    }
   ],
   "source": [
    "hyperparameters_all_models.head(10).algorithm"
   ]
  },
  {
   "cell_type": "code",
   "execution_count": 125,
   "id": "63f850ad",
   "metadata": {},
   "outputs": [
    {
     "data": {
      "text/plain": [
       "6"
      ]
     },
     "execution_count": 125,
     "metadata": {},
     "output_type": "execute_result"
    }
   ],
   "source": [
    "best_models.filter_applied.sum()"
   ]
  },
  {
   "cell_type": "code",
   "execution_count": 126,
   "id": "844453e3",
   "metadata": {},
   "outputs": [
    {
     "data": {
      "text/plain": [
       "smote    3\n",
       "Name: resampling_tech, dtype: int64"
      ]
     },
     "execution_count": 126,
     "metadata": {},
     "output_type": "execute_result"
    }
   ],
   "source": [
    "best_models.resampling_tech.value_counts()"
   ]
  },
  {
   "cell_type": "code",
   "execution_count": null,
   "id": "647e3c3c",
   "metadata": {},
   "outputs": [],
   "source": []
  }
 ],
 "metadata": {
  "kernelspec": {
   "display_name": "Python 3 (ipykernel)",
   "language": "python",
   "name": "python3"
  },
  "language_info": {
   "codemirror_mode": {
    "name": "ipython",
    "version": 3
   },
   "file_extension": ".py",
   "mimetype": "text/x-python",
   "name": "python",
   "nbconvert_exporter": "python",
   "pygments_lexer": "ipython3",
   "version": "3.9.7"
  }
 },
 "nbformat": 4,
 "nbformat_minor": 5
}
